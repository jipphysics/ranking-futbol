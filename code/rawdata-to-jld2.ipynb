{
 "cells": [
  {
   "cell_type": "code",
   "execution_count": null,
   "id": "92fc835e-f44d-4bdd-a06a-46c4a2ef1222",
   "metadata": {},
   "outputs": [],
   "source": [
    "# Run this cell in a folder contained by the current project\n",
    "using Pkg\n",
    "#Pkg.activate()                 # Walks up the path tree until finds Project.toml\n",
    "#Pkg.activate(\".\")              # \n",
    "#Pkg.activate(\"@__DIR__\")       # \n",
    "Pkg.activate(\"../\")            #\n",
    "Pkg.instantiate()"
   ]
  },
  {
   "cell_type": "code",
   "execution_count": null,
   "id": "d205741e-f2c8-420d-b1cc-28572c594d73",
   "metadata": {},
   "outputs": [],
   "source": [
    "using Plots\n",
    "using LaTeXStrings\n",
    "using Graphs\n",
    "using GraphPlot\n",
    "using Karnak\n",
    "using NetworkLayout\n",
    "using Colors\n",
    "using Random\n",
    "using LinearAlgebra\n",
    "using OffsetArrays\n",
    "using SparseArrays\n",
    "using Serialization\n",
    "using IterativeSolvers\n",
    "using Krylov\n",
    "using BenchmarkTools\n",
    "using Profile\n",
    "using ProfileView\n",
    "using Statistics\n",
    "using DifferentialEquations\n",
    "using LoopVectorization\n",
    "using Folds\n",
    "using Transducers\n",
    "using Distributed\n",
    "using JLD2\n",
    "using OnlineStats\n",
    "using ImageFiltering\n",
    "using SavitzkyGolay\n",
    "using Interpolations\n",
    "using DataInterpolations\n",
    "using Polynomials\n",
    "using CurveFit\n",
    "using DataFrames\n",
    "using LsqFit\n",
    "using ForwardDiff"
   ]
  },
  {
   "cell_type": "raw",
   "id": "c9c44b4f-7695-4f3b-9e15-89794574e2fe",
   "metadata": {},
   "source": [
    "# See what packages should be installed according to Project.toml and Manifest.toml\n",
    "Pkg.resolve()"
   ]
  },
  {
   "cell_type": "raw",
   "id": "d6ca89ca-461f-4083-abca-caaaef6eb8f0",
   "metadata": {},
   "source": [
    "# Run this if you want to install a package\n",
    "using Pkg\n",
    "for p in [\"Plots\",\"LaTeXStrings\",\"Graphs\",\"GraphPlot\",\"Karnak\",\"NetworkLayout\",\"Colors\",\"Random\",\"LinearAlgebra\",\"OffsetArrays\",\"SparseArrays\",\"Serialization\",\"IterativeSolvers\",\"Krylov\",\"BenchmarkTools\",\"Profile\",\"ProfileView\",\"Statistics\",\"DifferentialEquations\",\"LoopVectorization\",\"Folds\",\"Transducers\",\"Distributed\",\"JLD2\",\"OnlineStats\",\"ImageFiltering\",\"SavitzkyGolay\",\"Interpolations\",\"DataInterpolations\",\"Polynomials\",\"CurveFit\",\"DataFrames\",\"LsqFit\",\"ForwardDiff\"]\n",
    "    Pkg.add(p)\n",
    "end"
   ]
  },
  {
   "cell_type": "markdown",
   "id": "2627b369-35f9-4769-a881-8cda7b00fe68",
   "metadata": {
    "jp-MarkdownHeadingCollapsed": true,
    "tags": []
   },
   "source": [
    "# Tools"
   ]
  },
  {
   "cell_type": "markdown",
   "id": "fdcf0200-d3be-4cd1-819c-3ce7d24a9f29",
   "metadata": {
    "jp-MarkdownHeadingCollapsed": true,
    "tags": []
   },
   "source": [
    "## Enumerator\n",
    "\n",
    "Tools to compute a running enumeration of a \"list\" of objects."
   ]
  },
  {
   "cell_type": "code",
   "execution_count": null,
   "id": "4cfb9895-978a-4d31-9723-2ed351c7c925",
   "metadata": {},
   "outputs": [],
   "source": [
    "function enum!(d,k)\n",
    "    return get!(d,k,length(d)+1)\n",
    "end"
   ]
  },
  {
   "cell_type": "markdown",
   "id": "63a50e70-b79c-4f22-a9e9-9bb27a5cfd18",
   "metadata": {
    "jp-MarkdownHeadingCollapsed": true,
    "tags": []
   },
   "source": [
    "### Test"
   ]
  },
  {
   "cell_type": "raw",
   "id": "c7c1b585-b007-4f54-ae5b-24b263e1bb81",
   "metadata": {},
   "source": [
    "d = Dict{Any,Int}()\n",
    "@show enum!(d,\"a\")\n",
    "@show enum!(d,\"b\")\n",
    "@show enum!(d,\"c\")\n",
    "@show enum!(d,\"b\")\n",
    "d"
   ]
  },
  {
   "cell_type": "markdown",
   "id": "2eb74874-43ef-4f72-8971-aa4e5cc81f6d",
   "metadata": {
    "jp-MarkdownHeadingCollapsed": true,
    "tags": []
   },
   "source": [
    "## Running Statistics\n",
    "\n",
    "Tools to compute running statistics such as mean and std from a stream of numbers."
   ]
  },
  {
   "cell_type": "code",
   "execution_count": null,
   "id": "1f265db1-ff47-4cf8-af0a-09e3b131d5b0",
   "metadata": {},
   "outputs": [],
   "source": [
    "mutable struct RunningStat\n",
    "    n::Int\n",
    "    m::Real # mean\n",
    "    s::Real # std\n",
    "end\n",
    "\n",
    "function RunningStat()\n",
    "    return RunningStat(0,0.0,0.0)\n",
    "end\n",
    "\n",
    "function Base.push!(rs::RunningStat,v::Real)\n",
    "    if rs.n>0\n",
    "        rs.n += 1\n",
    "        new_m = rs.m + (v-rs.m)/rs.n\n",
    "        rs.s += (v-rs.m)*(v-new_m)\n",
    "        rs.m = new_m\n",
    "    else\n",
    "        rs.n = 1\n",
    "        rs.m = v\n",
    "        rs.s = 0\n",
    "    end\n",
    "    return rs.m\n",
    "end\n",
    "\n",
    "function Statistics.mean(rs::RunningStat)\n",
    "    return rs.m \n",
    "end\n",
    "\n",
    "function Statistics.var(rs::RunningStat)\n",
    "    return rs.s/(rs.n-1)\n",
    "end\n",
    "\n",
    "function Statistics.std(rs::RunningStat)\n",
    "    return sqrt(var(rs))\n",
    "end"
   ]
  },
  {
   "cell_type": "markdown",
   "id": "eeeaace5-918f-4cc3-83db-e9d1a7d9d752",
   "metadata": {
    "tags": []
   },
   "source": [
    "### Tests"
   ]
  },
  {
   "cell_type": "code",
   "execution_count": null,
   "id": "961b3039-31a5-4a2d-b260-d0f646717b29",
   "metadata": {},
   "outputs": [],
   "source": [
    "list_v = 10 .+ 5.0*randn(1000)\n",
    ";"
   ]
  },
  {
   "cell_type": "code",
   "execution_count": null,
   "id": "46d7bcfd-b404-47c1-9729-04abad062038",
   "metadata": {},
   "outputs": [],
   "source": [
    "rs = RunningStat()"
   ]
  },
  {
   "cell_type": "code",
   "execution_count": null,
   "id": "4cba0393-2420-4d00-aea5-ebbe975fd7ff",
   "metadata": {},
   "outputs": [],
   "source": [
    "for v in list_v\n",
    "    push!(rs,v)\n",
    "end"
   ]
  },
  {
   "cell_type": "code",
   "execution_count": null,
   "id": "6f44f309-7efc-45d5-8112-f06e72a7eb65",
   "metadata": {},
   "outputs": [],
   "source": [
    "mean(rs),std(rs)"
   ]
  },
  {
   "cell_type": "code",
   "execution_count": null,
   "id": "187c2c78-a5c6-4f1b-bafe-cdcdabed3b1e",
   "metadata": {},
   "outputs": [],
   "source": [
    "mean(list_v),std(list_v)"
   ]
  },
  {
   "cell_type": "markdown",
   "id": "3d486905-7f4b-4bf4-8557-37107ca9a5c3",
   "metadata": {
    "jp-MarkdownHeadingCollapsed": true
   },
   "source": [
    "## Coefficient of determiantion, $R^2$\n",
    "\n",
    "Tools to compute the $R^2$ coefficient to evaluate the fit of functions."
   ]
  },
  {
   "cell_type": "code",
   "execution_count": null,
   "id": "680644ba-9b35-470e-b2e6-9dbf9db20d1e",
   "metadata": {},
   "outputs": [],
   "source": [
    "function R_squared(y_data,y_fit)\n",
    "    y_mean = mean(y_data)\n",
    "    SS_res = sum((y_data .- y_fit) .^ 2)\n",
    "    SS_tot = sum((y_data .- y_mean) .^ 2)\n",
    "    R_sqr = 1 - SS_res / SS_tot\n",
    "    return R_sqr\n",
    "end"
   ]
  },
  {
   "cell_type": "markdown",
   "id": "779d37a3-4254-434e-8233-6de9110349f4",
   "metadata": {},
   "source": [
    "### Tests"
   ]
  },
  {
   "cell_type": "code",
   "execution_count": null,
   "id": "c1bd1ff9-b81c-4355-988e-0a788f9ce7d0",
   "metadata": {},
   "outputs": [],
   "source": [
    "# Define the model function\n",
    "@. model(x, p) = p[1] * x + p[2]\n",
    "\n",
    "# Sample data (example)\n",
    "x_data = [1.0, 2.0, 3.0, 4.0, 5.0]\n",
    "y_data = [2.2, 2.8, 3.6, 4.5, 5.1]\n",
    "\n",
    "# Initial guess for parameters\n",
    "p0 = [1.0, 1.0]\n",
    "\n",
    "# Perform curve fitting\n",
    "fit = LsqFit.curve_fit(model, x_data, y_data, p0)\n",
    "\n",
    "# Compute fitted values\n",
    "y_fit = model(x_data, coef(fit))\n",
    "\n",
    "# Compute R_sqr\n",
    "R_sqr = R_squared(y_data,y_fit)"
   ]
  },
  {
   "cell_type": "code",
   "execution_count": null,
   "id": "e7be9149-c2b7-410e-8b76-6cbd85598f94",
   "metadata": {},
   "outputs": [],
   "source": [
    "plot()\n",
    "#plot!(yscale=:log10)\n",
    "#plot!(ylim=(0.0,1.0))\n",
    "plot!(xlabel=L\"x\")\n",
    "plot!(ylabel=L\"y\")\n",
    "scatter!(x_data,y_data,label=\"data\")\n",
    "plot!(x_data,y_fit,label=\"fit, \\$R^2=0.995\\$\")\n",
    "#plot!(0.0:0.0,x->0.0,label=\"\\$z=1\\$\",width=0.0,c=:white)\n",
    "#plot!(legendtitle=L\"\\mathrm{1D},\\;z=1\",legendtitlefontsize=8)\n",
    "#plot!(list_sigma,x->0.6827/2,label=\"\",style=:dash,color=:grey)\n",
    "#plot!(\n",
    "#    xticks=([0,1,2,3,4,5],[L\"0\",L\"1\",L\"2\",L\"3\",L\"4\",L\"5\"]),\n",
    "#    yticks=([0,1,2,3],[L\"0\",L\"1\",L\"2\",L\"3\"]),\n",
    "#    tickfont=font(11),\n",
    "#)"
   ]
  },
  {
   "cell_type": "markdown",
   "id": "53eb9431-4718-4ee7-bb5c-a648c2cd8100",
   "metadata": {
    "jp-MarkdownHeadingCollapsed": true,
    "tags": []
   },
   "source": [
    "## Sigmoid functions\n",
    "\n",
    "The logistic sigmoid function is\n",
    "\n",
    "$$\n",
    "f(x) = \\frac{A}{1+e^{-B(x-x_0)}}\n",
    "$$\n",
    "\n",
    "Its derivative is\n",
    "\n",
    "$$\n",
    "f'(x) = \\frac{A\\,B\\,e^{-B(x-x_0)}}{(1+e^{-B(x-x_0)})^2}\n",
    "$$\n",
    "\n",
    "and its primitive is\n",
    "\n",
    "$$\n",
    "F(x) = \\int dx\\,f(x) = \\frac{A}{B}\\ln(1+e^{B(x-x_0)})+C\n",
    "$$\n"
   ]
  },
  {
   "cell_type": "code",
   "execution_count": null,
   "id": "ce500cbd-057c-4482-a2bf-d9b97d4ca3a5",
   "metadata": {},
   "outputs": [],
   "source": [
    "x0 = 1.0\n",
    "A = 1.0\n",
    "B = 3.0\n",
    "C = 0.0\n",
    "p0 = [x0,A,B,C] # p1=x0, p2=A, p3=B, p4=C\n",
    "@. sigmoid(x,p)  = p[2]/(1+exp(-p[3]*(x-p[1]))) # sigmoid\n",
    "@. dsigmoid(x,p) = p[2]*p[3]*exp(-p[3]*(x-p[1]))/(1+exp(-p[3]*(x-p[1])))^2 # derivative of sigmoid\n",
    "@. psigmoid(x,p) = p[2]/p[3]*log(1+exp(p[3]*(x-p[1])))+p[4] # primitive of sigmoid"
   ]
  },
  {
   "cell_type": "markdown",
   "id": "d55ce944-ace8-4602-88dc-8ea0b05b4bb6",
   "metadata": {
    "jp-MarkdownHeadingCollapsed": true,
    "tags": []
   },
   "source": [
    "### Test"
   ]
  },
  {
   "cell_type": "code",
   "execution_count": null,
   "id": "0a558e34-e1a9-40e4-8118-3dcb4ff5ab7a",
   "metadata": {},
   "outputs": [],
   "source": [
    "plot(\n",
    "    ylims=(-0.1,1.1),\n",
    "    xlabel=L\"x\",\n",
    "    ylabel=L\"f(x)\",\n",
    ")\n",
    "plot!(-2:0.01:4.0,x->sigmoid(x,p0),label=\"\")"
   ]
  },
  {
   "cell_type": "code",
   "execution_count": null,
   "id": "900710fc-66df-4c4d-a954-9168557ffbe0",
   "metadata": {},
   "outputs": [],
   "source": [
    "plot(\n",
    "    ylims=(-0.1,1.1),\n",
    "    xlabel=L\"x\",\n",
    "    ylabel=L\"df/dx\",    \n",
    ")\n",
    "plot!(-2:0.01:4.0,x->dsigmoid(x,p0),label=\"\")\n",
    "scatter!([x0],[A*B/4],label=\"\")"
   ]
  },
  {
   "cell_type": "code",
   "execution_count": null,
   "id": "88a7ade3-5039-44bd-b885-a002bacd29a7",
   "metadata": {},
   "outputs": [],
   "source": [
    "plot(\n",
    "    ylims=(-0.1,1.1),\n",
    "    xlabel=L\"x\",\n",
    "    ylabel=L\"F(x)\",\n",
    ")\n",
    "plot!(-2:0.01:4.0,x->psigmoid(x,p0),label=\"\")"
   ]
  },
  {
   "cell_type": "markdown",
   "id": "89dac828-f026-4e39-b039-129ea214fa0b",
   "metadata": {},
   "source": [
    "## Log-range\n",
    "\n",
    "Tools to create a range of numbers but in logarithmic scale."
   ]
  },
  {
   "cell_type": "code",
   "execution_count": null,
   "id": "25b51d57-e027-46b1-a140-8c9e9d3985cc",
   "metadata": {},
   "outputs": [],
   "source": [
    "function logrange(start,stepmul,stop)\n",
    "    @assert start>0\n",
    "    @assert stepmul>1\n",
    "    r = []\n",
    "    s = start\n",
    "    while s <= stop\n",
    "        push!(r,s)\n",
    "        s *= stepmul\n",
    "    end\n",
    "    return r\n",
    "end"
   ]
  },
  {
   "cell_type": "markdown",
   "id": "d76c801d-cc0c-42b6-b5c7-d5798d0a394f",
   "metadata": {
    "tags": []
   },
   "source": [
    "### Test"
   ]
  },
  {
   "cell_type": "code",
   "execution_count": null,
   "id": "6c6dd7f9-a6e5-444a-81ed-4d6e3d5b25b1",
   "metadata": {},
   "outputs": [],
   "source": [
    "logrange(1e-4,1.1,1)"
   ]
  },
  {
   "cell_type": "markdown",
   "id": "aa6d8727-6740-4cbb-8184-1964a993ef91",
   "metadata": {
    "jp-MarkdownHeadingCollapsed": true,
    "tags": [],
    "toc-hr-collapsed": true
   },
   "source": [
    "# Generate networks"
   ]
  },
  {
   "cell_type": "raw",
   "id": "35cac378-9da4-4a9f-8bbb-86469c8379de",
   "metadata": {
    "tags": []
   },
   "source": [
    "# https://juliagraphs.org/Graphs.jl/dev/first_steps/plotting/\n",
    "\n",
    "g = erdos_renyi(6, 0.4)\n",
    "#g = barabasi_albert(60, 1)\n",
    "\n",
    "# Example of Fig. 16 of [1]. It is used to check that alpha_1 and alpha_2 are correct.\n",
    "#g = Graph(4)\n",
    "#add_edge!(g,1,2)\n",
    "#add_edge!(g,1,3)\n",
    "#add_edge!(g,2,3)\n",
    "#add_edge!(g,3,4)\n",
    "\n",
    "g"
   ]
  },
  {
   "cell_type": "code",
   "execution_count": null,
   "id": "2172f3d9-a59a-4764-b5e0-6eb5724cbb2e",
   "metadata": {},
   "outputs": [],
   "source": [
    "function main_component(g)\n",
    "    c = connected_components(g)\n",
    "    _,i = findmax(length.(c))\n",
    "    return g[c[i]]\n",
    "end"
   ]
  },
  {
   "cell_type": "code",
   "execution_count": null,
   "id": "c9417705-6921-4f7b-b276-b56a08c28184",
   "metadata": {},
   "outputs": [],
   "source": [
    "sorted_connected_components(g) = sort(connected_components(g), by = c -> length(c),rev=true)"
   ]
  },
  {
   "cell_type": "code",
   "execution_count": null,
   "id": "27130008-984c-4744-bb49-efe891fd229f",
   "metadata": {},
   "outputs": [],
   "source": [
    "\"\"\"\n",
    "Generates a 1D lattice Graph of N nodes and k=2z nearest neighbors.\n",
    "\"\"\"\n",
    "function lattice_1D_to_g(N,z=1)\n",
    "    g = Graph(N)\n",
    "    for i in 1:N\n",
    "        for j in 1:z\n",
    "            if i+j <= N\n",
    "                add_edge!(g,i,i+j)            \n",
    "            end\n",
    "        end\n",
    "    end\n",
    "    return g\n",
    "end"
   ]
  },
  {
   "cell_type": "markdown",
   "id": "e81bd0c1-c967-4a98-85fc-086ccd7fe2c4",
   "metadata": {
    "tags": []
   },
   "source": [
    "## Tests"
   ]
  },
  {
   "cell_type": "raw",
   "id": "4a76da3f-7a37-4a47-b84e-cb371d8a9f68",
   "metadata": {},
   "source": [
    "g = lattice_1D_to_g(10,2)"
   ]
  },
  {
   "cell_type": "raw",
   "id": "621ebb7d-6ae9-44ea-8c4a-d3b9822d7fb5",
   "metadata": {},
   "source": [
    "@drawsvg begin\n",
    "    #background(\"black\")\n",
    "    background(\"white\")\n",
    "    sethue(\"grey40\")\n",
    "    fontsize(8)\n",
    "    drawgraph(\n",
    "        g, \n",
    "        #layout = stress, \n",
    "        vertexlabels = 1:nv(g),\n",
    "        vertexfillcolors = [RGB(rand(3)/2...) for i in 1:nv(g)]\n",
    "    )\n",
    "end 600 400"
   ]
  },
  {
   "cell_type": "code",
   "execution_count": null,
   "id": "95c64ee6-83ef-46c4-ab6e-2eac86fc0db4",
   "metadata": {},
   "outputs": [],
   "source": [
    "sorted_connected_components(g)"
   ]
  },
  {
   "cell_type": "code",
   "execution_count": null,
   "id": "39571fbb-2226-401c-9efd-8a5f891cf312",
   "metadata": {},
   "outputs": [],
   "source": []
  },
  {
   "cell_type": "markdown",
   "id": "97e693aa-dac8-4af5-8f6f-279dbbb55640",
   "metadata": {
    "tags": [],
    "toc-hr-collapsed": true
   },
   "source": [
    "# Load networks from raw data and save them in JLD2 format"
   ]
  },
  {
   "cell_type": "code",
   "execution_count": null,
   "id": "56e0d0b2-4242-4d2a-8f11-e610dc39a66e",
   "metadata": {},
   "outputs": [],
   "source": [
    "list_nets_dat = \"\"\"../redes/Italy/red_crossing.dat\n",
    "../redes/Italy/red_counterattack.dat\n",
    "../redes/Italy/red_pressure_loss.dat\n",
    "../redes/Italy/red_T_build_up.dat\n",
    "../redes/Italy/red_direct_play.dat\n",
    "../redes/Italy/red_pressure_point.dat\n",
    "../redes/Italy/red_shots.dat\n",
    "../redes/Italy/red_flow_rate.dat\n",
    "../redes/Italy/red_T_maintenance.dat\n",
    "../redes/Italy/red_T_zona_media.dat\n",
    "../redes/Germany/red_crossing.dat\n",
    "../redes/Germany/red_counterattack.dat\n",
    "../redes/Germany/red_pressure_loss.dat\n",
    "../redes/Germany/red_T_build_up.dat\n",
    "../redes/Germany/red_direct_play.dat\n",
    "../redes/Germany/red_pressure_point.dat\n",
    "../redes/Germany/red_shots.dat\n",
    "../redes/Germany/red_flow_rate.dat\n",
    "../redes/Germany/red_T_maintenance.dat\n",
    "../redes/Germany/red_T_zona_media.dat\n",
    "../redes/Spain/red_crossing.dat\n",
    "../redes/Spain/red_counterattack.dat\n",
    "../redes/Spain/red_pressure_loss.dat\n",
    "../redes/Spain/red_T_build_up.dat\n",
    "../redes/Spain/red_direct_play.dat\n",
    "../redes/Spain/red_pressure_point.dat\n",
    "../redes/Spain/red_shots.dat\n",
    "../redes/Spain/red_flow_rate.dat\n",
    "../redes/Spain/red_T_maintenance.dat\n",
    "../redes/Spain/red_T_zona_media.dat\n",
    "../redes/England/red_crossing.dat\n",
    "../redes/England/red_counterattack.dat\n",
    "../redes/England/red_pressure_loss.dat\n",
    "../redes/England/red_T_build_up.dat\n",
    "../redes/England/red_direct_play.dat\n",
    "../redes/England/red_pressure_point.dat\n",
    "../redes/England/red_shots.dat\n",
    "../redes/England/red_flow_rate.dat\n",
    "../redes/England/red_T_maintenance.dat\n",
    "../redes/England/red_T_zona_media.dat\n",
    "../redes/France/red_crossing.dat\n",
    "../redes/France/red_counterattack.dat\n",
    "../redes/France/red_pressure_loss.dat\n",
    "../redes/France/red_T_build_up.dat\n",
    "../redes/France/red_direct_play.dat\n",
    "../redes/France/red_pressure_point.dat\n",
    "../redes/France/red_shots.dat\n",
    "../redes/France/red_flow_rate.dat\n",
    "../redes/France/red_T_maintenance.dat\n",
    "../redes/France/red_T_zona_media.dat\"\"\""
   ]
  },
  {
   "cell_type": "code",
   "execution_count": null,
   "id": "1a54d350-6758-4927-9f9c-3f791e58ab19",
   "metadata": {},
   "outputs": [],
   "source": [
    "redes_jld2 = Dict()\n",
    "for archivo in split(list_nets_dat)\n",
    "    println(archivo)\n",
    "    vec_i = Vector{Int64}()\n",
    "    vec_j = Vector{Int64}()\n",
    "    vec_w = Vector{Float64}()    \n",
    "    open(archivo) do fh\n",
    "        for line in readlines(fh)[2:end]\n",
    "            cols=split(replace(line,\",\" => \" \"))\n",
    "            #println(cols)\n",
    "            push!(vec_i,parse(Int64,cols[1]))\n",
    "            push!(vec_j,parse(Int64,cols[2]))\n",
    "            push!(vec_w,parse(Float64,cols[3]))\n",
    "        end\n",
    "    end\n",
    "    tag = replace(archivo, \"../redes/\" => \"\")\n",
    "    tag = replace(tag, \".dat\" => \"\")\n",
    "    tag = replace(tag, \"red_\" => \"\")\n",
    "    tag = replace(tag, \"/\" => \" \")\n",
    "    tag = split(tag)\n",
    "    tag = (tag[1],tag[2])\n",
    "    redes_jld2[tag] = (vec_i,vec_j,vec_w)\n",
    "end"
   ]
  },
  {
   "cell_type": "code",
   "execution_count": null,
   "id": "10860333-00fd-409b-a25f-771d787c1d2c",
   "metadata": {},
   "outputs": [],
   "source": [
    "redes_jld2"
   ]
  },
  {
   "cell_type": "code",
   "execution_count": null,
   "id": "81e069cf-ac0a-4b3d-9329-5ec9bb177561",
   "metadata": {},
   "outputs": [],
   "source": [
    "@save \"../redes/redes_dict.jld2\" redes_jld2"
   ]
  },
  {
   "cell_type": "code",
   "execution_count": null,
   "id": "34381c23-0f29-40cf-9527-34ce584fa889",
   "metadata": {},
   "outputs": [],
   "source": [
    "@load \"../redes/redes_dict.jld2\" redes_jld2"
   ]
  },
  {
   "cell_type": "code",
   "execution_count": null,
   "id": "b2ca7998-fcb6-4e39-aff6-ad552a19f2a3",
   "metadata": {},
   "outputs": [],
   "source": [
    "redes_jld2"
   ]
  },
  {
   "cell_type": "code",
   "execution_count": null,
   "id": "9e7b2890-a250-4bc9-93fa-0a542f703392",
   "metadata": {},
   "outputs": [],
   "source": [
    "redes_jld2[(\"France\",\"crossing\")]"
   ]
  },
  {
   "cell_type": "markdown",
   "id": "4e9326fa-79fe-4f80-bf0a-66064a4187b3",
   "metadata": {},
   "source": [
    "# References\n",
    "\n",
    "[1] ..."
   ]
  },
  {
   "cell_type": "code",
   "execution_count": null,
   "id": "3f8409b6-e34b-47d2-bb62-3d9041b936ae",
   "metadata": {},
   "outputs": [],
   "source": [
    "g = erdos_renyi(6, 0.4)\n",
    "g = main_component(g)"
   ]
  },
  {
   "cell_type": "code",
   "execution_count": null,
   "id": "ed72f78e-e0c1-44ad-8352-8408271c615b",
   "metadata": {},
   "outputs": [],
   "source": [
    "I_3c = g_to_3_cliques(g) # We use I123 instead of I since in Julia I is a reserved name for the identity matrix."
   ]
  },
  {
   "cell_type": "code",
   "execution_count": null,
   "id": "707acf6d-4cf4-4aca-baa9-f9aa0250df40",
   "metadata": {},
   "outputs": [],
   "source": [
    "sc = I_to_SC(I_3c)"
   ]
  },
  {
   "cell_type": "code",
   "execution_count": null,
   "id": "cc63793a-68cd-435d-9dc0-cefea80f4838",
   "metadata": {},
   "outputs": [],
   "source": [
    "sc.K[1]"
   ]
  },
  {
   "cell_type": "code",
   "execution_count": null,
   "id": "ea86178b-93a1-48e3-adc3-ada5924a24e2",
   "metadata": {},
   "outputs": [],
   "source": [
    "sc.I[1]"
   ]
  },
  {
   "cell_type": "code",
   "execution_count": null,
   "id": "a7d25e77-05d7-4e0d-a5d3-20d02d12a09d",
   "metadata": {},
   "outputs": [],
   "source": [
    "sc.K[2]"
   ]
  },
  {
   "cell_type": "code",
   "execution_count": null,
   "id": "dec30a96-467e-48c3-aa62-3e43934153d6",
   "metadata": {},
   "outputs": [],
   "source": [
    "sc.I[2]"
   ]
  },
  {
   "cell_type": "code",
   "execution_count": null,
   "id": "3582d701-7d7f-4d66-8e39-eae9d2d99a44",
   "metadata": {},
   "outputs": [],
   "source": [
    "sc.alpha[1]"
   ]
  },
  {
   "cell_type": "code",
   "execution_count": null,
   "id": "3a057011-094f-4758-91ac-cdb517008357",
   "metadata": {},
   "outputs": [],
   "source": [
    "sc.alpha[2]"
   ]
  },
  {
   "cell_type": "code",
   "execution_count": null,
   "id": "422ed9b3-5e29-45f3-bb81-ad2da047826f",
   "metadata": {},
   "outputs": [],
   "source": [
    "nnz_alpha(sc)"
   ]
  },
  {
   "cell_type": "markdown",
   "id": "3f950bcd-7973-4855-98fe-1588bd660c14",
   "metadata": {},
   "source": [
    "The $k$-clique complex of $g$ is the simplicial complex obtained by considering all the $q$-cliques of $g$ for $q\\leq k$.\n",
    "\n",
    "First, the 3-clique complex of the network of Fig. (1) in [2] is created."
   ]
  },
  {
   "cell_type": "code",
   "execution_count": null,
   "id": "b53b49e6-1e3a-4d3d-a69a-46a4ee6533fd",
   "metadata": {},
   "outputs": [],
   "source": [
    "I0 = Dict{Any,Int}()\n",
    "I1 = Dict{Any,Int}()\n",
    "I2 = Dict{Any,Int}()\n",
    "\n",
    "for i in 1:8\n",
    "    enum!(I0,[i])\n",
    "end\n",
    "I0\n",
    "\n",
    "enum!(I1,[1,2])\n",
    "enum!(I1,[1,8])\n",
    "enum!(I1,[2,3])\n",
    "enum!(I1,[2,6])\n",
    "enum!(I1,[3,4])\n",
    "enum!(I1,[3,5])\n",
    "enum!(I1,[3,6])\n",
    "enum!(I1,[3,8])\n",
    "enum!(I1,[4,5])\n",
    "enum!(I1,[4,6])\n",
    "enum!(I1,[5,6])\n",
    "enum!(I1,[6,7])\n",
    "enum!(I1,[7,8])\n",
    "I1\n",
    "\n",
    "enum!(I2,[2,3,6])\n",
    "enum!(I2,[3,4,5])\n",
    "enum!(I2,[3,4,6])\n",
    "enum!(I2,[3,5,6])\n",
    "enum!(I2,[4,5,6])\n",
    "I2"
   ]
  },
  {
   "cell_type": "code",
   "execution_count": null,
   "id": "541daab0-f89e-45f5-a698-d1ffe3286dc0",
   "metadata": {},
   "outputs": [],
   "source": [
    "I_vs_k = \n",
    "\n",
    "sc = I_to_SC(I_vs_k)\n",
    "sc.alpha[2]"
   ]
  },
  {
   "cell_type": "code",
   "execution_count": null,
   "id": "7206dd9b-4c20-4171-97ae-9303ab931134",
   "metadata": {},
   "outputs": [],
   "source": [
    "#w = zeros(dim_Ck(sc,0))\n",
    "f = zeros(m_k(sc,1))\n",
    "\n",
    "I1 = sc.I[1]\n",
    "\n",
    "f[I1[[1,2]]] = -1   # 1\n",
    "f[I1[[1,8]]] = 4.2  # 2\n",
    "f[I1[[2,3]]] = -2   # 3\n",
    "f[I1[[2,6]]] = 8.1  # 4\n",
    "f[I1[[3,4]]] = 3.1  # 5\n",
    "f[I1[[3,5]]] = 5.9  # 6\n",
    "f[I1[[3,6]]] = 9.8  # 7\n",
    "f[I1[[3,8]]] = 7.1  # 8\n",
    "f[I1[[4,5]]] = 3.1  # 9\n",
    "f[I1[[4,6]]] = 6.9  # 10\n",
    "f[I1[[5,6]]] = 4.1  # 11\n",
    "f[I1[[6,7]]] = -1   # 12\n",
    "f[I1[[7,8]]] = -2   # 13\n",
    "\n",
    "f"
   ]
  },
  {
   "cell_type": "code",
   "execution_count": null,
   "id": "d5ee30fc-3c1d-4d52-a4d3-0b0e9950336b",
   "metadata": {},
   "outputs": [],
   "source": [
    "alpha_1 = sc.alpha[1]"
   ]
  },
  {
   "cell_type": "code",
   "execution_count": null,
   "id": "9db4d9c9-b31d-4739-a457-f949b9da203d",
   "metadata": {},
   "outputs": [],
   "source": [
    "alpha_1'"
   ]
  },
  {
   "cell_type": "markdown",
   "id": "09a29168-4dfc-45c7-9ff1-8ced7c9c473c",
   "metadata": {},
   "source": [
    "Here, $z:=d_0^*(f)$ should equal the r.h.s. of Eq. (18) in [2]."
   ]
  },
  {
   "cell_type": "code",
   "execution_count": null,
   "id": "7b81808c-6788-4022-9c3d-0a21e31642f1",
   "metadata": {},
   "outputs": [],
   "source": [
    "z = alpha_1'*f"
   ]
  },
  {
   "cell_type": "markdown",
   "id": "5d76ba53-2c4d-4bb5-beaf-e1469afb693c",
   "metadata": {},
   "source": [
    "Here, $L_0$ should equal the matrix at the l.h.s. of Eq. (18) in [2]."
   ]
  },
  {
   "cell_type": "code",
   "execution_count": null,
   "id": "ecac9163-d5e8-4f8f-82dd-c7b2bf916cce",
   "metadata": {},
   "outputs": [],
   "source": [
    "L0 = alpha_1'*alpha_1"
   ]
  },
  {
   "cell_type": "code",
   "execution_count": null,
   "id": "592b8a0a-8e44-45de-98a2-af128df5e23a",
   "metadata": {},
   "outputs": [],
   "source": [
    "w = L0 \\ z"
   ]
  },
  {
   "cell_type": "markdown",
   "id": "05d51fd6-682e-4f51-b320-41de9c069b4d",
   "metadata": {},
   "source": [
    "Next vector should be equal to the vector $\\alpha$ reported in Table 5 of [2]."
   ]
  },
  {
   "cell_type": "code",
   "execution_count": null,
   "id": "369d4c97-b6e2-4852-a24d-e282942d7db7",
   "metadata": {},
   "outputs": [],
   "source": [
    "w .- w[1]"
   ]
  },
  {
   "cell_type": "markdown",
   "id": "9e51b9d4-0e93-459b-8bd4-d39179f90a3b",
   "metadata": {},
   "source": [
    "Next vector should equal the r.h.s. of Eq. (18) in [2]."
   ]
  },
  {
   "cell_type": "code",
   "execution_count": null,
   "id": "6d60e4f3-c06c-4e4e-9cd8-7c04d24a9d9b",
   "metadata": {},
   "outputs": [],
   "source": [
    "L0*w"
   ]
  },
  {
   "cell_type": "markdown",
   "id": "eba5024f-37d8-4489-ace9-203188b9450c",
   "metadata": {},
   "source": [
    "Check that vector $g=d_0(w)=\\alpha_1 w$ equals the vector $w_g$ of Table 4 in [2]."
   ]
  },
  {
   "cell_type": "code",
   "execution_count": null,
   "id": "0935cd24-9d23-47a0-a011-314291c23ad6",
   "metadata": {},
   "outputs": [],
   "source": [
    "g = alpha_1*w"
   ]
  },
  {
   "cell_type": "markdown",
   "id": "d26368aa-31ba-4651-a354-ec58e975e5fc",
   "metadata": {},
   "source": [
    "Check equality up to numerical tolerance that $d_1(f)=d_1(g)$."
   ]
  },
  {
   "cell_type": "code",
   "execution_count": null,
   "id": "88f964ec-bb85-426f-8b62-b2f7e03c8c82",
   "metadata": {},
   "outputs": [],
   "source": [
    "norm( alpha_1'*f - alpha_1'*g )"
   ]
  },
  {
   "cell_type": "code",
   "execution_count": null,
   "id": "6d4c33b9-cc79-4db4-be70-5a005adddb82",
   "metadata": {},
   "outputs": [],
   "source": [
    "alpha_2 = sc.alpha[2]"
   ]
  },
  {
   "cell_type": "markdown",
   "id": "65fbe56f-4e21-498f-980d-0d7428ef77be",
   "metadata": {},
   "source": [
    "Check the form of $L_2^{\\downarrow}=\\alpha_2\\alpha_2^T$. It should equal the matrix at the l.h.s. of Eq. (20) in [2]."
   ]
  },
  {
   "cell_type": "code",
   "execution_count": null,
   "id": "38da37d3-780c-451b-bfbe-20d3eae66f89",
   "metadata": {},
   "outputs": [],
   "source": [
    "L2d = alpha_2 * alpha_2'"
   ]
  },
  {
   "cell_type": "markdown",
   "id": "cc57cc62-b3c4-4ae7-ae08-4e685f38f773",
   "metadata": {},
   "source": [
    "Here, $y:=d_1(f)$ should equal the r.h.s. of Eq. (20) in [2]."
   ]
  },
  {
   "cell_type": "code",
   "execution_count": null,
   "id": "a68562d3-0dc2-4116-8e3a-3b511e0adf5d",
   "metadata": {},
   "outputs": [],
   "source": [
    "y = alpha_2 * f"
   ]
  },
  {
   "cell_type": "code",
   "execution_count": null,
   "id": "e8b3976c-36ef-4f3e-951f-7b6552e1d4ba",
   "metadata": {},
   "outputs": [],
   "source": [
    "# See \n",
    "#    https://stackoverflow.com/questions/38486697/solve-a-particular-linear-system-efficiently-in-julia\n",
    "#    https://iterativesolvers.julialinearalgebra.org/dev/\n",
    "#    https://jso.dev/Krylov.jl/dev/solvers/ls/\n",
    "# on different alternatives about how to solve the linear systems in consideration.\n",
    "\n",
    "#u = L2d \\ y\n",
    "#u = pinv(Symmetric(Matrix(L2d)))*y\n",
    "#u = IterativeSolvers.cg(L2d,y)     # this is faster than lsmr in the example, according to @btime\n",
    "#u = IterativeSolvers.minres(L2d,y)\n",
    "#u = IterativeSolvers.lsqr(L2d,y)\n",
    "#u = IterativeSolvers.lsmr(L2d,y)\n",
    "#u = Krylov.cg(L2d,y)[1]    \n",
    "#u = Krylov.lslq(L2d,y)[1]\n",
    "#u = Krylov.lsqr(L2d,y)[1]\n",
    "u = Krylov.minres_qlp(L2d,y)[1]"
   ]
  },
  {
   "cell_type": "markdown",
   "id": "db7971d0-8243-4489-b4d2-eb57785880d9",
   "metadata": {},
   "source": [
    "The vector $u$ obtained is different from the vector $\\gamma$ reported in Table (5) of [2], which is the following one:"
   ]
  },
  {
   "cell_type": "code",
   "execution_count": null,
   "id": "134eef16-7255-4864-a164-5d45f011751e",
   "metadata": {},
   "outputs": [],
   "source": [
    "u_johnson = [-0.08 -1.1309 1.2359 -1.1759 1.2809]'"
   ]
  },
  {
   "cell_type": "markdown",
   "id": "8e64a450-8aba-4ca5-8620-40850213caa4",
   "metadata": {},
   "source": [
    "Is the vector $u_{\\mathrm{johnson}}$ (i.e. $\\gamma$) reported in [2] also a solution of Eq. (20) of [2]? We check:"
   ]
  },
  {
   "cell_type": "code",
   "execution_count": null,
   "id": "b1d0cca4-eac5-4903-b762-8ae58f4f3d96",
   "metadata": {},
   "outputs": [],
   "source": [
    "norm(L2d*u_johnson - y)"
   ]
  },
  {
   "cell_type": "markdown",
   "id": "37c17e84-31f1-4064-aebb-b35aca246b3a",
   "metadata": {},
   "source": [
    "It actually is! What about our solution? Let us check:"
   ]
  },
  {
   "cell_type": "code",
   "execution_count": null,
   "id": "992f87ea-06be-4c9f-a627-759be4adb250",
   "metadata": {},
   "outputs": [],
   "source": [
    "norm(L2d*u - y)"
   ]
  },
  {
   "cell_type": "markdown",
   "id": "d443cfae-24ce-4a78-a3bf-a954e64c85e8",
   "metadata": {},
   "source": [
    "It is as well! Hence, there are multiple solutions, so $L_2^{\\downarrow}(u)=y$ is a degenerate (i.e. underdetermined) linear system. \n",
    "\n",
    "Only one of the solutions of degenerate linear systems of a positive semidefinite linear operator has minimum norm $|x|$. Therefore, we ask ourselves which of the solutions to $L_2^{\\downarrow}u=y$ we have found, has the smallest norm? Let us see:"
   ]
  },
  {
   "cell_type": "code",
   "execution_count": null,
   "id": "ab7bbe38-54fc-43d6-a5ba-3e5c4cdf6d65",
   "metadata": {},
   "outputs": [],
   "source": [
    "norm(u)"
   ]
  },
  {
   "cell_type": "code",
   "execution_count": null,
   "id": "6b23e709-86bb-4ebf-a26a-dec82da308f6",
   "metadata": {},
   "outputs": [],
   "source": [
    "norm(u_johnson)"
   ]
  },
  {
   "cell_type": "markdown",
   "id": "e1528d75-c2ff-469d-989f-4c7ced31c9a8",
   "metadata": {},
   "source": [
    "So our solution has smaller norm than that of [2]. Hence, it is a better candidate for the unique solution of minimum norm."
   ]
  },
  {
   "cell_type": "markdown",
   "id": "89a5fd4a-10c8-4942-b5a7-8b9cd2b5d23a",
   "metadata": {},
   "source": [
    "Next, compute $s=d_1^*(u)=\\alpha_2^T u$."
   ]
  },
  {
   "cell_type": "code",
   "execution_count": null,
   "id": "4c4f0453-b4e1-438e-98b6-703f3a90eff1",
   "metadata": {},
   "outputs": [],
   "source": [
    "s = alpha_2'*u"
   ]
  },
  {
   "cell_type": "markdown",
   "id": "063cfdd5-3c93-4bf8-b51e-59521f6a8a68",
   "metadata": {},
   "source": [
    "Check the \"equality\" of $\\alpha_2 s = d_1(s) = d_1(f) = \\alpha_2 f$."
   ]
  },
  {
   "cell_type": "code",
   "execution_count": null,
   "id": "fb694073-f588-4281-b468-95e8fd3dddf1",
   "metadata": {},
   "outputs": [],
   "source": [
    "norm( alpha_2*s - alpha_2*f )"
   ]
  },
  {
   "cell_type": "markdown",
   "id": "1f772f57-3ccd-4674-b441-190ed8638865",
   "metadata": {},
   "source": [
    "Compute $h$."
   ]
  },
  {
   "cell_type": "code",
   "execution_count": null,
   "id": "c13b85a8-ef8b-477b-a960-7d0a0b99454f",
   "metadata": {},
   "outputs": [],
   "source": [
    "h = f-s-g"
   ]
  },
  {
   "cell_type": "code",
   "execution_count": null,
   "id": "1c4fe522-88e5-4556-a59e-9d93a9874355",
   "metadata": {},
   "outputs": [],
   "source": [
    "L1u = alpha_2'*alpha_2\n",
    "L1d = alpha_1*alpha_1'\n",
    "L1 = L1u + L1d"
   ]
  },
  {
   "cell_type": "markdown",
   "id": "16d10d3d-9118-4fed-bb99-bbd67fc50c6b",
   "metadata": {},
   "source": [
    "Finally check that $L_1(h)=0$."
   ]
  },
  {
   "cell_type": "code",
   "execution_count": null,
   "id": "8032eecd-018a-44b7-8dc3-d99d1cea64e2",
   "metadata": {},
   "outputs": [],
   "source": [
    "norm(L1*h)"
   ]
  },
  {
   "cell_type": "code",
   "execution_count": null,
   "id": "f47b2914-8298-4420-9cfe-f15abbe2b929",
   "metadata": {},
   "outputs": [],
   "source": [
    "g = erdos_renyi(10, 0.4)"
   ]
  },
  {
   "cell_type": "code",
   "execution_count": null,
   "id": "ff40c7d3-65e0-41d2-a030-af2d522f58e2",
   "metadata": {},
   "outputs": [],
   "source": [
    "I_3c = g_to_3_cliques(g)"
   ]
  },
  {
   "cell_type": "code",
   "execution_count": null,
   "id": "f012693b-dd23-4a18-8d91-188ab58e0971",
   "metadata": {},
   "outputs": [],
   "source": [
    "sc = I_to_SC(I_3c)"
   ]
  },
  {
   "cell_type": "code",
   "execution_count": null,
   "id": "60875ad7-8915-48eb-b902-db87edd53801",
   "metadata": {},
   "outputs": [],
   "source": [
    "for k in 0:kappa(sc)\n",
    "   println(\"m_$k=$(m_k(sc,k))\")\n",
    "end"
   ]
  },
  {
   "cell_type": "markdown",
   "id": "35478f15-dfd3-42eb-a3d4-39fd5d8ccbbf",
   "metadata": {},
   "source": [
    "Next, we create a 1-chain $f$ of components $f_{ij}=w_i-w_j$ where $w$ is the 0-chain of components $w_i=i$."
   ]
  },
  {
   "cell_type": "code",
   "execution_count": null,
   "id": "3c65acf6-a522-4261-a75c-852372bf567d",
   "metadata": {},
   "outputs": [],
   "source": [
    "m0=m_k(sc,0)\n",
    "m1=m_k(sc,1)\n",
    "w = collect(1:m0)\n",
    "f = zeros(m1)\n",
    "K1 = sc.K[1]\n",
    "for l in 1:m1\n",
    "    i,j = K1[l,:]\n",
    "    f[l] = w[i]-w[j]\n",
    "end"
   ]
  },
  {
   "cell_type": "code",
   "execution_count": null,
   "id": "3679e662-c73b-4aff-a9ac-ae445bd9168d",
   "metadata": {},
   "outputs": [],
   "source": [
    "hd = compute_k_th_hodge_decomposition(sc,w,0)"
   ]
  },
  {
   "cell_type": "code",
   "execution_count": null,
   "id": "866772ab-ede7-40fe-b8c6-d2681015cb8d",
   "metadata": {},
   "outputs": [],
   "source": [
    "hd.g"
   ]
  },
  {
   "cell_type": "code",
   "execution_count": null,
   "id": "6f93a491-c068-4a90-87f5-a5312d6567d8",
   "metadata": {},
   "outputs": [],
   "source": [
    "hd.w"
   ]
  },
  {
   "cell_type": "code",
   "execution_count": null,
   "id": "953802db-0424-4b3a-8c2e-9fb4afa49a55",
   "metadata": {},
   "outputs": [],
   "source": [
    "hd = compute_k_th_hodge_decomposition(sc,f,1)"
   ]
  },
  {
   "cell_type": "code",
   "execution_count": null,
   "id": "f90fa1bf-525f-42bb-9c6f-790401070926",
   "metadata": {},
   "outputs": [],
   "source": [
    "hd.w .- minimum(hd.w)"
   ]
  },
  {
   "cell_type": "code",
   "execution_count": null,
   "id": "85d9891b-e9a6-432c-af61-544dd650feb9",
   "metadata": {},
   "outputs": [],
   "source": [
    "u = collect(1:m_k(sc,2))"
   ]
  },
  {
   "cell_type": "code",
   "execution_count": null,
   "id": "89a39e36-ea78-451b-b77c-826077d104bf",
   "metadata": {},
   "outputs": [],
   "source": [
    "hd = compute_k_th_hodge_decomposition(sc,u,2)"
   ]
  },
  {
   "cell_type": "code",
   "execution_count": null,
   "id": "7711edd7-9381-49f1-b628-72b83334bcee",
   "metadata": {},
   "outputs": [],
   "source": [
    "hd.s"
   ]
  },
  {
   "cell_type": "code",
   "execution_count": null,
   "id": "866c82ab-8006-44b4-a8ce-3b2ece9f4eaf",
   "metadata": {
    "tags": []
   },
   "outputs": [],
   "source": [
    "\"\"\"\n",
    "Generator of artificial ratings.\n",
    "    agents : iterable over the agents.\n",
    "    noise : Gaussian additive noise\n",
    "    scale : sepparation scale between ratings\n",
    "\"\"\"\n",
    "function gen_artificial_ratings(agents,noise=0.0,scale=1.0)\n",
    "    #@show agents\n",
    "    N = length(agents)\n",
    "    w = collect(agents)+noise*randn(N)\n",
    "    w = ratings(N .- w)\n",
    "    return scale*w\n",
    "end"
   ]
  },
  {
   "cell_type": "code",
   "execution_count": null,
   "id": "590bffaa-7c70-44d2-95d9-298b32e1fb6e",
   "metadata": {},
   "outputs": [],
   "source": [
    "\"\"\"\n",
    "Takes a simplicial complex and a vector of ratings and generates the 1-cochain\n",
    "\n",
    "    f_{ij} = w_i - w_j + noise*randn()\n",
    "\"\"\"\n",
    "function gen_artificial_f(sc,w,noise=0.0)\n",
    "    m_0 = m_k(sc,0)\n",
    "    m_1 = m_k(sc,1)\n",
    "    @assert length(w) == m_0\n",
    "    f = zeros(m_1)\n",
    "    K1 = sc.K[1]\n",
    "    for l in 1:m_1\n",
    "        i,j = K1[l,:]\n",
    "        f[l] = w[j]-w[i] + noise*randn()\n",
    "    end\n",
    "    return f\n",
    "end"
   ]
  },
  {
   "cell_type": "code",
   "execution_count": null,
   "id": "6d2f41f6-5c9b-4e8c-a36f-9ccc0aae6ee2",
   "metadata": {},
   "outputs": [],
   "source": [
    "\"\"\"\n",
    "Takes a vector and shifts the values of its components by a constant to make all of them non-negative.\n",
    "\"\"\"\n",
    "function ratings(w)\n",
    "    return w .- minimum(w)\n",
    "end"
   ]
  },
  {
   "cell_type": "code",
   "execution_count": null,
   "id": "a957aaac-d0fb-4742-8246-6b4cf12f5765",
   "metadata": {},
   "outputs": [],
   "source": [
    "\"\"\"\n",
    "Normalizes a vector of ratings to have values between 0 and 1 inclusive.\n",
    "\"\"\"\n",
    "function normalized_ratings(w)\n",
    "    minw = minimum(w)\n",
    "    #maxw = maximum(w)\n",
    "    #return (w .- minw)/(maxw-minw)\n",
    "    return (w .- minw)/length(w)\n",
    "end"
   ]
  },
  {
   "cell_type": "code",
   "execution_count": null,
   "id": "ac43c8d6-0697-45aa-b64e-6f24bf5e82a4",
   "metadata": {},
   "outputs": [],
   "source": [
    "\"\"\"\n",
    "Takes a vector of ratings and computes the corresponding ranking\n",
    "\"\"\"\n",
    "function ranking(w)\n",
    "    return sortperm(w,rev=true)\n",
    "end"
   ]
  },
  {
   "cell_type": "code",
   "execution_count": null,
   "id": "f124a91f-a0ff-4f13-909a-a7ce32bd9e98",
   "metadata": {},
   "outputs": [],
   "source": [
    "\"\"\"\n",
    "Given two vectors v and u, this computes the absolute differences\n",
    "\n",
    "    x_i = |v_i-u_i|\n",
    "\n",
    "And returns the vector w of cumulative diferences\n",
    "\n",
    "    w_i = sum_{j <= i} x_j\n",
    "\n",
    "This can be used to compare two vectors of ratings or rankings\n",
    "\"\"\"\n",
    "function compute_cumulative_abs_diff(v,u)\n",
    "    n = length(v)\n",
    "    @assert length(u) == n\n",
    "    cumulative_abs_diff = zeros(n)\n",
    "    sum = 0\n",
    "    for i in 1:n\n",
    "         sum += abs.(v[i]-u[i])\n",
    "         cumulative_abs_diff[i] = sum\n",
    "    end\n",
    "    return cumulative_abs_diff\n",
    "end"
   ]
  },
  {
   "cell_type": "code",
   "execution_count": null,
   "id": "85c1d8fa-5fc4-46a1-a948-54cb832a0270",
   "metadata": {},
   "outputs": [],
   "source": [
    "g = erdos_renyi(6, 0.4)"
   ]
  },
  {
   "cell_type": "code",
   "execution_count": null,
   "id": "9518082e-3440-424f-a5ad-8f9a85e65d16",
   "metadata": {},
   "outputs": [],
   "source": [
    "w = gen_artificial_ratings(1:nv(g))"
   ]
  },
  {
   "cell_type": "code",
   "execution_count": null,
   "id": "2d3e449c-7c7a-4baf-a5b1-3e2711f3093d",
   "metadata": {},
   "outputs": [],
   "source": [
    "I_3c = g_to_3_cliques(g)"
   ]
  },
  {
   "cell_type": "code",
   "execution_count": null,
   "id": "f37c3151-63b2-4e1a-97d0-01b2e9a1aad9",
   "metadata": {},
   "outputs": [],
   "source": [
    "sc = I_to_SC(I_3c)"
   ]
  },
  {
   "cell_type": "code",
   "execution_count": null,
   "id": "11b97151-11dd-4759-983e-0c7629e8e840",
   "metadata": {},
   "outputs": [],
   "source": [
    "f = gen_artificial_f(sc,w)"
   ]
  },
  {
   "cell_type": "code",
   "execution_count": null,
   "id": "96293e1b-7b81-4da7-92b3-b1eda530eff1",
   "metadata": {},
   "outputs": [],
   "source": [
    "ratings(w .- 5)"
   ]
  },
  {
   "cell_type": "code",
   "execution_count": null,
   "id": "e4082f85-31f1-453d-abce-7a682a7a17ce",
   "metadata": {},
   "outputs": [],
   "source": [
    "ranking(w)"
   ]
  },
  {
   "cell_type": "code",
   "execution_count": null,
   "id": "099b9051-e0b1-4a12-a8c1-3f522dceaa25",
   "metadata": {},
   "outputs": [],
   "source": [
    "normalized_ratings(w)"
   ]
  },
  {
   "cell_type": "code",
   "execution_count": null,
   "id": "9e8a3921-c62e-4468-b046-a53cebe88861",
   "metadata": {
    "tags": []
   },
   "outputs": [],
   "source": [
    "palette_colors = palette(:auto)\n",
    "col1 = palette_colors[1]\n",
    "col2 = palette_colors[2]\n",
    "col3 = palette_colors[3]\n",
    "col4 = palette_colors[4]\n",
    "col5 = palette_colors[5]\n",
    "col6 = palette_colors[6]\n",
    "col7 = palette_colors[7]\n",
    "col8 = palette_colors[8]\n",
    "cols = [col1,col2,col3,col4,col5,col6,col7,col8]"
   ]
  },
  {
   "cell_type": "code",
   "execution_count": null,
   "id": "ca91596f-c97b-424f-944b-36541357ab92",
   "metadata": {},
   "outputs": [],
   "source": [
    "#colors_N = palette(:roma,6)\n",
    "#colors_N = palette(:thermal,8)\n",
    "#colors_N = palette(:haline,6)\n",
    "cols1 = [col1,col2]\n",
    "colors_N = palette(cols1,6)"
   ]
  },
  {
   "cell_type": "code",
   "execution_count": null,
   "id": "c7d195cf-2097-460e-ab23-a011e617370c",
   "metadata": {},
   "outputs": [],
   "source": [
    "#colors_N = palette(:roma,6)\n",
    "#colors_N = palette(:thermal,8)\n",
    "#colors_N = palette(:haline,8)\n",
    "#colors_z = palette(:hawaii,13)\n",
    "cols2 = [col4,col6]\n",
    "colors_z = palette(cols2,13)\n",
    "colors_k = colors_z\n",
    "colors_q = colors_z\n",
    "colors_p = colors_z"
   ]
  },
  {
   "cell_type": "code",
   "execution_count": null,
   "id": "54846166-0525-41f7-858d-66818ae1ad3c",
   "metadata": {},
   "outputs": [],
   "source": [
    "N = 10000\n",
    "mean_k = 3.0\n",
    "p = mean_k/(N-1)\n",
    "@show N\n",
    "@show mean_k\n",
    "@show p\n",
    "#g = erdos_renyi(6, 0.4)\n",
    "g = erdos_renyi(N,p)\n",
    "@show nv(g)\n",
    "@show ne(g)\n",
    "@show 2*ne(g)/N\n",
    "#@show g\n",
    ";"
   ]
  },
  {
   "cell_type": "code",
   "execution_count": null,
   "id": "544d1269-c1af-438c-96b0-f388e36fcaf0",
   "metadata": {},
   "outputs": [],
   "source": [
    "I_3c = g_to_3_cliques(g)"
   ]
  },
  {
   "cell_type": "code",
   "execution_count": null,
   "id": "50d86c35-3d60-4d63-a6c1-7bfbf3db60b9",
   "metadata": {},
   "outputs": [],
   "source": [
    "sc = I_to_SC(I_3c)"
   ]
  },
  {
   "cell_type": "code",
   "execution_count": null,
   "id": "9f003440-f0ee-422c-bf05-112ac65053b4",
   "metadata": {},
   "outputs": [],
   "source": [
    "w = gen_artificial_ratings(1:m_k(sc,0))"
   ]
  },
  {
   "cell_type": "code",
   "execution_count": null,
   "id": "a5d40ffd-34f8-451f-864d-21c5466619bf",
   "metadata": {},
   "outputs": [],
   "source": [
    "f = gen_artificial_f(sc,w)"
   ]
  },
  {
   "cell_type": "code",
   "execution_count": null,
   "id": "9432b3d8-f20e-43e2-a27a-2a2974d7322b",
   "metadata": {},
   "outputs": [],
   "source": [
    "hd = compute_k_th_hodge_decomposition(sc,f,1)"
   ]
  },
  {
   "cell_type": "code",
   "execution_count": null,
   "id": "fcfed1a3-ef56-4f1a-84ed-157cc553955d",
   "metadata": {},
   "outputs": [],
   "source": [
    "hd.w"
   ]
  },
  {
   "cell_type": "code",
   "execution_count": null,
   "id": "68ebed88-21d4-43a8-99df-f46c2c6091bc",
   "metadata": {},
   "outputs": [],
   "source": [
    "ratings(hd.w)"
   ]
  },
  {
   "cell_type": "code",
   "execution_count": null,
   "id": "0a10cb3f-df16-4f24-837b-8aad90e04969",
   "metadata": {},
   "outputs": [],
   "source": [
    "ranking(hd.w)"
   ]
  },
  {
   "cell_type": "code",
   "execution_count": null,
   "id": "fa207fa6-595b-4781-801c-dce62d3749e8",
   "metadata": {},
   "outputs": [],
   "source": [
    "cumdiff_w = compute_cumulative_abs_diff(normalized_ratings(w),normalized_ratings(hd.w))"
   ]
  },
  {
   "cell_type": "code",
   "execution_count": null,
   "id": "cbf1c19a-66c6-4005-b4f6-bb58284b70e5",
   "metadata": {},
   "outputs": [],
   "source": [
    "N = length(cumdiff_w)\n",
    "n = N-1\n",
    "plot(title=\"ER\")\n",
    "plot!(xlabel=L\"i/n\")\n",
    "plot!(ylabel=L\"\\rho_w(i)\") # hat{w} is the inferred rating\n",
    "plot!((0:n)/n,cumdiff_w/N,label=\"\")"
   ]
  },
  {
   "cell_type": "code",
   "execution_count": null,
   "id": "00f7a5a3-777b-431b-8245-d57e7ac7f8b0",
   "metadata": {},
   "outputs": [],
   "source": [
    "plot(title=\"ER\")\n",
    "plot!(xlabel=L\"\\hat{r}_i\")\n",
    "plot!(ylabel=L\"r_i\")\n",
    "scatter!(ranking(w),ranking(hd.w),label=\"\")"
   ]
  },
  {
   "cell_type": "code",
   "execution_count": null,
   "id": "acb39c58-0a4b-4b56-8e13-77a8e6ffcf87",
   "metadata": {},
   "outputs": [],
   "source": [
    "sum(abs.(ranking(w)-ranking(hd.w)))"
   ]
  },
  {
   "cell_type": "code",
   "execution_count": null,
   "id": "824ca143-0270-4d99-b1c4-88b7a6c400d6",
   "metadata": {},
   "outputs": [],
   "source": [
    "I_3c = g_to_3_cliques(g)"
   ]
  },
  {
   "cell_type": "code",
   "execution_count": null,
   "id": "76d91d7c-9bfb-443e-8a2b-a8f7b050a8f7",
   "metadata": {},
   "outputs": [],
   "source": [
    "sc = I_to_SC(I_3c)"
   ]
  },
  {
   "cell_type": "code",
   "execution_count": null,
   "id": "4a1b5e9c-ff4b-4226-91c7-7eaf88503f87",
   "metadata": {},
   "outputs": [],
   "source": [
    "w = gen_artificial_ratings(1:m_k(sc,0))"
   ]
  },
  {
   "cell_type": "code",
   "execution_count": null,
   "id": "8ac164a2-71f2-4c63-983b-3ad10a5f78ea",
   "metadata": {},
   "outputs": [],
   "source": [
    "f = gen_artificial_f(sc,w)"
   ]
  },
  {
   "cell_type": "code",
   "execution_count": null,
   "id": "80f40e65-941b-4f23-9f75-990bc01c3b18",
   "metadata": {},
   "outputs": [],
   "source": [
    "hd = compute_k_th_hodge_decomposition(sc,f,1)"
   ]
  },
  {
   "cell_type": "code",
   "execution_count": null,
   "id": "d49f2479-4e9e-41e7-b0a8-ae45cc370ee1",
   "metadata": {},
   "outputs": [],
   "source": [
    "hd.w"
   ]
  },
  {
   "cell_type": "code",
   "execution_count": null,
   "id": "972bb65c-e3a4-4b15-985c-5fdd28b03d9a",
   "metadata": {},
   "outputs": [],
   "source": [
    "ratings(hd.w)"
   ]
  },
  {
   "cell_type": "code",
   "execution_count": null,
   "id": "595908ef-da08-42c4-9989-3c708815a4f1",
   "metadata": {},
   "outputs": [],
   "source": [
    "ranking(hd.w)"
   ]
  },
  {
   "cell_type": "code",
   "execution_count": null,
   "id": "d397ac71-c147-4ed8-aa30-6ac1f01fb898",
   "metadata": {},
   "outputs": [],
   "source": [
    "cumdiff_w = compute_cumulative_abs_diff(normalized_ratings(w),normalized_ratings(hd.w))"
   ]
  },
  {
   "cell_type": "code",
   "execution_count": null,
   "id": "0c5dd9ec-1c75-40fb-9c75-728b07c3a540",
   "metadata": {},
   "outputs": [],
   "source": [
    "N = length(cumdiff_w)\n",
    "n = N-1\n",
    "plot(title=\"BA\")\n",
    "plot!(xlabel=L\"i/n\")\n",
    "plot!(ylabel=L\"\\rho_w(i)\") # hat{w} is the inferred rating\n",
    "plot!((0:n)/n,cumdiff_w/N,label=\"\")"
   ]
  },
  {
   "cell_type": "code",
   "execution_count": null,
   "id": "f72b8e95-52f5-4c1c-b878-dc5c84900158",
   "metadata": {},
   "outputs": [],
   "source": [
    "plot(title=\"BA\")\n",
    "plot!(xlabel=L\"\\hat{r}_i\")\n",
    "plot!(ylabel=L\"r_i\")\n",
    "scatter!(ranking(w),ranking(hd.w),label=\"\")"
   ]
  },
  {
   "cell_type": "raw",
   "id": "21d89f3d-f735-424e-95db-14fb08084c57",
   "metadata": {},
   "source": [
    "function mean_shortest_paths_distances(g)\n",
    "    d = floyd_warshall_shortest_paths(g).dists\n",
    "    sum = 0.0\n",
    "    num = 0.0\n",
    "    for i in 1:nv(g)-1\n",
    "        for j in i+1:nv(g)\n",
    "            sum += d[i,j]\n",
    "            num += 1\n",
    "        end\n",
    "    end\n",
    "    return sum/num\n",
    "end"
   ]
  },
  {
   "cell_type": "raw",
   "id": "33ffafb9-2ce5-42a6-b6f3-0ca97555c85d",
   "metadata": {},
   "source": [
    "list_p = vcat([0],reverse([2.0^(-k) for k in 0:13]))"
   ]
  },
  {
   "cell_type": "raw",
   "id": "1ddbdd70-9b5c-4ab5-8090-aad4b70d0d45",
   "metadata": {},
   "source": [
    "list_cc = [RunningStat() for t in 1:length(list_p)]\n",
    "list_sd = [RunningStat() for t in 1:length(list_p)]\n",
    "for sample in 1:10\n",
    "    if sample % 10 == 0\n",
    "       @show sample \n",
    "    end\n",
    "    for t in 1:length(list_p)\n",
    "        p = list_p[t]\n",
    "        g = watts_strogatz(N,k,p)\n",
    "        mean_cc = sum(local_clustering_coefficient(g,1:nv(g)))/nv(g)\n",
    "        mean_sd = mean_shortest_paths_distances(g)\n",
    "        push!(list_cc[t],mean_cc)\n",
    "        push!(list_sd[t],mean_sd)\n",
    "    end\n",
    "end"
   ]
  },
  {
   "cell_type": "raw",
   "id": "fb13856d-2a6b-4660-8a9d-11da0311c7a2",
   "metadata": {},
   "source": [
    "list_cc_mean = [mean(list_cc[t]) for t in 1:length(list_cc)]\n",
    "list_cc_std  = [std(list_cc[t])  for t in 1:length(list_cc)]\n",
    "list_sd_mean = [mean(list_sd[t]) for t in 1:length(list_sd)]\n",
    "list_sd_std  = [std(list_sd[t])  for t in 1:length(list_sd)]\n",
    ";"
   ]
  },
  {
   "cell_type": "raw",
   "id": "90bf3a16-18c1-4f45-bde7-c148331795b2",
   "metadata": {},
   "source": [
    "plot(legend=:bottomleft)\n",
    "plot!(xlabel=L\"p\")\n",
    "plot!(ylabel=\"\\$Cc\\$, \\$ \\\\ell \\$\")\n",
    "plot!(xscale=:log10)\n",
    "#plot!(yscale=:log10)\n",
    "plot!(xlims=(0.0001,1.1))\n",
    "scatter!(list_p[2:end],list_cc_mean[2:end]/list_cc_mean[1],label=L\"Cc\")\n",
    "scatter!(list_p[2:end],list_sd_mean[2:end]/list_sd_mean[1],label=L\"\\ell\")"
   ]
  },
  {
   "cell_type": "code",
   "execution_count": null,
   "id": "55194fbe-8158-4fcb-9d81-2f1da6d05ba6",
   "metadata": {},
   "outputs": [],
   "source": [
    "list_cc_mean[1]/list_cc_mean[1]"
   ]
  },
  {
   "cell_type": "code",
   "execution_count": null,
   "id": "9ea7b800-f383-49ab-a2f6-8010dd7a9f67",
   "metadata": {},
   "outputs": [],
   "source": []
  }
 ],
 "metadata": {
  "kernelspec": {
   "display_name": "Julia 1.11.5",
   "language": "julia",
   "name": "julia-1.11"
  },
  "language_info": {
   "file_extension": ".jl",
   "mimetype": "application/julia",
   "name": "julia",
   "version": "1.11.5"
  },
  "toc-autonumbering": false,
  "toc-showcode": false,
  "toc-showmarkdowntxt": false,
  "toc-showtags": false
 },
 "nbformat": 4,
 "nbformat_minor": 5
}
