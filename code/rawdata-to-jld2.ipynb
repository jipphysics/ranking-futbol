{
 "cells": [
  {
   "cell_type": "markdown",
   "id": "4503a54b-25bb-485a-8597-5b8c6e20c481",
   "metadata": {},
   "source": [
    "# Input data (i.e. the data uploaded by Chacoma)\n",
    "\n",
    "1. `data/`     \n",
    "    1. `matches.csv` : This table provides metadata for each match. In particular, it specifies the visitor team, the winner team, the score of each team (home and away), the theam names and the league.\n",
    "  \n",
    "                match,home,away,winner,score_home,score_away,label,liga\n",
    "                2500089,1646,1659,1659,1,2,\"Burnley - AFC Bournemouth, 1 - 2\",England\n",
    "                2500090,1628,1627,1628,2,0,\"Crystal Palace - West Bromwich Albion, 2 - 0\",England\n",
    "                2500091,1673,1609,1609,0,1,\"Huddersfield Town - Arsenal, 0 - 1\",England\n",
    "                2500092,1612,1651,1612,4,0,\"Liverpool - Brighton & Hove Albion, 4 - 0\",England\n",
    "                ...\n",
    "\n",
    "    2. `metrics.csv` : This table indicates the metrics obtained by the \"team 1\" of each match.\n",
    "  \n",
    "                match,team1,direct_play,counterattack,T_maintenance,T_build_up,T_zona_media,flow_rate,crossing,pressure_point,pressure_loss,shots,liga\n",
    "                2499719,1609,1.0464919962132821,0.13796715875566243,0.00801145809451094,1.641360172114294,0.40462924985340015,2.3651718758999496,0.4757393095090685,0.5535438340916512,-0.9998128270169061,2.012366557586264,England\n",
    "                2499719,1631,-1.6151810636078114,-1.387848393169805,-1.442052913029062,0.599849349015801,-1.3447911625920201,-0.5811499218773863,-0.9819604709287517,-1.2749665117663773,-0.6175176803083413,-2.0563069528271645,England\n",
    "                2499720,1625,1.7151907876160248,0.17396537163655532,-1.1231815938926129,2.261789632432619,2.2087214645456106,2.0627095788921133,0.992866536319653,1.9518356058153141,1.6004977831784202,0.787573788388354,England\n",
    "                ...\n",
    "  \n",
    "    3. `estilos.csv` : This table indicates the first four \"styles\" of the \"team 1\" for each match. A \"style\" is defined in [].\n",
    "       \n",
    "                 ,S1,S2,S3,S4,match,team1,liga\n",
    "                0,1.1930542934708126,-2.3600679528860655,-0.8587113413310674,-2.1010152816318173,2499719,1609,England\n",
    "                1,-3.0412107013241307,0.44448036248519524,0.2900507424950798,1.9245273600973778,2499719,1631,England\n",
    "                2,3.031944843187026,-3.725800852761157,1.432199838655371,-0.29598981396314716,2499720,1625,England\n",
    "                ...\n",
    "\n",
    "\n",
    "\n",
    "    4. `league2team2ptos.json` : Dictionary of dictionaries, establishing the mapping \"league\" -> \"team\" -> \"points\" indicating the number of points earned by the corresponding team within the corresponding league. The true-ranks are determined with these points.\n",
    "  \n",
    "                {\"Spain\": {\"674\": 73, \"675\": 76, \"676\": 93, \"677\": 29, \"678\": 43, \"679\": 79, \"680\": 58, \"682\": 61, \"683\": 20, \"684\": 60, \"687\": 49, \"691\": 49, \"692\": 49, \"695\": 46, \"696\": 47, \"698\": 55, \"701\": 51, \"712\": 43, \"714\": 22, \"756\": 51}, \"England\": {\"1609\": 63, \"1610\": 70, \"1611\": 81, \"1612\": 75, \"1613\": 44, \"1619\": 36, \"1623\": 49, \"1624\": 77, \"1625\": 100, \"1627\": 31, \"1628\": 44, \"1631\": 47, \"1633\": 42, \"1639\": 33, \"1644\": 41, \"1646\": 54, \"1651\": 40, \"1659\": 44, \"1673\": 37, \"10531\": 33}, \"Italy\": {\"3157\": 64,\n",
    "                ...\n",
    "\n",
    "    5. `ligue2team2rank.json` : Dictionary of dictionaries, establishing the mapping \"league\" -> \"team\" -> \"rank\" indicating the true-rank of the corresponding team within the corresponding league.\n",
    "  \n",
    "                {\"Spain\": {\"676\": 1, \"679\": 2, \"675\": 3, \"674\": 4, \"682\": 5, \"684\": 6, \"680\": 7, \"698\": 8, \"701\": 9, \"756\": 10, \"687\": 11, \"691\": 12, \"692\": 13, \"696\": 14, \"695\": 15, \"678\": 16, \"712\": 17, \"677\": 18, \"714\": 19, \"683\": 20}, \"England\": {\"1625\": 1, \"1611\": 2, \"1624\": 3, \"1612\": 4, \"1610\": 5, \"1609\": 6, \"1646\": 7, \"1623\": 8, \"1631\": 9, \"1613\": 10, \"1628\": 11, \"1659\": 12, \"1633\": 13, \"1644\": 14, \"1651\": 15, \"1673\": 16, \"1619\": 17, \"1639\": 18, \"10531\": 19, \"1627\": 20}, \"Italy\": {\"3159\": 1,\n",
    "  \n",
    "2. `redes/`\n",
    "\n",
    "    1. `England/`\n",
    "\n",
    "        1. `red_counterattack.dat` : Network generated from the metric \"counterattack\".\n",
    "\n",
    "                n1,n2,weight\n",
    "                1,2,2.1776e+00\n",
    "                1,3,-8.7233e-01\n",
    "                ...\n",
    "\n",
    "            Here, `n1` and `n2` are teams and `weight` is the value associated to the metric. There are two entries for each pair of teams, say `weight[n1,n2]` and `weight[n2,n1]`. ...\n",
    " \n",
    "        2. `red_direct_play.dat` : ...\n",
    "        3. `red_pressure_loss.dat` : ...\n",
    "        4. `red_shots.dat` : ...\n",
    "        5. `red_T_maintenance.dat` : ...\n",
    "        6. `red_crossing.dat` :\n",
    "        7. `red_flow_rate.dat` :\n",
    "        8. `red_pressure_point.dat` : ...\n",
    "        9. `red_T_build_up.dat` : ...\n",
    "        10. `red_T_zona_media.dat` : ...\n",
    "    2. `France/` ...\n",
    "    3. `Germany/` ...\n",
    "    4. `Italy/` ...\n",
    "    5. `Spain/`...\n",
    "  \n",
    "               \n",
    "## Output data\n",
    "\n",
    "The input data is invariably composed of values $m_{ij}$, where $i$ and $j$ represent two teams and $m_{ij}$ represents the weight associated to the pair of matches between them (one where $i$ is the home team and $j$ is the away team and another where it is the other way around) for a given metric $m$, say \"counterattack\".\n",
    "Generally, the data consider all $N(N-1)/2$ pairings for the the $N=n+1$ teams in a league.\n",
    "In other words, the $N(N-1)/2$ values $m_{ij}$ for $i<j$ form the lower triangle of a matrix.\n",
    "\n",
    "For each metric $m$ of each league, the output data consists of an undirected weighted graph $\\mathcal{G}$ of links $ij$ with $i<j$ and weights\n",
    "$$\n",
    "f_{ij} = -\\frac{1}{2}(m_{ij}+m_{ji}).\n",
    "$$\n",
    "Eventually, the 1-chain $f=f_{ij}e^{ij}\\in C_1^*$ is created from the weighted graph $\\mathcal{G}$.\n",
    "\n",
    "Which 1-cochains are created?\n",
    "1. the metric-based defined in:\n",
    "    1. `redes/England/red_shots.dat`, etc.\n",
    "    2. `data/estilos.csv`.\n",
    "2. the ground truth:\n",
    "    1. point based coefficients $f_{ij} = \\pi_j-\\pi_i$,\n",
    "    2. rank based coefficients $f_{ij}=i-j$,\n",
    "\n",
    "### Sparsification\n",
    "\n",
    "In some cases, we may consider the generation of sparsified versions of $f_{ij}$ where not all $N(N-1)/2$ pairs $ij$ for $i<j$ are provided.\n",
    "\n",
    "### Output format\n",
    "\n",
    "In all cases, the output format chosen for $f$ is a weighted non-directed graph where the $ij$ link for $i<j$ has weight $f_{ij}$."
   ]
  },
  {
   "cell_type": "code",
   "execution_count": null,
   "id": "92fc835e-f44d-4bdd-a06a-46c4a2ef1222",
   "metadata": {},
   "outputs": [],
   "source": [
    "# Run this cell in a folder contained by the current project\n",
    "using Pkg\n",
    "#Pkg.activate()                 # Walks up the path tree until finds Project.toml\n",
    "#Pkg.activate(\".\")              # \n",
    "#Pkg.activate(\"@__DIR__\")       # \n",
    "Pkg.activate(\"../\")            #\n",
    "Pkg.instantiate()"
   ]
  },
  {
   "cell_type": "code",
   "execution_count": null,
   "id": "d205741e-f2c8-420d-b1cc-28572c594d73",
   "metadata": {},
   "outputs": [],
   "source": [
    "using Plots\n",
    "using LaTeXStrings\n",
    "using Graphs\n",
    "#using MetaGraphs\n",
    "#using MetaGraphsNext\n",
    "using GraphPlot\n",
    "using SimpleWeightedGraphs\n",
    "using Karnak\n",
    "using NetworkLayout\n",
    "using Colors\n",
    "using Random\n",
    "using LinearAlgebra\n",
    "using OffsetArrays\n",
    "using SparseArrays\n",
    "using Serialization\n",
    "using IterativeSolvers\n",
    "using Krylov\n",
    "using BenchmarkTools\n",
    "using Profile\n",
    "using ProfileView\n",
    "using Statistics\n",
    "using DifferentialEquations\n",
    "using LoopVectorization\n",
    "using Folds\n",
    "using Transducers\n",
    "using Distributed\n",
    "using JLD2\n",
    "using OnlineStats\n",
    "using ImageFiltering\n",
    "using SavitzkyGolay\n",
    "using Interpolations\n",
    "using DataInterpolations\n",
    "using Polynomials\n",
    "using CurveFit\n",
    "using DataFrames\n",
    "using LsqFit\n",
    "using ForwardDiff\n",
    "using JSON"
   ]
  },
  {
   "cell_type": "raw",
   "id": "efc46aaf-b059-45ed-8508-f6811cd05fdf",
   "metadata": {},
   "source": [
    "# See what packages should be installed according to Project.toml and Manifest.toml\n",
    "Pkg.resolve()"
   ]
  },
  {
   "cell_type": "raw",
   "id": "f5ac3390-0d10-4fe4-8ac9-0eda39ce9624",
   "metadata": {},
   "source": [
    "# Run this if you want to install a package\n",
    "using Pkg\n",
    "for p in [\"Plots\",\"LaTeXStrings\",\"Graphs\",\"SimpleWeightedGraphs\",\"GraphPlot\",\"Karnak\",\"NetworkLayout\",\"Colors\",\"Random\",\"LinearAlgebra\",\"OffsetArrays\",\"SparseArrays\",\"Serialization\",\"IterativeSolvers\",\"Krylov\",\"BenchmarkTools\",\"Profile\",\"ProfileView\",\"Statistics\",\"DifferentialEquations\",\"LoopVectorization\",\"Folds\",\"Transducers\",\"Distributed\",\"JLD2\",\"OnlineStats\",\"ImageFiltering\",\"SavitzkyGolay\",\"Interpolations\",\"DataInterpolations\",\"Polynomials\",\"CurveFit\",\"DataFrames\",\"LsqFit\",\"ForwardDiff\",\"JSON\"]\n",
    "    Pkg.add(p)\n",
    "end"
   ]
  },
  {
   "cell_type": "code",
   "execution_count": null,
   "id": "4cfb9895-978a-4d31-9723-2ed351c7c925",
   "metadata": {},
   "outputs": [],
   "source": [
    "function enum!(d,k)\n",
    "    return get!(d,k,length(d)+1)\n",
    "end"
   ]
  },
  {
   "cell_type": "markdown",
   "id": "63a50e70-b79c-4f22-a9e9-9bb27a5cfd18",
   "metadata": {
    "jp-MarkdownHeadingCollapsed": true,
    "tags": []
   },
   "source": [
    "### Test"
   ]
  },
  {
   "cell_type": "raw",
   "id": "c7c1b585-b007-4f54-ae5b-24b263e1bb81",
   "metadata": {},
   "source": [
    "d = Dict{Any,Int}()\n",
    "@show enum!(d,\"a\")\n",
    "@show enum!(d,\"b\")\n",
    "@show enum!(d,\"c\")\n",
    "@show enum!(d,\"b\")\n",
    "d"
   ]
  },
  {
   "cell_type": "code",
   "execution_count": null,
   "id": "1f265db1-ff47-4cf8-af0a-09e3b131d5b0",
   "metadata": {},
   "outputs": [],
   "source": [
    "mutable struct RunningStat\n",
    "    n::Int\n",
    "    m::Real # mean\n",
    "    s::Real # std\n",
    "end\n",
    "\n",
    "function RunningStat()\n",
    "    return RunningStat(0,0.0,0.0)\n",
    "end\n",
    "\n",
    "function Base.push!(rs::RunningStat,v::Real)\n",
    "    if rs.n>0\n",
    "        rs.n += 1\n",
    "        new_m = rs.m + (v-rs.m)/rs.n\n",
    "        rs.s += (v-rs.m)*(v-new_m)\n",
    "        rs.m = new_m\n",
    "    else\n",
    "        rs.n = 1\n",
    "        rs.m = v\n",
    "        rs.s = 0\n",
    "    end\n",
    "    return rs.m\n",
    "end\n",
    "\n",
    "function Statistics.mean(rs::RunningStat)\n",
    "    return rs.m \n",
    "end\n",
    "\n",
    "function Statistics.var(rs::RunningStat)\n",
    "    return rs.s/(rs.n-1)\n",
    "end\n",
    "\n",
    "function Statistics.std(rs::RunningStat)\n",
    "    return sqrt(var(rs))\n",
    "end"
   ]
  },
  {
   "cell_type": "markdown",
   "id": "eeeaace5-918f-4cc3-83db-e9d1a7d9d752",
   "metadata": {
    "jp-MarkdownHeadingCollapsed": true,
    "tags": []
   },
   "source": [
    "### Tests"
   ]
  },
  {
   "cell_type": "code",
   "execution_count": null,
   "id": "961b3039-31a5-4a2d-b260-d0f646717b29",
   "metadata": {},
   "outputs": [],
   "source": [
    "list_v = 10 .+ 5.0*randn(1000)\n",
    ";"
   ]
  },
  {
   "cell_type": "code",
   "execution_count": null,
   "id": "46d7bcfd-b404-47c1-9729-04abad062038",
   "metadata": {},
   "outputs": [],
   "source": [
    "rs = RunningStat()"
   ]
  },
  {
   "cell_type": "code",
   "execution_count": null,
   "id": "4cba0393-2420-4d00-aea5-ebbe975fd7ff",
   "metadata": {},
   "outputs": [],
   "source": [
    "for v in list_v\n",
    "    push!(rs,v)\n",
    "end"
   ]
  },
  {
   "cell_type": "code",
   "execution_count": null,
   "id": "6f44f309-7efc-45d5-8112-f06e72a7eb65",
   "metadata": {},
   "outputs": [],
   "source": [
    "mean(rs),std(rs)"
   ]
  },
  {
   "cell_type": "code",
   "execution_count": null,
   "id": "187c2c78-a5c6-4f1b-bafe-cdcdabed3b1e",
   "metadata": {},
   "outputs": [],
   "source": [
    "mean(list_v),std(list_v)"
   ]
  },
  {
   "cell_type": "code",
   "execution_count": null,
   "id": "680644ba-9b35-470e-b2e6-9dbf9db20d1e",
   "metadata": {},
   "outputs": [],
   "source": [
    "function R_squared(y_data,y_fit)\n",
    "    y_mean = mean(y_data)\n",
    "    SS_res = sum((y_data .- y_fit) .^ 2)\n",
    "    SS_tot = sum((y_data .- y_mean) .^ 2)\n",
    "    R_sqr = 1 - SS_res / SS_tot\n",
    "    return R_sqr\n",
    "end"
   ]
  },
  {
   "cell_type": "markdown",
   "id": "779d37a3-4254-434e-8233-6de9110349f4",
   "metadata": {
    "jp-MarkdownHeadingCollapsed": true
   },
   "source": [
    "### Tests"
   ]
  },
  {
   "cell_type": "code",
   "execution_count": null,
   "id": "c1bd1ff9-b81c-4355-988e-0a788f9ce7d0",
   "metadata": {},
   "outputs": [],
   "source": [
    "# Define the model function\n",
    "@. model(x, p) = p[1] * x + p[2]\n",
    "\n",
    "# Sample data (example)\n",
    "x_data = [1.0, 2.0, 3.0, 4.0, 5.0]\n",
    "y_data = [2.2, 2.8, 3.6, 4.5, 5.1]\n",
    "\n",
    "# Initial guess for parameters\n",
    "p0 = [1.0, 1.0]\n",
    "\n",
    "# Perform curve fitting\n",
    "fit = LsqFit.curve_fit(model, x_data, y_data, p0)\n",
    "\n",
    "# Compute fitted values\n",
    "y_fit = model(x_data, coef(fit))\n",
    "\n",
    "# Compute R_sqr\n",
    "R_sqr = R_squared(y_data,y_fit)"
   ]
  },
  {
   "cell_type": "code",
   "execution_count": null,
   "id": "e7be9149-c2b7-410e-8b76-6cbd85598f94",
   "metadata": {},
   "outputs": [],
   "source": [
    "plot()\n",
    "#plot!(yscale=:log10)\n",
    "#plot!(ylim=(0.0,1.0))\n",
    "plot!(xlabel=L\"x\")\n",
    "plot!(ylabel=L\"y\")\n",
    "scatter!(x_data,y_data,label=\"data\")\n",
    "plot!(x_data,y_fit,label=\"fit, \\$R^2=0.995\\$\")\n",
    "#plot!(0.0:0.0,x->0.0,label=\"\\$z=1\\$\",width=0.0,c=:white)\n",
    "#plot!(legendtitle=L\"\\mathrm{1D},\\;z=1\",legendtitlefontsize=8)\n",
    "#plot!(list_sigma,x->0.6827/2,label=\"\",style=:dash,color=:grey)\n",
    "#plot!(\n",
    "#    xticks=([0,1,2,3,4,5],[L\"0\",L\"1\",L\"2\",L\"3\",L\"4\",L\"5\"]),\n",
    "#    yticks=([0,1,2,3],[L\"0\",L\"1\",L\"2\",L\"3\"]),\n",
    "#    tickfont=font(11),\n",
    "#)"
   ]
  },
  {
   "cell_type": "code",
   "execution_count": null,
   "id": "ce500cbd-057c-4482-a2bf-d9b97d4ca3a5",
   "metadata": {},
   "outputs": [],
   "source": [
    "x0 = 1.0\n",
    "A = 1.0\n",
    "B = 3.0\n",
    "C = 0.0\n",
    "p0 = [x0,A,B,C] # p1=x0, p2=A, p3=B, p4=C\n",
    "@. sigmoid(x,p)  = p[2]/(1+exp(-p[3]*(x-p[1]))) # sigmoid\n",
    "@. dsigmoid(x,p) = p[2]*p[3]*exp(-p[3]*(x-p[1]))/(1+exp(-p[3]*(x-p[1])))^2 # derivative of sigmoid\n",
    "@. psigmoid(x,p) = p[2]/p[3]*log(1+exp(p[3]*(x-p[1])))+p[4] # primitive of sigmoid"
   ]
  },
  {
   "cell_type": "markdown",
   "id": "d55ce944-ace8-4602-88dc-8ea0b05b4bb6",
   "metadata": {
    "tags": []
   },
   "source": [
    "### Test"
   ]
  },
  {
   "cell_type": "code",
   "execution_count": null,
   "id": "0a558e34-e1a9-40e4-8118-3dcb4ff5ab7a",
   "metadata": {
    "jupyter": {
     "source_hidden": true
    }
   },
   "outputs": [],
   "source": [
    "plot(\n",
    "    ylims=(-0.1,1.1),\n",
    "    xlabel=L\"x\",\n",
    "    ylabel=L\"f(x)\",\n",
    ")\n",
    "plot!(-2:0.01:4.0,x->sigmoid(x,p0),label=\"\")"
   ]
  },
  {
   "cell_type": "code",
   "execution_count": null,
   "id": "900710fc-66df-4c4d-a954-9168557ffbe0",
   "metadata": {
    "jupyter": {
     "source_hidden": true
    }
   },
   "outputs": [],
   "source": [
    "plot(\n",
    "    ylims=(-0.1,1.1),\n",
    "    xlabel=L\"x\",\n",
    "    ylabel=L\"df/dx\",    \n",
    ")\n",
    "plot!(-2:0.01:4.0,x->dsigmoid(x,p0),label=\"\")\n",
    "scatter!([x0],[A*B/4],label=\"\")"
   ]
  },
  {
   "cell_type": "code",
   "execution_count": null,
   "id": "88a7ade3-5039-44bd-b885-a002bacd29a7",
   "metadata": {
    "jupyter": {
     "source_hidden": true
    }
   },
   "outputs": [],
   "source": [
    "plot(\n",
    "    ylims=(-0.1,1.1),\n",
    "    xlabel=L\"x\",\n",
    "    ylabel=L\"F(x)\",\n",
    ")\n",
    "plot!(-2:0.01:4.0,x->psigmoid(x,p0),label=\"\")"
   ]
  },
  {
   "cell_type": "markdown",
   "id": "37ca5d14-0e05-48dd-bf72-c5532289038b",
   "metadata": {},
   "source": [
    "# Original format -> Julia's JLD2 format"
   ]
  },
  {
   "cell_type": "markdown",
   "id": "97e693aa-dac8-4af5-8f6f-279dbbb55640",
   "metadata": {
    "tags": [],
    "toc-hr-collapsed": true
   },
   "source": [
    "## `redes/[league]/[metric].dat` to JLD2 format"
   ]
  },
  {
   "cell_type": "code",
   "execution_count": null,
   "id": "56e0d0b2-4242-4d2a-8f11-e610dc39a66e",
   "metadata": {},
   "outputs": [],
   "source": [
    "list_nets_dat = \"\"\"../redes/Italy/red_crossing.dat\n",
    "../redes/Italy/red_counterattack.dat\n",
    "../redes/Italy/red_pressure_loss.dat\n",
    "../redes/Italy/red_T_build_up.dat\n",
    "../redes/Italy/red_direct_play.dat\n",
    "../redes/Italy/red_pressure_point.dat\n",
    "../redes/Italy/red_shots.dat\n",
    "../redes/Italy/red_flow_rate.dat\n",
    "../redes/Italy/red_T_maintenance.dat\n",
    "../redes/Italy/red_T_zona_media.dat\n",
    "../redes/Germany/red_crossing.dat\n",
    "../redes/Germany/red_counterattack.dat\n",
    "../redes/Germany/red_pressure_loss.dat\n",
    "../redes/Germany/red_T_build_up.dat\n",
    "../redes/Germany/red_direct_play.dat\n",
    "../redes/Germany/red_pressure_point.dat\n",
    "../redes/Germany/red_shots.dat\n",
    "../redes/Germany/red_flow_rate.dat\n",
    "../redes/Germany/red_T_maintenance.dat\n",
    "../redes/Germany/red_T_zona_media.dat\n",
    "../redes/Spain/red_crossing.dat\n",
    "../redes/Spain/red_counterattack.dat\n",
    "../redes/Spain/red_pressure_loss.dat\n",
    "../redes/Spain/red_T_build_up.dat\n",
    "../redes/Spain/red_direct_play.dat\n",
    "../redes/Spain/red_pressure_point.dat\n",
    "../redes/Spain/red_shots.dat\n",
    "../redes/Spain/red_flow_rate.dat\n",
    "../redes/Spain/red_T_maintenance.dat\n",
    "../redes/Spain/red_T_zona_media.dat\n",
    "../redes/England/red_crossing.dat\n",
    "../redes/England/red_counterattack.dat\n",
    "../redes/England/red_pressure_loss.dat\n",
    "../redes/England/red_T_build_up.dat\n",
    "../redes/England/red_direct_play.dat\n",
    "../redes/England/red_pressure_point.dat\n",
    "../redes/England/red_shots.dat\n",
    "../redes/England/red_flow_rate.dat\n",
    "../redes/England/red_T_maintenance.dat\n",
    "../redes/England/red_T_zona_media.dat\n",
    "../redes/France/red_crossing.dat\n",
    "../redes/France/red_counterattack.dat\n",
    "../redes/France/red_pressure_loss.dat\n",
    "../redes/France/red_T_build_up.dat\n",
    "../redes/France/red_direct_play.dat\n",
    "../redes/France/red_pressure_point.dat\n",
    "../redes/France/red_shots.dat\n",
    "../redes/France/red_flow_rate.dat\n",
    "../redes/France/red_T_maintenance.dat\n",
    "../redes/France/red_T_zona_media.dat\"\"\""
   ]
  },
  {
   "cell_type": "markdown",
   "id": "a28fe9e9-69d5-488f-b2e9-10b7684270bc",
   "metadata": {},
   "source": [
    "### DEPRECATED 2025-09-01"
   ]
  },
  {
   "cell_type": "raw",
   "id": "985105c6-1a83-4310-a785-89762680120d",
   "metadata": {},
   "source": [
    "# DEPRECATED 2025-09-01\n",
    "dict_vecs_i_j_phi_jld2 = Dict()\n",
    "for archivo in split(list_nets_dat)\n",
    "    println(archivo)\n",
    "    vec_i = Vector{Int64}()\n",
    "    vec_j = Vector{Int64}()\n",
    "    vec_phi_ij = Vector{Float64}()    \n",
    "    open(archivo) do fh\n",
    "        for line in readlines(fh)[2:end]\n",
    "            cols=split(replace(line,\",\" => \" \"))\n",
    "            #println(cols)\n",
    "            push!(vec_i,parse(Int64,cols[1]))\n",
    "            push!(vec_j,parse(Int64,cols[2]))\n",
    "            push!(vec_phi_ij,parse(Float64,cols[3]))\n",
    "        end\n",
    "    end\n",
    "    tag = replace(archivo, \"../redes/\" => \"\")\n",
    "    tag = replace(tag, \".dat\" => \"\")\n",
    "    tag = replace(tag, \"red_\" => \"\")\n",
    "    tag = replace(tag, \"/\" => \" \")\n",
    "    tag = split(tag)\n",
    "    tag = (tag[1],tag[2])\n",
    "    dict_vecs_i_j_phi_jld2[tag] = (vec_i,vec_j,vec_phi_ij)\n",
    "end"
   ]
  },
  {
   "cell_type": "raw",
   "id": "54d68ab6-5efc-4cd7-821f-b1f74ca7821e",
   "metadata": {
    "jupyter": {
     "source_hidden": true
    }
   },
   "source": [
    "# DEPRECATED 2025-09-01\n",
    "@save \"jld2/dict_vecs_i_j_phi.jld2\" dict_vecs_i_j_phi_jld2"
   ]
  },
  {
   "cell_type": "raw",
   "id": "ca80d35a-f953-4ee2-9384-a9431510fffe",
   "metadata": {
    "jupyter": {
     "source_hidden": true
    }
   },
   "source": [
    "# DEPRECATED 2025-09-01\n",
    "@load \"jld2/redes/dict_vecs_i_j_phi.jld2\" dict_vecs_i_j_phi_jld2"
   ]
  },
  {
   "cell_type": "raw",
   "id": "ee410eda-4c11-49a6-87fe-b3103b98eee2",
   "metadata": {
    "jupyter": {
     "source_hidden": true
    }
   },
   "source": [
    "# DEPRECATED 2025-09-01\n",
    "dict_vecs_i_j_phi_jld2"
   ]
  },
  {
   "cell_type": "raw",
   "id": "ed627022-bcac-43e7-bd12-28e4af462783",
   "metadata": {
    "jupyter": {
     "source_hidden": true
    }
   },
   "source": [
    "# DEPRECATED 2025-09-01\n",
    "dict_vecs_i_j_phi_jld2[(\"France\",\"crossing\")]"
   ]
  },
  {
   "cell_type": "markdown",
   "id": "1acc94ca-2fe0-4337-973e-aed234f0a166",
   "metadata": {},
   "source": [
    "### NEW VERSION 2025-09-01"
   ]
  },
  {
   "cell_type": "code",
   "execution_count": null,
   "id": "7e920d98-8d4a-4cee-979d-862a87573fca",
   "metadata": {
    "scrolled": true
   },
   "outputs": [],
   "source": [
    "dict_f_ij_metrics_jld2 = Dict()\n",
    "for archivo in split(list_nets_dat)\n",
    "    println(archivo)\n",
    "    vec_i = Vector{Int64}()\n",
    "    vec_j = Vector{Int64}()\n",
    "    vec_f_ij = Vector{Float64}()    \n",
    "    open(archivo) do fh\n",
    "        for line in readlines(fh)[2:end]\n",
    "            cols=split(replace(line,\",\" => \" \"))\n",
    "            #println(cols)\n",
    "            i=parse(Int64,cols[1])\n",
    "            j=parse(Int64,cols[2])\n",
    "            #@assert i<j\n",
    "            mij_plus_mji=parse(Float64,cols[3])\n",
    "            f_ij = 0.5*mij_plus_mji\n",
    "            @show i,j,f_ij            \n",
    "            push!(vec_i,i)\n",
    "            push!(vec_j,j)\n",
    "            push!(vec_f_ij,f_ij)\n",
    "        end\n",
    "    end\n",
    "    n = max(maximum(vec_i),maximum(vec_i))\n",
    "    g = SimpleWeightedGraph(n)\n",
    "    for (i,j,f_ij) in zip(vec_i,vec_j,vec_f_ij)\n",
    "        add_edge!(g,i,j,f_ij)\n",
    "    end\n",
    "    tag = replace(archivo, \"../redes/\" => \"\")\n",
    "    tag = replace(tag, \".dat\" => \"\")\n",
    "    tag = replace(tag, \"red_\" => \"\")\n",
    "    tag = replace(tag, \"/\" => \" \")\n",
    "    tag = split(tag)\n",
    "    tag = (tag[1],tag[2])\n",
    "    dict_f_ij_metrics_jld2[tag] = g\n",
    "end"
   ]
  },
  {
   "cell_type": "markdown",
   "id": "cfaae43d-75b9-4c58-9702-4fa12d884e6b",
   "metadata": {},
   "source": [
    "### Tests"
   ]
  },
  {
   "cell_type": "raw",
   "id": "aa4bc634-0422-46de-86eb-2043c19104be",
   "metadata": {},
   "source": [
    "g = dict_f_ij_metrics_jld2[(\"Italy\",\"shots\")]"
   ]
  },
  {
   "cell_type": "raw",
   "id": "c2a991a9-ecc8-488a-aea0-2a69dfb8f478",
   "metadata": {},
   "source": [
    "for e in edges(g)\n",
    "    @show e,get_weight(g,e)\n",
    "end"
   ]
  },
  {
   "cell_type": "code",
   "execution_count": null,
   "id": "dae04fb2-804d-4773-bb66-9a8bc82adffd",
   "metadata": {},
   "outputs": [],
   "source": [
    "@save \"jld2/dict_f_ij_metrics.jld2\" dict_f_ij_metrics_jld2"
   ]
  },
  {
   "cell_type": "code",
   "execution_count": null,
   "id": "cdf078c8-08c5-4340-bea3-dcfe2a42affc",
   "metadata": {},
   "outputs": [],
   "source": [
    "@load \"jld2/dict_f_ij_metrics.jld2\" dict_f_ij_metrics_jld2"
   ]
  },
  {
   "cell_type": "markdown",
   "id": "3715fc27-a4ac-4e5c-959c-27e810e75c1d",
   "metadata": {},
   "source": [
    "### Tests"
   ]
  },
  {
   "cell_type": "raw",
   "id": "111ff12c-e5ab-4eec-bd17-d7014165205a",
   "metadata": {},
   "source": [
    "dict_phi_ij_metrics_jld2"
   ]
  },
  {
   "cell_type": "markdown",
   "id": "b5aaad15-f9ad-4fbb-ae28-82d90e58aca9",
   "metadata": {},
   "source": [
    "## DEPRECATED 2025-09-01 ## Load \"puntos\" per team per league and  save them in JLD2 format"
   ]
  },
  {
   "cell_type": "raw",
   "id": "31ec2c62-39e2-4f5c-9169-8efc00ac696c",
   "metadata": {
    "jupyter": {
     "source_hidden": true
    }
   },
   "source": [
    "data_str = read(\"../data/league2team2ptos.json\",String)"
   ]
  },
  {
   "cell_type": "raw",
   "id": "0ba681ef-9bfb-48a8-b360-5680b0dfb564",
   "metadata": {},
   "source": [
    "league2team2ptos = JSON.parse(data_str)"
   ]
  },
  {
   "cell_type": "raw",
   "id": "4b0c5a0e-85f3-4ff3-ac0c-23b738487478",
   "metadata": {},
   "source": [
    "@save \"jld2/league2team2ptos.jld2\" league2team2ptos"
   ]
  },
  {
   "cell_type": "raw",
   "id": "283b5114-97db-48fd-8663-87429c123230",
   "metadata": {},
   "source": [
    "@load \"jld2/league2team2ptos.jld2\" league2team2ptos"
   ]
  },
  {
   "cell_type": "raw",
   "id": "18474ba3-d1b7-406b-a728-bfb32714d251",
   "metadata": {},
   "source": [
    "league2team2ptos"
   ]
  },
  {
   "cell_type": "raw",
   "id": "fb7c8b8c-b5c7-41ad-9638-d3559a2d9180",
   "metadata": {},
   "source": [
    "league2team2ptos[\"Germany\"]"
   ]
  },
  {
   "cell_type": "markdown",
   "id": "ce73ed3c-552b-48bc-89dc-982043185adc",
   "metadata": {},
   "source": [
    "## Load \"redes de estilos\" and save them in JLD2 format"
   ]
  },
  {
   "cell_type": "code",
   "execution_count": null,
   "id": "ddea947d-4599-40d2-97a0-39682d2a57aa",
   "metadata": {},
   "outputs": [],
   "source": [
    "files_redes_estilos = split(\"\"\"../redes_estilos/Italy/red_S2.dat\n",
    "../redes_estilos/Italy/red_S4.dat\n",
    "../redes_estilos/Italy/red_S3.dat\n",
    "../redes_estilos/Italy/red_S1.dat\n",
    "../redes_estilos/Germany/red_S2.dat\n",
    "../redes_estilos/Germany/red_S4.dat\n",
    "../redes_estilos/Germany/red_S3.dat\n",
    "../redes_estilos/Germany/red_S1.dat\n",
    "../redes_estilos/Spain/red_S2.dat\n",
    "../redes_estilos/Spain/red_S4.dat\n",
    "../redes_estilos/Spain/red_S3.dat\n",
    "../redes_estilos/Spain/red_S1.dat\n",
    "../redes_estilos/England/red_S2.dat\n",
    "../redes_estilos/England/red_S4.dat\n",
    "../redes_estilos/England/red_S3.dat\n",
    "../redes_estilos/England/red_S1.dat\n",
    "../redes_estilos/France/red_S2.dat\n",
    "../redes_estilos/France/red_S4.dat\n",
    "../redes_estilos/France/red_S3.dat\n",
    "../redes_estilos/France/red_S1.dat\"\"\")"
   ]
  },
  {
   "cell_type": "markdown",
   "id": "5d58c369-e68a-4926-8629-f1e010e11692",
   "metadata": {},
   "source": [
    "### DEPRECATED 2025-09-01"
   ]
  },
  {
   "cell_type": "raw",
   "id": "6e2a742c-f842-41ad-8012-38ea5646bd23",
   "metadata": {},
   "source": [
    "dict_vecs_i_j_phi_estilos_S1_S2_S3_S4_jld2 = Dict()\n",
    "for archivo in files_redes_estilos\n",
    "    println(archivo)\n",
    "    vec_i = Vector{Int64}()\n",
    "    vec_j = Vector{Int64}()\n",
    "    vec_phi_ij = Vector{Float64}()    \n",
    "    open(archivo) do fh\n",
    "        for line in readlines(fh)[2:end]\n",
    "            cols=split(replace(line,\",\" => \" \"))\n",
    "            #println(cols)\n",
    "            i = parse(Int64,cols[1])\n",
    "            j = parse(Int64,cols[2])\n",
    "            phi_ij = parse(Float64,cols[3])\n",
    "            #@show i,j,phi_ij\n",
    "            push!(vec_i,i)\n",
    "            push!(vec_j,j)\n",
    "            push!(vec_phi_ij,phi_ij)\n",
    "        end\n",
    "    end\n",
    "    tag = replace(archivo, \"../redes_estilos/\" => \"\")\n",
    "    tag = replace(tag, \".dat\" => \"\")\n",
    "    tag = replace(tag, \"red_\" => \"\")\n",
    "    tag = replace(tag, \"/\" => \" \")\n",
    "    tag = split(tag)\n",
    "    #@show tag\n",
    "    tag = (tag[1],tag[2])\n",
    "    dict_vecs_i_j_phi_estilos_S1_S2_S3_S4_jld2[tag] = (vec_i,vec_j,vec_phi_ij)\n",
    "end"
   ]
  },
  {
   "cell_type": "raw",
   "id": "3b62e5dc-c48c-413c-9b70-15285165f9af",
   "metadata": {
    "jupyter": {
     "source_hidden": true
    }
   },
   "source": [
    "@save \"jld2/dict_vecs_i_j_phi_estilos_S1_S2_S3_S4.jld2\" dict_vecs_i_j_phi_estilos_S1_S2_S3_S4_jld2"
   ]
  },
  {
   "cell_type": "raw",
   "id": "c7bad78a-7154-4c39-9040-88915f25018c",
   "metadata": {
    "jupyter": {
     "source_hidden": true
    }
   },
   "source": [
    "@load \"jld2/dict_vecs_i_j_phi_estilos_S1_S2_S3_S4.jld2\" dict_vecs_i_j_phi_estilos_S1_S2_S3_S4_jld2"
   ]
  },
  {
   "cell_type": "raw",
   "id": "fe823201-2439-46a3-affd-9743c20d2ec6",
   "metadata": {},
   "source": [
    "dict_vecs_i_j_phi_estilos_S1_S2_S3_S4_jld2"
   ]
  },
  {
   "cell_type": "markdown",
   "id": "2181c5f7-74d4-4de9-8789-0a5f74e9371a",
   "metadata": {},
   "source": [
    "### NEW VERSION 2025-09-01"
   ]
  },
  {
   "cell_type": "code",
   "execution_count": null,
   "id": "62b46425-2234-46a7-82c4-cb611986aabc",
   "metadata": {},
   "outputs": [],
   "source": [
    "dict_phi_ij_estilos_jld2 = Dict()\n",
    "for archivo in files_redes_estilos\n",
    "    println(archivo)\n",
    "    vec_i = Vector{Int64}()\n",
    "    vec_j = Vector{Int64}()\n",
    "    vec_phi_ij = Vector{Float64}()    \n",
    "    open(archivo) do fh\n",
    "        for line in readlines(fh)[2:end]\n",
    "            cols=split(replace(line,\",\" => \" \"))\n",
    "            #println(cols)\n",
    "            i = parse(Int64,cols[1])\n",
    "            j = parse(Int64,cols[2])\n",
    "            phi_ij = parse(Float64,cols[3])\n",
    "            #@show i,j,phi_ij\n",
    "            push!(vec_i,i)\n",
    "            push!(vec_j,j)\n",
    "            push!(vec_phi_ij,phi_ij)\n",
    "        end\n",
    "    end\n",
    "    n = max(maximum(vec_i),maximum(vec_i))\n",
    "    g = SimpleWeightedGraph(n)\n",
    "    for (i,j,phi_ij) in zip(vec_i,vec_j,vec_phi_ij)\n",
    "        add_edge!(g,i,j,phi_ij)\n",
    "    end    \n",
    "    tag = replace(archivo, \"../redes_estilos/\" => \"\")\n",
    "    tag = replace(tag, \".dat\" => \"\")\n",
    "    tag = replace(tag, \"red_\" => \"\")\n",
    "    tag = replace(tag, \"/\" => \" \")\n",
    "    tag = split(tag)\n",
    "    #@show tag\n",
    "    tag = (tag[1],tag[2])\n",
    "    dict_phi_ij_estilos_jld2[tag] = g\n",
    "end"
   ]
  },
  {
   "cell_type": "markdown",
   "id": "0be38a23-4635-4234-a050-3d90e8e8825d",
   "metadata": {},
   "source": [
    "### Tests"
   ]
  },
  {
   "cell_type": "raw",
   "id": "b404bff0-3273-4faf-9f9a-a06bdd56cd63",
   "metadata": {},
   "source": [
    "dict_phi_ij_estilos_jld2[(\"Italy\",\"S4\")]"
   ]
  },
  {
   "cell_type": "markdown",
   "id": "a3316b9c-5632-4876-80c7-00299076a26b",
   "metadata": {},
   "source": [
    "### Save as JLD2"
   ]
  },
  {
   "cell_type": "code",
   "execution_count": null,
   "id": "37e04ca0-a86b-45a3-97d0-dedb270184f0",
   "metadata": {},
   "outputs": [],
   "source": [
    "@save \"jld2/dict_phi_ij_estilos.jld2\" dict_phi_ij_estilos_jld2"
   ]
  },
  {
   "cell_type": "code",
   "execution_count": null,
   "id": "e3c2c416-2c98-4c9e-a5a6-706701859f95",
   "metadata": {},
   "outputs": [],
   "source": [
    "@load \"jld2/dict_phi_ij_estilos.jld2\" dict_phi_ij_estilos_jld2"
   ]
  },
  {
   "cell_type": "markdown",
   "id": "496c99e0-a998-4df3-89bd-72abcdc43554",
   "metadata": {},
   "source": [
    "### Tests"
   ]
  },
  {
   "cell_type": "raw",
   "id": "1cadaa6e-a6db-485c-91e6-fc1247ddca19",
   "metadata": {},
   "source": [
    "dict_phi_ij_estilos_jld2"
   ]
  },
  {
   "cell_type": "markdown",
   "id": "3acd919c-aacd-4c7b-976e-c1e97d677746",
   "metadata": {},
   "source": [
    "## Create \"points based\" 1-chains and save them in JLD2 format"
   ]
  },
  {
   "cell_type": "code",
   "execution_count": null,
   "id": "3c16ba9f-6a31-4472-8d93-c16b96f7701e",
   "metadata": {},
   "outputs": [],
   "source": []
  },
  {
   "cell_type": "markdown",
   "id": "b987df96-e1df-4c37-a2d3-2c185d05db32",
   "metadata": {},
   "source": [
    "# References\n",
    "\n",
    "1. [A. Chacoma and O. V. Billoni, Data-driven approach to defining football styles in major leagues, Chaos, Solitons & Fractals 200, 116926 (2025)](https://doi.org/10.1016/j.chaos.2025.116926)\n",
    "2. [J. I. Perotti, Analysis of the inference of ratings and rankings in complex networks using discrete exterior calculus on higher-order networks, Phys. Rev. E 111, 034306 (2025)](https://journals.aps.org/pre/abstract/10.1103/PhysRevE.111.034306)"
   ]
  },
  {
   "cell_type": "code",
   "execution_count": null,
   "id": "30fa188e-e103-40e1-aa98-0c6d3325d2d3",
   "metadata": {},
   "outputs": [],
   "source": []
  }
 ],
 "metadata": {
  "kernelspec": {
   "display_name": "Julia 1.11.5",
   "language": "julia",
   "name": "julia-1.11"
  },
  "language_info": {
   "file_extension": ".jl",
   "mimetype": "application/julia",
   "name": "julia",
   "version": "1.11.5"
  },
  "toc-autonumbering": false,
  "toc-showcode": false,
  "toc-showmarkdowntxt": false,
  "toc-showtags": false
 },
 "nbformat": 4,
 "nbformat_minor": 5
}
