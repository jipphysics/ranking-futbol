{
 "cells": [
  {
   "cell_type": "code",
   "execution_count": null,
   "id": "92fc835e-f44d-4bdd-a06a-46c4a2ef1222",
   "metadata": {},
   "outputs": [],
   "source": [
    "# Run this cell in a folder contained by the current project\n",
    "using Pkg\n",
    "#Pkg.activate()                 # Walks up the path tree until finds Project.toml\n",
    "#Pkg.activate(\".\")              # \n",
    "#Pkg.activate(\"@__DIR__\")       # \n",
    "Pkg.activate(\"../\")            #\n",
    "Pkg.instantiate()"
   ]
  },
  {
   "cell_type": "code",
   "execution_count": null,
   "id": "b2057b3f-705c-40b1-ba90-d808b93c0f39",
   "metadata": {},
   "outputs": [],
   "source": [
    "using Plots\n",
    "using LaTeXStrings\n",
    "using Graphs\n",
    "#using MetaGraphs\n",
    "using MetaGraphsNext\n",
    "using GraphPlot\n",
    "using Karnak\n",
    "using NetworkLayout\n",
    "using Colors\n",
    "using Random\n",
    "using LinearAlgebra\n",
    "using OffsetArrays\n",
    "using SparseArrays\n",
    "using Serialization\n",
    "using IterativeSolvers\n",
    "using Krylov\n",
    "using BenchmarkTools\n",
    "using Profile\n",
    "using ProfileView\n",
    "using Statistics\n",
    "using DifferentialEquations\n",
    "using LoopVectorization\n",
    "using Folds\n",
    "using Transducers\n",
    "using Distributed\n",
    "using JLD2\n",
    "using OnlineStats\n",
    "using ImageFiltering\n",
    "using SavitzkyGolay\n",
    "using Interpolations\n",
    "using DataInterpolations\n",
    "using Polynomials\n",
    "using CurveFit\n",
    "using DataFrames\n",
    "using LsqFit\n",
    "using ForwardDiff"
   ]
  },
  {
   "cell_type": "raw",
   "id": "c9c44b4f-7695-4f3b-9e15-89794574e2fe",
   "metadata": {},
   "source": [
    "# See what packages should be installed according to Project.toml and Manifest.toml\n",
    "Pkg.resolve()"
   ]
  },
  {
   "cell_type": "raw",
   "id": "d6ca89ca-461f-4083-abca-caaaef6eb8f0",
   "metadata": {},
   "source": [
    "# Run this if you want to install a package\n",
    "using Pkg\n",
    "for p in [\"Plots\",\"LaTeXStrings\",\"Graphs\",\"MetaGraphsNext\",\"GraphPlot\",\"Karnak\",\"NetworkLayout\",\"Colors\",\"Random\",\"LinearAlgebra\",\"OffsetArrays\",\"SparseArrays\",\"Serialization\",\"IterativeSolvers\",\"Krylov\",\"BenchmarkTools\",\"Profile\",\"ProfileView\",\"Statistics\",\"DifferentialEquations\",\"LoopVectorization\",\"Folds\",\"Transducers\",\"Distributed\",\"JLD2\",\"OnlineStats\",\"ImageFiltering\",\"SavitzkyGolay\",\"Interpolations\",\"DataInterpolations\",\"Polynomials\",\"CurveFit\",\"DataFrames\",\"LsqFit\",\"ForwardDiff\"]\n",
    "    Pkg.add(p)\n",
    "end"
   ]
  },
  {
   "cell_type": "raw",
   "id": "1801c477-0095-48c5-90cd-ef30d7c6c22b",
   "metadata": {},
   "source": [
    "# Run this if you want to install a package\n",
    "using Pkg\n",
    "Pkg.add(\"MetaGraphsNext\")"
   ]
  },
  {
   "cell_type": "markdown",
   "id": "2627b369-35f9-4769-a881-8cda7b00fe68",
   "metadata": {
    "tags": []
   },
   "source": [
    "# Tools"
   ]
  },
  {
   "cell_type": "markdown",
   "id": "fdcf0200-d3be-4cd1-819c-3ce7d24a9f29",
   "metadata": {
    "tags": []
   },
   "source": [
    "## Enumerator\n",
    "\n",
    "Tools to compute a running enumeration of a \"list\" of objects."
   ]
  },
  {
   "cell_type": "code",
   "execution_count": null,
   "id": "4cfb9895-978a-4d31-9723-2ed351c7c925",
   "metadata": {},
   "outputs": [],
   "source": [
    "function enum!(d,k)\n",
    "    return get!(d,k,length(d)+1)\n",
    "end"
   ]
  },
  {
   "cell_type": "markdown",
   "id": "63a50e70-b79c-4f22-a9e9-9bb27a5cfd18",
   "metadata": {
    "jp-MarkdownHeadingCollapsed": true,
    "tags": []
   },
   "source": [
    "### Test"
   ]
  },
  {
   "cell_type": "raw",
   "id": "c7c1b585-b007-4f54-ae5b-24b263e1bb81",
   "metadata": {},
   "source": [
    "d = Dict{Any,Int}()\n",
    "@show enum!(d,\"a\")\n",
    "@show enum!(d,\"b\")\n",
    "@show enum!(d,\"c\")\n",
    "@show enum!(d,\"b\")\n",
    "d"
   ]
  },
  {
   "cell_type": "markdown",
   "id": "2eb74874-43ef-4f72-8971-aa4e5cc81f6d",
   "metadata": {
    "tags": []
   },
   "source": [
    "## Running Statistics\n",
    "\n",
    "Tools to compute running statistics such as mean and std from a stream of numbers."
   ]
  },
  {
   "cell_type": "code",
   "execution_count": null,
   "id": "1f265db1-ff47-4cf8-af0a-09e3b131d5b0",
   "metadata": {},
   "outputs": [],
   "source": [
    "mutable struct RunningStat\n",
    "    n::Int\n",
    "    m::Real # mean\n",
    "    s::Real # std\n",
    "end\n",
    "\n",
    "function RunningStat()\n",
    "    return RunningStat(0,0.0,0.0)\n",
    "end\n",
    "\n",
    "function Base.push!(rs::RunningStat,v::Real)\n",
    "    if rs.n>0\n",
    "        rs.n += 1\n",
    "        new_m = rs.m + (v-rs.m)/rs.n\n",
    "        rs.s += (v-rs.m)*(v-new_m)\n",
    "        rs.m = new_m\n",
    "    else\n",
    "        rs.n = 1\n",
    "        rs.m = v\n",
    "        rs.s = 0\n",
    "    end\n",
    "    return rs.m\n",
    "end\n",
    "\n",
    "function Statistics.mean(rs::RunningStat)\n",
    "    return rs.m \n",
    "end\n",
    "\n",
    "function Statistics.var(rs::RunningStat)\n",
    "    return rs.s/(rs.n-1)\n",
    "end\n",
    "\n",
    "function Statistics.std(rs::RunningStat)\n",
    "    return sqrt(var(rs))\n",
    "end"
   ]
  },
  {
   "cell_type": "markdown",
   "id": "eeeaace5-918f-4cc3-83db-e9d1a7d9d752",
   "metadata": {
    "tags": []
   },
   "source": [
    "### Tests"
   ]
  },
  {
   "cell_type": "raw",
   "id": "f97155dd-f549-44d2-9e0e-d861d3d474c2",
   "metadata": {},
   "source": [
    "list_v = 10 .+ 5.0*randn(1000)\n",
    ";"
   ]
  },
  {
   "cell_type": "raw",
   "id": "ed6abaef-2a2b-4fdd-bc36-1819dfeaec11",
   "metadata": {},
   "source": [
    "rs = RunningStat()"
   ]
  },
  {
   "cell_type": "raw",
   "id": "1437d9d6-6296-4586-b47f-66cb268e3f2b",
   "metadata": {},
   "source": [
    "for v in list_v\n",
    "    push!(rs,v)\n",
    "end"
   ]
  },
  {
   "cell_type": "raw",
   "id": "edff5a6e-1344-464f-838d-278d888037ae",
   "metadata": {},
   "source": [
    "mean(rs),std(rs)"
   ]
  },
  {
   "cell_type": "raw",
   "id": "9d137423-bb16-4b6b-ba12-f418ce98da1f",
   "metadata": {},
   "source": [
    "mean(list_v),std(list_v)"
   ]
  },
  {
   "cell_type": "markdown",
   "id": "3d486905-7f4b-4bf4-8557-37107ca9a5c3",
   "metadata": {},
   "source": [
    "## Coefficient of determiantion, $R^2$\n",
    "\n",
    "Tools to compute the $R^2$ coefficient to evaluate the fit of functions."
   ]
  },
  {
   "cell_type": "code",
   "execution_count": null,
   "id": "680644ba-9b35-470e-b2e6-9dbf9db20d1e",
   "metadata": {},
   "outputs": [],
   "source": [
    "function R_squared(y_data,y_fit)\n",
    "    y_mean = mean(y_data)\n",
    "    SS_res = sum((y_data .- y_fit) .^ 2)\n",
    "    SS_tot = sum((y_data .- y_mean) .^ 2)\n",
    "    R_sqr = 1 - SS_res / SS_tot\n",
    "    return R_sqr\n",
    "end"
   ]
  },
  {
   "cell_type": "markdown",
   "id": "779d37a3-4254-434e-8233-6de9110349f4",
   "metadata": {},
   "source": [
    "### Tests"
   ]
  },
  {
   "cell_type": "raw",
   "id": "904ec2d0-3469-4117-a061-275951137d15",
   "metadata": {},
   "source": [
    "# Define the model function\n",
    "@. model(x, p) = p[1] * x + p[2]\n",
    "\n",
    "# Sample data (example)\n",
    "x_data = [1.0, 2.0, 3.0, 4.0, 5.0]\n",
    "y_data = [2.2, 2.8, 3.6, 4.5, 5.1]\n",
    "\n",
    "# Initial guess for parameters\n",
    "p0 = [1.0, 1.0]\n",
    "\n",
    "# Perform curve fitting\n",
    "fit = LsqFit.curve_fit(model, x_data, y_data, p0)\n",
    "\n",
    "# Compute fitted values\n",
    "y_fit = model(x_data, coef(fit))\n",
    "\n",
    "# Compute R_sqr\n",
    "R_sqr = R_squared(y_data,y_fit)"
   ]
  },
  {
   "cell_type": "raw",
   "id": "ab709d43-a408-4288-b109-75fb6d59656f",
   "metadata": {},
   "source": [
    "plot()\n",
    "#plot!(yscale=:log10)\n",
    "#plot!(ylim=(0.0,1.0))\n",
    "plot!(xlabel=L\"x\")\n",
    "plot!(ylabel=L\"y\")\n",
    "scatter!(x_data,y_data,label=\"data\")\n",
    "plot!(x_data,y_fit,label=\"fit, \\$R^2=0.995\\$\")\n",
    "#plot!(0.0:0.0,x->0.0,label=\"\\$z=1\\$\",width=0.0,c=:white)\n",
    "#plot!(legendtitle=L\"\\mathrm{1D},\\;z=1\",legendtitlefontsize=8)\n",
    "#plot!(list_sigma,x->0.6827/2,label=\"\",style=:dash,color=:grey)\n",
    "#plot!(\n",
    "#    xticks=([0,1,2,3,4,5],[L\"0\",L\"1\",L\"2\",L\"3\",L\"4\",L\"5\"]),\n",
    "#    yticks=([0,1,2,3],[L\"0\",L\"1\",L\"2\",L\"3\"]),\n",
    "#    tickfont=font(11),\n",
    "#)"
   ]
  },
  {
   "cell_type": "markdown",
   "id": "53eb9431-4718-4ee7-bb5c-a648c2cd8100",
   "metadata": {
    "tags": []
   },
   "source": [
    "## Sigmoid functions\n",
    "\n",
    "The logistic sigmoid function is\n",
    "\n",
    "$$\n",
    "f(x) = \\frac{A}{1+e^{-B(x-x_0)}}\n",
    "$$\n",
    "\n",
    "Its derivative is\n",
    "\n",
    "$$\n",
    "f'(x) = \\frac{A\\,B\\,e^{-B(x-x_0)}}{(1+e^{-B(x-x_0)})^2}\n",
    "$$\n",
    "\n",
    "and its primitive is\n",
    "\n",
    "$$\n",
    "F(x) = \\int dx\\,f(x) = \\frac{A}{B}\\ln(1+e^{B(x-x_0)})+C\n",
    "$$\n"
   ]
  },
  {
   "cell_type": "raw",
   "id": "5c97a3a8-9c58-4698-a46e-ac98232a9c8c",
   "metadata": {},
   "source": [
    "x0 = 1.0\n",
    "A = 1.0\n",
    "B = 3.0\n",
    "C = 0.0\n",
    "p0 = [x0,A,B,C] # p1=x0, p2=A, p3=B, p4=C\n",
    "@. sigmoid(x,p)  = p[2]/(1+exp(-p[3]*(x-p[1]))) # sigmoid\n",
    "@. dsigmoid(x,p) = p[2]*p[3]*exp(-p[3]*(x-p[1]))/(1+exp(-p[3]*(x-p[1])))^2 # derivative of sigmoid\n",
    "@. psigmoid(x,p) = p[2]/p[3]*log(1+exp(p[3]*(x-p[1])))+p[4] # primitive of sigmoid"
   ]
  },
  {
   "cell_type": "markdown",
   "id": "d55ce944-ace8-4602-88dc-8ea0b05b4bb6",
   "metadata": {
    "tags": []
   },
   "source": [
    "### Test"
   ]
  },
  {
   "cell_type": "raw",
   "id": "9d64e76c-fdee-4210-b983-e094a0b32c4c",
   "metadata": {},
   "source": [
    "plot(\n",
    "    ylims=(-0.1,1.1),\n",
    "    xlabel=L\"x\",\n",
    "    ylabel=L\"f(x)\",\n",
    ")\n",
    "plot!(-2:0.01:4.0,x->sigmoid(x,p0),label=\"\")"
   ]
  },
  {
   "cell_type": "raw",
   "id": "2d057d11-c4c0-49e9-9cb3-710b8d1c7455",
   "metadata": {},
   "source": [
    "plot(\n",
    "    ylims=(-0.1,1.1),\n",
    "    xlabel=L\"x\",\n",
    "    ylabel=L\"df/dx\",    \n",
    ")\n",
    "plot!(-2:0.01:4.0,x->dsigmoid(x,p0),label=\"\")\n",
    "scatter!([x0],[A*B/4],label=\"\")"
   ]
  },
  {
   "cell_type": "raw",
   "id": "e6df31f6-4598-44f2-a728-322195ad0cb6",
   "metadata": {},
   "source": [
    "plot(\n",
    "    ylims=(-0.1,1.1),\n",
    "    xlabel=L\"x\",\n",
    "    ylabel=L\"F(x)\",\n",
    ")\n",
    "plot!(-2:0.01:4.0,x->psigmoid(x,p0),label=\"\")"
   ]
  },
  {
   "cell_type": "markdown",
   "id": "89dac828-f026-4e39-b039-129ea214fa0b",
   "metadata": {},
   "source": [
    "## Log-range\n",
    "\n",
    "Tools to create a range of numbers but in logarithmic scale."
   ]
  },
  {
   "cell_type": "code",
   "execution_count": null,
   "id": "25b51d57-e027-46b1-a140-8c9e9d3985cc",
   "metadata": {},
   "outputs": [],
   "source": [
    "function logrange(start,stepmul,stop)\n",
    "    @assert start>0\n",
    "    @assert stepmul>1\n",
    "    r = []\n",
    "    s = start\n",
    "    while s <= stop\n",
    "        push!(r,s)\n",
    "        s *= stepmul\n",
    "    end\n",
    "    return r\n",
    "end"
   ]
  },
  {
   "cell_type": "markdown",
   "id": "d76c801d-cc0c-42b6-b5c7-d5798d0a394f",
   "metadata": {
    "tags": []
   },
   "source": [
    "### Test"
   ]
  },
  {
   "cell_type": "raw",
   "id": "7af403cb-1ebe-4cec-9b09-ba6de9f942f1",
   "metadata": {},
   "source": [
    "logrange(1e-4,1.1,1)"
   ]
  },
  {
   "cell_type": "markdown",
   "id": "14c51085-3adc-4879-b858-9d7b05819136",
   "metadata": {
    "tags": [],
    "toc-hr-collapsed": true
   },
   "source": [
    "# Generate networks (old stuff)"
   ]
  },
  {
   "cell_type": "raw",
   "id": "35cac378-9da4-4a9f-8bbb-86469c8379de",
   "metadata": {
    "tags": []
   },
   "source": [
    "# https://juliagraphs.org/Graphs.jl/dev/first_steps/plotting/\n",
    "\n",
    "g = erdos_renyi(6, 0.4)\n",
    "#g = barabasi_albert(60, 1)\n",
    "\n",
    "# Example of Fig. 16 of [1]. It is used to check that alpha_1 and alpha_2 are correct.\n",
    "#g = Graph(4)\n",
    "#add_edge!(g,1,2)\n",
    "#add_edge!(g,1,3)\n",
    "#add_edge!(g,2,3)\n",
    "#add_edge!(g,3,4)\n",
    "\n",
    "g"
   ]
  },
  {
   "cell_type": "code",
   "execution_count": null,
   "id": "2172f3d9-a59a-4764-b5e0-6eb5724cbb2e",
   "metadata": {},
   "outputs": [],
   "source": [
    "function main_component(g)\n",
    "    c = connected_components(g)\n",
    "    _,i = findmax(length.(c))\n",
    "    return g[c[i]]\n",
    "end"
   ]
  },
  {
   "cell_type": "code",
   "execution_count": null,
   "id": "c9417705-6921-4f7b-b276-b56a08c28184",
   "metadata": {},
   "outputs": [],
   "source": [
    "sorted_connected_components(g) = sort(connected_components(g), by = c -> length(c),rev=true)"
   ]
  },
  {
   "cell_type": "raw",
   "id": "35631be2-261e-45b5-b922-8bfcd7402d15",
   "metadata": {},
   "source": [
    "\"\"\"\n",
    "Generates a 1D lattice Graph of N nodes and k=2z nearest neighbors.\n",
    "\"\"\"\n",
    "function lattice_1D_to_g(N,z=1)\n",
    "    g = Graph(N)\n",
    "    for i in 1:N\n",
    "        for j in 1:z\n",
    "            if i+j <= N\n",
    "                add_edge!(g,i,i+j)            \n",
    "            end\n",
    "        end\n",
    "    end\n",
    "    return g\n",
    "end"
   ]
  },
  {
   "cell_type": "markdown",
   "id": "e81bd0c1-c967-4a98-85fc-086ccd7fe2c4",
   "metadata": {
    "tags": []
   },
   "source": [
    "## Tests"
   ]
  },
  {
   "cell_type": "raw",
   "id": "4a76da3f-7a37-4a47-b84e-cb371d8a9f68",
   "metadata": {},
   "source": [
    "g = lattice_1D_to_g(10,2)"
   ]
  },
  {
   "cell_type": "raw",
   "id": "621ebb7d-6ae9-44ea-8c4a-d3b9822d7fb5",
   "metadata": {},
   "source": [
    "@drawsvg begin\n",
    "    #background(\"black\")\n",
    "    background(\"white\")\n",
    "    sethue(\"grey40\")\n",
    "    fontsize(8)\n",
    "    drawgraph(\n",
    "        g, \n",
    "        #layout = stress, \n",
    "        vertexlabels = 1:nv(g),\n",
    "        vertexfillcolors = [RGB(rand(3)/2...) for i in 1:nv(g)]\n",
    "    )\n",
    "end 600 400"
   ]
  },
  {
   "cell_type": "raw",
   "id": "eaa673ab-2020-49bc-9e99-9f75c387fc72",
   "metadata": {},
   "source": [
    "sorted_connected_components(g)"
   ]
  },
  {
   "cell_type": "markdown",
   "id": "b9b08d26-f9eb-49e7-8018-eed1d32e082d",
   "metadata": {
    "tags": [],
    "toc-hr-collapsed": true
   },
   "source": [
    "# Load networks (dict of `(vec_i,vec_j,vec_phi)`)  and save weighted graphs (dict of `(g,phi)`)"
   ]
  },
  {
   "cell_type": "raw",
   "id": "56d6ac0d-2473-46ea-9ede-dfde169f5b96",
   "metadata": {},
   "source": [
    "@load \"../redes/dict_vecs_i_j_phi.jld2\" dict_vecs_i_j_phi_jld2"
   ]
  },
  {
   "cell_type": "raw",
   "id": "e764dd2c-b37e-44f0-9589-6aa56474181b",
   "metadata": {},
   "source": [
    "dict_vecs_i_j_phi_jld2"
   ]
  },
  {
   "cell_type": "raw",
   "id": "8d4763af-be11-4194-8cc7-48ed1d8f407c",
   "metadata": {},
   "source": [
    "countries = Dict()\n",
    "scores = Dict()\n",
    "for (country,score) in keys(dict_vecs_i_j_phi_jld2)\n",
    "    enum!(countries,country)\n",
    "    enum!(scores,score)\n",
    "end"
   ]
  },
  {
   "cell_type": "raw",
   "id": "45784e46-efbf-4bfe-b4a2-df6dbc177655",
   "metadata": {},
   "source": [
    "countries"
   ]
  },
  {
   "cell_type": "raw",
   "id": "91403cce-bdaa-4adf-986a-5e973a6e0768",
   "metadata": {},
   "source": [
    "metrics"
   ]
  },
  {
   "cell_type": "raw",
   "id": "a0103814-1afc-46e7-8ba1-eea95b9802dd",
   "metadata": {},
   "source": [
    "dict_g_phi_jld2 = Dict()\n",
    "for (country,score) in keys(dict_vecs_i_j_phi_jld2)\n",
    "    vec_i,vec_j,vec_phi_ij = dict_vecs_i_j_phi_jld2[(country,score)]\n",
    "    N = max(maximum(vec_i),maximum(vec_j))\n",
    "    g = Graph(N)\n",
    "    phi_ij = zeros(N,N)\n",
    "    for (i,j,phi) in zip(vec_i,vec_j,vec_phi_ij)\n",
    "        add_edge!(g,i,j)\n",
    "        phi_ij[i,j] = phi\n",
    "    end\n",
    "    dict_g_phi_jld2[(country,score)] = (g,phi_ij)\n",
    "end"
   ]
  },
  {
   "cell_type": "raw",
   "id": "dea161fe-fdd3-45f9-9212-2773b175846d",
   "metadata": {},
   "source": [
    "dict_g_phi_jld2[(\"Italy\", \"crossing\")]"
   ]
  },
  {
   "cell_type": "raw",
   "id": "ebd6df0a-a633-4b7e-b5f8-5e3c1ff63c92",
   "metadata": {},
   "source": [
    "@save \"../redes/dict_g_phi.jld2\" dict_g_phi_jld2"
   ]
  },
  {
   "cell_type": "markdown",
   "id": "1a0f93a6-3687-49b7-a187-a96da5c1e6a3",
   "metadata": {},
   "source": [
    "# Load weighted graphs (dict of `(g,phi)`)"
   ]
  },
  {
   "cell_type": "code",
   "execution_count": null,
   "id": "13d76399-48be-402c-8f10-a27235579e07",
   "metadata": {},
   "outputs": [],
   "source": [
    "@load \"../redes/dict_g_phi.jld2\" dict_g_phi_jld2"
   ]
  },
  {
   "cell_type": "code",
   "execution_count": null,
   "id": "a6912640-3e89-4f36-8267-a9277d7937d3",
   "metadata": {},
   "outputs": [],
   "source": [
    "dict_g_phi_jld2"
   ]
  },
  {
   "cell_type": "markdown",
   "id": "5e6b9e62-cfe6-430f-bdce-50a9b138e638",
   "metadata": {
    "tags": []
   },
   "source": [
    "# Simplicial Complex\n",
    "\n",
    "Tools to represent simplicial complexes and associated operators in matrix form. For further details, please read de manuscript.\n",
    "\n",
    "The array `K[k]` is a representation of $K_k$ and has dimensions $m_k\\times(k+1)$ and is used to enumerate the $k$-simplices of the complex.\n",
    "Here $m_k=|K_k|=\\dim C_k=\\dim C_k^*$ is the number of $k$-simplices in the simplicial complex.\n",
    "Especifically, `K[k][l,:]` is an array `[i_0,i_1,...,i_k]` denoting the $l$-th $k$-simplex of the complex.\n",
    "By assumption, $i_0<i_1<...<i_k$.\n",
    "The dictionary `I[k]` is the inverse mapping of `K[k]`.\n",
    "It maps arrays `[i_0,i_1,...,i_k]` to their corresponding index `l` in the enumeration."
   ]
  },
  {
   "cell_type": "markdown",
   "id": "b66c7574-8237-47bf-b43f-4714649fa2c0",
   "metadata": {
    "tags": []
   },
   "source": [
    "## Matricial representation of the (co)-boundary and (co)-differential operators\n",
    "\n",
    "Recall that, if\n",
    "\n",
    "$$\n",
    "\\partial_k(e_s) = (\\alpha_k)_s{}^r e_r\n",
    "$$\n",
    "$$\n",
    "\\partial_k^*(e_s) = (\\mu_k)_s{}^r e_r \n",
    "$$\n",
    "$$\n",
    "d_k(e^s) = (\\beta_k)^s{}_r e^r\n",
    "$$\n",
    "$$\n",
    "d_k^*(e^s) = (\\mu_k)^s{}_r e^r\n",
    "$$\n",
    "\n",
    "and $m_{sr}=\\delta_{sr}$, then\n",
    "\n",
    "$$\n",
    "(\\beta_k)^s{}_r = (\\alpha_{k+1})_r{}^s\n",
    "$$\n",
    "$$\n",
    "(\\mu_k)_s{}^r = (\\alpha_{k})_r{}^s\n",
    "$$\n",
    "$$\n",
    "(\\nu_k)^s{}_r = (\\beta_{k})^r{}_s = (\\alpha_{k+1})_s{}^r\n",
    "$$\n",
    "\n",
    "and, therefore\n",
    "\n",
    "$$\n",
    "(\\partial_k(c))^r = (\\alpha_k^T)^r{}_sc^s\n",
    "$$\n",
    "$$\n",
    "(\\partial_k^*(c))^r = (\\alpha_k)^r{}_sc^s\n",
    "$$\n",
    "$$\n",
    "(d_k(f))_r = (\\alpha_{k+1})_r{}^sf_s\n",
    "$$\n",
    "$$\n",
    "(d_k^*(f))_r = (\\alpha_{k+1}^T)_r{}^sf_s\n",
    "$$\n",
    "\n",
    "Finally, note that $\\alpha_k\\in \\mathbb{R}^{m_{k}\\times m_{k-1}}$ for $k\\in 1,2,...,\\kappa$ and\n",
    "\n",
    "$$\n",
    "(\\alpha_{k})_{i_0...i_j...i_k}{}^{i_0...\\hat{i}_j...i_k} = (-1)^j\n",
    "$$\n",
    "\n",
    "Here, $d_0$ and $d_1$ are needed. \n",
    "Hence, the matrices $\\beta_0=\\alpha_1$ and $\\beta_1=\\alpha_2$ have to be computed, respectively. \n",
    "In particular, assuming $i<j<k$, it is found that\n",
    "\n",
    "$$(\\alpha_1)_{ij}{}^{j} = 1$$\n",
    "$$(\\alpha_1)_{ij}{}^{i} = -1$$\n",
    "\n",
    "and\n",
    "\n",
    "$$(\\alpha_2)_{ijk}{}^{jk} = 1$$\n",
    "$$(\\alpha_2)_{ijk}{}^{ik} = -1$$\n",
    "$$(\\alpha_2)_{ijk}{}^{ij} = 1$$"
   ]
  },
  {
   "cell_type": "code",
   "execution_count": null,
   "id": "50579bd5-9f20-4288-9eb7-7328f0cd449a",
   "metadata": {},
   "outputs": [],
   "source": [
    "struct SimplicialComplex\n",
    "    K::Any\n",
    "    I::Any\n",
    "    alpha::Any\n",
    "end"
   ]
  },
  {
   "cell_type": "code",
   "execution_count": null,
   "id": "4aaed4f9-b7ba-4319-a67d-d86888b1651a",
   "metadata": {},
   "outputs": [],
   "source": [
    "\"\"\"\n",
    "Number of dimensions (kappa+1) of a simplicial complex, k = 0,1,...,kappa.\n",
    "\"\"\"\n",
    "function ndim(sc::SimplicialComplex)\n",
    "    return length(sc.K)\n",
    "end"
   ]
  },
  {
   "cell_type": "code",
   "execution_count": null,
   "id": "69939792-04a5-48c2-95ce-28cfdac18233",
   "metadata": {},
   "outputs": [],
   "source": [
    "\"\"\"\n",
    "Maximum dimension of a simplicial complex.\n",
    "\"\"\"\n",
    "function kappa(sc::SimplicialComplex)\n",
    "    return ndim(sc)-1\n",
    "end"
   ]
  },
  {
   "cell_type": "code",
   "execution_count": null,
   "id": "4ea109a6-a266-48ae-93d3-02fbbf0f129e",
   "metadata": {},
   "outputs": [],
   "source": [
    "\"\"\"\n",
    "m_k = dim C_k = dim C_k^*.\n",
    "\"\"\"\n",
    "function m_k(sc::SimplicialComplex,k::Int)\n",
    "    if k>=0 && k<=kappa(sc)\n",
    "        return size(sc.K[k])[1]\n",
    "    end\n",
    "    return 0\n",
    "end"
   ]
  },
  {
   "cell_type": "code",
   "execution_count": null,
   "id": "cd10bb3b-593e-42b5-965f-a5ce279fe2f8",
   "metadata": {},
   "outputs": [],
   "source": [
    "\"\"\"\n",
    "List of the numbers of non-zero elements in the matricial representations of the (dual)-(co)-boundary operators, alpha_k.\n",
    "\"\"\"\n",
    "function nnz_alpha(sc::SimplicialComplex)\n",
    "    return [nnz(sc.alpha[k]) for k in 1:length(sc.alpha)] \n",
    "end"
   ]
  },
  {
   "cell_type": "code",
   "execution_count": null,
   "id": "ead17c73-6ac6-42ca-91ef-479d101d2cb6",
   "metadata": {},
   "outputs": [],
   "source": [
    "\"\"\"\n",
    "Takes as input a list I of dictionaries I_k mapping simplices [i_0,i_1,...,i_k] to their corresponding enumeration numbers l.\n",
    "Returns a SimplicialComplex containing:\n",
    "    K : the list of the inverse mappings K_k of the I_k, and\n",
    "    I : the list of the mappings I_k passed as input,\n",
    "    alpha : the list alpha of the corresponding matrices alpha_k.\n",
    "\"\"\"\n",
    "function I_to_SC(I)\n",
    "    # Create K\n",
    "    K = []\n",
    "    for k in 0:(length(I)-1)\n",
    "        Kk = zeros(Int64,(length(I[k]),k+1))\n",
    "        for (s,l) in I[k]\n",
    "            Kk[l,:] = s\n",
    "        end\n",
    "        push!(K,Kk)\n",
    "    end\n",
    "    K = OffsetArray(K,0:(length(I)-1))\n",
    "\n",
    "    # Create A\n",
    "    alpha = []\n",
    "    for k in 1:(length(I)-1)\n",
    "        #@show k\n",
    "        Kk=K[k]\n",
    "        Kp=K[k-1] # p = k-1\n",
    "        Ik=I[k]\n",
    "        Ip=I[k-1]\n",
    "        n_k = size(Kk)[1]\n",
    "        n_p = size(Kp)[1]        \n",
    "        rows = zeros(Int64,(k+1)*n_k)\n",
    "        cols = zeros(Int64,(k+1)*n_k)\n",
    "        vals = zeros(Float64,(k+1)*n_k)\n",
    "        t = 0 # To enumerate the entries of the sparse matrix.\n",
    "        for l in 1:n_k\n",
    "            s = Kk[l,:]\n",
    "            for j in 1:(k+1)\n",
    "                r = vcat(s[1:(j-1)],s[(j+1):end])\n",
    "                m = Ip[r]\n",
    "                t+=1\n",
    "                rows[t] = l\n",
    "                cols[t] = m\n",
    "                vals[t] = 1-2*((j-1)%2)\n",
    "                #@show s,l,r,m,t,vals[t]\n",
    "            end\n",
    "        end\n",
    "        alpha_k = sparse(rows,cols,vals,n_k,n_p)\n",
    "        push!(alpha,alpha_k)\n",
    "    end\n",
    "    return SimplicialComplex(K,I,alpha)\n",
    "end"
   ]
  },
  {
   "cell_type": "code",
   "execution_count": null,
   "id": "b63491a9-ad0d-4bc2-96d5-c23c094caeec",
   "metadata": {},
   "outputs": [],
   "source": [
    "\"\"\"\n",
    "Takes as input a graph g and returns the list of I_k for k=0,1,2.\n",
    "\"\"\"\n",
    "function g_to_3_cliques(g)\n",
    "    # Generate I_0\n",
    "    I0 = Dict([i] => i for i in 1:nv(g))    \n",
    "    \n",
    "    # Generate I_1\n",
    "    I1 = Dict()    \n",
    "    for (l,e) in enumerate(edges(g))\n",
    "        i = src(e)\n",
    "        j = dst(e)\n",
    "        I1[[i,j]] = l\n",
    "    end\n",
    "    \n",
    "    # Generate I_2\n",
    "    I2 = Dict()\n",
    "    t = 0\n",
    "    for i in 1:nv(g)\n",
    "        for j in neighbors(g,i)\n",
    "            if i<j\n",
    "                for k in neighbors(g,j)\n",
    "                    if j<k && has_edge(g,k,i)\n",
    "                        t += 1\n",
    "                        I2[[i,j,k]] = t\n",
    "                    end\n",
    "                end\n",
    "            end\n",
    "        end\n",
    "    end\n",
    "    \n",
    "    I = OffsetArray([I0,I1,I2],0:2)\n",
    "    return I\n",
    "end"
   ]
  },
  {
   "cell_type": "markdown",
   "id": "2364ada3-9ff9-40dd-bb3f-ae7703740512",
   "metadata": {},
   "source": [
    "# Weighted simplicial complex `(sc,phi)` to field `f`"
   ]
  },
  {
   "cell_type": "code",
   "execution_count": null,
   "id": "81c2f9b2-13be-4ca8-bc8e-83aaa5791684",
   "metadata": {},
   "outputs": [],
   "source": [
    "function phi_ij_to_f(sc,phi_ij)\n",
    "    #m_0 = m_k(sc,0)\n",
    "    m_1 = m_k(sc,1)\n",
    "    f = zeros(m_1)\n",
    "    K1 = sc.K[1]\n",
    "    for l in 1:m_1\n",
    "        i,j = K1[l,:]\n",
    "        f[l] = phi_ij[j,i]-phi_ij[i,j]\n",
    "    end\n",
    "    return f\n",
    "end"
   ]
  },
  {
   "cell_type": "code",
   "execution_count": null,
   "id": "aa3e9a25-4e5f-47e8-89f6-1fb6354790cf",
   "metadata": {},
   "outputs": [],
   "source": [
    "function phi_i_to_f(sc,phi_ij)\n",
    "    m_0 = m_k(sc,0)\n",
    "    m_1 = m_k(sc,1)\n",
    "    phi_i = zeros(m_0)\n",
    "    K1 = sc.K[1]\n",
    "    for l in 1:m_1\n",
    "        i,j = K1[l,:]\n",
    "        phi_i[i] += phi_ij[i,j]\n",
    "        phi_i[j] += phi_ij[j,i]        \n",
    "    end\n",
    "    f = zeros(m_1)\n",
    "    for l in 1:m_1\n",
    "        i,j = K1[l,:]\n",
    "        f[l] = phi_i[j]-phi_i[i]\n",
    "    end\n",
    "    return f\n",
    "end"
   ]
  },
  {
   "cell_type": "markdown",
   "id": "bd2f3e46-172c-49a7-8bc9-992659675d22",
   "metadata": {
    "tags": []
   },
   "source": [
    "### Tests"
   ]
  },
  {
   "cell_type": "markdown",
   "id": "31db079b-1d81-4aec-a68b-278716e356f1",
   "metadata": {},
   "source": [
    "#### Testing `g_to_3_cliques` and `I_to_SC` "
   ]
  },
  {
   "cell_type": "raw",
   "id": "e2b4f1d7-0f54-45c8-95a3-f55a082bbab5",
   "metadata": {},
   "source": [
    "g = erdos_renyi(6, 0.4)\n",
    "g = main_component(g)"
   ]
  },
  {
   "cell_type": "raw",
   "id": "6c8a2ceb-50d2-4d7a-ab5b-560d4ea280e4",
   "metadata": {},
   "source": [
    "I_3c = g_to_3_cliques(g) # We use I123 instead of I since in Julia I is a reserved name for the identity matrix."
   ]
  },
  {
   "cell_type": "raw",
   "id": "73e62952-28d8-483c-a791-4ee15e815e55",
   "metadata": {},
   "source": [
    "sc = I_to_SC(I_3c)"
   ]
  },
  {
   "cell_type": "raw",
   "id": "13506d55-3bbb-4654-914a-8a88681db25e",
   "metadata": {},
   "source": [
    "sc.K[1]"
   ]
  },
  {
   "cell_type": "raw",
   "id": "2bd10635-1d51-42c2-9c96-6ef27f8b0999",
   "metadata": {},
   "source": [
    "sc.I[1]"
   ]
  },
  {
   "cell_type": "raw",
   "id": "2181d240-f9b3-4dff-91aa-41dfb6943fe5",
   "metadata": {},
   "source": [
    "sc.K[2]"
   ]
  },
  {
   "cell_type": "raw",
   "id": "d59f419f-cd60-4960-8858-cbf75dacbc90",
   "metadata": {},
   "source": [
    "sc.I[2]"
   ]
  },
  {
   "cell_type": "raw",
   "id": "0b3bba07-c6ae-4bd3-92b2-cb15584ff780",
   "metadata": {},
   "source": [
    "sc.alpha[1]"
   ]
  },
  {
   "cell_type": "raw",
   "id": "877614a4-1b51-41f9-b272-ad5fbd404874",
   "metadata": {},
   "source": [
    "sc.alpha[2]"
   ]
  },
  {
   "cell_type": "raw",
   "id": "e85bcbb0-ebc3-4024-94b6-a5440337b24e",
   "metadata": {},
   "source": [
    "nnz_alpha(sc)"
   ]
  },
  {
   "cell_type": "markdown",
   "id": "72a88eb2-f90a-4456-bc04-4fe6bc6062e5",
   "metadata": {},
   "source": [
    "#### Testing `phi_to_f`"
   ]
  },
  {
   "cell_type": "raw",
   "id": "35915e92-aab4-4488-910a-7f37e56b00a2",
   "metadata": {},
   "source": [
    "(g,phi_ij) = dict_g_phi_jld2[(\"Italy\", \"crossing\")]"
   ]
  },
  {
   "cell_type": "raw",
   "id": "62856265-edd2-46f8-86b0-a1a822469b3c",
   "metadata": {},
   "source": [
    "I_3c = g_to_3_cliques(g)"
   ]
  },
  {
   "cell_type": "raw",
   "id": "4279996a-5230-4847-9497-b5145006111b",
   "metadata": {},
   "source": [
    "sc = I_to_SC(I_3c)"
   ]
  },
  {
   "cell_type": "raw",
   "id": "813adead-451e-4225-a93b-18bdcdabc2c0",
   "metadata": {},
   "source": [
    "f = phi_ij_to_f(sc,phi_ij)"
   ]
  },
  {
   "cell_type": "raw",
   "id": "47f5eb15-0ac6-4722-91cd-967713e82bf6",
   "metadata": {},
   "source": [
    "f = phi_i_to_f(sc,phi_ij)"
   ]
  },
  {
   "cell_type": "markdown",
   "id": "44689a3e-9f2f-40f2-9fed-fb073fdbeba7",
   "metadata": {
    "tags": []
   },
   "source": [
    "# Hodge decomposition of $f$\n",
    "\n",
    "Tools to compute the Hodge decomposition of a 1-chain $f$.\n",
    "\n",
    "Recall that any $f\\in C_1^*$ admits an unique decomposition $f=s+h+g$, where there exists $w\\in C_0^*$ such that \n",
    "\n",
    "$$\n",
    "L_0(w)=L^{\\uparrow}_0(w)=d_0^*(d_0(w))=d_0^*(g)=d_0^*(f)\n",
    "$$\n",
    "\n",
    "and there exists $u\\in C_2^*$ such that\n",
    "\n",
    "$$\n",
    "L_2^{\\downarrow}(u)=d_1(d_1^*(u))=d_1(s)=d_1(f)\n",
    "$$\n",
    "\n",
    "In this way, we can find $w$ by solving $L^{\\uparrow}_0(w)=d_0^*(f)$ and $u$ by solving $L_2^{\\downarrow}(u)=d_1(f)$. Then, we can find $g=d_0(w)$, $s=d_1^*(u)$ and $h=f-g-s$."
   ]
  },
  {
   "cell_type": "markdown",
   "id": "c1facf4d-47f7-4300-a47c-dcb5f683d1ef",
   "metadata": {
    "tags": [],
    "toc-hr-collapsed": true
   },
   "source": [
    "## Matricial form\n",
    "\n",
    "The component-wise form of equation $d_0^*(d_0(w))=d_0^*(f)$ is\n",
    "\n",
    "$$\n",
    "(\\alpha_1^T)_r{}^s(\\alpha_1)_s{}^qw_q = (\\alpha_1^T)_r{}^sf_s\n",
    "$$\n",
    "\n",
    "or, matricially\n",
    "\n",
    "$$\n",
    "\\alpha_1^T \\alpha_1 w = \\alpha_1^T f \\;\\;\\;\\; (1)\n",
    "$$\n",
    "\n",
    "Similarly, the component-wise form of equation $g = d_0(w)$ is\n",
    "\n",
    "$$\n",
    "(\\alpha_1)_r{}^s w_s\n",
    "$$\n",
    "\n",
    "or, matricially\n",
    "\n",
    "$$\n",
    "g = \\alpha_1 w\n",
    "$$\n",
    "\n",
    "Similarly, the matricial form of equation $d_1(d_1^*(u))=d_1(f)$ is\n",
    "\n",
    "$$\n",
    "\\alpha_2 \\alpha_2^T u = \\alpha_2 f \\;\\;\\;\\; (2)\n",
    "$$\n",
    "\n",
    "and, the matricial form of equation $s=d_1^*(u)$ is\n",
    "\n",
    "$$\n",
    "s = \\alpha_2^T u\n",
    "$$"
   ]
  },
  {
   "cell_type": "markdown",
   "id": "4bf193c2-5042-4fe8-bc8f-2b4a68afc0b6",
   "metadata": {
    "tags": [],
    "toc-hr-collapsed": true
   },
   "source": [
    "### Test example of Eqs. (18) and (20) in [2].\n",
    "\n",
    "Eq. (18) of [2] is the analogous of Eq. (1) where $w$ in Eq. (1) is $\\alpha$ in Eq. (18) of [2] and $f$ in Eq. (1) is the analogous of $w$ in Eq. (18) of [2].\n",
    "The matrix of Eq. (18) in [2] is analogous to our $L_0=\\alpha_1^T\\alpha_1$.\n",
    "Similarly, Eq. (20) of [2] is the analogous of Eq. (2) where $u$ in Eq. (2) is the analogous of $\\gamma$ in Eq. (20) of [2] and $f$ in Eq. (2) is the analogous of $w$ in Eq. (20) of [2].\n",
    "The matrix of Eq. (20) in [2] is analogous to our $L_2^{\\downarrow}=\\alpha_2\\alpha_2^T$."
   ]
  },
  {
   "cell_type": "markdown",
   "id": "3f950bcd-7973-4855-98fe-1588bd660c14",
   "metadata": {},
   "source": [
    "The $k$-clique complex of $g$ is the simplicial complex obtained by considering all the $q$-cliques of $g$ for $q\\leq k$.\n",
    "\n",
    "First, the 3-clique complex of the network of Fig. (1) in [2] is created."
   ]
  },
  {
   "cell_type": "raw",
   "id": "f9829314-0a71-4eae-854c-56a14a7fe0ab",
   "metadata": {},
   "source": [
    "I0 = Dict{Any,Int}()\n",
    "I1 = Dict{Any,Int}()\n",
    "I2 = Dict{Any,Int}()\n",
    "\n",
    "for i in 1:8\n",
    "    enum!(I0,[i])\n",
    "end\n",
    "I0\n",
    "\n",
    "enum!(I1,[1,2])\n",
    "enum!(I1,[1,8])\n",
    "enum!(I1,[2,3])\n",
    "enum!(I1,[2,6])\n",
    "enum!(I1,[3,4])\n",
    "enum!(I1,[3,5])\n",
    "enum!(I1,[3,6])\n",
    "enum!(I1,[3,8])\n",
    "enum!(I1,[4,5])\n",
    "enum!(I1,[4,6])\n",
    "enum!(I1,[5,6])\n",
    "enum!(I1,[6,7])\n",
    "enum!(I1,[7,8])\n",
    "I1\n",
    "\n",
    "enum!(I2,[2,3,6])\n",
    "enum!(I2,[3,4,5])\n",
    "enum!(I2,[3,4,6])\n",
    "enum!(I2,[3,5,6])\n",
    "enum!(I2,[4,5,6])\n",
    "I2"
   ]
  },
  {
   "cell_type": "raw",
   "id": "d14255c8-ebd9-4750-bb42-337fa85ab1be",
   "metadata": {},
   "source": [
    "I_vs_k = g_to_3_cliques(g)\n",
    "sc = I_to_SC(I_vs_k)\n",
    "sc.alpha[2]"
   ]
  },
  {
   "cell_type": "raw",
   "id": "e6c57827-51bc-4023-94b7-483ef7194f01",
   "metadata": {},
   "source": [
    "#w = zeros(dim_Ck(sc,0))\n",
    "f = zeros(m_k(sc,1))\n",
    "\n",
    "I1 = sc.I[1]\n",
    "\n",
    "f[I1[[1,2]]] = -1   # 1\n",
    "f[I1[[1,8]]] = 4.2  # 2\n",
    "f[I1[[2,3]]] = -2   # 3\n",
    "f[I1[[2,6]]] = 8.1  # 4\n",
    "f[I1[[3,4]]] = 3.1  # 5\n",
    "f[I1[[3,5]]] = 5.9  # 6\n",
    "f[I1[[3,6]]] = 9.8  # 7\n",
    "f[I1[[3,8]]] = 7.1  # 8\n",
    "f[I1[[4,5]]] = 3.1  # 9\n",
    "f[I1[[4,6]]] = 6.9  # 10\n",
    "f[I1[[5,6]]] = 4.1  # 11\n",
    "f[I1[[6,7]]] = -1   # 12\n",
    "f[I1[[7,8]]] = -2   # 13\n",
    "\n",
    "f"
   ]
  },
  {
   "cell_type": "raw",
   "id": "b201c5a7-2be0-4b52-9056-eb9bac308976",
   "metadata": {},
   "source": [
    "alpha_1 = sc.alpha[1]"
   ]
  },
  {
   "cell_type": "raw",
   "id": "f9240ab2-9022-45ca-ac53-e9cb57fcc90f",
   "metadata": {},
   "source": [
    "alpha_1'"
   ]
  },
  {
   "cell_type": "markdown",
   "id": "09a29168-4dfc-45c7-9ff1-8ced7c9c473c",
   "metadata": {},
   "source": [
    "Here, $z:=d_0^*(f)$ should equal the r.h.s. of Eq. (18) in [2]."
   ]
  },
  {
   "cell_type": "raw",
   "id": "16b8bd48-0c01-4ffa-8b91-91cc525809c8",
   "metadata": {},
   "source": [
    "z = alpha_1'*f"
   ]
  },
  {
   "cell_type": "markdown",
   "id": "5d76ba53-2c4d-4bb5-beaf-e1469afb693c",
   "metadata": {},
   "source": [
    "Here, $L_0$ should equal the matrix at the l.h.s. of Eq. (18) in [2]."
   ]
  },
  {
   "cell_type": "raw",
   "id": "29b0db51-15a2-47f1-a8d8-13bed5d8eb8e",
   "metadata": {},
   "source": [
    "L0 = alpha_1'*alpha_1"
   ]
  },
  {
   "cell_type": "raw",
   "id": "5732a9c6-299a-4dd1-9aaf-9e49931fcd35",
   "metadata": {},
   "source": [
    "w = L0 \\ z"
   ]
  },
  {
   "cell_type": "markdown",
   "id": "05d51fd6-682e-4f51-b320-41de9c069b4d",
   "metadata": {},
   "source": [
    "Next vector should be equal to the vector $\\alpha$ reported in Table 5 of [2]."
   ]
  },
  {
   "cell_type": "raw",
   "id": "6ecfd4ed-a3bb-4faf-bdaa-3b124dc0520e",
   "metadata": {},
   "source": [
    "w .- w[1]"
   ]
  },
  {
   "cell_type": "markdown",
   "id": "9e51b9d4-0e93-459b-8bd4-d39179f90a3b",
   "metadata": {},
   "source": [
    "Next vector should equal the r.h.s. of Eq. (18) in [2]."
   ]
  },
  {
   "cell_type": "raw",
   "id": "b553c435-78cd-480c-aa20-6cd5239ff9a5",
   "metadata": {},
   "source": [
    "L0*w"
   ]
  },
  {
   "cell_type": "markdown",
   "id": "eba5024f-37d8-4489-ace9-203188b9450c",
   "metadata": {},
   "source": [
    "Check that vector $g=d_0(w)=\\alpha_1 w$ equals the vector $w_g$ of Table 4 in [2]."
   ]
  },
  {
   "cell_type": "raw",
   "id": "d3f8ca27-38f3-44eb-b9d6-19c3ad91c3b7",
   "metadata": {},
   "source": [
    "g = alpha_1*w"
   ]
  },
  {
   "cell_type": "markdown",
   "id": "d26368aa-31ba-4651-a354-ec58e975e5fc",
   "metadata": {},
   "source": [
    "Check equality up to numerical tolerance that $d_1(f)=d_1(g)$."
   ]
  },
  {
   "cell_type": "raw",
   "id": "43fc4a78-d7f9-405c-b514-2da8c08f06b3",
   "metadata": {},
   "source": [
    "norm( alpha_1'*f - alpha_1'*g )"
   ]
  },
  {
   "cell_type": "raw",
   "id": "4243ffb3-b6b7-4c4f-92e5-73b3120963bd",
   "metadata": {},
   "source": [
    "alpha_2 = sc.alpha[2]"
   ]
  },
  {
   "cell_type": "markdown",
   "id": "65fbe56f-4e21-498f-980d-0d7428ef77be",
   "metadata": {},
   "source": [
    "Check the form of $L_2^{\\downarrow}=\\alpha_2\\alpha_2^T$. It should equal the matrix at the l.h.s. of Eq. (20) in [2]."
   ]
  },
  {
   "cell_type": "raw",
   "id": "491f8c92-92d8-4d0b-86e1-2906caf79e49",
   "metadata": {},
   "source": [
    "L2d = alpha_2 * alpha_2'"
   ]
  },
  {
   "cell_type": "markdown",
   "id": "cc57cc62-b3c4-4ae7-ae08-4e685f38f773",
   "metadata": {},
   "source": [
    "Here, $y:=d_1(f)$ should equal the r.h.s. of Eq. (20) in [2]."
   ]
  },
  {
   "cell_type": "raw",
   "id": "61e0606a-84e2-4d00-a88a-613f383ffcbe",
   "metadata": {},
   "source": [
    "y = alpha_2 * f"
   ]
  },
  {
   "cell_type": "raw",
   "id": "229bd88b-2547-41cf-85f8-5a9113a72261",
   "metadata": {},
   "source": [
    "# See \n",
    "#    https://stackoverflow.com/questions/38486697/solve-a-particular-linear-system-efficiently-in-julia\n",
    "#    https://iterativesolvers.julialinearalgebra.org/dev/\n",
    "#    https://jso.dev/Krylov.jl/dev/solvers/ls/\n",
    "# on different alternatives about how to solve the linear systems in consideration.\n",
    "\n",
    "#u = L2d \\ y\n",
    "#u = pinv(Symmetric(Matrix(L2d)))*y\n",
    "#u = IterativeSolvers.cg(L2d,y)     # this is faster than lsmr in the example, according to @btime\n",
    "#u = IterativeSolvers.minres(L2d,y)\n",
    "#u = IterativeSolvers.lsqr(L2d,y)\n",
    "#u = IterativeSolvers.lsmr(L2d,y)\n",
    "#u = Krylov.cg(L2d,y)[1]    \n",
    "#u = Krylov.lslq(L2d,y)[1]\n",
    "#u = Krylov.lsqr(L2d,y)[1]\n",
    "u = Krylov.minres_qlp(L2d,y)[1]"
   ]
  },
  {
   "cell_type": "markdown",
   "id": "db7971d0-8243-4489-b4d2-eb57785880d9",
   "metadata": {},
   "source": [
    "The vector $u$ obtained is different from the vector $\\gamma$ reported in Table (5) of [2], which is the following one:"
   ]
  },
  {
   "cell_type": "raw",
   "id": "b244dded-8cf9-4cd8-82aa-1811c1d1771b",
   "metadata": {},
   "source": [
    "u_johnson = [-0.08 -1.1309 1.2359 -1.1759 1.2809]'"
   ]
  },
  {
   "cell_type": "markdown",
   "id": "8e64a450-8aba-4ca5-8620-40850213caa4",
   "metadata": {},
   "source": [
    "Is the vector $u_{\\mathrm{johnson}}$ (i.e. $\\gamma$) reported in [2] also a solution of Eq. (20) of [2]? We check:"
   ]
  },
  {
   "cell_type": "raw",
   "id": "68dbbe46-d547-4971-baeb-60248020f0c9",
   "metadata": {},
   "source": [
    "norm(L2d*u_johnson - y)"
   ]
  },
  {
   "cell_type": "markdown",
   "id": "37c17e84-31f1-4064-aebb-b35aca246b3a",
   "metadata": {},
   "source": [
    "It actually is! What about our solution? Let us check:"
   ]
  },
  {
   "cell_type": "raw",
   "id": "3fbcae02-39a6-4198-af19-0cea921d9375",
   "metadata": {},
   "source": [
    "norm(L2d*u - y)"
   ]
  },
  {
   "cell_type": "markdown",
   "id": "d443cfae-24ce-4a78-a3bf-a954e64c85e8",
   "metadata": {},
   "source": [
    "It is as well! Hence, there are multiple solutions, so $L_2^{\\downarrow}(u)=y$ is a degenerate (i.e. underdetermined) linear system. \n",
    "\n",
    "Only one of the solutions of degenerate linear systems of a positive semidefinite linear operator has minimum norm $|x|$. Therefore, we ask ourselves which of the solutions to $L_2^{\\downarrow}u=y$ we have found, has the smallest norm? Let us see:"
   ]
  },
  {
   "cell_type": "raw",
   "id": "40c14d0a-cf1b-4ae7-ab35-81b0212ffa94",
   "metadata": {},
   "source": [
    "norm(u)"
   ]
  },
  {
   "cell_type": "raw",
   "id": "36b95401-c633-4f87-bf7f-8dedabd0caee",
   "metadata": {},
   "source": [
    "norm(u_johnson)"
   ]
  },
  {
   "cell_type": "markdown",
   "id": "e1528d75-c2ff-469d-989f-4c7ced31c9a8",
   "metadata": {},
   "source": [
    "So our solution has smaller norm than that of [2]. Hence, it is a better candidate for the unique solution of minimum norm."
   ]
  },
  {
   "cell_type": "markdown",
   "id": "89a5fd4a-10c8-4942-b5a7-8b9cd2b5d23a",
   "metadata": {},
   "source": [
    "Next, compute $s=d_1^*(u)=\\alpha_2^T u$."
   ]
  },
  {
   "cell_type": "raw",
   "id": "4eb6fd13-1ffc-4e32-b744-d4c4aa8f5f50",
   "metadata": {},
   "source": [
    "s = alpha_2'*u"
   ]
  },
  {
   "cell_type": "markdown",
   "id": "063cfdd5-3c93-4bf8-b51e-59521f6a8a68",
   "metadata": {},
   "source": [
    "Check the \"equality\" of $\\alpha_2 s = d_1(s) = d_1(f) = \\alpha_2 f$."
   ]
  },
  {
   "cell_type": "raw",
   "id": "759d38e9-42f5-4fb1-88e9-42b6b909b920",
   "metadata": {},
   "source": [
    "norm( alpha_2*s - alpha_2*f )"
   ]
  },
  {
   "cell_type": "markdown",
   "id": "1f772f57-3ccd-4674-b441-190ed8638865",
   "metadata": {},
   "source": [
    "Compute $h$."
   ]
  },
  {
   "cell_type": "raw",
   "id": "c6d9b387-a9dc-4a87-8c2b-7d135762c5a8",
   "metadata": {},
   "source": [
    "h = f-s-g"
   ]
  },
  {
   "cell_type": "raw",
   "id": "c711ae31-4c55-42db-a587-76b5f4fe1a26",
   "metadata": {},
   "source": [
    "L1u = alpha_2'*alpha_2\n",
    "L1d = alpha_1*alpha_1'\n",
    "L1 = L1u + L1d"
   ]
  },
  {
   "cell_type": "markdown",
   "id": "16d10d3d-9118-4fed-bb99-bbd67fc50c6b",
   "metadata": {},
   "source": [
    "Finally check that $L_1(h)=0$."
   ]
  },
  {
   "cell_type": "raw",
   "id": "97fdb134-2b58-4a87-a2a7-43f5fa6ea8b8",
   "metadata": {},
   "source": [
    "norm(L1*h)"
   ]
  },
  {
   "cell_type": "markdown",
   "id": "7fdb63ae-c7e2-4e15-a0c8-3896d1c1823f",
   "metadata": {
    "tags": []
   },
   "source": [
    "## Compute Hodge decomposition\n",
    "\n",
    "The linear equations that should be solved are numerically challenging. Hence, we use the **MINRES-QLP** algoritm, which is specifically devised to solve least square problems of singular or nearly singular linear equations  [9,10,11,12]."
   ]
  },
  {
   "cell_type": "code",
   "execution_count": null,
   "id": "f395ffa3-bf6d-4610-9699-90cb44674889",
   "metadata": {},
   "outputs": [],
   "source": [
    "struct HodgeDecomposition\n",
    "    f::Array{Real}\n",
    "    s::Array{Real}\n",
    "    h::Array{Real}\n",
    "    g::Array{Real}\n",
    "    u::Array{Real}\n",
    "    w::Array{Real}    \n",
    "    k::Int    \n",
    "end"
   ]
  },
  {
   "cell_type": "code",
   "execution_count": null,
   "id": "76153bea-e8a9-418f-a918-c5977bc9ee51",
   "metadata": {},
   "outputs": [],
   "source": [
    "function compute_k_th_solenoid_hodge_decomposition(sc,f,k)\n",
    "    if k<kappa(sc)\n",
    "        alpha = sc.alpha[k+1]\n",
    "        y = alpha*f\n",
    "        L = alpha*alpha'\n",
    "        u = Krylov.minres_qlp(L,y)[1]\n",
    "        #u = Krylov.lsqr(L,y)[1]\n",
    "        s = alpha'*u\n",
    "        return s,u\n",
    "    else\n",
    "        s = zeros(m_k(sc,k)) # s = 0 as a vector enables f=s+h+g to be computed without dimensional problems.\n",
    "        u = zeros(m_k(sc,k+1))        \n",
    "        return s,u\n",
    "    end\n",
    "end"
   ]
  },
  {
   "cell_type": "code",
   "execution_count": null,
   "id": "047ba906-51c5-48b0-8688-62b27b577bb6",
   "metadata": {},
   "outputs": [],
   "source": [
    "function compute_k_th_gradient_hodge_decomposition(sc,f,k)\n",
    "    if k>=1\n",
    "        alpha = sc.alpha[k]\n",
    "        z = alpha'*f\n",
    "        L = alpha'*alpha\n",
    "        w = Krylov.minres_qlp(L,z)[1]\n",
    "        #w = Krylov.lsqr(L,z)[1]\n",
    "        g = alpha*w\n",
    "        return g,w\n",
    "    else\n",
    "        g = zeros(m_k(sc,k)) # g = 0 as a vector enables f=s+h+g to be computed without dimensional problems.\n",
    "        w = zeros(m_k(sc,k-1))        \n",
    "        return g,w\n",
    "    end\n",
    "end"
   ]
  },
  {
   "cell_type": "code",
   "execution_count": null,
   "id": "49541cc6-7255-4798-b652-d4aca720ee2b",
   "metadata": {},
   "outputs": [],
   "source": [
    "function compute_k_th_hodge_decomposition(sc,f,k)\n",
    "    @assert length(f) == m_k(sc,k)\n",
    "    s,u = compute_k_th_solenoid_hodge_decomposition(sc,f,k)\n",
    "    g,w = compute_k_th_gradient_hodge_decomposition(sc,f,k)\n",
    "    h=f-s-g\n",
    "    return HodgeDecomposition(f,s,h,g,u,w,k)\n",
    "end"
   ]
  },
  {
   "cell_type": "markdown",
   "id": "776ed9dc-d9ed-4aca-a96c-b879f9f79dd1",
   "metadata": {
    "tags": []
   },
   "source": [
    "### Test"
   ]
  },
  {
   "cell_type": "markdown",
   "id": "a7acf217-60bd-42ac-a719-029b974b1b18",
   "metadata": {},
   "source": [
    "#### Basic test"
   ]
  },
  {
   "cell_type": "raw",
   "id": "14b5ec29-f8a3-4bf8-836e-99e4101fdcb7",
   "metadata": {},
   "source": [
    "g = erdos_renyi(10, 0.4)"
   ]
  },
  {
   "cell_type": "raw",
   "id": "046809b8-1614-46a8-a56b-7c79cae26ef1",
   "metadata": {},
   "source": [
    "I_3c = g_to_3_cliques(g)"
   ]
  },
  {
   "cell_type": "raw",
   "id": "56456c56-2a11-48f8-87f9-56006f4a6038",
   "metadata": {},
   "source": [
    "sc = I_to_SC(I_3c)"
   ]
  },
  {
   "cell_type": "raw",
   "id": "dcfaa580-0dc9-49ac-a749-28f801b3054d",
   "metadata": {},
   "source": [
    "for k in 0:kappa(sc)\n",
    "   println(\"m_$k=$(m_k(sc,k))\")\n",
    "end"
   ]
  },
  {
   "cell_type": "markdown",
   "id": "35478f15-dfd3-42eb-a3d4-39fd5d8ccbbf",
   "metadata": {},
   "source": [
    "Next, we create a 1-chain $f$ of components $f_{ij}=w_i-w_j$ where $w$ is the 0-chain of components $w_i=i$."
   ]
  },
  {
   "cell_type": "raw",
   "id": "4655c083-33bf-4a1e-a34a-5f5db4994296",
   "metadata": {},
   "source": [
    "m0=m_k(sc,0)\n",
    "m1=m_k(sc,1)\n",
    "w = collect(1:m0)\n",
    "f = zeros(m1)\n",
    "K1 = sc.K[1]\n",
    "for l in 1:m1\n",
    "    i,j = K1[l,:]\n",
    "    f[l] = w[i]-w[j]\n",
    "end"
   ]
  },
  {
   "cell_type": "raw",
   "id": "c448a93d-90fb-4e0d-a2f0-21f90fca2e9d",
   "metadata": {},
   "source": [
    "hd = compute_k_th_hodge_decomposition(sc,w,0)"
   ]
  },
  {
   "cell_type": "raw",
   "id": "d2980304-6621-4841-8b74-cedc8985db27",
   "metadata": {},
   "source": [
    "hd.g"
   ]
  },
  {
   "cell_type": "raw",
   "id": "dd71c81c-70a2-4fec-9928-87c167daec72",
   "metadata": {},
   "source": [
    "hd.w"
   ]
  },
  {
   "cell_type": "raw",
   "id": "bdbf7b08-7e6e-4042-96a2-6a68bbab9198",
   "metadata": {},
   "source": [
    "hd = compute_k_th_hodge_decomposition(sc,f,1)"
   ]
  },
  {
   "cell_type": "raw",
   "id": "60d88d96-259c-4c4e-b387-bbd6e70b44e9",
   "metadata": {},
   "source": [
    "hd.w .- minimum(hd.w)"
   ]
  },
  {
   "cell_type": "raw",
   "id": "74d62d87-1f76-4d00-8c46-516748f1c5b7",
   "metadata": {},
   "source": [
    "u = collect(1:m_k(sc,2))"
   ]
  },
  {
   "cell_type": "raw",
   "id": "bb01eedd-35e7-48bb-be2e-bac886b7eb66",
   "metadata": {},
   "source": [
    "hd = compute_k_th_hodge_decomposition(sc,u,2)"
   ]
  },
  {
   "cell_type": "raw",
   "id": "49d9f324-3e9d-4cde-b6a9-fd163335bc2e",
   "metadata": {},
   "source": [
    "hd.s"
   ]
  },
  {
   "cell_type": "markdown",
   "id": "2c164c80-7020-4e73-b269-b56974c7e944",
   "metadata": {},
   "source": [
    "#### Test with futbol networks"
   ]
  },
  {
   "cell_type": "raw",
   "id": "a680c2a4-b610-48d0-8cd2-4a0ebdb6acf9",
   "metadata": {},
   "source": [
    "(g,phi_ij) = dict_g_phi_jld2[(\"Italy\", \"crossing\")]"
   ]
  },
  {
   "cell_type": "raw",
   "id": "480ac374-a7b4-41a5-a23f-4451d5f156a7",
   "metadata": {},
   "source": [
    "I_3c = g_to_3_cliques(g)"
   ]
  },
  {
   "cell_type": "raw",
   "id": "5a899a91-bee0-4d56-8789-3ff0111900ab",
   "metadata": {},
   "source": [
    "sc = I_to_SC(I_3c)"
   ]
  },
  {
   "cell_type": "raw",
   "id": "b258369e-f1ba-4cee-ad98-e9a495fd30c0",
   "metadata": {},
   "source": [
    "f = phi_ij_to_f(sc,phi_ij)"
   ]
  },
  {
   "cell_type": "raw",
   "id": "e17bfe78-15b4-4a5b-9e34-942c83fb0fab",
   "metadata": {},
   "source": [
    "hd = compute_k_th_hodge_decomposition(sc,f,1)"
   ]
  },
  {
   "cell_type": "raw",
   "id": "73b8f909-3cab-4264-abd9-1ff7f5997e41",
   "metadata": {},
   "source": [
    "hd.w"
   ]
  },
  {
   "cell_type": "raw",
   "id": "d9269184-020d-41e9-a1c5-73b89072906e",
   "metadata": {},
   "source": [
    "plot(\n",
    "    xlabel=L\"i\",\n",
    "    ylabel=L\"w_i\",\n",
    ")\n",
    "plot!(hd.w,label=\"Italy\"*\", \"*\"crossing\",c=1)\n",
    "scatter!(hd.w,label=\"\",c=1)"
   ]
  },
  {
   "cell_type": "markdown",
   "id": "56f1e133-8107-4d83-bc8c-8c10a369b6b6",
   "metadata": {
    "tags": []
   },
   "source": [
    "# Ranking tools\n",
    "\n",
    "Tools to generate **true** ratings and rankings for a given network."
   ]
  },
  {
   "cell_type": "raw",
   "id": "6adac70c-5af9-42a9-bedf-d0dae8802dcd",
   "metadata": {
    "tags": []
   },
   "source": [
    "\"\"\"\n",
    "Generator of artificial ratings.\n",
    "    agents : iterable over the agents.\n",
    "    noise : Gaussian additive noise\n",
    "    scale : sepparation scale between ratings\n",
    "\"\"\"\n",
    "function gen_artificial_ratings(agents,noise=0.0,scale=1.0)\n",
    "    #@show agents\n",
    "    N = length(agents)\n",
    "    w = collect(agents)+noise*randn(N)\n",
    "    w = ratings(N .- w)\n",
    "    return scale*w\n",
    "end"
   ]
  },
  {
   "cell_type": "raw",
   "id": "d2c22796-57d7-4372-8506-e1dc9d9d667a",
   "metadata": {},
   "source": [
    "\"\"\"\n",
    "Takes a simplicial complex and a vector of ratings and generates the 1-cochain\n",
    "\n",
    "    f_{ij} = w_i - w_j + noise*randn()\n",
    "\"\"\"\n",
    "function gen_artificial_f(sc,w,noise=0.0)\n",
    "    m_0 = m_k(sc,0)\n",
    "    m_1 = m_k(sc,1)\n",
    "    @assert length(w) == m_0\n",
    "    f = zeros(m_1)\n",
    "    K1 = sc.K[1]\n",
    "    for l in 1:m_1\n",
    "        i,j = K1[l,:]\n",
    "        f[l] = w[j]-w[i] + noise*randn()\n",
    "    end\n",
    "    return f\n",
    "end"
   ]
  },
  {
   "cell_type": "code",
   "execution_count": null,
   "id": "2b477c9b-bd91-4b3f-8aad-7a94aeb66661",
   "metadata": {},
   "outputs": [],
   "source": [
    "\"\"\"\n",
    "Takes a vector and shifts the values of its components by a constant to make all of them non-negative.\n",
    "\"\"\"\n",
    "function ratings(w)\n",
    "    return w .- minimum(w)\n",
    "end"
   ]
  },
  {
   "cell_type": "code",
   "execution_count": null,
   "id": "f465bc16-059e-4641-9195-a31faccbede4",
   "metadata": {},
   "outputs": [],
   "source": [
    "\"\"\"\n",
    "Normalizes a vector of ratings to have values between 0 and 1 inclusive.\n",
    "\"\"\"\n",
    "function normalized_ratings(w)\n",
    "    minw = minimum(w)\n",
    "    #maxw = maximum(w)\n",
    "    #return (w .- minw)/(maxw-minw)\n",
    "    return (w .- minw)/length(w)\n",
    "end"
   ]
  },
  {
   "cell_type": "code",
   "execution_count": null,
   "id": "162eaeac-b326-4423-89ee-4ac3e0c23515",
   "metadata": {},
   "outputs": [],
   "source": [
    "\"\"\"\n",
    "Takes a vector of ratings and computes the corresponding ranking\n",
    "\"\"\"\n",
    "function ranking(w)\n",
    "    return sortperm(w,rev=true)\n",
    "end"
   ]
  },
  {
   "cell_type": "code",
   "execution_count": null,
   "id": "f124a91f-a0ff-4f13-909a-a7ce32bd9e98",
   "metadata": {},
   "outputs": [],
   "source": [
    "\"\"\"\n",
    "Given two vectors v and u, this computes the absolute differences\n",
    "\n",
    "    x_i = |v_i-u_i|\n",
    "\n",
    "And returns the vector w of cumulative diferences\n",
    "\n",
    "    w_i = sum_{j <= i} x_j\n",
    "\n",
    "This can be used to compare two vectors of ratings or rankings\n",
    "\"\"\"\n",
    "function compute_cumulative_abs_diff(v,u)\n",
    "    n = length(v)\n",
    "    @assert length(u) == n\n",
    "    cumulative_abs_diff = zeros(n)\n",
    "    sum = 0\n",
    "    for i in 1:n\n",
    "         sum += abs.(v[i]-u[i])\n",
    "         cumulative_abs_diff[i] = sum\n",
    "    end\n",
    "    return cumulative_abs_diff\n",
    "end"
   ]
  },
  {
   "cell_type": "markdown",
   "id": "b564ac09-edfd-4950-86e3-88af38fe2987",
   "metadata": {
    "tags": []
   },
   "source": [
    "### Test"
   ]
  },
  {
   "cell_type": "raw",
   "id": "20dc954d-a26b-4bd7-9151-a87be521b432",
   "metadata": {},
   "source": [
    "g = erdos_renyi(6, 0.4)"
   ]
  },
  {
   "cell_type": "raw",
   "id": "36b662c8-b182-4e0e-89bc-be1109b2ca9d",
   "metadata": {},
   "source": [
    "w = gen_artificial_ratings(1:nv(g))"
   ]
  },
  {
   "cell_type": "raw",
   "id": "b9cff5ee-5d1d-4234-b40e-511039c43f2a",
   "metadata": {},
   "source": [
    "I_3c = g_to_3_cliques(g)"
   ]
  },
  {
   "cell_type": "raw",
   "id": "872eae6c-4cd6-4cb6-b7bd-66a2c9f78b33",
   "metadata": {},
   "source": [
    "sc = I_to_SC(I_3c)"
   ]
  },
  {
   "cell_type": "raw",
   "id": "cadd04df-2ab8-4ea4-a836-de3bd2d294a6",
   "metadata": {},
   "source": [
    "f = gen_artificial_f(sc,w)"
   ]
  },
  {
   "cell_type": "raw",
   "id": "ed62cefb-a2a5-443f-8422-f22676db1a7f",
   "metadata": {},
   "source": [
    "ratings(w .- 5)"
   ]
  },
  {
   "cell_type": "raw",
   "id": "443eac66-36f2-489a-8e86-a5da6f3fc53b",
   "metadata": {},
   "source": [
    "ranking(w)"
   ]
  },
  {
   "cell_type": "raw",
   "id": "566e1e1c-bdc0-4a43-bc55-7d184f7e5c47",
   "metadata": {},
   "source": [
    "normalized_ratings(w)"
   ]
  },
  {
   "cell_type": "markdown",
   "id": "bbb4e1dc-5190-4c75-9cba-e8ea138a2676",
   "metadata": {
    "tags": []
   },
   "source": [
    "# Inference of ratings and rankings\n",
    "\n",
    "General idea:\n",
    "\n",
    "* There are 5 soccer leagues: England, France, Germany, Italy and Spain.\n",
    "* Each has 20 teams, with the exception of Germany which has 18.\n",
    "* Each pair of teams of each league plays two games, one as local and another as visitor.\n",
    "* For each pair of games between two teams $i$ and $j$ of a given league, one as local and one as visitor, a score $\\phi_{ij}\\in \\mathbb{R}$ is provided.\n",
    "* Each score matrix $\\phi$ defines a non-directed fully connected network.\n",
    "* A fraction $p\\in [0,1]$ of the links of the networks can be removed using some criterium:\n",
    "    * uniformly at random, or\n",
    "    * in increasing order of absolute weight $|\\phi_{ij}|$.\n",
    "* The networks are promoted to simplicial complexes where:\n",
    "    * nodes $i$ become 0-simplices,\n",
    "    * links $ij$ become 1-simplices, and\n",
    "    * connected triplets $ijk$ become 2-simplices, where $ijk$ is a connected triplet of a network if $ij$, $jk$ and $ik$ are links of the network.\n",
    "* A 1-cochain of coordinates $f_{ij}=\\phi_{ji}-\\phi_{ij}$ is defined over each simplicial complex.\n",
    "* Alternatively, a 1-cochain of coordinates $f_{ij}=\\phi_{j}-\\phi_{i}$ where $\\phi_i = \\sum_j \\phi_{ij}$ is the strength of node $i$, is defined over each simplicial complex."
   ]
  },
  {
   "cell_type": "markdown",
   "id": "af478d93-1c47-48ac-8777-a080c0c8955c",
   "metadata": {
    "tags": []
   },
   "source": [
    "### Color schemes"
   ]
  },
  {
   "cell_type": "code",
   "execution_count": null,
   "id": "9e8a3921-c62e-4468-b046-a53cebe88861",
   "metadata": {
    "tags": []
   },
   "outputs": [],
   "source": [
    "palette_colors = palette(:auto)\n",
    "col1 = palette_colors[1]\n",
    "col2 = palette_colors[2]\n",
    "col3 = palette_colors[3]\n",
    "col4 = palette_colors[4]\n",
    "col5 = palette_colors[5]\n",
    "col6 = palette_colors[6]\n",
    "col7 = palette_colors[7]\n",
    "col8 = palette_colors[8]\n",
    "cols = [col1,col2,col3,col4,col5,col6,col7,col8]"
   ]
  },
  {
   "cell_type": "code",
   "execution_count": null,
   "id": "ca91596f-c97b-424f-944b-36541357ab92",
   "metadata": {},
   "outputs": [],
   "source": [
    "#colors_N = palette(:roma,6)\n",
    "#colors_N = palette(:thermal,8)\n",
    "#colors_N = palette(:haline,6)\n",
    "cols1 = [col1,col2]\n",
    "colors_N = palette(cols1,6)"
   ]
  },
  {
   "cell_type": "code",
   "execution_count": null,
   "id": "c7d195cf-2097-460e-ab23-a011e617370c",
   "metadata": {},
   "outputs": [],
   "source": [
    "#colors_N = palette(:roma,6)\n",
    "#colors_N = palette(:thermal,8)\n",
    "#colors_N = palette(:haline,8)\n",
    "#colors_z = palette(:hawaii,13)\n",
    "cols2 = [col4,col6]\n",
    "colors_z = palette(cols2,13)\n",
    "colors_k = colors_z\n",
    "colors_q = colors_z\n",
    "colors_p = colors_z"
   ]
  },
  {
   "cell_type": "markdown",
   "id": "d5da3913-60a8-4a27-9d03-1343cb89ff4b",
   "metadata": {},
   "source": [
    "## Experiment 1:\n",
    "\n",
    "For each league, compute the ratings $w_i$ and rankings $r_i$ for:\n",
    "\n",
    "* fully connected networks, and\n",
    "* 1-cochain given by $f_{ij}=\\phi_{ji}-\\phi_{ij}$."
   ]
  },
  {
   "cell_type": "code",
   "execution_count": null,
   "id": "6c482213-8611-4f44-8820-f212722ba6a4",
   "metadata": {},
   "outputs": [],
   "source": [
    "dict_sc_hd_E1_jld2 = Dict()\n",
    "for (country,score) in keys(dict_g_phi_jld2)\n",
    "    #@show (country,score)\n",
    "    (g,phi_ij) = dict_g_phi_jld2[(country,score)]\n",
    "    I_3c = g_to_3_cliques(g)\n",
    "    sc = I_to_SC(I_3c)\n",
    "    f = phi_ij_to_f(sc,phi_ij)\n",
    "    hd = compute_k_th_hodge_decomposition(sc,f,1)\n",
    "    dict_sc_hd_E1_jld2[(country,score)] = (sc,hd)\n",
    "end"
   ]
  },
  {
   "cell_type": "code",
   "execution_count": null,
   "id": "b2c1c75a-c0e3-4459-a882-44aa46aa5fac",
   "metadata": {},
   "outputs": [],
   "source": [
    "@save \"../redes/dict_sc_hd_E1.jld2\" dict_sc_hd_E1_jld2"
   ]
  },
  {
   "cell_type": "code",
   "execution_count": null,
   "id": "3e0bcef2-3c80-4da4-bac2-b61e5ebe6839",
   "metadata": {},
   "outputs": [],
   "source": [
    "@load \"../redes/dict_sc_hd_E1.jld2\" dict_sc_hd_E1_jld2"
   ]
  },
  {
   "cell_type": "code",
   "execution_count": null,
   "id": "c0b3364c-c57d-4089-a1fa-de585f546a19",
   "metadata": {},
   "outputs": [],
   "source": [
    "dict_sc_hd_E1_jld2"
   ]
  },
  {
   "cell_type": "code",
   "execution_count": null,
   "id": "f990b3d4-c78c-4ec6-977d-86bce535bf12",
   "metadata": {},
   "outputs": [],
   "source": [
    "countries = Dict()\n",
    "scores = Dict()\n",
    "for (country,score) in keys(dict_sc_hd_E1_jld2)\n",
    "    enum!(countries,country)\n",
    "    enum!(scores,score)\n",
    "end\n",
    "scores"
   ]
  },
  {
   "cell_type": "code",
   "execution_count": null,
   "id": "a24aa1bc-6c9e-48f4-9e26-779019161ccf",
   "metadata": {},
   "outputs": [],
   "source": [
    "improved_score_titles = Dict()\n",
    "improved_score_titles[\"counterattack\"] = \"counterattacks\"\n",
    "improved_score_titles[\"crossing\"] = \"crossings\"\n",
    "improved_score_titles[\"direct_play\"] = \"direct play\"\n",
    "improved_score_titles[\"T_maintenance\"] = \"maintenance time\"\n",
    "improved_score_titles[\"flow_rate\"] = \"flow rate\"\n",
    "improved_score_titles[\"T_build_up\"] = \"build-up time\"\n",
    "improved_score_titles[\"shots\"] = \"shots\"\n",
    "improved_score_titles[\"T_zona_media\"] = \"middle-zone time\"\n",
    "improved_score_titles[\"pressure_point\"] = \"pressure points\"\n",
    "improved_score_titles[\"pressure_loss\"] = \"pressure losses\""
   ]
  },
  {
   "cell_type": "code",
   "execution_count": null,
   "id": "7670ec60-885a-4e2c-8bcb-7d58c77284cd",
   "metadata": {},
   "outputs": [],
   "source": [
    "for (score,cs) in scores\n",
    "    p=plot(title=improved_score_titles[score])\n",
    "    plot!(xlabel=L\"r\")\n",
    "    plot!(ylabel=L\"w_r\")\n",
    "    #plot!(xscale=:log10)\n",
    "    #plot!(yscale=:log10)\n",
    "    for (country,cc) in countries    \n",
    "        (sc,hd) = dict_sc_hd_E1_jld2[(country,score)]\n",
    "        wmin = minimum(hd.w)\n",
    "        wmax = maximum(hd.w)\n",
    "        wdelta = wmax-wmin\n",
    "        yvals = hd.w\n",
    "        #yvals = hd.w .- wmin .+ wdelta/length(hd.w)\n",
    "        plot!(yvals,label=\"\",c=cc)\n",
    "        scatter!(yvals,label=country,c=cc)\n",
    "    end\n",
    "    savefig(p,\"plots/E1/rating-vs-original-ranking-\"*score*\".pdf\")\n",
    "end"
   ]
  },
  {
   "cell_type": "code",
   "execution_count": null,
   "id": "1c6cb5e6-43d9-4368-9d5f-746173e9c6fd",
   "metadata": {},
   "outputs": [],
   "source": [
    "for (score,cs) in scores\n",
    "    p=plot(title=improved_score_titles[score])\n",
    "    plot!(xlabel=L\"r\")\n",
    "    plot!(ylabel=L\"\\hat{r}\")\n",
    "    plot!(xlims=(0,20.5))\n",
    "    plot!(ylims=(0,20.5))\n",
    "    #plot!(xscale=:log10)\n",
    "    #plot!(yscale=:log10)\n",
    "    for (country,cc) in countries    \n",
    "        (sc,hd) = dict_sc_hd_E1_jld2[(country,score)]\n",
    "        #wmin = minimum(hd.w)\n",
    "        #wmax = maximum(hd.w)\n",
    "        #wdelta = wmax-wmin\n",
    "        #yvals = hd.w\n",
    "        #yvals = hd.w .- wmin .+ wdelta/length(hd.w)\n",
    "        yvals = ranking(hd.w)\n",
    "        plot!(yvals,label=\"\",c=cc)\n",
    "        scatter!(yvals,label=country,c=cc)\n",
    "    end\n",
    "    savefig(p,\"plots/E1/inferred-ranking-vs-original-ranking-\"*score*\".pdf\")\n",
    "end"
   ]
  },
  {
   "cell_type": "markdown",
   "id": "aa806773-248d-4410-ae90-bf5c28d7468b",
   "metadata": {},
   "source": [
    "## Experiment 2:\n",
    "\n",
    "For each league, compute the ratings $w_i$ and rankings $r_i$ for:\n",
    "\n",
    "* fully connected networks, and\n",
    "* 1-cochain given by $f_{ij}=\\phi_{j}-\\phi_{i}$ with $\\phi_i = \\sum_j \\phi_{ij}$."
   ]
  },
  {
   "cell_type": "code",
   "execution_count": null,
   "id": "af2e3936-47f0-4cb0-b6ba-f02a2e03c093",
   "metadata": {},
   "outputs": [],
   "source": [
    "dict_sc_hd_E2_jld2 = Dict()\n",
    "for (country,score) in keys(dict_g_phi_jld2)\n",
    "    #@show (country,score)\n",
    "    (g,phi_ij) = dict_g_phi_jld2[(country,score)]\n",
    "    I_3c = g_to_3_cliques(g)\n",
    "    sc = I_to_SC(I_3c)\n",
    "    f = phi_i_to_f(sc,phi_ij)\n",
    "    hd = compute_k_th_hodge_decomposition(sc,f,1)\n",
    "    dict_sc_hd_E2_jld2[(country,score)] = (sc,hd)\n",
    "end"
   ]
  },
  {
   "cell_type": "code",
   "execution_count": null,
   "id": "349ee6b0-e968-49e5-afff-8cbd4e46cc0e",
   "metadata": {},
   "outputs": [],
   "source": [
    "@save \"../redes/dict_sc_hd_E2.jld2\" dict_sc_hd_E2_jld2"
   ]
  },
  {
   "cell_type": "code",
   "execution_count": null,
   "id": "48778855-33c0-49b3-9cd8-ef6253e0a395",
   "metadata": {},
   "outputs": [],
   "source": [
    "@load \"../redes/dict_sc_hd_E2.jld2\" dict_sc_hd_E2_jld2"
   ]
  },
  {
   "cell_type": "code",
   "execution_count": null,
   "id": "a8fdda65-3bbf-4d19-9fa3-9e99fd5ca062",
   "metadata": {},
   "outputs": [],
   "source": [
    "dict_sc_hd_E2_jld2"
   ]
  },
  {
   "cell_type": "code",
   "execution_count": null,
   "id": "81e3e719-26fc-4e60-ab96-0ffade6e1d10",
   "metadata": {},
   "outputs": [],
   "source": [
    "for (score,cs) in scores\n",
    "    p=plot(title=improved_score_titles[score])\n",
    "    plot!(xlabel=L\"r\")\n",
    "    plot!(ylabel=L\"w_r\")\n",
    "    #plot!(xscale=:log10)\n",
    "    #plot!(yscale=:log10)\n",
    "    for (country,cc) in countries    \n",
    "        (sc,hd) = dict_sc_hd_E2_jld2[(country,score)]\n",
    "        wmin = minimum(hd.w)\n",
    "        wmax = maximum(hd.w)\n",
    "        wdelta = wmax-wmin\n",
    "        yvals = hd.w\n",
    "        #yvals = hd.w .- wmin .+ wdelta/length(hd.w)\n",
    "        plot!(yvals,label=\"\",c=cc)\n",
    "        scatter!(yvals,label=country,c=cc)\n",
    "    end\n",
    "    savefig(p,\"plots/E2/rating-vs-original-ranking-\"*score*\".pdf\")\n",
    "end"
   ]
  },
  {
   "cell_type": "code",
   "execution_count": null,
   "id": "fa460aa0-4f77-4a9b-ac76-ec89ae0e5e47",
   "metadata": {},
   "outputs": [],
   "source": [
    "for (score,cs) in scores\n",
    "    p=plot(title=improved_score_titles[score])\n",
    "    plot!(xlabel=L\"r\")\n",
    "    plot!(ylabel=L\"\\hat{r}\")\n",
    "    plot!(xlims=(0,20.5))\n",
    "    plot!(ylims=(0,20.5))\n",
    "    #plot!(xscale=:log10)\n",
    "    #plot!(yscale=:log10)\n",
    "    for (country,cc) in countries    \n",
    "        (sc,hd) = dict_sc_hd_E2_jld2[(country,score)]\n",
    "        #wmin = minimum(hd.w)\n",
    "        #wmax = maximum(hd.w)\n",
    "        #wdelta = wmax-wmin\n",
    "        #yvals = hd.w\n",
    "        #yvals = hd.w .- wmin .+ wdelta/length(hd.w)\n",
    "        yvals = ranking(hd.w)\n",
    "        plot!(yvals,label=\"\",c=cc)\n",
    "        scatter!(yvals,label=country,c=cc)\n",
    "    end\n",
    "    savefig(p,\"plots/E2/inferred-ranking-vs-original-ranking-\"*score*\".pdf\")\n",
    "end"
   ]
  },
  {
   "cell_type": "code",
   "execution_count": null,
   "id": "54846166-0525-41f7-858d-66818ae1ad3c",
   "metadata": {},
   "outputs": [],
   "source": [
    "N = 10000\n",
    "mean_k = 3.0\n",
    "p = mean_k/(N-1)\n",
    "@show N\n",
    "@show mean_k\n",
    "@show p\n",
    "#g = erdos_renyi(6, 0.4)\n",
    "g = erdos_renyi(N,p)\n",
    "@show nv(g)\n",
    "@show ne(g)\n",
    "@show 2*ne(g)/N\n",
    "#@show g\n",
    ";"
   ]
  },
  {
   "cell_type": "code",
   "execution_count": null,
   "id": "544d1269-c1af-438c-96b0-f388e36fcaf0",
   "metadata": {},
   "outputs": [],
   "source": [
    "I_3c = g_to_3_cliques(g)"
   ]
  },
  {
   "cell_type": "code",
   "execution_count": null,
   "id": "50d86c35-3d60-4d63-a6c1-7bfbf3db60b9",
   "metadata": {},
   "outputs": [],
   "source": [
    "sc = I_to_SC(I_3c)"
   ]
  },
  {
   "cell_type": "code",
   "execution_count": null,
   "id": "9f003440-f0ee-422c-bf05-112ac65053b4",
   "metadata": {},
   "outputs": [],
   "source": [
    "w = gen_artificial_ratings(1:m_k(sc,0))"
   ]
  },
  {
   "cell_type": "code",
   "execution_count": null,
   "id": "a5d40ffd-34f8-451f-864d-21c5466619bf",
   "metadata": {},
   "outputs": [],
   "source": [
    "f = gen_artificial_f(sc,w)"
   ]
  },
  {
   "cell_type": "code",
   "execution_count": null,
   "id": "9432b3d8-f20e-43e2-a27a-2a2974d7322b",
   "metadata": {},
   "outputs": [],
   "source": [
    "hd = compute_k_th_hodge_decomposition(sc,f,1)"
   ]
  },
  {
   "cell_type": "code",
   "execution_count": null,
   "id": "fcfed1a3-ef56-4f1a-84ed-157cc553955d",
   "metadata": {},
   "outputs": [],
   "source": [
    "hd.w"
   ]
  },
  {
   "cell_type": "code",
   "execution_count": null,
   "id": "68ebed88-21d4-43a8-99df-f46c2c6091bc",
   "metadata": {},
   "outputs": [],
   "source": [
    "ratings(hd.w)"
   ]
  },
  {
   "cell_type": "code",
   "execution_count": null,
   "id": "0a10cb3f-df16-4f24-837b-8aad90e04969",
   "metadata": {},
   "outputs": [],
   "source": [
    "ranking(hd.w)"
   ]
  },
  {
   "cell_type": "code",
   "execution_count": null,
   "id": "fa207fa6-595b-4781-801c-dce62d3749e8",
   "metadata": {},
   "outputs": [],
   "source": [
    "cumdiff_w = compute_cumulative_abs_diff(normalized_ratings(w),normalized_ratings(hd.w))"
   ]
  },
  {
   "cell_type": "code",
   "execution_count": null,
   "id": "cbf1c19a-66c6-4005-b4f6-bb58284b70e5",
   "metadata": {},
   "outputs": [],
   "source": [
    "N = length(cumdiff_w)\n",
    "n = N-1\n",
    "plot(title=\"ER\")\n",
    "plot!(xlabel=L\"i/n\")\n",
    "plot!(ylabel=L\"\\rho_w(i)\") # hat{w} is the inferred rating\n",
    "plot!((0:n)/n,cumdiff_w/N,label=\"\")"
   ]
  },
  {
   "cell_type": "code",
   "execution_count": null,
   "id": "00f7a5a3-777b-431b-8245-d57e7ac7f8b0",
   "metadata": {},
   "outputs": [],
   "source": [
    "plot(title=\"ER\")\n",
    "plot!(xlabel=L\"\\hat{r}_i\")\n",
    "plot!(ylabel=L\"r_i\")\n",
    "scatter!(ranking(w),ranking(hd.w),label=\"\")"
   ]
  },
  {
   "cell_type": "code",
   "execution_count": null,
   "id": "acb39c58-0a4b-4b56-8e13-77a8e6ffcf87",
   "metadata": {},
   "outputs": [],
   "source": [
    "sum(abs.(ranking(w)-ranking(hd.w)))"
   ]
  },
  {
   "cell_type": "code",
   "execution_count": null,
   "id": "824ca143-0270-4d99-b1c4-88b7a6c400d6",
   "metadata": {},
   "outputs": [],
   "source": [
    "I_3c = g_to_3_cliques(g)"
   ]
  },
  {
   "cell_type": "code",
   "execution_count": null,
   "id": "76d91d7c-9bfb-443e-8a2b-a8f7b050a8f7",
   "metadata": {},
   "outputs": [],
   "source": [
    "sc = I_to_SC(I_3c)"
   ]
  },
  {
   "cell_type": "code",
   "execution_count": null,
   "id": "4a1b5e9c-ff4b-4226-91c7-7eaf88503f87",
   "metadata": {},
   "outputs": [],
   "source": [
    "w = gen_artificial_ratings(1:m_k(sc,0))"
   ]
  },
  {
   "cell_type": "code",
   "execution_count": null,
   "id": "8ac164a2-71f2-4c63-983b-3ad10a5f78ea",
   "metadata": {},
   "outputs": [],
   "source": [
    "f = gen_artificial_f(sc,w)"
   ]
  },
  {
   "cell_type": "code",
   "execution_count": null,
   "id": "80f40e65-941b-4f23-9f75-990bc01c3b18",
   "metadata": {},
   "outputs": [],
   "source": [
    "hd = compute_k_th_hodge_decomposition(sc,f,1)"
   ]
  },
  {
   "cell_type": "code",
   "execution_count": null,
   "id": "d49f2479-4e9e-41e7-b0a8-ae45cc370ee1",
   "metadata": {},
   "outputs": [],
   "source": [
    "hd.w"
   ]
  },
  {
   "cell_type": "code",
   "execution_count": null,
   "id": "972bb65c-e3a4-4b15-985c-5fdd28b03d9a",
   "metadata": {},
   "outputs": [],
   "source": [
    "ratings(hd.w)"
   ]
  },
  {
   "cell_type": "code",
   "execution_count": null,
   "id": "595908ef-da08-42c4-9989-3c708815a4f1",
   "metadata": {},
   "outputs": [],
   "source": [
    "ranking(hd.w)"
   ]
  },
  {
   "cell_type": "code",
   "execution_count": null,
   "id": "d397ac71-c147-4ed8-aa30-6ac1f01fb898",
   "metadata": {},
   "outputs": [],
   "source": [
    "cumdiff_w = compute_cumulative_abs_diff(normalized_ratings(w),normalized_ratings(hd.w))"
   ]
  },
  {
   "cell_type": "code",
   "execution_count": null,
   "id": "0c5dd9ec-1c75-40fb-9c75-728b07c3a540",
   "metadata": {},
   "outputs": [],
   "source": [
    "N = length(cumdiff_w)\n",
    "n = N-1\n",
    "plot(title=\"BA\")\n",
    "plot!(xlabel=L\"i/n\")\n",
    "plot!(ylabel=L\"\\rho_w(i)\") # hat{w} is the inferred rating\n",
    "plot!((0:n)/n,cumdiff_w/N,label=\"\")"
   ]
  },
  {
   "cell_type": "code",
   "execution_count": null,
   "id": "f72b8e95-52f5-4c1c-b878-dc5c84900158",
   "metadata": {},
   "outputs": [],
   "source": [
    "plot(title=\"BA\")\n",
    "plot!(xlabel=L\"\\hat{r}_i\")\n",
    "plot!(ylabel=L\"r_i\")\n",
    "scatter!(ranking(w),ranking(hd.w),label=\"\")"
   ]
  },
  {
   "cell_type": "raw",
   "id": "21d89f3d-f735-424e-95db-14fb08084c57",
   "metadata": {},
   "source": [
    "function mean_shortest_paths_distances(g)\n",
    "    d = floyd_warshall_shortest_paths(g).dists\n",
    "    sum = 0.0\n",
    "    num = 0.0\n",
    "    for i in 1:nv(g)-1\n",
    "        for j in i+1:nv(g)\n",
    "            sum += d[i,j]\n",
    "            num += 1\n",
    "        end\n",
    "    end\n",
    "    return sum/num\n",
    "end"
   ]
  },
  {
   "cell_type": "raw",
   "id": "33ffafb9-2ce5-42a6-b6f3-0ca97555c85d",
   "metadata": {},
   "source": [
    "list_p = vcat([0],reverse([2.0^(-k) for k in 0:13]))"
   ]
  },
  {
   "cell_type": "raw",
   "id": "1ddbdd70-9b5c-4ab5-8090-aad4b70d0d45",
   "metadata": {},
   "source": [
    "list_cc = [RunningStat() for t in 1:length(list_p)]\n",
    "list_sd = [RunningStat() for t in 1:length(list_p)]\n",
    "for sample in 1:10\n",
    "    if sample % 10 == 0\n",
    "       @show sample \n",
    "    end\n",
    "    for t in 1:length(list_p)\n",
    "        p = list_p[t]\n",
    "        g = watts_strogatz(N,k,p)\n",
    "        mean_cc = sum(local_clustering_coefficient(g,1:nv(g)))/nv(g)\n",
    "        mean_sd = mean_shortest_paths_distances(g)\n",
    "        push!(list_cc[t],mean_cc)\n",
    "        push!(list_sd[t],mean_sd)\n",
    "    end\n",
    "end"
   ]
  },
  {
   "cell_type": "raw",
   "id": "fb13856d-2a6b-4660-8a9d-11da0311c7a2",
   "metadata": {},
   "source": [
    "list_cc_mean = [mean(list_cc[t]) for t in 1:length(list_cc)]\n",
    "list_cc_std  = [std(list_cc[t])  for t in 1:length(list_cc)]\n",
    "list_sd_mean = [mean(list_sd[t]) for t in 1:length(list_sd)]\n",
    "list_sd_std  = [std(list_sd[t])  for t in 1:length(list_sd)]\n",
    ";"
   ]
  },
  {
   "cell_type": "raw",
   "id": "90bf3a16-18c1-4f45-bde7-c148331795b2",
   "metadata": {},
   "source": [
    "plot(legend=:bottomleft)\n",
    "plot!(xlabel=L\"p\")\n",
    "plot!(ylabel=\"\\$Cc\\$, \\$ \\\\ell \\$\")\n",
    "plot!(xscale=:log10)\n",
    "#plot!(yscale=:log10)\n",
    "plot!(xlims=(0.0001,1.1))\n",
    "scatter!(list_p[2:end],list_cc_mean[2:end]/list_cc_mean[1],label=L\"Cc\")\n",
    "scatter!(list_p[2:end],list_sd_mean[2:end]/list_sd_mean[1],label=L\"\\ell\")"
   ]
  },
  {
   "cell_type": "code",
   "execution_count": null,
   "id": "55194fbe-8158-4fcb-9d81-2f1da6d05ba6",
   "metadata": {},
   "outputs": [],
   "source": [
    "list_cc_mean[1]/list_cc_mean[1]"
   ]
  }
 ],
 "metadata": {
  "kernelspec": {
   "display_name": "Julia 1.11.5",
   "language": "julia",
   "name": "julia-1.11"
  },
  "language_info": {
   "file_extension": ".jl",
   "mimetype": "application/julia",
   "name": "julia",
   "version": "1.11.5"
  },
  "toc-autonumbering": false,
  "toc-showcode": false,
  "toc-showmarkdowntxt": false,
  "toc-showtags": false
 },
 "nbformat": 4,
 "nbformat_minor": 5
}
