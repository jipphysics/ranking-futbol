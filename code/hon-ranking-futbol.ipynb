{
 "cells": [
  {
   "cell_type": "code",
   "execution_count": null,
   "id": "92fc835e-f44d-4bdd-a06a-46c4a2ef1222",
   "metadata": {},
   "outputs": [],
   "source": [
    "# Run this cell in a folder contained by the current project\n",
    "using Pkg\n",
    "#Pkg.activate()                 # Walks up the path tree until finds Project.toml\n",
    "#Pkg.activate(\".\")              # \n",
    "#Pkg.activate(\"@__DIR__\")       # \n",
    "Pkg.activate(\"../\")            #\n",
    "Pkg.instantiate()"
   ]
  },
  {
   "cell_type": "code",
   "execution_count": null,
   "id": "b2057b3f-705c-40b1-ba90-d808b93c0f39",
   "metadata": {},
   "outputs": [],
   "source": [
    "using Plots\n",
    "using LaTeXStrings\n",
    "using Graphs\n",
    "#using MetaGraphs\n",
    "using MetaGraphsNext\n",
    "using GraphPlot\n",
    "using Karnak\n",
    "using NetworkLayout\n",
    "using Colors\n",
    "using Random\n",
    "using LinearAlgebra\n",
    "using OffsetArrays\n",
    "using SparseArrays\n",
    "using Serialization\n",
    "using IterativeSolvers\n",
    "using Krylov\n",
    "using BenchmarkTools\n",
    "using Profile\n",
    "using ProfileView\n",
    "using Statistics\n",
    "using DifferentialEquations\n",
    "using LoopVectorization\n",
    "using Folds\n",
    "using Transducers\n",
    "using Distributed\n",
    "using JLD2\n",
    "using OnlineStats\n",
    "using ImageFiltering\n",
    "using SavitzkyGolay\n",
    "using Interpolations\n",
    "using DataInterpolations\n",
    "using Polynomials\n",
    "using CurveFit\n",
    "using DataFrames\n",
    "using LsqFit\n",
    "using ForwardDiff"
   ]
  },
  {
   "cell_type": "raw",
   "id": "c9c44b4f-7695-4f3b-9e15-89794574e2fe",
   "metadata": {},
   "source": [
    "# See what packages should be installed according to Project.toml and Manifest.toml\n",
    "Pkg.resolve()"
   ]
  },
  {
   "cell_type": "raw",
   "id": "d6ca89ca-461f-4083-abca-caaaef6eb8f0",
   "metadata": {},
   "source": [
    "# Run this if you want to install a package\n",
    "using Pkg\n",
    "for p in [\"Plots\",\"LaTeXStrings\",\"Graphs\",\"MetaGraphsNext\",\"GraphPlot\",\"Karnak\",\"NetworkLayout\",\"Colors\",\"Random\",\"LinearAlgebra\",\"OffsetArrays\",\"SparseArrays\",\"Serialization\",\"IterativeSolvers\",\"Krylov\",\"BenchmarkTools\",\"Profile\",\"ProfileView\",\"Statistics\",\"DifferentialEquations\",\"LoopVectorization\",\"Folds\",\"Transducers\",\"Distributed\",\"JLD2\",\"OnlineStats\",\"ImageFiltering\",\"SavitzkyGolay\",\"Interpolations\",\"DataInterpolations\",\"Polynomials\",\"CurveFit\",\"DataFrames\",\"LsqFit\",\"ForwardDiff\"]\n",
    "    Pkg.add(p)\n",
    "end"
   ]
  },
  {
   "cell_type": "raw",
   "id": "1801c477-0095-48c5-90cd-ef30d7c6c22b",
   "metadata": {},
   "source": [
    "# Run this if you want to install a package\n",
    "using Pkg\n",
    "Pkg.add(\"MetaGraphsNext\")"
   ]
  },
  {
   "cell_type": "markdown",
   "id": "2627b369-35f9-4769-a881-8cda7b00fe68",
   "metadata": {
    "tags": []
   },
   "source": [
    "# Tools"
   ]
  },
  {
   "cell_type": "markdown",
   "id": "fdcf0200-d3be-4cd1-819c-3ce7d24a9f29",
   "metadata": {
    "tags": []
   },
   "source": [
    "## Enumerator\n",
    "\n",
    "Tools to compute a running enumeration of a \"list\" of objects."
   ]
  },
  {
   "cell_type": "code",
   "execution_count": null,
   "id": "4cfb9895-978a-4d31-9723-2ed351c7c925",
   "metadata": {},
   "outputs": [],
   "source": [
    "function enum!(d,k)\n",
    "    return get!(d,k,length(d)+1)\n",
    "end"
   ]
  },
  {
   "cell_type": "markdown",
   "id": "63a50e70-b79c-4f22-a9e9-9bb27a5cfd18",
   "metadata": {
    "jp-MarkdownHeadingCollapsed": true,
    "tags": []
   },
   "source": [
    "### Test"
   ]
  },
  {
   "cell_type": "raw",
   "id": "c7c1b585-b007-4f54-ae5b-24b263e1bb81",
   "metadata": {},
   "source": [
    "d = Dict{Any,Int}()\n",
    "@show enum!(d,\"a\")\n",
    "@show enum!(d,\"b\")\n",
    "@show enum!(d,\"c\")\n",
    "@show enum!(d,\"b\")\n",
    "d"
   ]
  },
  {
   "cell_type": "markdown",
   "id": "2eb74874-43ef-4f72-8971-aa4e5cc81f6d",
   "metadata": {
    "tags": []
   },
   "source": [
    "## Running Statistics\n",
    "\n",
    "Tools to compute running statistics such as mean and std from a stream of numbers."
   ]
  },
  {
   "cell_type": "code",
   "execution_count": null,
   "id": "1f265db1-ff47-4cf8-af0a-09e3b131d5b0",
   "metadata": {},
   "outputs": [],
   "source": [
    "mutable struct RunningStat\n",
    "    n::Int\n",
    "    m::Real # mean\n",
    "    s::Real # std\n",
    "end\n",
    "\n",
    "function RunningStat()\n",
    "    return RunningStat(0,0.0,0.0)\n",
    "end\n",
    "\n",
    "function Base.push!(rs::RunningStat,v::Real)\n",
    "    if rs.n>0\n",
    "        rs.n += 1\n",
    "        new_m = rs.m + (v-rs.m)/rs.n\n",
    "        rs.s += (v-rs.m)*(v-new_m)\n",
    "        rs.m = new_m\n",
    "    else\n",
    "        rs.n = 1\n",
    "        rs.m = v\n",
    "        rs.s = 0\n",
    "    end\n",
    "    return rs.m\n",
    "end\n",
    "\n",
    "function Statistics.mean(rs::RunningStat)\n",
    "    return rs.m \n",
    "end\n",
    "\n",
    "function Statistics.var(rs::RunningStat)\n",
    "    return rs.s/(rs.n-1)\n",
    "end\n",
    "\n",
    "function Statistics.std(rs::RunningStat)\n",
    "    return sqrt(var(rs))\n",
    "end"
   ]
  },
  {
   "cell_type": "markdown",
   "id": "eeeaace5-918f-4cc3-83db-e9d1a7d9d752",
   "metadata": {
    "jp-MarkdownHeadingCollapsed": true,
    "tags": []
   },
   "source": [
    "### Tests"
   ]
  },
  {
   "cell_type": "code",
   "execution_count": null,
   "id": "961b3039-31a5-4a2d-b260-d0f646717b29",
   "metadata": {},
   "outputs": [],
   "source": [
    "list_v = 10 .+ 5.0*randn(1000)\n",
    ";"
   ]
  },
  {
   "cell_type": "code",
   "execution_count": null,
   "id": "46d7bcfd-b404-47c1-9729-04abad062038",
   "metadata": {},
   "outputs": [],
   "source": [
    "rs = RunningStat()"
   ]
  },
  {
   "cell_type": "code",
   "execution_count": null,
   "id": "4cba0393-2420-4d00-aea5-ebbe975fd7ff",
   "metadata": {},
   "outputs": [],
   "source": [
    "for v in list_v\n",
    "    push!(rs,v)\n",
    "end"
   ]
  },
  {
   "cell_type": "code",
   "execution_count": null,
   "id": "6f44f309-7efc-45d5-8112-f06e72a7eb65",
   "metadata": {},
   "outputs": [],
   "source": [
    "mean(rs),std(rs)"
   ]
  },
  {
   "cell_type": "code",
   "execution_count": null,
   "id": "187c2c78-a5c6-4f1b-bafe-cdcdabed3b1e",
   "metadata": {},
   "outputs": [],
   "source": [
    "mean(list_v),std(list_v)"
   ]
  },
  {
   "cell_type": "markdown",
   "id": "3d486905-7f4b-4bf4-8557-37107ca9a5c3",
   "metadata": {
    "jp-MarkdownHeadingCollapsed": true
   },
   "source": [
    "## Coefficient of determiantion, $R^2$\n",
    "\n",
    "Tools to compute the $R^2$ coefficient to evaluate the fit of functions."
   ]
  },
  {
   "cell_type": "code",
   "execution_count": null,
   "id": "680644ba-9b35-470e-b2e6-9dbf9db20d1e",
   "metadata": {},
   "outputs": [],
   "source": [
    "function R_squared(y_data,y_fit)\n",
    "    y_mean = mean(y_data)\n",
    "    SS_res = sum((y_data .- y_fit) .^ 2)\n",
    "    SS_tot = sum((y_data .- y_mean) .^ 2)\n",
    "    R_sqr = 1 - SS_res / SS_tot\n",
    "    return R_sqr\n",
    "end"
   ]
  },
  {
   "cell_type": "markdown",
   "id": "779d37a3-4254-434e-8233-6de9110349f4",
   "metadata": {},
   "source": [
    "### Tests"
   ]
  },
  {
   "cell_type": "code",
   "execution_count": null,
   "id": "c1bd1ff9-b81c-4355-988e-0a788f9ce7d0",
   "metadata": {},
   "outputs": [],
   "source": [
    "# Define the model function\n",
    "@. model(x, p) = p[1] * x + p[2]\n",
    "\n",
    "# Sample data (example)\n",
    "x_data = [1.0, 2.0, 3.0, 4.0, 5.0]\n",
    "y_data = [2.2, 2.8, 3.6, 4.5, 5.1]\n",
    "\n",
    "# Initial guess for parameters\n",
    "p0 = [1.0, 1.0]\n",
    "\n",
    "# Perform curve fitting\n",
    "fit = LsqFit.curve_fit(model, x_data, y_data, p0)\n",
    "\n",
    "# Compute fitted values\n",
    "y_fit = model(x_data, coef(fit))\n",
    "\n",
    "# Compute R_sqr\n",
    "R_sqr = R_squared(y_data,y_fit)"
   ]
  },
  {
   "cell_type": "code",
   "execution_count": null,
   "id": "e7be9149-c2b7-410e-8b76-6cbd85598f94",
   "metadata": {},
   "outputs": [],
   "source": [
    "plot()\n",
    "#plot!(yscale=:log10)\n",
    "#plot!(ylim=(0.0,1.0))\n",
    "plot!(xlabel=L\"x\")\n",
    "plot!(ylabel=L\"y\")\n",
    "scatter!(x_data,y_data,label=\"data\")\n",
    "plot!(x_data,y_fit,label=\"fit, \\$R^2=0.995\\$\")\n",
    "#plot!(0.0:0.0,x->0.0,label=\"\\$z=1\\$\",width=0.0,c=:white)\n",
    "#plot!(legendtitle=L\"\\mathrm{1D},\\;z=1\",legendtitlefontsize=8)\n",
    "#plot!(list_sigma,x->0.6827/2,label=\"\",style=:dash,color=:grey)\n",
    "#plot!(\n",
    "#    xticks=([0,1,2,3,4,5],[L\"0\",L\"1\",L\"2\",L\"3\",L\"4\",L\"5\"]),\n",
    "#    yticks=([0,1,2,3],[L\"0\",L\"1\",L\"2\",L\"3\"]),\n",
    "#    tickfont=font(11),\n",
    "#)"
   ]
  },
  {
   "cell_type": "markdown",
   "id": "53eb9431-4718-4ee7-bb5c-a648c2cd8100",
   "metadata": {
    "jp-MarkdownHeadingCollapsed": true,
    "tags": []
   },
   "source": [
    "## Sigmoid functions\n",
    "\n",
    "The logistic sigmoid function is\n",
    "\n",
    "$$\n",
    "f(x) = \\frac{A}{1+e^{-B(x-x_0)}}\n",
    "$$\n",
    "\n",
    "Its derivative is\n",
    "\n",
    "$$\n",
    "f'(x) = \\frac{A\\,B\\,e^{-B(x-x_0)}}{(1+e^{-B(x-x_0)})^2}\n",
    "$$\n",
    "\n",
    "and its primitive is\n",
    "\n",
    "$$\n",
    "F(x) = \\int dx\\,f(x) = \\frac{A}{B}\\ln(1+e^{B(x-x_0)})+C\n",
    "$$\n"
   ]
  },
  {
   "cell_type": "code",
   "execution_count": null,
   "id": "ce500cbd-057c-4482-a2bf-d9b97d4ca3a5",
   "metadata": {},
   "outputs": [],
   "source": [
    "x0 = 1.0\n",
    "A = 1.0\n",
    "B = 3.0\n",
    "C = 0.0\n",
    "p0 = [x0,A,B,C] # p1=x0, p2=A, p3=B, p4=C\n",
    "@. sigmoid(x,p)  = p[2]/(1+exp(-p[3]*(x-p[1]))) # sigmoid\n",
    "@. dsigmoid(x,p) = p[2]*p[3]*exp(-p[3]*(x-p[1]))/(1+exp(-p[3]*(x-p[1])))^2 # derivative of sigmoid\n",
    "@. psigmoid(x,p) = p[2]/p[3]*log(1+exp(p[3]*(x-p[1])))+p[4] # primitive of sigmoid"
   ]
  },
  {
   "cell_type": "markdown",
   "id": "d55ce944-ace8-4602-88dc-8ea0b05b4bb6",
   "metadata": {
    "jp-MarkdownHeadingCollapsed": true,
    "tags": []
   },
   "source": [
    "### Test"
   ]
  },
  {
   "cell_type": "code",
   "execution_count": null,
   "id": "0a558e34-e1a9-40e4-8118-3dcb4ff5ab7a",
   "metadata": {},
   "outputs": [],
   "source": [
    "plot(\n",
    "    ylims=(-0.1,1.1),\n",
    "    xlabel=L\"x\",\n",
    "    ylabel=L\"f(x)\",\n",
    ")\n",
    "plot!(-2:0.01:4.0,x->sigmoid(x,p0),label=\"\")"
   ]
  },
  {
   "cell_type": "code",
   "execution_count": null,
   "id": "900710fc-66df-4c4d-a954-9168557ffbe0",
   "metadata": {},
   "outputs": [],
   "source": [
    "plot(\n",
    "    ylims=(-0.1,1.1),\n",
    "    xlabel=L\"x\",\n",
    "    ylabel=L\"df/dx\",    \n",
    ")\n",
    "plot!(-2:0.01:4.0,x->dsigmoid(x,p0),label=\"\")\n",
    "scatter!([x0],[A*B/4],label=\"\")"
   ]
  },
  {
   "cell_type": "code",
   "execution_count": null,
   "id": "88a7ade3-5039-44bd-b885-a002bacd29a7",
   "metadata": {},
   "outputs": [],
   "source": [
    "plot(\n",
    "    ylims=(-0.1,1.1),\n",
    "    xlabel=L\"x\",\n",
    "    ylabel=L\"F(x)\",\n",
    ")\n",
    "plot!(-2:0.01:4.0,x->psigmoid(x,p0),label=\"\")"
   ]
  },
  {
   "cell_type": "markdown",
   "id": "89dac828-f026-4e39-b039-129ea214fa0b",
   "metadata": {
    "jp-MarkdownHeadingCollapsed": true
   },
   "source": [
    "## Log-range\n",
    "\n",
    "Tools to create a range of numbers but in logarithmic scale."
   ]
  },
  {
   "cell_type": "code",
   "execution_count": null,
   "id": "25b51d57-e027-46b1-a140-8c9e9d3985cc",
   "metadata": {},
   "outputs": [],
   "source": [
    "function logrange(start,stepmul,stop)\n",
    "    @assert start>0\n",
    "    @assert stepmul>1\n",
    "    r = []\n",
    "    s = start\n",
    "    while s <= stop\n",
    "        push!(r,s)\n",
    "        s *= stepmul\n",
    "    end\n",
    "    return r\n",
    "end"
   ]
  },
  {
   "cell_type": "markdown",
   "id": "d76c801d-cc0c-42b6-b5c7-d5798d0a394f",
   "metadata": {
    "tags": []
   },
   "source": [
    "### Test"
   ]
  },
  {
   "cell_type": "code",
   "execution_count": null,
   "id": "6c6dd7f9-a6e5-444a-81ed-4d6e3d5b25b1",
   "metadata": {},
   "outputs": [],
   "source": [
    "logrange(1e-4,1.1,1)"
   ]
  },
  {
   "cell_type": "markdown",
   "id": "14c51085-3adc-4879-b858-9d7b05819136",
   "metadata": {
    "tags": [],
    "toc-hr-collapsed": true
   },
   "source": [
    "# Generate networks (old stuff)"
   ]
  },
  {
   "cell_type": "raw",
   "id": "35cac378-9da4-4a9f-8bbb-86469c8379de",
   "metadata": {
    "tags": []
   },
   "source": [
    "# https://juliagraphs.org/Graphs.jl/dev/first_steps/plotting/\n",
    "\n",
    "g = erdos_renyi(6, 0.4)\n",
    "#g = barabasi_albert(60, 1)\n",
    "\n",
    "# Example of Fig. 16 of [1]. It is used to check that alpha_1 and alpha_2 are correct.\n",
    "#g = Graph(4)\n",
    "#add_edge!(g,1,2)\n",
    "#add_edge!(g,1,3)\n",
    "#add_edge!(g,2,3)\n",
    "#add_edge!(g,3,4)\n",
    "\n",
    "g"
   ]
  },
  {
   "cell_type": "code",
   "execution_count": null,
   "id": "2172f3d9-a59a-4764-b5e0-6eb5724cbb2e",
   "metadata": {},
   "outputs": [],
   "source": [
    "function main_component(g)\n",
    "    c = connected_components(g)\n",
    "    _,i = findmax(length.(c))\n",
    "    return g[c[i]]\n",
    "end"
   ]
  },
  {
   "cell_type": "code",
   "execution_count": null,
   "id": "c9417705-6921-4f7b-b276-b56a08c28184",
   "metadata": {},
   "outputs": [],
   "source": [
    "sorted_connected_components(g) = sort(connected_components(g), by = c -> length(c),rev=true)"
   ]
  },
  {
   "cell_type": "code",
   "execution_count": null,
   "id": "27130008-984c-4744-bb49-efe891fd229f",
   "metadata": {},
   "outputs": [],
   "source": [
    "\"\"\"\n",
    "Generates a 1D lattice Graph of N nodes and k=2z nearest neighbors.\n",
    "\"\"\"\n",
    "function lattice_1D_to_g(N,z=1)\n",
    "    g = Graph(N)\n",
    "    for i in 1:N\n",
    "        for j in 1:z\n",
    "            if i+j <= N\n",
    "                add_edge!(g,i,i+j)            \n",
    "            end\n",
    "        end\n",
    "    end\n",
    "    return g\n",
    "end"
   ]
  },
  {
   "cell_type": "markdown",
   "id": "e81bd0c1-c967-4a98-85fc-086ccd7fe2c4",
   "metadata": {
    "jp-MarkdownHeadingCollapsed": true,
    "tags": []
   },
   "source": [
    "## Tests"
   ]
  },
  {
   "cell_type": "raw",
   "id": "4a76da3f-7a37-4a47-b84e-cb371d8a9f68",
   "metadata": {},
   "source": [
    "g = lattice_1D_to_g(10,2)"
   ]
  },
  {
   "cell_type": "raw",
   "id": "621ebb7d-6ae9-44ea-8c4a-d3b9822d7fb5",
   "metadata": {},
   "source": [
    "@drawsvg begin\n",
    "    #background(\"black\")\n",
    "    background(\"white\")\n",
    "    sethue(\"grey40\")\n",
    "    fontsize(8)\n",
    "    drawgraph(\n",
    "        g, \n",
    "        #layout = stress, \n",
    "        vertexlabels = 1:nv(g),\n",
    "        vertexfillcolors = [RGB(rand(3)/2...) for i in 1:nv(g)]\n",
    "    )\n",
    "end 600 400"
   ]
  },
  {
   "cell_type": "code",
   "execution_count": null,
   "id": "95c64ee6-83ef-46c4-ab6e-2eac86fc0db4",
   "metadata": {},
   "outputs": [],
   "source": [
    "sorted_connected_components(g)"
   ]
  },
  {
   "cell_type": "markdown",
   "id": "b9b08d26-f9eb-49e7-8018-eed1d32e082d",
   "metadata": {
    "tags": [],
    "toc-hr-collapsed": true
   },
   "source": [
    "# Load networks (dict of `(vec_i,vec_j,vec_phi)`)  and save weighted graphs (dict of `(g,phi)`)"
   ]
  },
  {
   "cell_type": "code",
   "execution_count": null,
   "id": "1b167055-f088-46fd-aa29-c7fb4fe67887",
   "metadata": {},
   "outputs": [],
   "source": [
    "@load \"../redes/dict_vecs_i_j_phi.jld2\" dict_vecs_i_j_phi_jld2"
   ]
  },
  {
   "cell_type": "raw",
   "id": "e764dd2c-b37e-44f0-9589-6aa56474181b",
   "metadata": {},
   "source": [
    "dict_vecs_i_j_phi_jld2"
   ]
  },
  {
   "cell_type": "code",
   "execution_count": null,
   "id": "f8cbfebc-41a1-40f7-99e2-3309a90fca36",
   "metadata": {},
   "outputs": [],
   "source": [
    "countries = Dict()\n",
    "scores = Dict()\n",
    "for (country,score) in keys(dict_vecs_i_j_phi_jld2)\n",
    "    enum!(countries,country)\n",
    "    enum!(scores,score)\n",
    "end"
   ]
  },
  {
   "cell_type": "raw",
   "id": "45784e46-efbf-4bfe-b4a2-df6dbc177655",
   "metadata": {},
   "source": [
    "countries"
   ]
  },
  {
   "cell_type": "raw",
   "id": "91403cce-bdaa-4adf-986a-5e973a6e0768",
   "metadata": {},
   "source": [
    "metrics"
   ]
  },
  {
   "cell_type": "code",
   "execution_count": null,
   "id": "9f79e4f2-a1ef-4000-aede-a3876fa0834f",
   "metadata": {},
   "outputs": [],
   "source": [
    "dict_g_phi_jld2 = Dict()\n",
    "for (country,score) in keys(dict_vecs_i_j_phi_jld2)\n",
    "    vec_i,vec_j,vec_phi_ij = dict_vecs_i_j_phi_jld2[(country,score)]\n",
    "    N = max(maximum(vec_i),maximum(vec_j))\n",
    "    g = Graph(N)\n",
    "    phi_ij = zeros(N,N)\n",
    "    for (i,j,phi) in zip(vec_i,vec_j,vec_phi_ij)\n",
    "        add_edge!(g,i,j)\n",
    "        phi_ij[i,j] = phi\n",
    "    end\n",
    "    dict_g_phi_jld2[(country,score)] = (g,phi_ij)\n",
    "end"
   ]
  },
  {
   "cell_type": "code",
   "execution_count": null,
   "id": "de71fbf0-3d8f-42e9-a2b7-110185a7720f",
   "metadata": {},
   "outputs": [],
   "source": [
    "dict_g_phi_jld2[(\"Italy\", \"crossing\")]"
   ]
  },
  {
   "cell_type": "code",
   "execution_count": null,
   "id": "31082b2d-825b-4b62-ab1e-f47885484d0c",
   "metadata": {},
   "outputs": [],
   "source": [
    "@save \"../redes/dict_g_phi.jld2\" dict_g_phi_jld2"
   ]
  },
  {
   "cell_type": "markdown",
   "id": "1a0f93a6-3687-49b7-a187-a96da5c1e6a3",
   "metadata": {},
   "source": [
    "# Load weighted graphs (dict of `(g,phi)`)"
   ]
  },
  {
   "cell_type": "code",
   "execution_count": null,
   "id": "13d76399-48be-402c-8f10-a27235579e07",
   "metadata": {},
   "outputs": [],
   "source": [
    "@load \"../redes/dict_g_phi.jld2\" dict_g_phi_jld2"
   ]
  },
  {
   "cell_type": "code",
   "execution_count": null,
   "id": "4d1038ed-3f67-4711-af72-219ca7d7838e",
   "metadata": {},
   "outputs": [],
   "source": [
    "dict_g_phi_jld2"
   ]
  },
  {
   "cell_type": "markdown",
   "id": "5e6b9e62-cfe6-430f-bdce-50a9b138e638",
   "metadata": {
    "tags": []
   },
   "source": [
    "# Simplicial Complex\n",
    "\n",
    "Tools to represent simplicial complexes and associated operators in matrix form. For further details, please read de manuscript.\n",
    "\n",
    "The array `K[k]` is a representation of $K_k$ and has dimensions $m_k\\times(k+1)$ and is used to enumerate the $k$-simplices of the complex.\n",
    "Here $m_k=|K_k|=\\dim C_k=\\dim C_k^*$ is the number of $k$-simplices in the simplicial complex.\n",
    "Especifically, `K[k][l,:]` is an array `[i_0,i_1,...,i_k]` denoting the $l$-th $k$-simplex of the complex.\n",
    "By assumption, $i_0<i_1<...<i_k$.\n",
    "The dictionary `I[k]` is the inverse mapping of `K[k]`.\n",
    "It maps arrays `[i_0,i_1,...,i_k]` to their corresponding index `l` in the enumeration."
   ]
  },
  {
   "cell_type": "markdown",
   "id": "b66c7574-8237-47bf-b43f-4714649fa2c0",
   "metadata": {
    "tags": []
   },
   "source": [
    "## Matricial representation of the (co)-boundary and (co)-differential operators\n",
    "\n",
    "Recall that, if\n",
    "\n",
    "$$\n",
    "\\partial_k(e_s) = (\\alpha_k)_s{}^r e_r\n",
    "$$\n",
    "$$\n",
    "\\partial_k^*(e_s) = (\\mu_k)_s{}^r e_r \n",
    "$$\n",
    "$$\n",
    "d_k(e^s) = (\\beta_k)^s{}_r e^r\n",
    "$$\n",
    "$$\n",
    "d_k^*(e^s) = (\\mu_k)^s{}_r e^r\n",
    "$$\n",
    "\n",
    "and $m_{sr}=\\delta_{sr}$, then\n",
    "\n",
    "$$\n",
    "(\\beta_k)^s{}_r = (\\alpha_{k+1})_r{}^s\n",
    "$$\n",
    "$$\n",
    "(\\mu_k)_s{}^r = (\\alpha_{k})_r{}^s\n",
    "$$\n",
    "$$\n",
    "(\\nu_k)^s{}_r = (\\beta_{k})^r{}_s = (\\alpha_{k+1})_s{}^r\n",
    "$$\n",
    "\n",
    "and, therefore\n",
    "\n",
    "$$\n",
    "(\\partial_k(c))^r = (\\alpha_k^T)^r{}_sc^s\n",
    "$$\n",
    "$$\n",
    "(\\partial_k^*(c))^r = (\\alpha_k)^r{}_sc^s\n",
    "$$\n",
    "$$\n",
    "(d_k(f))_r = (\\alpha_{k+1})_r{}^sf_s\n",
    "$$\n",
    "$$\n",
    "(d_k^*(f))_r = (\\alpha_{k+1}^T)_r{}^sf_s\n",
    "$$\n",
    "\n",
    "Finally, note that $\\alpha_k\\in \\mathbb{R}^{m_{k}\\times m_{k-1}}$ for $k\\in 1,2,...,\\kappa$ and\n",
    "\n",
    "$$\n",
    "(\\alpha_{k})_{i_0...i_j...i_k}{}^{i_0...\\hat{i}_j...i_k} = (-1)^j\n",
    "$$\n",
    "\n",
    "Here, $d_0$ and $d_1$ are needed. \n",
    "Hence, the matrices $\\beta_0=\\alpha_1$ and $\\beta_1=\\alpha_2$ have to be computed, respectively. \n",
    "In particular, assuming $i<j<k$, it is found that\n",
    "\n",
    "$$(\\alpha_1)_{ij}{}^{j} = 1$$\n",
    "$$(\\alpha_1)_{ij}{}^{i} = -1$$\n",
    "\n",
    "and\n",
    "\n",
    "$$(\\alpha_2)_{ijk}{}^{jk} = 1$$\n",
    "$$(\\alpha_2)_{ijk}{}^{ik} = -1$$\n",
    "$$(\\alpha_2)_{ijk}{}^{ij} = 1$$"
   ]
  },
  {
   "cell_type": "code",
   "execution_count": null,
   "id": "50579bd5-9f20-4288-9eb7-7328f0cd449a",
   "metadata": {},
   "outputs": [],
   "source": [
    "struct SimplicialComplex\n",
    "    K::Any\n",
    "    I::Any\n",
    "    alpha::Any\n",
    "end"
   ]
  },
  {
   "cell_type": "code",
   "execution_count": null,
   "id": "4aaed4f9-b7ba-4319-a67d-d86888b1651a",
   "metadata": {},
   "outputs": [],
   "source": [
    "\"\"\"\n",
    "Number of dimensions (kappa+1) of a simplicial complex, k = 0,1,...,kappa.\n",
    "\"\"\"\n",
    "function ndim(sc::SimplicialComplex)\n",
    "    return length(sc.K)\n",
    "end"
   ]
  },
  {
   "cell_type": "code",
   "execution_count": null,
   "id": "69939792-04a5-48c2-95ce-28cfdac18233",
   "metadata": {},
   "outputs": [],
   "source": [
    "\"\"\"\n",
    "Maximum dimension of a simplicial complex.\n",
    "\"\"\"\n",
    "function kappa(sc::SimplicialComplex)\n",
    "    return ndim(sc)-1\n",
    "end"
   ]
  },
  {
   "cell_type": "code",
   "execution_count": null,
   "id": "4ea109a6-a266-48ae-93d3-02fbbf0f129e",
   "metadata": {},
   "outputs": [],
   "source": [
    "\"\"\"\n",
    "m_k = dim C_k = dim C_k^*.\n",
    "\"\"\"\n",
    "function m_k(sc::SimplicialComplex,k::Int)\n",
    "    if k>=0 && k<=kappa(sc)\n",
    "        return size(sc.K[k])[1]\n",
    "    end\n",
    "    return 0\n",
    "end"
   ]
  },
  {
   "cell_type": "code",
   "execution_count": null,
   "id": "cd10bb3b-593e-42b5-965f-a5ce279fe2f8",
   "metadata": {},
   "outputs": [],
   "source": [
    "\"\"\"\n",
    "List of the numbers of non-zero elements in the matricial representations of the (dual)-(co)-boundary operators, alpha_k.\n",
    "\"\"\"\n",
    "function nnz_alpha(sc::SimplicialComplex)\n",
    "    return [nnz(sc.alpha[k]) for k in 1:length(sc.alpha)] \n",
    "end"
   ]
  },
  {
   "cell_type": "code",
   "execution_count": null,
   "id": "ead17c73-6ac6-42ca-91ef-479d101d2cb6",
   "metadata": {},
   "outputs": [],
   "source": [
    "\"\"\"\n",
    "Takes as input a list I of dictionaries I_k mapping simplices [i_0,i_1,...,i_k] to their corresponding enumeration numbers l.\n",
    "Returns a SimplicialComplex containing:\n",
    "    K : the list of the inverse mappings K_k of the I_k, and\n",
    "    I : the list of the mappings I_k passed as input,\n",
    "    alpha : the list alpha of the corresponding matrices alpha_k.\n",
    "\"\"\"\n",
    "function I_to_SC(I)\n",
    "    # Create K\n",
    "    K = []\n",
    "    for k in 0:(length(I)-1)\n",
    "        Kk = zeros(Int64,(length(I[k]),k+1))\n",
    "        for (s,l) in I[k]\n",
    "            Kk[l,:] = s\n",
    "        end\n",
    "        push!(K,Kk)\n",
    "    end\n",
    "    K = OffsetArray(K,0:(length(I)-1))\n",
    "\n",
    "    # Create A\n",
    "    alpha = []\n",
    "    for k in 1:(length(I)-1)\n",
    "        #@show k\n",
    "        Kk=K[k]\n",
    "        Kp=K[k-1] # p = k-1\n",
    "        Ik=I[k]\n",
    "        Ip=I[k-1]\n",
    "        n_k = size(Kk)[1]\n",
    "        n_p = size(Kp)[1]        \n",
    "        rows = zeros(Int64,(k+1)*n_k)\n",
    "        cols = zeros(Int64,(k+1)*n_k)\n",
    "        vals = zeros(Float64,(k+1)*n_k)\n",
    "        t = 0 # To enumerate the entries of the sparse matrix.\n",
    "        for l in 1:n_k\n",
    "            s = Kk[l,:]\n",
    "            for j in 1:(k+1)\n",
    "                r = vcat(s[1:(j-1)],s[(j+1):end])\n",
    "                m = Ip[r]\n",
    "                t+=1\n",
    "                rows[t] = l\n",
    "                cols[t] = m\n",
    "                vals[t] = 1-2*((j-1)%2)\n",
    "                #@show s,l,r,m,t,vals[t]\n",
    "            end\n",
    "        end\n",
    "        alpha_k = sparse(rows,cols,vals,n_k,n_p)\n",
    "        push!(alpha,alpha_k)\n",
    "    end\n",
    "    return SimplicialComplex(K,I,alpha)\n",
    "end"
   ]
  },
  {
   "cell_type": "code",
   "execution_count": null,
   "id": "b63491a9-ad0d-4bc2-96d5-c23c094caeec",
   "metadata": {},
   "outputs": [],
   "source": [
    "\"\"\"\n",
    "Takes as input a graph g and returns the list of I_k for k=0,1,2.\n",
    "\"\"\"\n",
    "function g_to_3_cliques(g)\n",
    "    # Generate I_0\n",
    "    I0 = Dict([i] => i for i in 1:nv(g))    \n",
    "    \n",
    "    # Generate I_1\n",
    "    I1 = Dict()    \n",
    "    for (l,e) in enumerate(edges(g))\n",
    "        i = src(e)\n",
    "        j = dst(e)\n",
    "        I1[[i,j]] = l\n",
    "    end\n",
    "    \n",
    "    # Generate I_2\n",
    "    I2 = Dict()\n",
    "    t = 0\n",
    "    for i in 1:nv(g)\n",
    "        for j in neighbors(g,i)\n",
    "            if i<j\n",
    "                for k in neighbors(g,j)\n",
    "                    if j<k && has_edge(g,k,i)\n",
    "                        t += 1\n",
    "                        I2[[i,j,k]] = t\n",
    "                    end\n",
    "                end\n",
    "            end\n",
    "        end\n",
    "    end\n",
    "    \n",
    "    I = OffsetArray([I0,I1,I2],0:2)\n",
    "    return I\n",
    "end"
   ]
  },
  {
   "cell_type": "markdown",
   "id": "2364ada3-9ff9-40dd-bb3f-ae7703740512",
   "metadata": {},
   "source": [
    "# Weighted simplicial complex `(sc,phi)` to field `f`"
   ]
  },
  {
   "cell_type": "code",
   "execution_count": null,
   "id": "81c2f9b2-13be-4ca8-bc8e-83aaa5791684",
   "metadata": {},
   "outputs": [],
   "source": [
    "function phi_ij_to_f(sc,phi_ij)\n",
    "    #m_0 = m_k(sc,0)\n",
    "    m_1 = m_k(sc,1)\n",
    "    f = zeros(m_1)\n",
    "    K1 = sc.K[1]\n",
    "    for l in 1:m_1\n",
    "        i,j = K1[l,:]\n",
    "        f[l] = phi_ij[j,i]-phi_ij[i,j]\n",
    "    end\n",
    "    return f\n",
    "end"
   ]
  },
  {
   "cell_type": "code",
   "execution_count": null,
   "id": "aa3e9a25-4e5f-47e8-89f6-1fb6354790cf",
   "metadata": {},
   "outputs": [],
   "source": [
    "function phi_i_to_f(sc,phi_ij)\n",
    "    m_0 = m_k(sc,0)\n",
    "    m_1 = m_k(sc,1)\n",
    "    phi_i = zeros(m_0)\n",
    "    K1 = sc.K[1]\n",
    "    for l in 1:m_1\n",
    "        i,j = K1[l,:]\n",
    "        phi_i[i] += phi_ij[i,j]\n",
    "        phi_i[j] += phi_ij[j,i]        \n",
    "    end\n",
    "    f = zeros(m_1)\n",
    "    for l in 1:m_1\n",
    "        i,j = K1[l,:]\n",
    "        f[l] = phi_i[j]-phi_i[i]\n",
    "    end\n",
    "    return f\n",
    "end"
   ]
  },
  {
   "cell_type": "markdown",
   "id": "bd2f3e46-172c-49a7-8bc9-992659675d22",
   "metadata": {
    "tags": []
   },
   "source": [
    "### Tests"
   ]
  },
  {
   "cell_type": "markdown",
   "id": "31db079b-1d81-4aec-a68b-278716e356f1",
   "metadata": {},
   "source": [
    "#### Testing `g_to_3_cliques` and `I_to_SC` "
   ]
  },
  {
   "cell_type": "code",
   "execution_count": null,
   "id": "3f8409b6-e34b-47d2-bb62-3d9041b936ae",
   "metadata": {},
   "outputs": [],
   "source": [
    "g = erdos_renyi(6, 0.4)\n",
    "g = main_component(g)"
   ]
  },
  {
   "cell_type": "code",
   "execution_count": null,
   "id": "ed72f78e-e0c1-44ad-8352-8408271c615b",
   "metadata": {},
   "outputs": [],
   "source": [
    "I_3c = g_to_3_cliques(g) # We use I123 instead of I since in Julia I is a reserved name for the identity matrix."
   ]
  },
  {
   "cell_type": "code",
   "execution_count": null,
   "id": "707acf6d-4cf4-4aca-baa9-f9aa0250df40",
   "metadata": {},
   "outputs": [],
   "source": [
    "sc = I_to_SC(I_3c)"
   ]
  },
  {
   "cell_type": "code",
   "execution_count": null,
   "id": "cc63793a-68cd-435d-9dc0-cefea80f4838",
   "metadata": {},
   "outputs": [],
   "source": [
    "sc.K[1]"
   ]
  },
  {
   "cell_type": "code",
   "execution_count": null,
   "id": "ea86178b-93a1-48e3-adc3-ada5924a24e2",
   "metadata": {},
   "outputs": [],
   "source": [
    "sc.I[1]"
   ]
  },
  {
   "cell_type": "code",
   "execution_count": null,
   "id": "a7d25e77-05d7-4e0d-a5d3-20d02d12a09d",
   "metadata": {},
   "outputs": [],
   "source": [
    "sc.K[2]"
   ]
  },
  {
   "cell_type": "code",
   "execution_count": null,
   "id": "dec30a96-467e-48c3-aa62-3e43934153d6",
   "metadata": {},
   "outputs": [],
   "source": [
    "sc.I[2]"
   ]
  },
  {
   "cell_type": "code",
   "execution_count": null,
   "id": "3582d701-7d7f-4d66-8e39-eae9d2d99a44",
   "metadata": {},
   "outputs": [],
   "source": [
    "sc.alpha[1]"
   ]
  },
  {
   "cell_type": "code",
   "execution_count": null,
   "id": "3a057011-094f-4758-91ac-cdb517008357",
   "metadata": {},
   "outputs": [],
   "source": [
    "sc.alpha[2]"
   ]
  },
  {
   "cell_type": "code",
   "execution_count": null,
   "id": "422ed9b3-5e29-45f3-bb81-ad2da047826f",
   "metadata": {},
   "outputs": [],
   "source": [
    "nnz_alpha(sc)"
   ]
  },
  {
   "cell_type": "markdown",
   "id": "72a88eb2-f90a-4456-bc04-4fe6bc6062e5",
   "metadata": {},
   "source": [
    "#### Testing `phi_to_f`"
   ]
  },
  {
   "cell_type": "code",
   "execution_count": null,
   "id": "953dfe22-5b29-42af-b490-dcc50f3afef0",
   "metadata": {},
   "outputs": [],
   "source": [
    "(g,phi_ij) = dict_g_phi_jld2[(\"Italy\", \"crossing\")]"
   ]
  },
  {
   "cell_type": "code",
   "execution_count": null,
   "id": "599d989b-70ae-4b15-8f86-dc8201a5f783",
   "metadata": {},
   "outputs": [],
   "source": [
    "I_3c = g_to_3_cliques(g)"
   ]
  },
  {
   "cell_type": "code",
   "execution_count": null,
   "id": "e9504e28-d919-4403-bfd2-ebe5aedbbcee",
   "metadata": {},
   "outputs": [],
   "source": [
    "sc = I_to_SC(I_3c)"
   ]
  },
  {
   "cell_type": "code",
   "execution_count": null,
   "id": "a4e2a651-dc54-465f-b89f-f1da59223807",
   "metadata": {},
   "outputs": [],
   "source": [
    "f = phi_ij_to_f(sc,phi_ij)"
   ]
  },
  {
   "cell_type": "code",
   "execution_count": null,
   "id": "74167ea6-e14f-42f3-826a-b59755b3c787",
   "metadata": {},
   "outputs": [],
   "source": [
    "f = phi_i_to_f(sc,phi_ij)"
   ]
  },
  {
   "cell_type": "markdown",
   "id": "44689a3e-9f2f-40f2-9fed-fb073fdbeba7",
   "metadata": {
    "tags": []
   },
   "source": [
    "# Hodge decomposition of $f$\n",
    "\n",
    "Tools to compute the Hodge decomposition of a 1-chain $f$.\n",
    "\n",
    "Recall that any $f\\in C_1^*$ admits an unique decomposition $f=s+h+g$, where there exists $w\\in C_0^*$ such that \n",
    "\n",
    "$$\n",
    "L_0(w)=L^{\\uparrow}_0(w)=d_0^*(d_0(w))=d_0^*(g)=d_0^*(f)\n",
    "$$\n",
    "\n",
    "and there exists $u\\in C_2^*$ such that\n",
    "\n",
    "$$\n",
    "L_2^{\\downarrow}(u)=d_1(d_1^*(u))=d_1(s)=d_1(f)\n",
    "$$\n",
    "\n",
    "In this way, we can find $w$ by solving $L^{\\uparrow}_0(w)=d_0^*(f)$ and $u$ by solving $L_2^{\\downarrow}(u)=d_1(f)$. Then, we can find $g=d_0(w)$, $s=d_1^*(u)$ and $h=f-g-s$."
   ]
  },
  {
   "cell_type": "markdown",
   "id": "c1facf4d-47f7-4300-a47c-dcb5f683d1ef",
   "metadata": {
    "tags": [],
    "toc-hr-collapsed": true
   },
   "source": [
    "## Matricial form\n",
    "\n",
    "The component-wise form of equation $d_0^*(d_0(w))=d_0^*(f)$ is\n",
    "\n",
    "$$\n",
    "(\\alpha_1^T)_r{}^s(\\alpha_1)_s{}^qw_q = (\\alpha_1^T)_r{}^sf_s\n",
    "$$\n",
    "\n",
    "or, matricially\n",
    "\n",
    "$$\n",
    "\\alpha_1^T \\alpha_1 w = \\alpha_1^T f \\;\\;\\;\\; (1)\n",
    "$$\n",
    "\n",
    "Similarly, the component-wise form of equation $g = d_0(w)$ is\n",
    "\n",
    "$$\n",
    "(\\alpha_1)_r{}^s w_s\n",
    "$$\n",
    "\n",
    "or, matricially\n",
    "\n",
    "$$\n",
    "g = \\alpha_1 w\n",
    "$$\n",
    "\n",
    "Similarly, the matricial form of equation $d_1(d_1^*(u))=d_1(f)$ is\n",
    "\n",
    "$$\n",
    "\\alpha_2 \\alpha_2^T u = \\alpha_2 f \\;\\;\\;\\; (2)\n",
    "$$\n",
    "\n",
    "and, the matricial form of equation $s=d_1^*(u)$ is\n",
    "\n",
    "$$\n",
    "s = \\alpha_2^T u\n",
    "$$"
   ]
  },
  {
   "cell_type": "markdown",
   "id": "4bf193c2-5042-4fe8-bc8f-2b4a68afc0b6",
   "metadata": {
    "jp-MarkdownHeadingCollapsed": true,
    "tags": [],
    "toc-hr-collapsed": true
   },
   "source": [
    "### Test example of Eqs. (18) and (20) in [2].\n",
    "\n",
    "Eq. (18) of [2] is the analogous of Eq. (1) where $w$ in Eq. (1) is $\\alpha$ in Eq. (18) of [2] and $f$ in Eq. (1) is the analogous of $w$ in Eq. (18) of [2].\n",
    "The matrix of Eq. (18) in [2] is analogous to our $L_0=\\alpha_1^T\\alpha_1$.\n",
    "Similarly, Eq. (20) of [2] is the analogous of Eq. (2) where $u$ in Eq. (2) is the analogous of $\\gamma$ in Eq. (20) of [2] and $f$ in Eq. (2) is the analogous of $w$ in Eq. (20) of [2].\n",
    "The matrix of Eq. (20) in [2] is analogous to our $L_2^{\\downarrow}=\\alpha_2\\alpha_2^T$."
   ]
  },
  {
   "cell_type": "markdown",
   "id": "3f950bcd-7973-4855-98fe-1588bd660c14",
   "metadata": {},
   "source": [
    "The $k$-clique complex of $g$ is the simplicial complex obtained by considering all the $q$-cliques of $g$ for $q\\leq k$.\n",
    "\n",
    "First, the 3-clique complex of the network of Fig. (1) in [2] is created."
   ]
  },
  {
   "cell_type": "code",
   "execution_count": null,
   "id": "b53b49e6-1e3a-4d3d-a69a-46a4ee6533fd",
   "metadata": {},
   "outputs": [],
   "source": [
    "I0 = Dict{Any,Int}()\n",
    "I1 = Dict{Any,Int}()\n",
    "I2 = Dict{Any,Int}()\n",
    "\n",
    "for i in 1:8\n",
    "    enum!(I0,[i])\n",
    "end\n",
    "I0\n",
    "\n",
    "enum!(I1,[1,2])\n",
    "enum!(I1,[1,8])\n",
    "enum!(I1,[2,3])\n",
    "enum!(I1,[2,6])\n",
    "enum!(I1,[3,4])\n",
    "enum!(I1,[3,5])\n",
    "enum!(I1,[3,6])\n",
    "enum!(I1,[3,8])\n",
    "enum!(I1,[4,5])\n",
    "enum!(I1,[4,6])\n",
    "enum!(I1,[5,6])\n",
    "enum!(I1,[6,7])\n",
    "enum!(I1,[7,8])\n",
    "I1\n",
    "\n",
    "enum!(I2,[2,3,6])\n",
    "enum!(I2,[3,4,5])\n",
    "enum!(I2,[3,4,6])\n",
    "enum!(I2,[3,5,6])\n",
    "enum!(I2,[4,5,6])\n",
    "I2"
   ]
  },
  {
   "cell_type": "code",
   "execution_count": null,
   "id": "541daab0-f89e-45f5-a698-d1ffe3286dc0",
   "metadata": {},
   "outputs": [],
   "source": [
    "I_vs_k = \n",
    "\n",
    "sc = I_to_SC(I_vs_k)\n",
    "sc.alpha[2]"
   ]
  },
  {
   "cell_type": "code",
   "execution_count": null,
   "id": "7206dd9b-4c20-4171-97ae-9303ab931134",
   "metadata": {},
   "outputs": [],
   "source": [
    "#w = zeros(dim_Ck(sc,0))\n",
    "f = zeros(m_k(sc,1))\n",
    "\n",
    "I1 = sc.I[1]\n",
    "\n",
    "f[I1[[1,2]]] = -1   # 1\n",
    "f[I1[[1,8]]] = 4.2  # 2\n",
    "f[I1[[2,3]]] = -2   # 3\n",
    "f[I1[[2,6]]] = 8.1  # 4\n",
    "f[I1[[3,4]]] = 3.1  # 5\n",
    "f[I1[[3,5]]] = 5.9  # 6\n",
    "f[I1[[3,6]]] = 9.8  # 7\n",
    "f[I1[[3,8]]] = 7.1  # 8\n",
    "f[I1[[4,5]]] = 3.1  # 9\n",
    "f[I1[[4,6]]] = 6.9  # 10\n",
    "f[I1[[5,6]]] = 4.1  # 11\n",
    "f[I1[[6,7]]] = -1   # 12\n",
    "f[I1[[7,8]]] = -2   # 13\n",
    "\n",
    "f"
   ]
  },
  {
   "cell_type": "code",
   "execution_count": null,
   "id": "d5ee30fc-3c1d-4d52-a4d3-0b0e9950336b",
   "metadata": {},
   "outputs": [],
   "source": [
    "alpha_1 = sc.alpha[1]"
   ]
  },
  {
   "cell_type": "code",
   "execution_count": null,
   "id": "9db4d9c9-b31d-4739-a457-f949b9da203d",
   "metadata": {},
   "outputs": [],
   "source": [
    "alpha_1'"
   ]
  },
  {
   "cell_type": "markdown",
   "id": "09a29168-4dfc-45c7-9ff1-8ced7c9c473c",
   "metadata": {},
   "source": [
    "Here, $z:=d_0^*(f)$ should equal the r.h.s. of Eq. (18) in [2]."
   ]
  },
  {
   "cell_type": "code",
   "execution_count": null,
   "id": "7b81808c-6788-4022-9c3d-0a21e31642f1",
   "metadata": {},
   "outputs": [],
   "source": [
    "z = alpha_1'*f"
   ]
  },
  {
   "cell_type": "markdown",
   "id": "5d76ba53-2c4d-4bb5-beaf-e1469afb693c",
   "metadata": {},
   "source": [
    "Here, $L_0$ should equal the matrix at the l.h.s. of Eq. (18) in [2]."
   ]
  },
  {
   "cell_type": "code",
   "execution_count": null,
   "id": "ecac9163-d5e8-4f8f-82dd-c7b2bf916cce",
   "metadata": {},
   "outputs": [],
   "source": [
    "L0 = alpha_1'*alpha_1"
   ]
  },
  {
   "cell_type": "code",
   "execution_count": null,
   "id": "592b8a0a-8e44-45de-98a2-af128df5e23a",
   "metadata": {},
   "outputs": [],
   "source": [
    "w = L0 \\ z"
   ]
  },
  {
   "cell_type": "markdown",
   "id": "05d51fd6-682e-4f51-b320-41de9c069b4d",
   "metadata": {},
   "source": [
    "Next vector should be equal to the vector $\\alpha$ reported in Table 5 of [2]."
   ]
  },
  {
   "cell_type": "code",
   "execution_count": null,
   "id": "369d4c97-b6e2-4852-a24d-e282942d7db7",
   "metadata": {},
   "outputs": [],
   "source": [
    "w .- w[1]"
   ]
  },
  {
   "cell_type": "markdown",
   "id": "9e51b9d4-0e93-459b-8bd4-d39179f90a3b",
   "metadata": {},
   "source": [
    "Next vector should equal the r.h.s. of Eq. (18) in [2]."
   ]
  },
  {
   "cell_type": "code",
   "execution_count": null,
   "id": "6d60e4f3-c06c-4e4e-9cd8-7c04d24a9d9b",
   "metadata": {},
   "outputs": [],
   "source": [
    "L0*w"
   ]
  },
  {
   "cell_type": "markdown",
   "id": "eba5024f-37d8-4489-ace9-203188b9450c",
   "metadata": {},
   "source": [
    "Check that vector $g=d_0(w)=\\alpha_1 w$ equals the vector $w_g$ of Table 4 in [2]."
   ]
  },
  {
   "cell_type": "code",
   "execution_count": null,
   "id": "0935cd24-9d23-47a0-a011-314291c23ad6",
   "metadata": {},
   "outputs": [],
   "source": [
    "g = alpha_1*w"
   ]
  },
  {
   "cell_type": "markdown",
   "id": "d26368aa-31ba-4651-a354-ec58e975e5fc",
   "metadata": {},
   "source": [
    "Check equality up to numerical tolerance that $d_1(f)=d_1(g)$."
   ]
  },
  {
   "cell_type": "code",
   "execution_count": null,
   "id": "88f964ec-bb85-426f-8b62-b2f7e03c8c82",
   "metadata": {},
   "outputs": [],
   "source": [
    "norm( alpha_1'*f - alpha_1'*g )"
   ]
  },
  {
   "cell_type": "code",
   "execution_count": null,
   "id": "6d4c33b9-cc79-4db4-be70-5a005adddb82",
   "metadata": {},
   "outputs": [],
   "source": [
    "alpha_2 = sc.alpha[2]"
   ]
  },
  {
   "cell_type": "markdown",
   "id": "65fbe56f-4e21-498f-980d-0d7428ef77be",
   "metadata": {},
   "source": [
    "Check the form of $L_2^{\\downarrow}=\\alpha_2\\alpha_2^T$. It should equal the matrix at the l.h.s. of Eq. (20) in [2]."
   ]
  },
  {
   "cell_type": "code",
   "execution_count": null,
   "id": "38da37d3-780c-451b-bfbe-20d3eae66f89",
   "metadata": {},
   "outputs": [],
   "source": [
    "L2d = alpha_2 * alpha_2'"
   ]
  },
  {
   "cell_type": "markdown",
   "id": "cc57cc62-b3c4-4ae7-ae08-4e685f38f773",
   "metadata": {},
   "source": [
    "Here, $y:=d_1(f)$ should equal the r.h.s. of Eq. (20) in [2]."
   ]
  },
  {
   "cell_type": "code",
   "execution_count": null,
   "id": "a68562d3-0dc2-4116-8e3a-3b511e0adf5d",
   "metadata": {},
   "outputs": [],
   "source": [
    "y = alpha_2 * f"
   ]
  },
  {
   "cell_type": "code",
   "execution_count": null,
   "id": "e8b3976c-36ef-4f3e-951f-7b6552e1d4ba",
   "metadata": {},
   "outputs": [],
   "source": [
    "# See \n",
    "#    https://stackoverflow.com/questions/38486697/solve-a-particular-linear-system-efficiently-in-julia\n",
    "#    https://iterativesolvers.julialinearalgebra.org/dev/\n",
    "#    https://jso.dev/Krylov.jl/dev/solvers/ls/\n",
    "# on different alternatives about how to solve the linear systems in consideration.\n",
    "\n",
    "#u = L2d \\ y\n",
    "#u = pinv(Symmetric(Matrix(L2d)))*y\n",
    "#u = IterativeSolvers.cg(L2d,y)     # this is faster than lsmr in the example, according to @btime\n",
    "#u = IterativeSolvers.minres(L2d,y)\n",
    "#u = IterativeSolvers.lsqr(L2d,y)\n",
    "#u = IterativeSolvers.lsmr(L2d,y)\n",
    "#u = Krylov.cg(L2d,y)[1]    \n",
    "#u = Krylov.lslq(L2d,y)[1]\n",
    "#u = Krylov.lsqr(L2d,y)[1]\n",
    "u = Krylov.minres_qlp(L2d,y)[1]"
   ]
  },
  {
   "cell_type": "markdown",
   "id": "db7971d0-8243-4489-b4d2-eb57785880d9",
   "metadata": {},
   "source": [
    "The vector $u$ obtained is different from the vector $\\gamma$ reported in Table (5) of [2], which is the following one:"
   ]
  },
  {
   "cell_type": "code",
   "execution_count": null,
   "id": "134eef16-7255-4864-a164-5d45f011751e",
   "metadata": {},
   "outputs": [],
   "source": [
    "u_johnson = [-0.08 -1.1309 1.2359 -1.1759 1.2809]'"
   ]
  },
  {
   "cell_type": "markdown",
   "id": "8e64a450-8aba-4ca5-8620-40850213caa4",
   "metadata": {},
   "source": [
    "Is the vector $u_{\\mathrm{johnson}}$ (i.e. $\\gamma$) reported in [2] also a solution of Eq. (20) of [2]? We check:"
   ]
  },
  {
   "cell_type": "code",
   "execution_count": null,
   "id": "b1d0cca4-eac5-4903-b762-8ae58f4f3d96",
   "metadata": {},
   "outputs": [],
   "source": [
    "norm(L2d*u_johnson - y)"
   ]
  },
  {
   "cell_type": "markdown",
   "id": "37c17e84-31f1-4064-aebb-b35aca246b3a",
   "metadata": {},
   "source": [
    "It actually is! What about our solution? Let us check:"
   ]
  },
  {
   "cell_type": "code",
   "execution_count": null,
   "id": "992f87ea-06be-4c9f-a627-759be4adb250",
   "metadata": {},
   "outputs": [],
   "source": [
    "norm(L2d*u - y)"
   ]
  },
  {
   "cell_type": "markdown",
   "id": "d443cfae-24ce-4a78-a3bf-a954e64c85e8",
   "metadata": {},
   "source": [
    "It is as well! Hence, there are multiple solutions, so $L_2^{\\downarrow}(u)=y$ is a degenerate (i.e. underdetermined) linear system. \n",
    "\n",
    "Only one of the solutions of degenerate linear systems of a positive semidefinite linear operator has minimum norm $|x|$. Therefore, we ask ourselves which of the solutions to $L_2^{\\downarrow}u=y$ we have found, has the smallest norm? Let us see:"
   ]
  },
  {
   "cell_type": "code",
   "execution_count": null,
   "id": "ab7bbe38-54fc-43d6-a5ba-3e5c4cdf6d65",
   "metadata": {},
   "outputs": [],
   "source": [
    "norm(u)"
   ]
  },
  {
   "cell_type": "code",
   "execution_count": null,
   "id": "6b23e709-86bb-4ebf-a26a-dec82da308f6",
   "metadata": {},
   "outputs": [],
   "source": [
    "norm(u_johnson)"
   ]
  },
  {
   "cell_type": "markdown",
   "id": "e1528d75-c2ff-469d-989f-4c7ced31c9a8",
   "metadata": {},
   "source": [
    "So our solution has smaller norm than that of [2]. Hence, it is a better candidate for the unique solution of minimum norm."
   ]
  },
  {
   "cell_type": "markdown",
   "id": "89a5fd4a-10c8-4942-b5a7-8b9cd2b5d23a",
   "metadata": {},
   "source": [
    "Next, compute $s=d_1^*(u)=\\alpha_2^T u$."
   ]
  },
  {
   "cell_type": "code",
   "execution_count": null,
   "id": "4c4f0453-b4e1-438e-98b6-703f3a90eff1",
   "metadata": {},
   "outputs": [],
   "source": [
    "s = alpha_2'*u"
   ]
  },
  {
   "cell_type": "markdown",
   "id": "063cfdd5-3c93-4bf8-b51e-59521f6a8a68",
   "metadata": {},
   "source": [
    "Check the \"equality\" of $\\alpha_2 s = d_1(s) = d_1(f) = \\alpha_2 f$."
   ]
  },
  {
   "cell_type": "code",
   "execution_count": null,
   "id": "fb694073-f588-4281-b468-95e8fd3dddf1",
   "metadata": {},
   "outputs": [],
   "source": [
    "norm( alpha_2*s - alpha_2*f )"
   ]
  },
  {
   "cell_type": "markdown",
   "id": "1f772f57-3ccd-4674-b441-190ed8638865",
   "metadata": {},
   "source": [
    "Compute $h$."
   ]
  },
  {
   "cell_type": "code",
   "execution_count": null,
   "id": "c13b85a8-ef8b-477b-a960-7d0a0b99454f",
   "metadata": {},
   "outputs": [],
   "source": [
    "h = f-s-g"
   ]
  },
  {
   "cell_type": "code",
   "execution_count": null,
   "id": "1c4fe522-88e5-4556-a59e-9d93a9874355",
   "metadata": {},
   "outputs": [],
   "source": [
    "L1u = alpha_2'*alpha_2\n",
    "L1d = alpha_1*alpha_1'\n",
    "L1 = L1u + L1d"
   ]
  },
  {
   "cell_type": "markdown",
   "id": "16d10d3d-9118-4fed-bb99-bbd67fc50c6b",
   "metadata": {},
   "source": [
    "Finally check that $L_1(h)=0$."
   ]
  },
  {
   "cell_type": "code",
   "execution_count": null,
   "id": "8032eecd-018a-44b7-8dc3-d99d1cea64e2",
   "metadata": {},
   "outputs": [],
   "source": [
    "norm(L1*h)"
   ]
  },
  {
   "cell_type": "markdown",
   "id": "7fdb63ae-c7e2-4e15-a0c8-3896d1c1823f",
   "metadata": {
    "tags": []
   },
   "source": [
    "## Compute Hodge decomposition\n",
    "\n",
    "The linear equations that should be solved are numerically challenging. Hence, we use the **MINRES-QLP** algoritm, which is specifically devised to solve least square problems of singular or nearly singular linear equations  [9,10,11,12]."
   ]
  },
  {
   "cell_type": "code",
   "execution_count": null,
   "id": "f395ffa3-bf6d-4610-9699-90cb44674889",
   "metadata": {},
   "outputs": [],
   "source": [
    "struct HodgeDecomposition\n",
    "    f::Array{Real}\n",
    "    s::Array{Real}\n",
    "    h::Array{Real}\n",
    "    g::Array{Real}\n",
    "    u::Array{Real}\n",
    "    w::Array{Real}    \n",
    "    k::Int    \n",
    "end"
   ]
  },
  {
   "cell_type": "code",
   "execution_count": null,
   "id": "76153bea-e8a9-418f-a918-c5977bc9ee51",
   "metadata": {},
   "outputs": [],
   "source": [
    "function compute_k_th_solenoid_hodge_decomposition(sc,f,k)\n",
    "    if k<kappa(sc)\n",
    "        alpha = sc.alpha[k+1]\n",
    "        y = alpha*f\n",
    "        L = alpha*alpha'\n",
    "        u = Krylov.minres_qlp(L,y)[1]\n",
    "        #u = Krylov.lsqr(L,y)[1]\n",
    "        s = alpha'*u\n",
    "        return s,u\n",
    "    else\n",
    "        s = zeros(m_k(sc,k)) # s = 0 as a vector enables f=s+h+g to be computed without dimensional problems.\n",
    "        u = zeros(m_k(sc,k+1))        \n",
    "        return s,u\n",
    "    end\n",
    "end"
   ]
  },
  {
   "cell_type": "code",
   "execution_count": null,
   "id": "047ba906-51c5-48b0-8688-62b27b577bb6",
   "metadata": {},
   "outputs": [],
   "source": [
    "function compute_k_th_gradient_hodge_decomposition(sc,f,k)\n",
    "    if k>=1\n",
    "        alpha = sc.alpha[k]\n",
    "        z = alpha'*f\n",
    "        L = alpha'*alpha\n",
    "        w = Krylov.minres_qlp(L,z)[1]\n",
    "        #w = Krylov.lsqr(L,z)[1]\n",
    "        g = alpha*w\n",
    "        return g,w\n",
    "    else\n",
    "        g = zeros(m_k(sc,k)) # g = 0 as a vector enables f=s+h+g to be computed without dimensional problems.\n",
    "        w = zeros(m_k(sc,k-1))        \n",
    "        return g,w\n",
    "    end\n",
    "end"
   ]
  },
  {
   "cell_type": "code",
   "execution_count": null,
   "id": "49541cc6-7255-4798-b652-d4aca720ee2b",
   "metadata": {},
   "outputs": [],
   "source": [
    "function compute_k_th_hodge_decomposition(sc,f,k)\n",
    "    @assert length(f) == m_k(sc,k)\n",
    "    s,u = compute_k_th_solenoid_hodge_decomposition(sc,f,k)\n",
    "    g,w = compute_k_th_gradient_hodge_decomposition(sc,f,k)\n",
    "    h=f-s-g\n",
    "    return HodgeDecomposition(f,s,h,g,u,w,k)\n",
    "end"
   ]
  },
  {
   "cell_type": "markdown",
   "id": "776ed9dc-d9ed-4aca-a96c-b879f9f79dd1",
   "metadata": {
    "tags": []
   },
   "source": [
    "### Test"
   ]
  },
  {
   "cell_type": "markdown",
   "id": "a7acf217-60bd-42ac-a719-029b974b1b18",
   "metadata": {},
   "source": [
    "#### Basic test"
   ]
  },
  {
   "cell_type": "code",
   "execution_count": null,
   "id": "f47b2914-8298-4420-9cfe-f15abbe2b929",
   "metadata": {},
   "outputs": [],
   "source": [
    "g = erdos_renyi(10, 0.4)"
   ]
  },
  {
   "cell_type": "code",
   "execution_count": null,
   "id": "ff40c7d3-65e0-41d2-a030-af2d522f58e2",
   "metadata": {},
   "outputs": [],
   "source": [
    "I_3c = g_to_3_cliques(g)"
   ]
  },
  {
   "cell_type": "code",
   "execution_count": null,
   "id": "f012693b-dd23-4a18-8d91-188ab58e0971",
   "metadata": {},
   "outputs": [],
   "source": [
    "sc = I_to_SC(I_3c)"
   ]
  },
  {
   "cell_type": "code",
   "execution_count": null,
   "id": "60875ad7-8915-48eb-b902-db87edd53801",
   "metadata": {},
   "outputs": [],
   "source": [
    "for k in 0:kappa(sc)\n",
    "   println(\"m_$k=$(m_k(sc,k))\")\n",
    "end"
   ]
  },
  {
   "cell_type": "markdown",
   "id": "35478f15-dfd3-42eb-a3d4-39fd5d8ccbbf",
   "metadata": {},
   "source": [
    "Next, we create a 1-chain $f$ of components $f_{ij}=w_i-w_j$ where $w$ is the 0-chain of components $w_i=i$."
   ]
  },
  {
   "cell_type": "code",
   "execution_count": null,
   "id": "3c65acf6-a522-4261-a75c-852372bf567d",
   "metadata": {},
   "outputs": [],
   "source": [
    "m0=m_k(sc,0)\n",
    "m1=m_k(sc,1)\n",
    "w = collect(1:m0)\n",
    "f = zeros(m1)\n",
    "K1 = sc.K[1]\n",
    "for l in 1:m1\n",
    "    i,j = K1[l,:]\n",
    "    f[l] = w[i]-w[j]\n",
    "end"
   ]
  },
  {
   "cell_type": "code",
   "execution_count": null,
   "id": "3679e662-c73b-4aff-a9ac-ae445bd9168d",
   "metadata": {},
   "outputs": [],
   "source": [
    "hd = compute_k_th_hodge_decomposition(sc,w,0)"
   ]
  },
  {
   "cell_type": "code",
   "execution_count": null,
   "id": "866772ab-ede7-40fe-b8c6-d2681015cb8d",
   "metadata": {},
   "outputs": [],
   "source": [
    "hd.g"
   ]
  },
  {
   "cell_type": "code",
   "execution_count": null,
   "id": "6f93a491-c068-4a90-87f5-a5312d6567d8",
   "metadata": {},
   "outputs": [],
   "source": [
    "hd.w"
   ]
  },
  {
   "cell_type": "code",
   "execution_count": null,
   "id": "953802db-0424-4b3a-8c2e-9fb4afa49a55",
   "metadata": {},
   "outputs": [],
   "source": [
    "hd = compute_k_th_hodge_decomposition(sc,f,1)"
   ]
  },
  {
   "cell_type": "code",
   "execution_count": null,
   "id": "f90fa1bf-525f-42bb-9c6f-790401070926",
   "metadata": {},
   "outputs": [],
   "source": [
    "hd.w .- minimum(hd.w)"
   ]
  },
  {
   "cell_type": "code",
   "execution_count": null,
   "id": "85d9891b-e9a6-432c-af61-544dd650feb9",
   "metadata": {},
   "outputs": [],
   "source": [
    "u = collect(1:m_k(sc,2))"
   ]
  },
  {
   "cell_type": "code",
   "execution_count": null,
   "id": "89a39e36-ea78-451b-b77c-826077d104bf",
   "metadata": {},
   "outputs": [],
   "source": [
    "hd = compute_k_th_hodge_decomposition(sc,u,2)"
   ]
  },
  {
   "cell_type": "code",
   "execution_count": null,
   "id": "7711edd7-9381-49f1-b628-72b83334bcee",
   "metadata": {},
   "outputs": [],
   "source": [
    "hd.s"
   ]
  },
  {
   "cell_type": "markdown",
   "id": "2c164c80-7020-4e73-b269-b56974c7e944",
   "metadata": {},
   "source": [
    "#### Test with futbol networks"
   ]
  },
  {
   "cell_type": "code",
   "execution_count": null,
   "id": "4e429584-4846-4b87-b000-c45dc7141935",
   "metadata": {},
   "outputs": [],
   "source": [
    "(g,phi_ij) = dict_g_phi_jld2[(\"Italy\", \"crossing\")]"
   ]
  },
  {
   "cell_type": "code",
   "execution_count": null,
   "id": "75a1898b-d17d-486c-88cc-c8f7ac2ef2d4",
   "metadata": {},
   "outputs": [],
   "source": [
    "I_3c = g_to_3_cliques(g)"
   ]
  },
  {
   "cell_type": "code",
   "execution_count": null,
   "id": "58dc76ac-1e73-475a-a67a-2ae3a9e52947",
   "metadata": {},
   "outputs": [],
   "source": [
    "sc = I_to_SC(I_3c)"
   ]
  },
  {
   "cell_type": "code",
   "execution_count": null,
   "id": "77f1704a-f348-4bc7-b5ee-e6957b518f4e",
   "metadata": {},
   "outputs": [],
   "source": [
    "f = phi_ij_to_f(sc,phi_ij)"
   ]
  },
  {
   "cell_type": "code",
   "execution_count": null,
   "id": "0d5ec1a8-465d-40d0-a95f-cd59ae778ba6",
   "metadata": {},
   "outputs": [],
   "source": [
    "hd = compute_k_th_hodge_decomposition(sc,f,1)"
   ]
  },
  {
   "cell_type": "code",
   "execution_count": null,
   "id": "2db43738-9985-4248-8ec9-fcb98ee35385",
   "metadata": {},
   "outputs": [],
   "source": [
    "hd.w"
   ]
  },
  {
   "cell_type": "code",
   "execution_count": null,
   "id": "a29d4ec0-73fe-4e13-98b5-7bb246bd7c71",
   "metadata": {},
   "outputs": [],
   "source": [
    "plot(\n",
    "    xlabel=L\"i\",\n",
    "    ylabel=L\"w_i\",\n",
    ")\n",
    "plot!(hd.w,label=\"Italy\"*\", \"*\"crossing\",c=1)\n",
    "scatter!(hd.w,label=\"\",c=1)"
   ]
  },
  {
   "cell_type": "markdown",
   "id": "56f1e133-8107-4d83-bc8c-8c10a369b6b6",
   "metadata": {
    "jp-MarkdownHeadingCollapsed": true,
    "tags": []
   },
   "source": [
    "# Ranking tools\n",
    "\n",
    "Tools to generate **true** ratings and rankings for a given network."
   ]
  },
  {
   "cell_type": "code",
   "execution_count": null,
   "id": "866c82ab-8006-44b4-a8ce-3b2ece9f4eaf",
   "metadata": {
    "tags": []
   },
   "outputs": [],
   "source": [
    "\"\"\"\n",
    "Generator of artificial ratings.\n",
    "    agents : iterable over the agents.\n",
    "    noise : Gaussian additive noise\n",
    "    scale : sepparation scale between ratings\n",
    "\"\"\"\n",
    "function gen_artificial_ratings(agents,noise=0.0,scale=1.0)\n",
    "    #@show agents\n",
    "    N = length(agents)\n",
    "    w = collect(agents)+noise*randn(N)\n",
    "    w = ratings(N .- w)\n",
    "    return scale*w\n",
    "end"
   ]
  },
  {
   "cell_type": "code",
   "execution_count": null,
   "id": "590bffaa-7c70-44d2-95d9-298b32e1fb6e",
   "metadata": {},
   "outputs": [],
   "source": [
    "\"\"\"\n",
    "Takes a simplicial complex and a vector of ratings and generates the 1-cochain\n",
    "\n",
    "    f_{ij} = w_i - w_j + noise*randn()\n",
    "\"\"\"\n",
    "function gen_artificial_f(sc,w,noise=0.0)\n",
    "    m_0 = m_k(sc,0)\n",
    "    m_1 = m_k(sc,1)\n",
    "    @assert length(w) == m_0\n",
    "    f = zeros(m_1)\n",
    "    K1 = sc.K[1]\n",
    "    for l in 1:m_1\n",
    "        i,j = K1[l,:]\n",
    "        f[l] = w[j]-w[i] + noise*randn()\n",
    "    end\n",
    "    return f\n",
    "end"
   ]
  },
  {
   "cell_type": "code",
   "execution_count": null,
   "id": "6d2f41f6-5c9b-4e8c-a36f-9ccc0aae6ee2",
   "metadata": {},
   "outputs": [],
   "source": [
    "\"\"\"\n",
    "Takes a vector and shifts the values of its components by a constant to make all of them non-negative.\n",
    "\"\"\"\n",
    "function ratings(w)\n",
    "    return w .- minimum(w)\n",
    "end"
   ]
  },
  {
   "cell_type": "code",
   "execution_count": null,
   "id": "a957aaac-d0fb-4742-8246-6b4cf12f5765",
   "metadata": {},
   "outputs": [],
   "source": [
    "\"\"\"\n",
    "Normalizes a vector of ratings to have values between 0 and 1 inclusive.\n",
    "\"\"\"\n",
    "function normalized_ratings(w)\n",
    "    minw = minimum(w)\n",
    "    #maxw = maximum(w)\n",
    "    #return (w .- minw)/(maxw-minw)\n",
    "    return (w .- minw)/length(w)\n",
    "end"
   ]
  },
  {
   "cell_type": "code",
   "execution_count": null,
   "id": "ac43c8d6-0697-45aa-b64e-6f24bf5e82a4",
   "metadata": {},
   "outputs": [],
   "source": [
    "\"\"\"\n",
    "Takes a vector of ratings and computes the corresponding ranking\n",
    "\"\"\"\n",
    "function ranking(w)\n",
    "    return sortperm(w,rev=true)\n",
    "end"
   ]
  },
  {
   "cell_type": "code",
   "execution_count": null,
   "id": "f124a91f-a0ff-4f13-909a-a7ce32bd9e98",
   "metadata": {},
   "outputs": [],
   "source": [
    "\"\"\"\n",
    "Given two vectors v and u, this computes the absolute differences\n",
    "\n",
    "    x_i = |v_i-u_i|\n",
    "\n",
    "And returns the vector w of cumulative diferences\n",
    "\n",
    "    w_i = sum_{j <= i} x_j\n",
    "\n",
    "This can be used to compare two vectors of ratings or rankings\n",
    "\"\"\"\n",
    "function compute_cumulative_abs_diff(v,u)\n",
    "    n = length(v)\n",
    "    @assert length(u) == n\n",
    "    cumulative_abs_diff = zeros(n)\n",
    "    sum = 0\n",
    "    for i in 1:n\n",
    "         sum += abs.(v[i]-u[i])\n",
    "         cumulative_abs_diff[i] = sum\n",
    "    end\n",
    "    return cumulative_abs_diff\n",
    "end"
   ]
  },
  {
   "cell_type": "markdown",
   "id": "b564ac09-edfd-4950-86e3-88af38fe2987",
   "metadata": {
    "jp-MarkdownHeadingCollapsed": true,
    "tags": []
   },
   "source": [
    "### Test"
   ]
  },
  {
   "cell_type": "code",
   "execution_count": null,
   "id": "85c1d8fa-5fc4-46a1-a948-54cb832a0270",
   "metadata": {},
   "outputs": [],
   "source": [
    "g = erdos_renyi(6, 0.4)"
   ]
  },
  {
   "cell_type": "code",
   "execution_count": null,
   "id": "9518082e-3440-424f-a5ad-8f9a85e65d16",
   "metadata": {},
   "outputs": [],
   "source": [
    "w = gen_artificial_ratings(1:nv(g))"
   ]
  },
  {
   "cell_type": "code",
   "execution_count": null,
   "id": "2d3e449c-7c7a-4baf-a5b1-3e2711f3093d",
   "metadata": {},
   "outputs": [],
   "source": [
    "I_3c = g_to_3_cliques(g)"
   ]
  },
  {
   "cell_type": "code",
   "execution_count": null,
   "id": "f37c3151-63b2-4e1a-97d0-01b2e9a1aad9",
   "metadata": {},
   "outputs": [],
   "source": [
    "sc = I_to_SC(I_3c)"
   ]
  },
  {
   "cell_type": "code",
   "execution_count": null,
   "id": "11b97151-11dd-4759-983e-0c7629e8e840",
   "metadata": {},
   "outputs": [],
   "source": [
    "f = gen_artificial_f(sc,w)"
   ]
  },
  {
   "cell_type": "code",
   "execution_count": null,
   "id": "96293e1b-7b81-4da7-92b3-b1eda530eff1",
   "metadata": {},
   "outputs": [],
   "source": [
    "ratings(w .- 5)"
   ]
  },
  {
   "cell_type": "code",
   "execution_count": null,
   "id": "e4082f85-31f1-453d-abce-7a682a7a17ce",
   "metadata": {},
   "outputs": [],
   "source": [
    "ranking(w)"
   ]
  },
  {
   "cell_type": "code",
   "execution_count": null,
   "id": "099b9051-e0b1-4a12-a8c1-3f522dceaa25",
   "metadata": {},
   "outputs": [],
   "source": [
    "normalized_ratings(w)"
   ]
  },
  {
   "cell_type": "markdown",
   "id": "bbb4e1dc-5190-4c75-9cba-e8ea138a2676",
   "metadata": {
    "tags": []
   },
   "source": [
    "# Inference of ratings and rankings\n",
    "\n",
    "General idea:\n",
    "\n",
    "* There are 5 soccer leagues: England, France, Germany, Italy and Spain.\n",
    "* Each has 20 teams, with the exception of Germany which has 18.\n",
    "* Each pair of teams of each league plays two games, one as local and another as visitor.\n",
    "* For each pair of games between two teams $i$ and $j$ of a given league, one as local and one as visitor, a score $\\phi_{ij}\\in \\mathbb{R}$ is provided.\n",
    "* Each score matrix $\\phi$ defines a non-directed fully connected network.\n",
    "* A fraction $p\\in [0,1]$ of the links of the networks can be removed using some criterium:\n",
    "    * uniformly at random, or\n",
    "    * in increasing order of absolute weight $|\\phi_{ij}|$.\n",
    "* The networks are promoted to simplicial complexes where:\n",
    "    * nodes $i$ become 0-simplices,\n",
    "    * links $ij$ become 1-simplices, and\n",
    "    * connected triplets $ijk$ become 2-simplices, where $ijk$ is a connected triplet of a network if $ij$, $jk$ and $ik$ are links of the network.\n",
    "* A 1-cochain of coordinates $f_{ij}=\\phi_{ji}-\\phi_{ij}$ is defined over each simplicial complex.\n",
    "* Alternatively, a 1-cochain of coordinates $f_{ij}=\\phi_{j}-\\phi_{i}$ where $\\phi_i = \\sum_j \\phi_{ij}$ is the strength of node $i$, is defined over each simplicial complex."
   ]
  },
  {
   "cell_type": "markdown",
   "id": "af478d93-1c47-48ac-8777-a080c0c8955c",
   "metadata": {
    "jp-MarkdownHeadingCollapsed": true,
    "tags": []
   },
   "source": [
    "### Color schemes"
   ]
  },
  {
   "cell_type": "code",
   "execution_count": null,
   "id": "9e8a3921-c62e-4468-b046-a53cebe88861",
   "metadata": {
    "tags": []
   },
   "outputs": [],
   "source": [
    "palette_colors = palette(:auto)\n",
    "col1 = palette_colors[1]\n",
    "col2 = palette_colors[2]\n",
    "col3 = palette_colors[3]\n",
    "col4 = palette_colors[4]\n",
    "col5 = palette_colors[5]\n",
    "col6 = palette_colors[6]\n",
    "col7 = palette_colors[7]\n",
    "col8 = palette_colors[8]\n",
    "cols = [col1,col2,col3,col4,col5,col6,col7,col8]"
   ]
  },
  {
   "cell_type": "code",
   "execution_count": null,
   "id": "ca91596f-c97b-424f-944b-36541357ab92",
   "metadata": {},
   "outputs": [],
   "source": [
    "#colors_N = palette(:roma,6)\n",
    "#colors_N = palette(:thermal,8)\n",
    "#colors_N = palette(:haline,6)\n",
    "cols1 = [col1,col2]\n",
    "colors_N = palette(cols1,6)"
   ]
  },
  {
   "cell_type": "code",
   "execution_count": null,
   "id": "c7d195cf-2097-460e-ab23-a011e617370c",
   "metadata": {},
   "outputs": [],
   "source": [
    "#colors_N = palette(:roma,6)\n",
    "#colors_N = palette(:thermal,8)\n",
    "#colors_N = palette(:haline,8)\n",
    "#colors_z = palette(:hawaii,13)\n",
    "cols2 = [col4,col6]\n",
    "colors_z = palette(cols2,13)\n",
    "colors_k = colors_z\n",
    "colors_q = colors_z\n",
    "colors_p = colors_z"
   ]
  },
  {
   "cell_type": "markdown",
   "id": "f1f6a381-2e9d-4e04-8c06-5193718758bf",
   "metadata": {
    "tags": []
   },
   "source": [
    "#### Disorder parameter vs noise"
   ]
  },
  {
   "cell_type": "raw",
   "id": "0c1d6c86-f40c-45a0-99b4-3ad5bc999824",
   "metadata": {},
   "source": [
    "# Uncomment to run the simulation. Change the list of sigma valeus and the number of samples to match those of the paper.\n",
    "function compute_lattice1D_stats_vs_sigma!(lattice1D_stats_vs_sigma,list_ky=lattice1D_list_ky,list_sigma=0.0:0.03:3.0,num_samples=500)\n",
    "    for ky in list_ky\n",
    "        (N,z) = ky\n",
    "        list_N_tau   = [RunningStat() for t in 1:length(list_sigma)]\n",
    "        list_N_rho   = [RunningStat() for t in 1:length(list_sigma)]\n",
    "        list_norm_f  = [RunningStat() for t in 1:length(list_sigma)]\n",
    "        list_norm_s  = [RunningStat() for t in 1:length(list_sigma)]\n",
    "        list_norm_g  = [RunningStat() for t in 1:length(list_sigma)]\n",
    "        list_norm_h  = [RunningStat() for t in 1:length(list_sigma)]\n",
    "        m_0 = RunningStat()\n",
    "        m_1 = RunningStat()\n",
    "        m_2 = RunningStat()        \n",
    "        for sample in 1:num_samples\n",
    "            g = lattice1D_to_g(N,k)\n",
    "            I_3c = g_to_3_cliques(g)\n",
    "            sc = I_to_SC(I_3c)\n",
    "            push!(m_0,m_k(sc,0))\n",
    "            push!(m_1,m_k(sc,1))\n",
    "            push!(m_2,m_k(sc,2))\n",
    "            w = gen_artificial_ratings(1:m_k(sc,0))    \n",
    "            for t in 1:length(list_sigma)\n",
    "                sigma = list_sigma[t]\n",
    "                f = gen_artificial_f(sc,w,sigma)\n",
    "                hd = compute_k_th_hodge_decomposition(sc,f,1)\n",
    "                push!(list_norm_f[t],norm(hd.f))\n",
    "                push!(list_norm_s[t],norm(hd.s))\n",
    "                push!(list_norm_h[t],norm(hd.h))\n",
    "                push!(list_norm_g[t],norm(hd.g))\n",
    "                #@show norm(hd.f)\n",
    "                #@show norm(hd.s)\n",
    "                #@show norm(hd.h)\n",
    "                #@show norm(hd.g)\n",
    "                cum_N_tau = compute_cumulative_abs_diff(ratings(w),ratings(hd.w))\n",
    "                cum_N_rho = compute_cumulative_abs_diff(ranking(w),ranking(hd.w))\n",
    "                N_tau = cum_N_tau[end]\n",
    "                N_rho = cum_N_rho[end]\n",
    "                push!(list_N_tau[t],N_tau)\n",
    "                push!(list_N_rho[t],N_rho)\n",
    "            end\n",
    "            lattice1D_stats_vs_sigma[ky] = [list_sigma,list_N_tau,list_N_rho,list_norm_f,list_norm_s,list_norm_h,list_norm_g,m_0,m_1,m_2]\n",
    "        end\n",
    "    end\n",
    "end"
   ]
  },
  {
   "cell_type": "raw",
   "id": "6ee3790d-5862-499d-b823-c2f597abb8b1",
   "metadata": {},
   "source": [
    "#### Test\n",
    "compute_lattice1D_stats_vs_sigma!(Dict(),[128],[0.0],1)"
   ]
  },
  {
   "cell_type": "code",
   "execution_count": null,
   "id": "70ff40ff-9e76-43f5-8543-e7f492500a8d",
   "metadata": {},
   "outputs": [],
   "source": [
    "#### This cell loads the .jld2 file with the JLD2 dictionary with the samples. \n",
    "#### If the file to be laoded doesn't exists, then it creates and empty dictionary to be filled later by running the simulation.\n",
    "\n",
    "filename = \"data/lattice1D_stats_vs_sigma.jld2\"\n",
    "\n",
    "# Deserialize data\n",
    "if isfile(filename)\n",
    "    #@load filename grid1D_stats_vs_sigma\n",
    "    #lattice1D_stats_vs_sigma = grid1D_stats_vs_sigma\n",
    "    @load filename lattice1D_stats_vs_sigma\n",
    "else    \n",
    "    lattice1D_stats_vs_sigma = Dict()    \n",
    "end"
   ]
  },
  {
   "cell_type": "raw",
   "id": "4990cc59-7deb-4c46-aeda-2e12eaf5706a",
   "metadata": {
    "tags": []
   },
   "source": [
    "#### Uncomment to inspect the loaded data\n",
    "sort(collect(keys(lattice1D_stats_vs_sigma)))"
   ]
  },
  {
   "cell_type": "raw",
   "id": "6e591480-ff9d-4755-b16c-6e6bb96945e8",
   "metadata": {},
   "source": [
    "#### WARNING - SLOW: Uncomment to run the simulation for the 1D lattices\n",
    "#### Serialize data\n",
    "compute_lattice1D_stats_vs_sigma!(lattice1D_stats_vs_sigma)\n",
    "@save filename lattice1D_stats_vs_sigma"
   ]
  },
  {
   "cell_type": "markdown",
   "id": "d5da3913-60a8-4a27-9d03-1343cb89ff4b",
   "metadata": {},
   "source": [
    "## Experiment 1:\n",
    "\n",
    "For each league, compute the ratings $w_i$ and rankings $r_i$ for:\n",
    "\n",
    "* fully connected networks, and\n",
    "* 1-cochain given by $f_{ij}=\\phi_{ji}-\\phi_{ij}$."
   ]
  },
  {
   "cell_type": "code",
   "execution_count": null,
   "id": "6c482213-8611-4f44-8820-f212722ba6a4",
   "metadata": {},
   "outputs": [],
   "source": [
    "dict_sc_hd_jld2 = Dict()\n",
    "for (country,score) in dict_g_phi_jld2\n",
    "    (g,phi_ij) = dict_g_phi_jld2[(country,score)]\n",
    "    I_3c = g_to_3_cliques(g)\n",
    "    sc = I_to_SC(I_3c)\n",
    "    f = phi_ij_to_f(sc,phi_ij)\n",
    "    hd = compute_k_th_hodge_decomposition(sc,f,1)\n",
    "    dict_sc_hd_jld2[(country,score)] = (sc,hd)\n",
    "end"
   ]
  },
  {
   "cell_type": "code",
   "execution_count": null,
   "id": "b2c1c75a-c0e3-4459-a882-44aa46aa5fac",
   "metadata": {},
   "outputs": [],
   "source": [
    "@save \"../redes/dict_sc_hd.jld2\" dict_sc_hd_jld2"
   ]
  },
  {
   "cell_type": "code",
   "execution_count": null,
   "id": "3e0bcef2-3c80-4da4-bac2-b61e5ebe6839",
   "metadata": {},
   "outputs": [],
   "source": [
    "@load \"../redes/dict_sc_hd.jld2\" dict_sc_hd_jld2"
   ]
  },
  {
   "cell_type": "code",
   "execution_count": null,
   "id": "c0b3364c-c57d-4089-a1fa-de585f546a19",
   "metadata": {},
   "outputs": [],
   "source": [
    "dict_sc_hd_jld2"
   ]
  },
  {
   "cell_type": "code",
   "execution_count": null,
   "id": "54846166-0525-41f7-858d-66818ae1ad3c",
   "metadata": {},
   "outputs": [],
   "source": [
    "N = 10000\n",
    "mean_k = 3.0\n",
    "p = mean_k/(N-1)\n",
    "@show N\n",
    "@show mean_k\n",
    "@show p\n",
    "#g = erdos_renyi(6, 0.4)\n",
    "g = erdos_renyi(N,p)\n",
    "@show nv(g)\n",
    "@show ne(g)\n",
    "@show 2*ne(g)/N\n",
    "#@show g\n",
    ";"
   ]
  },
  {
   "cell_type": "code",
   "execution_count": null,
   "id": "544d1269-c1af-438c-96b0-f388e36fcaf0",
   "metadata": {},
   "outputs": [],
   "source": [
    "I_3c = g_to_3_cliques(g)"
   ]
  },
  {
   "cell_type": "code",
   "execution_count": null,
   "id": "50d86c35-3d60-4d63-a6c1-7bfbf3db60b9",
   "metadata": {},
   "outputs": [],
   "source": [
    "sc = I_to_SC(I_3c)"
   ]
  },
  {
   "cell_type": "code",
   "execution_count": null,
   "id": "9f003440-f0ee-422c-bf05-112ac65053b4",
   "metadata": {},
   "outputs": [],
   "source": [
    "w = gen_artificial_ratings(1:m_k(sc,0))"
   ]
  },
  {
   "cell_type": "code",
   "execution_count": null,
   "id": "a5d40ffd-34f8-451f-864d-21c5466619bf",
   "metadata": {},
   "outputs": [],
   "source": [
    "f = gen_artificial_f(sc,w)"
   ]
  },
  {
   "cell_type": "code",
   "execution_count": null,
   "id": "9432b3d8-f20e-43e2-a27a-2a2974d7322b",
   "metadata": {},
   "outputs": [],
   "source": [
    "hd = compute_k_th_hodge_decomposition(sc,f,1)"
   ]
  },
  {
   "cell_type": "code",
   "execution_count": null,
   "id": "fcfed1a3-ef56-4f1a-84ed-157cc553955d",
   "metadata": {},
   "outputs": [],
   "source": [
    "hd.w"
   ]
  },
  {
   "cell_type": "code",
   "execution_count": null,
   "id": "68ebed88-21d4-43a8-99df-f46c2c6091bc",
   "metadata": {},
   "outputs": [],
   "source": [
    "ratings(hd.w)"
   ]
  },
  {
   "cell_type": "code",
   "execution_count": null,
   "id": "0a10cb3f-df16-4f24-837b-8aad90e04969",
   "metadata": {},
   "outputs": [],
   "source": [
    "ranking(hd.w)"
   ]
  },
  {
   "cell_type": "code",
   "execution_count": null,
   "id": "fa207fa6-595b-4781-801c-dce62d3749e8",
   "metadata": {},
   "outputs": [],
   "source": [
    "cumdiff_w = compute_cumulative_abs_diff(normalized_ratings(w),normalized_ratings(hd.w))"
   ]
  },
  {
   "cell_type": "code",
   "execution_count": null,
   "id": "cbf1c19a-66c6-4005-b4f6-bb58284b70e5",
   "metadata": {},
   "outputs": [],
   "source": [
    "N = length(cumdiff_w)\n",
    "n = N-1\n",
    "plot(title=\"ER\")\n",
    "plot!(xlabel=L\"i/n\")\n",
    "plot!(ylabel=L\"\\rho_w(i)\") # hat{w} is the inferred rating\n",
    "plot!((0:n)/n,cumdiff_w/N,label=\"\")"
   ]
  },
  {
   "cell_type": "code",
   "execution_count": null,
   "id": "00f7a5a3-777b-431b-8245-d57e7ac7f8b0",
   "metadata": {},
   "outputs": [],
   "source": [
    "plot(title=\"ER\")\n",
    "plot!(xlabel=L\"\\hat{r}_i\")\n",
    "plot!(ylabel=L\"r_i\")\n",
    "scatter!(ranking(w),ranking(hd.w),label=\"\")"
   ]
  },
  {
   "cell_type": "code",
   "execution_count": null,
   "id": "acb39c58-0a4b-4b56-8e13-77a8e6ffcf87",
   "metadata": {},
   "outputs": [],
   "source": [
    "sum(abs.(ranking(w)-ranking(hd.w)))"
   ]
  },
  {
   "cell_type": "code",
   "execution_count": null,
   "id": "824ca143-0270-4d99-b1c4-88b7a6c400d6",
   "metadata": {},
   "outputs": [],
   "source": [
    "I_3c = g_to_3_cliques(g)"
   ]
  },
  {
   "cell_type": "code",
   "execution_count": null,
   "id": "76d91d7c-9bfb-443e-8a2b-a8f7b050a8f7",
   "metadata": {},
   "outputs": [],
   "source": [
    "sc = I_to_SC(I_3c)"
   ]
  },
  {
   "cell_type": "code",
   "execution_count": null,
   "id": "4a1b5e9c-ff4b-4226-91c7-7eaf88503f87",
   "metadata": {},
   "outputs": [],
   "source": [
    "w = gen_artificial_ratings(1:m_k(sc,0))"
   ]
  },
  {
   "cell_type": "code",
   "execution_count": null,
   "id": "8ac164a2-71f2-4c63-983b-3ad10a5f78ea",
   "metadata": {},
   "outputs": [],
   "source": [
    "f = gen_artificial_f(sc,w)"
   ]
  },
  {
   "cell_type": "code",
   "execution_count": null,
   "id": "80f40e65-941b-4f23-9f75-990bc01c3b18",
   "metadata": {},
   "outputs": [],
   "source": [
    "hd = compute_k_th_hodge_decomposition(sc,f,1)"
   ]
  },
  {
   "cell_type": "code",
   "execution_count": null,
   "id": "d49f2479-4e9e-41e7-b0a8-ae45cc370ee1",
   "metadata": {},
   "outputs": [],
   "source": [
    "hd.w"
   ]
  },
  {
   "cell_type": "code",
   "execution_count": null,
   "id": "972bb65c-e3a4-4b15-985c-5fdd28b03d9a",
   "metadata": {},
   "outputs": [],
   "source": [
    "ratings(hd.w)"
   ]
  },
  {
   "cell_type": "code",
   "execution_count": null,
   "id": "595908ef-da08-42c4-9989-3c708815a4f1",
   "metadata": {},
   "outputs": [],
   "source": [
    "ranking(hd.w)"
   ]
  },
  {
   "cell_type": "code",
   "execution_count": null,
   "id": "d397ac71-c147-4ed8-aa30-6ac1f01fb898",
   "metadata": {},
   "outputs": [],
   "source": [
    "cumdiff_w = compute_cumulative_abs_diff(normalized_ratings(w),normalized_ratings(hd.w))"
   ]
  },
  {
   "cell_type": "code",
   "execution_count": null,
   "id": "0c5dd9ec-1c75-40fb-9c75-728b07c3a540",
   "metadata": {},
   "outputs": [],
   "source": [
    "N = length(cumdiff_w)\n",
    "n = N-1\n",
    "plot(title=\"BA\")\n",
    "plot!(xlabel=L\"i/n\")\n",
    "plot!(ylabel=L\"\\rho_w(i)\") # hat{w} is the inferred rating\n",
    "plot!((0:n)/n,cumdiff_w/N,label=\"\")"
   ]
  },
  {
   "cell_type": "code",
   "execution_count": null,
   "id": "f72b8e95-52f5-4c1c-b878-dc5c84900158",
   "metadata": {},
   "outputs": [],
   "source": [
    "plot(title=\"BA\")\n",
    "plot!(xlabel=L\"\\hat{r}_i\")\n",
    "plot!(ylabel=L\"r_i\")\n",
    "scatter!(ranking(w),ranking(hd.w),label=\"\")"
   ]
  },
  {
   "cell_type": "raw",
   "id": "21d89f3d-f735-424e-95db-14fb08084c57",
   "metadata": {},
   "source": [
    "function mean_shortest_paths_distances(g)\n",
    "    d = floyd_warshall_shortest_paths(g).dists\n",
    "    sum = 0.0\n",
    "    num = 0.0\n",
    "    for i in 1:nv(g)-1\n",
    "        for j in i+1:nv(g)\n",
    "            sum += d[i,j]\n",
    "            num += 1\n",
    "        end\n",
    "    end\n",
    "    return sum/num\n",
    "end"
   ]
  },
  {
   "cell_type": "raw",
   "id": "33ffafb9-2ce5-42a6-b6f3-0ca97555c85d",
   "metadata": {},
   "source": [
    "list_p = vcat([0],reverse([2.0^(-k) for k in 0:13]))"
   ]
  },
  {
   "cell_type": "raw",
   "id": "1ddbdd70-9b5c-4ab5-8090-aad4b70d0d45",
   "metadata": {},
   "source": [
    "list_cc = [RunningStat() for t in 1:length(list_p)]\n",
    "list_sd = [RunningStat() for t in 1:length(list_p)]\n",
    "for sample in 1:10\n",
    "    if sample % 10 == 0\n",
    "       @show sample \n",
    "    end\n",
    "    for t in 1:length(list_p)\n",
    "        p = list_p[t]\n",
    "        g = watts_strogatz(N,k,p)\n",
    "        mean_cc = sum(local_clustering_coefficient(g,1:nv(g)))/nv(g)\n",
    "        mean_sd = mean_shortest_paths_distances(g)\n",
    "        push!(list_cc[t],mean_cc)\n",
    "        push!(list_sd[t],mean_sd)\n",
    "    end\n",
    "end"
   ]
  },
  {
   "cell_type": "raw",
   "id": "fb13856d-2a6b-4660-8a9d-11da0311c7a2",
   "metadata": {},
   "source": [
    "list_cc_mean = [mean(list_cc[t]) for t in 1:length(list_cc)]\n",
    "list_cc_std  = [std(list_cc[t])  for t in 1:length(list_cc)]\n",
    "list_sd_mean = [mean(list_sd[t]) for t in 1:length(list_sd)]\n",
    "list_sd_std  = [std(list_sd[t])  for t in 1:length(list_sd)]\n",
    ";"
   ]
  },
  {
   "cell_type": "raw",
   "id": "90bf3a16-18c1-4f45-bde7-c148331795b2",
   "metadata": {},
   "source": [
    "plot(legend=:bottomleft)\n",
    "plot!(xlabel=L\"p\")\n",
    "plot!(ylabel=\"\\$Cc\\$, \\$ \\\\ell \\$\")\n",
    "plot!(xscale=:log10)\n",
    "#plot!(yscale=:log10)\n",
    "plot!(xlims=(0.0001,1.1))\n",
    "scatter!(list_p[2:end],list_cc_mean[2:end]/list_cc_mean[1],label=L\"Cc\")\n",
    "scatter!(list_p[2:end],list_sd_mean[2:end]/list_sd_mean[1],label=L\"\\ell\")"
   ]
  },
  {
   "cell_type": "code",
   "execution_count": null,
   "id": "55194fbe-8158-4fcb-9d81-2f1da6d05ba6",
   "metadata": {},
   "outputs": [],
   "source": [
    "list_cc_mean[1]/list_cc_mean[1]"
   ]
  }
 ],
 "metadata": {
  "kernelspec": {
   "display_name": "Julia 1.11.5",
   "language": "julia",
   "name": "julia-1.11"
  },
  "language_info": {
   "file_extension": ".jl",
   "mimetype": "application/julia",
   "name": "julia",
   "version": "1.11.5"
  },
  "toc-autonumbering": false,
  "toc-showcode": false,
  "toc-showmarkdowntxt": false,
  "toc-showtags": false
 },
 "nbformat": 4,
 "nbformat_minor": 5
}
