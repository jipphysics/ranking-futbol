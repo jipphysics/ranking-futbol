{
 "cells": [
  {
   "cell_type": "code",
   "execution_count": 17,
   "id": "e0a18f0d",
   "metadata": {},
   "outputs": [],
   "source": [
    "import json\n",
    "import numpy as np\n",
    "import pandas as pd"
   ]
  },
  {
   "cell_type": "code",
   "execution_count": 18,
   "id": "760736e7",
   "metadata": {},
   "outputs": [],
   "source": [
    "Ptos = json.load( open(\"../data/league2team2ptos.json\") )\n",
    "Rank = json.load( open(\"../data/league2team2rank.json\") )\n"
   ]
  },
  {
   "cell_type": "code",
   "execution_count": 19,
   "id": "d26e99ea",
   "metadata": {},
   "outputs": [],
   "source": [
    "ligas = ['England','France','Germany','Italy','Spain']\n",
    "\n",
    "for liga in ligas :\n",
    "\n",
    "    x = sorted([ [Rank[liga][team], Ptos[liga][team]] for team in Ptos[liga].keys() ])\n",
    "    N = len(x)\n",
    "\n",
    "    red = []\n",
    "\n",
    "    for i in range(N-1):\n",
    "\n",
    "        n1,w1 = x[i]\n",
    "\n",
    "        for j in range(i+1,N):\n",
    "\n",
    "            n2,w2 = x[j]\n",
    "\n",
    "            red.append( [n1, n2, w2-w1] )\n",
    "\n",
    "    #guardo data\n",
    "    arx_out = f'{liga}/red_puntos.dat'\n",
    "\n",
    "    np.savetxt(\n",
    "        arx_out,               \n",
    "        red,               \n",
    "        fmt='%d,%d,%.4e',         \n",
    "        delimiter=',', \n",
    "        header='n1,n2,fij',\n",
    "        comments=''\n",
    "    )\n",
    "\n"
   ]
  }
 ],
 "metadata": {
  "kernelspec": {
   "display_name": "base",
   "language": "python",
   "name": "python3"
  },
  "language_info": {
   "codemirror_mode": {
    "name": "ipython",
    "version": 3
   },
   "file_extension": ".py",
   "mimetype": "text/x-python",
   "name": "python",
   "nbconvert_exporter": "python",
   "pygments_lexer": "ipython3",
   "version": "3.10.14"
  }
 },
 "nbformat": 4,
 "nbformat_minor": 5
}
