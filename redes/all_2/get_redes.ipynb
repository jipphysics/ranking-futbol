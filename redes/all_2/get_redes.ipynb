{
 "cells": [
  {
   "cell_type": "code",
   "execution_count": 28,
   "id": "900d6d00",
   "metadata": {},
   "outputs": [],
   "source": [
    "import json,os\n",
    "import numpy as np\n",
    "import pandas as pd"
   ]
  },
  {
   "cell_type": "markdown",
   "id": "26f9aaa6",
   "metadata": {},
   "source": [
    "### Cargo datos"
   ]
  },
  {
   "cell_type": "code",
   "execution_count": 29,
   "id": "95e35e9b",
   "metadata": {},
   "outputs": [],
   "source": [
    "ligue2team2rank = json.load( open(\"../../data/ligue2team2rank.json\", \"r\") )"
   ]
  },
  {
   "cell_type": "code",
   "execution_count": 30,
   "id": "c4fa8e37",
   "metadata": {},
   "outputs": [
    {
     "name": "stdout",
     "output_type": "stream",
     "text": [
      "(1826, 8)\n"
     ]
    },
    {
     "data": {
      "text/html": [
       "<div>\n",
       "<style scoped>\n",
       "    .dataframe tbody tr th:only-of-type {\n",
       "        vertical-align: middle;\n",
       "    }\n",
       "\n",
       "    .dataframe tbody tr th {\n",
       "        vertical-align: top;\n",
       "    }\n",
       "\n",
       "    .dataframe thead th {\n",
       "        text-align: right;\n",
       "    }\n",
       "</style>\n",
       "<table border=\"1\" class=\"dataframe\">\n",
       "  <thead>\n",
       "    <tr style=\"text-align: right;\">\n",
       "      <th></th>\n",
       "      <th>match</th>\n",
       "      <th>home</th>\n",
       "      <th>away</th>\n",
       "      <th>winner</th>\n",
       "      <th>score_home</th>\n",
       "      <th>score_away</th>\n",
       "      <th>label</th>\n",
       "      <th>liga</th>\n",
       "    </tr>\n",
       "  </thead>\n",
       "  <tbody>\n",
       "    <tr>\n",
       "      <th>0</th>\n",
       "      <td>2500089</td>\n",
       "      <td>1646</td>\n",
       "      <td>1659</td>\n",
       "      <td>1659</td>\n",
       "      <td>1</td>\n",
       "      <td>2</td>\n",
       "      <td>Burnley - AFC Bournemouth, 1 - 2</td>\n",
       "      <td>England</td>\n",
       "    </tr>\n",
       "    <tr>\n",
       "      <th>1</th>\n",
       "      <td>2500090</td>\n",
       "      <td>1628</td>\n",
       "      <td>1627</td>\n",
       "      <td>1628</td>\n",
       "      <td>2</td>\n",
       "      <td>0</td>\n",
       "      <td>Crystal Palace - West Bromwich Albion, 2 - 0</td>\n",
       "      <td>England</td>\n",
       "    </tr>\n",
       "  </tbody>\n",
       "</table>\n",
       "</div>"
      ],
      "text/plain": [
       "     match  home  away  winner  score_home  score_away  \\\n",
       "0  2500089  1646  1659    1659           1           2   \n",
       "1  2500090  1628  1627    1628           2           0   \n",
       "\n",
       "                                          label     liga  \n",
       "0              Burnley - AFC Bournemouth, 1 - 2  England  \n",
       "1  Crystal Palace - West Bromwich Albion, 2 - 0  England  "
      ]
     },
     "execution_count": 30,
     "metadata": {},
     "output_type": "execute_result"
    }
   ],
   "source": [
    "matches = pd.read_csv(\"../../data/matches.csv\")\n",
    "print(matches.shape)\n",
    "matches.head(2)"
   ]
  },
  {
   "cell_type": "code",
   "execution_count": null,
   "id": "8d66534a",
   "metadata": {},
   "outputs": [
    {
     "name": "stdout",
     "output_type": "stream",
     "text": [
      "(3652, 13)\n"
     ]
    },
    {
     "data": {
      "text/html": [
       "<div>\n",
       "<style scoped>\n",
       "    .dataframe tbody tr th:only-of-type {\n",
       "        vertical-align: middle;\n",
       "    }\n",
       "\n",
       "    .dataframe tbody tr th {\n",
       "        vertical-align: top;\n",
       "    }\n",
       "\n",
       "    .dataframe thead th {\n",
       "        text-align: right;\n",
       "    }\n",
       "</style>\n",
       "<table border=\"1\" class=\"dataframe\">\n",
       "  <thead>\n",
       "    <tr style=\"text-align: right;\">\n",
       "      <th></th>\n",
       "      <th>match</th>\n",
       "      <th>team1</th>\n",
       "      <th>direct_play</th>\n",
       "      <th>counterattack</th>\n",
       "      <th>T_maintenance</th>\n",
       "      <th>T_build_up</th>\n",
       "      <th>T_zona_media</th>\n",
       "      <th>flow_rate</th>\n",
       "      <th>crossing</th>\n",
       "      <th>pressure_point</th>\n",
       "      <th>pressure_loss</th>\n",
       "      <th>shots</th>\n",
       "      <th>liga</th>\n",
       "    </tr>\n",
       "  </thead>\n",
       "  <tbody>\n",
       "    <tr>\n",
       "      <th>0</th>\n",
       "      <td>2499719</td>\n",
       "      <td>1609</td>\n",
       "      <td>0.852098</td>\n",
       "      <td>-0.228674</td>\n",
       "      <td>-0.391992</td>\n",
       "      <td>1.375792</td>\n",
       "      <td>1.008434</td>\n",
       "      <td>2.412985</td>\n",
       "      <td>0.260042</td>\n",
       "      <td>0.561725</td>\n",
       "      <td>-0.711431</td>\n",
       "      <td>3.181387</td>\n",
       "      <td>England</td>\n",
       "    </tr>\n",
       "    <tr>\n",
       "      <th>1</th>\n",
       "      <td>2499719</td>\n",
       "      <td>1631</td>\n",
       "      <td>-1.508043</td>\n",
       "      <td>-1.393953</td>\n",
       "      <td>-1.280744</td>\n",
       "      <td>1.260816</td>\n",
       "      <td>-1.129144</td>\n",
       "      <td>-0.594481</td>\n",
       "      <td>-0.966294</td>\n",
       "      <td>-0.996953</td>\n",
       "      <td>-0.990073</td>\n",
       "      <td>-1.372080</td>\n",
       "      <td>England</td>\n",
       "    </tr>\n",
       "  </tbody>\n",
       "</table>\n",
       "</div>"
      ],
      "text/plain": [
       "     match  team1  direct_play  counterattack  T_maintenance  T_build_up  \\\n",
       "0  2499719   1609     0.852098      -0.228674      -0.391992    1.375792   \n",
       "1  2499719   1631    -1.508043      -1.393953      -1.280744    1.260816   \n",
       "\n",
       "   T_zona_media  flow_rate  crossing  pressure_point  pressure_loss     shots  \\\n",
       "0      1.008434   2.412985  0.260042        0.561725      -0.711431  3.181387   \n",
       "1     -1.129144  -0.594481 -0.966294       -0.996953      -0.990073 -1.372080   \n",
       "\n",
       "      liga  \n",
       "0  England  \n",
       "1  England  "
      ]
     },
     "execution_count": 31,
     "metadata": {},
     "output_type": "execute_result"
    }
   ],
   "source": [
    "metrics = pd.read_csv(\"../../data/metrics_2.csv\")\n",
    "print(metrics.shape)\n",
    "metrics.head(2)"
   ]
  },
  {
   "cell_type": "markdown",
   "id": "4a081569",
   "metadata": {},
   "source": [
    "### Armo redes\n",
    "\n",
    "Primero cruzo los datos por match"
   ]
  },
  {
   "cell_type": "code",
   "execution_count": 32,
   "id": "c441ad6a",
   "metadata": {},
   "outputs": [
    {
     "name": "stdout",
     "output_type": "stream",
     "text": [
      "(3652, 18)\n"
     ]
    },
    {
     "data": {
      "text/html": [
       "<div>\n",
       "<style scoped>\n",
       "    .dataframe tbody tr th:only-of-type {\n",
       "        vertical-align: middle;\n",
       "    }\n",
       "\n",
       "    .dataframe tbody tr th {\n",
       "        vertical-align: top;\n",
       "    }\n",
       "\n",
       "    .dataframe thead th {\n",
       "        text-align: right;\n",
       "    }\n",
       "</style>\n",
       "<table border=\"1\" class=\"dataframe\">\n",
       "  <thead>\n",
       "    <tr style=\"text-align: right;\">\n",
       "      <th></th>\n",
       "      <th>match</th>\n",
       "      <th>team1</th>\n",
       "      <th>direct_play</th>\n",
       "      <th>counterattack</th>\n",
       "      <th>T_maintenance</th>\n",
       "      <th>T_build_up</th>\n",
       "      <th>T_zona_media</th>\n",
       "      <th>flow_rate</th>\n",
       "      <th>crossing</th>\n",
       "      <th>pressure_point</th>\n",
       "      <th>pressure_loss</th>\n",
       "      <th>shots</th>\n",
       "      <th>liga</th>\n",
       "      <th>home</th>\n",
       "      <th>away</th>\n",
       "      <th>winner</th>\n",
       "      <th>score_home</th>\n",
       "      <th>score_away</th>\n",
       "    </tr>\n",
       "  </thead>\n",
       "  <tbody>\n",
       "    <tr>\n",
       "      <th>0</th>\n",
       "      <td>2499719</td>\n",
       "      <td>1609</td>\n",
       "      <td>0.852098</td>\n",
       "      <td>-0.228674</td>\n",
       "      <td>-0.391992</td>\n",
       "      <td>1.375792</td>\n",
       "      <td>1.008434</td>\n",
       "      <td>2.412985</td>\n",
       "      <td>0.260042</td>\n",
       "      <td>0.561725</td>\n",
       "      <td>-0.711431</td>\n",
       "      <td>3.181387</td>\n",
       "      <td>England</td>\n",
       "      <td>1609</td>\n",
       "      <td>1631</td>\n",
       "      <td>1609</td>\n",
       "      <td>4</td>\n",
       "      <td>3</td>\n",
       "    </tr>\n",
       "    <tr>\n",
       "      <th>1</th>\n",
       "      <td>2499719</td>\n",
       "      <td>1631</td>\n",
       "      <td>-1.508043</td>\n",
       "      <td>-1.393953</td>\n",
       "      <td>-1.280744</td>\n",
       "      <td>1.260816</td>\n",
       "      <td>-1.129144</td>\n",
       "      <td>-0.594481</td>\n",
       "      <td>-0.966294</td>\n",
       "      <td>-0.996953</td>\n",
       "      <td>-0.990073</td>\n",
       "      <td>-1.372080</td>\n",
       "      <td>England</td>\n",
       "      <td>1609</td>\n",
       "      <td>1631</td>\n",
       "      <td>1609</td>\n",
       "      <td>4</td>\n",
       "      <td>3</td>\n",
       "    </tr>\n",
       "  </tbody>\n",
       "</table>\n",
       "</div>"
      ],
      "text/plain": [
       "     match  team1  direct_play  counterattack  T_maintenance  T_build_up  \\\n",
       "0  2499719   1609     0.852098      -0.228674      -0.391992    1.375792   \n",
       "1  2499719   1631    -1.508043      -1.393953      -1.280744    1.260816   \n",
       "\n",
       "   T_zona_media  flow_rate  crossing  pressure_point  pressure_loss     shots  \\\n",
       "0      1.008434   2.412985  0.260042        0.561725      -0.711431  3.181387   \n",
       "1     -1.129144  -0.594481 -0.966294       -0.996953      -0.990073 -1.372080   \n",
       "\n",
       "      liga  home  away  winner  score_home  score_away  \n",
       "0  England  1609  1631    1609           4           3  \n",
       "1  England  1609  1631    1609           4           3  "
      ]
     },
     "execution_count": 32,
     "metadata": {},
     "output_type": "execute_result"
    }
   ],
   "source": [
    "df0 = pd.merge(metrics, matches[['match', 'home', 'away', 'winner', 'score_home','score_away']], on='match', how='left')\n",
    "\n",
    "print(df0.shape)\n",
    "df0.head(2)"
   ]
  },
  {
   "cell_type": "code",
   "execution_count": 33,
   "id": "da8e2f25",
   "metadata": {},
   "outputs": [
    {
     "data": {
      "text/plain": [
       "array([ 1609,  1631,  1625,  1651,  1610,  1646,  1628,  1673,  1623,\n",
       "        1639,  1611,  1633,  1613,  1624,  1619, 10531,  1612,  1644,\n",
       "        1627,  1659])"
      ]
     },
     "execution_count": 33,
     "metadata": {},
     "output_type": "execute_result"
    }
   ],
   "source": [
    "metrics[metrics[\"liga\"]==\"England\"]['team1'].unique()"
   ]
  },
  {
   "cell_type": "code",
   "execution_count": 34,
   "id": "b4b7dc90",
   "metadata": {},
   "outputs": [],
   "source": [
    "metricas = ['direct_play','counterattack','T_maintenance','T_build_up',\n",
    "            'T_zona_media','flow_rate','crossing','pressure_point','pressure_loss',\t\n",
    "            'shots']\n",
    "\n",
    "ligas = ['England','France','Germany','Italy','Spain']\n",
    "\n",
    "\n",
    "for liga in ligas:\n",
    "\n",
    "    carpeta = f'{liga}'\n",
    "    if not os.path.exists(carpeta):\n",
    "        os.makedirs(carpeta)\n",
    "\n",
    "\n",
    "    team2rank = ligue2team2rank[liga]\n",
    "    df = df0[ df0['liga']==liga ]\n",
    "\n",
    "\n",
    "    for metrica in metricas:\n",
    "\n",
    "        d={}\n",
    "\n",
    "        def f(row):\n",
    "\n",
    "            # tomo datos\n",
    "            team1 = str(row.team1)\n",
    "            nodo1 = team2rank[team1]\n",
    "\n",
    "            if row.team1==row.home:\n",
    "                team2=str(row.away)\n",
    "            else:\n",
    "                team2=str(row.home)\n",
    "\n",
    "            nodo2 = team2rank[team2]\n",
    "\n",
    "            w = row[metrica] \n",
    "\n",
    "            try:\n",
    "                d[(nodo1,nodo2)]+=w\n",
    "            except:\n",
    "                d[(nodo1,nodo2)]=w\n",
    "            \n",
    "\n",
    "        df.agg( lambda x: f(x), axis=1 )\n",
    "\n",
    "\n",
    "        # armo red\n",
    "        Nmax = max(elemento for tupla in d for elemento in tupla)\n",
    "        red = []\n",
    "\n",
    "        for i in range(1,Nmax):\n",
    "\n",
    "            for j in range(i+1, Nmax+1):\n",
    "\n",
    "                fij = d[(j,i)] - d[(i,j)] \n",
    "\n",
    "                red.append( [i,j, fij] )\n",
    "\n",
    "\n",
    "\n",
    "        #guardo data\n",
    "        arx_out = f'{liga}/red_{metrica}.dat'\n",
    "\n",
    "        np.savetxt(\n",
    "            arx_out,               \n",
    "            red,               \n",
    "            fmt='%d,%d,%.4e',         \n",
    "            delimiter=',', \n",
    "            header='n1,n2,fij',\n",
    "            comments=''\n",
    "        )\n",
    "\n"
   ]
  }
 ],
 "metadata": {
  "kernelspec": {
   "display_name": "base",
   "language": "python",
   "name": "python3"
  },
  "language_info": {
   "codemirror_mode": {
    "name": "ipython",
    "version": 3
   },
   "file_extension": ".py",
   "mimetype": "text/x-python",
   "name": "python",
   "nbconvert_exporter": "python",
   "pygments_lexer": "ipython3",
   "version": "3.10.14"
  }
 },
 "nbformat": 4,
 "nbformat_minor": 5
}
