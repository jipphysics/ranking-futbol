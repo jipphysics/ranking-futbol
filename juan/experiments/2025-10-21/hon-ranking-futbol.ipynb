{
 "cells": [
  {
   "cell_type": "code",
   "execution_count": 1,
   "id": "92fc835e-f44d-4bdd-a06a-46c4a2ef1222",
   "metadata": {},
   "outputs": [
    {
     "name": "stderr",
     "output_type": "stream",
     "text": [
      "\u001b[32m\u001b[1m  Activating\u001b[22m\u001b[39m project at `~/Workbench/2025/research/ranking-futbol`\n"
     ]
    }
   ],
   "source": [
    "# Run this cell in a folder contained by the current project\n",
    "using Pkg\n",
    "#Pkg.activate()                  # Walks up the path tree until finds Project.toml\n",
    "#Pkg.activate(\".\")              # \n",
    "#Pkg.activate(\"@__DIR__\")       # \n",
    "Pkg.activate(\"../../../\")      #\n",
    "Pkg.instantiate()"
   ]
  },
  {
   "cell_type": "code",
   "execution_count": 2,
   "id": "b2057b3f-705c-40b1-ba90-d808b93c0f39",
   "metadata": {},
   "outputs": [],
   "source": [
    "using Plots\n",
    "using LaTeXStrings\n",
    "using Graphs\n",
    "#using MetaGraphs\n",
    "#using MetaGraphsNext\n",
    "using GraphPlot\n",
    "using SimpleWeightedGraphs\n",
    "using Karnak\n",
    "using NetworkLayout\n",
    "using Colors\n",
    "using Random\n",
    "using LinearAlgebra\n",
    "using OffsetArrays\n",
    "using SparseArrays\n",
    "using Serialization\n",
    "using IterativeSolvers\n",
    "using Krylov\n",
    "using BenchmarkTools\n",
    "using Profile\n",
    "using ProfileView\n",
    "using Statistics\n",
    "using DifferentialEquations\n",
    "using LoopVectorization\n",
    "using Folds\n",
    "using Transducers\n",
    "using Distributed\n",
    "using JLD2\n",
    "using OnlineStats\n",
    "using ImageFiltering\n",
    "using SavitzkyGolay\n",
    "using Interpolations\n",
    "using DataInterpolations\n",
    "using Polynomials\n",
    "using CurveFit\n",
    "using DataFrames\n",
    "using LsqFit\n",
    "using ForwardDiff\n",
    "using DelimitedFiles\n",
    "using JSON\n",
    "using Dates"
   ]
  },
  {
   "cell_type": "raw",
   "id": "08583d49-b24d-463c-a05d-916bfd3cca3f",
   "metadata": {},
   "source": [
    "# See what packages should be installed according to Project.toml and Manifest.toml\n",
    "Pkg.resolve()"
   ]
  },
  {
   "cell_type": "raw",
   "id": "57b6ff46-c39a-4f7a-9626-1ea2f7170695",
   "metadata": {},
   "source": [
    "# Run this if you want to install a package\n",
    "pkgs = [\"Plots\",\"LaTeXStrings\",\"Graphs\",\"SimpleWeightedGraphs\",\"GraphPlot\",\"Karnak\",\"NetworkLayout\",\"Colors\",\"Random\",\"LinearAlgebra\",\"OffsetArrays\",\"SparseArrays\",\"Serialization\",\"IterativeSolvers\",\"Krylov\",\"BenchmarkTools\",\"Profile\",\"ProfileView\",\"Statistics\",\"DifferentialEquations\",\"LoopVectorization\",\"Folds\",\"Transducers\",\"Distributed\",\"JLD2\",\"OnlineStats\",\"ImageFiltering\",\"SavitzkyGolay\",\"Interpolations\",\"DataInterpolations\",\"Polynomials\",\"CurveFit\",\"DataFrames\",\"LsqFit\",\"ForwardDiff\",\"JSON\",\"Dates\"]\n",
    "#for p in pkgs\n",
    "#    Pkg.add(p)\n",
    "#end\n",
    "#Pkg.add(pkgs[end])\n",
    "Pkg.add(\"GraphPlot\")"
   ]
  },
  {
   "cell_type": "markdown",
   "id": "2627b369-35f9-4769-a881-8cda7b00fe68",
   "metadata": {
    "tags": []
   },
   "source": [
    "# Utils"
   ]
  },
  {
   "cell_type": "markdown",
   "id": "fdcf0200-d3be-4cd1-819c-3ce7d24a9f29",
   "metadata": {
    "tags": []
   },
   "source": [
    "## Enumerator\n",
    "\n",
    "Tools to compute a running enumeration of a \"list\" of objects."
   ]
  },
  {
   "cell_type": "code",
   "execution_count": 3,
   "id": "4cfb9895-978a-4d31-9723-2ed351c7c925",
   "metadata": {},
   "outputs": [
    {
     "data": {
      "text/plain": [
       "enum! (generic function with 1 method)"
      ]
     },
     "execution_count": 3,
     "metadata": {},
     "output_type": "execute_result"
    }
   ],
   "source": [
    "function enum!(d,k)\n",
    "    return get!(d,k,length(d)+1)\n",
    "end"
   ]
  },
  {
   "cell_type": "markdown",
   "id": "63a50e70-b79c-4f22-a9e9-9bb27a5cfd18",
   "metadata": {
    "tags": []
   },
   "source": [
    "### Test"
   ]
  },
  {
   "cell_type": "raw",
   "id": "c7c1b585-b007-4f54-ae5b-24b263e1bb81",
   "metadata": {},
   "source": [
    "d = Dict{Any,Int}()\n",
    "@show enum!(d,\"a\")\n",
    "@show enum!(d,\"b\")\n",
    "@show enum!(d,\"c\")\n",
    "@show enum!(d,\"b\")\n",
    "d"
   ]
  },
  {
   "cell_type": "markdown",
   "id": "2eb74874-43ef-4f72-8971-aa4e5cc81f6d",
   "metadata": {
    "tags": []
   },
   "source": [
    "## Running Statistics\n",
    "\n",
    "Tools to compute running statistics such as mean and std from a stream of numbers."
   ]
  },
  {
   "cell_type": "code",
   "execution_count": 4,
   "id": "1f265db1-ff47-4cf8-af0a-09e3b131d5b0",
   "metadata": {},
   "outputs": [],
   "source": [
    "mutable struct RunningStat\n",
    "    n::Int\n",
    "    m::Real # mean\n",
    "    s::Real # std\n",
    "end\n",
    "\n",
    "function RunningStat()\n",
    "    return RunningStat(0,0.0,0.0)\n",
    "end\n",
    "\n",
    "function Base.push!(rs::RunningStat,v::Real)\n",
    "    if rs.n>0\n",
    "        rs.n += 1\n",
    "        new_m = rs.m + (v-rs.m)/rs.n\n",
    "        rs.s += (v-rs.m)*(v-new_m)\n",
    "        rs.m = new_m\n",
    "    else\n",
    "        rs.n = 1\n",
    "        rs.m = v\n",
    "        rs.s = 0\n",
    "    end\n",
    "    return rs.m\n",
    "end\n",
    "\n",
    "function Statistics.mean(rs::RunningStat)\n",
    "    return rs.m \n",
    "end\n",
    "\n",
    "function Statistics.var(rs::RunningStat)\n",
    "    return rs.s/(rs.n-1)\n",
    "end\n",
    "\n",
    "function Statistics.std(rs::RunningStat)\n",
    "    return sqrt(var(rs))\n",
    "end"
   ]
  },
  {
   "cell_type": "markdown",
   "id": "eeeaace5-918f-4cc3-83db-e9d1a7d9d752",
   "metadata": {
    "tags": []
   },
   "source": [
    "### Tests"
   ]
  },
  {
   "cell_type": "raw",
   "id": "f97155dd-f549-44d2-9e0e-d861d3d474c2",
   "metadata": {},
   "source": [
    "list_v = 10 .+ 5.0*randn(1000)\n",
    ";"
   ]
  },
  {
   "cell_type": "raw",
   "id": "ed6abaef-2a2b-4fdd-bc36-1819dfeaec11",
   "metadata": {},
   "source": [
    "rs = RunningStat()"
   ]
  },
  {
   "cell_type": "raw",
   "id": "1437d9d6-6296-4586-b47f-66cb268e3f2b",
   "metadata": {},
   "source": [
    "for v in list_v\n",
    "    push!(rs,v)\n",
    "end"
   ]
  },
  {
   "cell_type": "raw",
   "id": "edff5a6e-1344-464f-838d-278d888037ae",
   "metadata": {},
   "source": [
    "mean(rs),std(rs)"
   ]
  },
  {
   "cell_type": "raw",
   "id": "9d137423-bb16-4b6b-ba12-f418ce98da1f",
   "metadata": {},
   "source": [
    "mean(list_v),std(list_v)"
   ]
  },
  {
   "cell_type": "markdown",
   "id": "3d486905-7f4b-4bf4-8557-37107ca9a5c3",
   "metadata": {},
   "source": [
    "## Coefficient of determiantion, $R^2$\n",
    "\n",
    "Tools to compute the $R^2$ coefficient to evaluate the fit of functions."
   ]
  },
  {
   "cell_type": "code",
   "execution_count": 5,
   "id": "680644ba-9b35-470e-b2e6-9dbf9db20d1e",
   "metadata": {},
   "outputs": [
    {
     "data": {
      "text/plain": [
       "R_squared (generic function with 1 method)"
      ]
     },
     "execution_count": 5,
     "metadata": {},
     "output_type": "execute_result"
    }
   ],
   "source": [
    "function R_squared(y_data,y_fit)\n",
    "    y_mean = mean(y_data)\n",
    "    SS_res = sum((y_data .- y_fit) .^ 2)\n",
    "    SS_tot = sum((y_data .- y_mean) .^ 2)\n",
    "    R_sqr = 1 - SS_res / SS_tot\n",
    "    return R_sqr\n",
    "end"
   ]
  },
  {
   "cell_type": "markdown",
   "id": "779d37a3-4254-434e-8233-6de9110349f4",
   "metadata": {},
   "source": [
    "### Tests"
   ]
  },
  {
   "cell_type": "raw",
   "id": "904ec2d0-3469-4117-a061-275951137d15",
   "metadata": {},
   "source": [
    "# Define the model function\n",
    "@. model(x, p) = p[1] * x + p[2]\n",
    "\n",
    "# Sample data (example)\n",
    "x_data = [1.0, 2.0, 3.0, 4.0, 5.0]\n",
    "y_data = [2.2, 2.8, 3.6, 4.5, 5.1]\n",
    "\n",
    "# Initial guess for parameters\n",
    "p0 = [1.0, 1.0]\n",
    "\n",
    "# Perform curve fitting\n",
    "fit = LsqFit.curve_fit(model, x_data, y_data, p0)\n",
    "\n",
    "# Compute fitted values\n",
    "y_fit = model(x_data, coef(fit))\n",
    "\n",
    "# Compute R_sqr\n",
    "R_sqr = R_squared(y_data,y_fit)"
   ]
  },
  {
   "cell_type": "raw",
   "id": "ab709d43-a408-4288-b109-75fb6d59656f",
   "metadata": {},
   "source": [
    "plot()\n",
    "#plot!(yscale=:log10)\n",
    "#plot!(ylim=(0.0,1.0))\n",
    "plot!(xlabel=L\"x\")\n",
    "plot!(ylabel=L\"y\")\n",
    "scatter!(x_data,y_data,label=\"data\")\n",
    "plot!(x_data,y_fit,label=\"fit, \\$R^2=0.995\\$\")\n",
    "#plot!(0.0:0.0,x->0.0,label=\"\\$z=1\\$\",width=0.0,c=:white)\n",
    "#plot!(legendtitle=L\"\\mathrm{1D},\\;z=1\",legendtitlefontsize=8)\n",
    "#plot!(list_sigma,x->0.6827/2,label=\"\",style=:dash,color=:grey)\n",
    "#plot!(\n",
    "#    xticks=([0,1,2,3,4,5],[L\"0\",L\"1\",L\"2\",L\"3\",L\"4\",L\"5\"]),\n",
    "#    yticks=([0,1,2,3],[L\"0\",L\"1\",L\"2\",L\"3\"]),\n",
    "#    tickfont=font(11),\n",
    "#)"
   ]
  },
  {
   "cell_type": "markdown",
   "id": "89dac828-f026-4e39-b039-129ea214fa0b",
   "metadata": {},
   "source": [
    "## Log-range\n",
    "\n",
    "Tools to create a range of numbers but in logarithmic scale."
   ]
  },
  {
   "cell_type": "code",
   "execution_count": 6,
   "id": "25b51d57-e027-46b1-a140-8c9e9d3985cc",
   "metadata": {},
   "outputs": [
    {
     "data": {
      "text/plain": [
       "logrange (generic function with 1 method)"
      ]
     },
     "execution_count": 6,
     "metadata": {},
     "output_type": "execute_result"
    }
   ],
   "source": [
    "function logrange(start,stepmul,stop)\n",
    "    @assert start>0\n",
    "    @assert stepmul>1\n",
    "    r = []\n",
    "    s = start\n",
    "    while s <= stop\n",
    "        push!(r,s)\n",
    "        s *= stepmul\n",
    "    end\n",
    "    return r\n",
    "end"
   ]
  },
  {
   "cell_type": "markdown",
   "id": "d76c801d-cc0c-42b6-b5c7-d5798d0a394f",
   "metadata": {
    "tags": []
   },
   "source": [
    "### Test"
   ]
  },
  {
   "cell_type": "raw",
   "id": "7af403cb-1ebe-4cec-9b09-ba6de9f942f1",
   "metadata": {},
   "source": [
    "logrange(1e-4,1.1,1)"
   ]
  },
  {
   "cell_type": "markdown",
   "id": "ab715120-06c8-4795-84a9-a6873c6bd716",
   "metadata": {},
   "source": [
    "## Network stuff"
   ]
  },
  {
   "cell_type": "code",
   "execution_count": 7,
   "id": "168aa645-7cbb-4e94-88e7-4c859d2ab001",
   "metadata": {},
   "outputs": [
    {
     "data": {
      "text/plain": [
       "main_component (generic function with 1 method)"
      ]
     },
     "execution_count": 7,
     "metadata": {},
     "output_type": "execute_result"
    }
   ],
   "source": [
    "function main_component(g)\n",
    "    c = connected_components(g)\n",
    "    _,i = findmax(length.(c))\n",
    "    return g[c[i]]\n",
    "end"
   ]
  },
  {
   "cell_type": "markdown",
   "id": "5e6b9e62-cfe6-430f-bdce-50a9b138e638",
   "metadata": {
    "tags": []
   },
   "source": [
    "# Simplicial Complex\n",
    "\n",
    "Tools to represent simplicial complexes and associated operators in matrix form. For further details, please read de manuscript.\n",
    "\n",
    "The array `K[k]` is a representation of $K_k$ and has dimensions $m_k\\times(k+1)$ and is used to enumerate the $k$-simplices of the complex.\n",
    "Here $m_k=|K_k|=\\dim C_k=\\dim C_k^*$ is the number of $k$-simplices in the simplicial complex.\n",
    "Especifically, `K[k][l,:]` is an array `[i_0,i_1,...,i_k]` denoting the $l$-th $k$-simplex of the complex.\n",
    "By assumption, $i_0<i_1<...<i_k$.\n",
    "The dictionary `I[k]` is the inverse mapping of `K[k]`.\n",
    "It maps arrays `[i_0,i_1,...,i_k]` to their corresponding index `l` in the enumeration."
   ]
  },
  {
   "cell_type": "markdown",
   "id": "b66c7574-8237-47bf-b43f-4714649fa2c0",
   "metadata": {
    "tags": []
   },
   "source": [
    "## Matricial representation of the (co)-boundary and (co)-differential operators\n",
    "\n",
    "Recall that, if\n",
    "\n",
    "$$\n",
    "\\partial_k(e_s) = (\\alpha_k)_s{}^r e_r\n",
    "$$\n",
    "$$\n",
    "\\partial_k^*(e_s) = (\\mu_k)_s{}^r e_r \n",
    "$$\n",
    "$$\n",
    "d_k(e^s) = (\\beta_k)^s{}_r e^r\n",
    "$$\n",
    "$$\n",
    "d_k^*(e^s) = (\\mu_k)^s{}_r e^r\n",
    "$$\n",
    "\n",
    "and $m_{sr}=\\delta_{sr}$, then\n",
    "\n",
    "$$\n",
    "(\\beta_k)^s{}_r = (\\alpha_{k+1})_r{}^s\n",
    "$$\n",
    "$$\n",
    "(\\mu_k)_s{}^r = (\\alpha_{k})_r{}^s\n",
    "$$\n",
    "$$\n",
    "(\\nu_k)^s{}_r = (\\beta_{k})^r{}_s = (\\alpha_{k+1})_s{}^r\n",
    "$$\n",
    "\n",
    "and, therefore\n",
    "\n",
    "$$\n",
    "(\\partial_k(c))^r = (\\alpha_k^T)^r{}_sc^s\n",
    "$$\n",
    "$$\n",
    "(\\partial_k^*(c))^r = (\\alpha_k)^r{}_sc^s\n",
    "$$\n",
    "$$\n",
    "(d_k(f))_r = (\\alpha_{k+1})_r{}^sf_s\n",
    "$$\n",
    "$$\n",
    "(d_k^*(f))_r = (\\alpha_{k+1}^T)_r{}^sf_s\n",
    "$$\n",
    "\n",
    "Finally, note that $\\alpha_k\\in \\mathbb{R}^{m_{k}\\times m_{k-1}}$ for $k\\in 1,2,...,\\kappa$ and\n",
    "\n",
    "$$\n",
    "(\\alpha_{k})_{i_0...i_j...i_k}{}^{i_0...\\hat{i}_j...i_k} = (-1)^j\n",
    "$$\n",
    "\n",
    "Here, $d_0$ and $d_1$ are needed. \n",
    "Hence, the matrices $\\beta_0=\\alpha_1$ and $\\beta_1=\\alpha_2$ have to be computed, respectively. \n",
    "In particular, assuming $i<j<k$, it is found that\n",
    "\n",
    "$$(\\alpha_1)_{ij}{}^{j} = 1$$\n",
    "$$(\\alpha_1)_{ij}{}^{i} = -1$$\n",
    "\n",
    "and\n",
    "\n",
    "$$(\\alpha_2)_{ijk}{}^{jk} = 1$$\n",
    "$$(\\alpha_2)_{ijk}{}^{ik} = -1$$\n",
    "$$(\\alpha_2)_{ijk}{}^{ij} = 1$$"
   ]
  },
  {
   "cell_type": "code",
   "execution_count": 8,
   "id": "50579bd5-9f20-4288-9eb7-7328f0cd449a",
   "metadata": {},
   "outputs": [],
   "source": [
    "struct SimplicialComplex\n",
    "    K::Any\n",
    "    I::Any\n",
    "    alpha::Any\n",
    "end"
   ]
  },
  {
   "cell_type": "code",
   "execution_count": 9,
   "id": "4aaed4f9-b7ba-4319-a67d-d86888b1651a",
   "metadata": {},
   "outputs": [
    {
     "data": {
      "text/plain": [
       "ndim"
      ]
     },
     "execution_count": 9,
     "metadata": {},
     "output_type": "execute_result"
    }
   ],
   "source": [
    "\"\"\"\n",
    "Number of dimensions (kappa+1) of a simplicial complex, k = 0,1,...,kappa.\n",
    "\"\"\"\n",
    "function ndim(sc::SimplicialComplex)\n",
    "    return length(sc.K)\n",
    "end"
   ]
  },
  {
   "cell_type": "code",
   "execution_count": 10,
   "id": "69939792-04a5-48c2-95ce-28cfdac18233",
   "metadata": {},
   "outputs": [
    {
     "data": {
      "text/plain": [
       "kappa"
      ]
     },
     "execution_count": 10,
     "metadata": {},
     "output_type": "execute_result"
    }
   ],
   "source": [
    "\"\"\"\n",
    "Maximum dimension of a simplicial complex.\n",
    "\"\"\"\n",
    "function kappa(sc::SimplicialComplex)\n",
    "    return ndim(sc)-1\n",
    "end"
   ]
  },
  {
   "cell_type": "code",
   "execution_count": 11,
   "id": "4ea109a6-a266-48ae-93d3-02fbbf0f129e",
   "metadata": {},
   "outputs": [
    {
     "data": {
      "text/plain": [
       "m_k"
      ]
     },
     "execution_count": 11,
     "metadata": {},
     "output_type": "execute_result"
    }
   ],
   "source": [
    "\"\"\"\n",
    "m_k = dim C_k = dim C_k^*.\n",
    "\"\"\"\n",
    "function m_k(sc::SimplicialComplex,k::Int)\n",
    "    if k>=0 && k<=kappa(sc)\n",
    "        return size(sc.K[k])[1]\n",
    "    end\n",
    "    return 0\n",
    "end"
   ]
  },
  {
   "cell_type": "code",
   "execution_count": 12,
   "id": "cd10bb3b-593e-42b5-965f-a5ce279fe2f8",
   "metadata": {},
   "outputs": [
    {
     "data": {
      "text/plain": [
       "nnz_alpha"
      ]
     },
     "execution_count": 12,
     "metadata": {},
     "output_type": "execute_result"
    }
   ],
   "source": [
    "\"\"\"\n",
    "List of the numbers of non-zero elements in the matricial representations of the (dual)-(co)-boundary operators, alpha_k.\n",
    "\"\"\"\n",
    "function nnz_alpha(sc::SimplicialComplex)\n",
    "    return [nnz(sc.alpha[k]) for k in 1:length(sc.alpha)] \n",
    "end"
   ]
  },
  {
   "cell_type": "code",
   "execution_count": 13,
   "id": "ead17c73-6ac6-42ca-91ef-479d101d2cb6",
   "metadata": {},
   "outputs": [
    {
     "data": {
      "text/plain": [
       "I_to_SC"
      ]
     },
     "execution_count": 13,
     "metadata": {},
     "output_type": "execute_result"
    }
   ],
   "source": [
    "\"\"\"\n",
    "Takes as input a list I of dictionaries I_k mapping simplices [i_0,i_1,...,i_k] to their corresponding enumeration numbers l.\n",
    "Returns a SimplicialComplex containing:\n",
    "    K : the list of the inverse mappings K_k of the I_k, and\n",
    "    I : the list of the mappings I_k passed as input,\n",
    "    alpha : the list alpha of the corresponding matrices alpha_k.\n",
    "\"\"\"\n",
    "function I_to_SC(I)\n",
    "    # Create K\n",
    "    K = []\n",
    "    for k in 0:(length(I)-1)\n",
    "        Kk = zeros(Int64,(length(I[k]),k+1))\n",
    "        for (s,l) in I[k]\n",
    "            Kk[l,:] = s\n",
    "        end\n",
    "        push!(K,Kk)\n",
    "    end\n",
    "    K = OffsetArray(K,0:(length(I)-1))\n",
    "\n",
    "    # Create A\n",
    "    alpha = []\n",
    "    for k in 1:(length(I)-1)\n",
    "        #@show k\n",
    "        Kk=K[k]\n",
    "        Kp=K[k-1] # p = k-1\n",
    "        Ik=I[k]\n",
    "        Ip=I[k-1]\n",
    "        n_k = size(Kk)[1]\n",
    "        n_p = size(Kp)[1]        \n",
    "        rows = zeros(Int64,(k+1)*n_k)\n",
    "        cols = zeros(Int64,(k+1)*n_k)\n",
    "        vals = zeros(Float64,(k+1)*n_k)\n",
    "        t = 0 # To enumerate the entries of the sparse matrix.\n",
    "        for l in 1:n_k\n",
    "            s = Kk[l,:]\n",
    "            for j in 1:(k+1)\n",
    "                r = vcat(s[1:(j-1)],s[(j+1):end])\n",
    "                m = Ip[r]\n",
    "                t+=1\n",
    "                rows[t] = l\n",
    "                cols[t] = m\n",
    "                vals[t] = 1-2*((j-1)%2)\n",
    "                #@show s,l,r,m,t,vals[t]\n",
    "            end\n",
    "        end\n",
    "        alpha_k = sparse(rows,cols,vals,n_k,n_p)\n",
    "        push!(alpha,alpha_k)\n",
    "    end\n",
    "    return SimplicialComplex(K,I,alpha)\n",
    "end"
   ]
  },
  {
   "cell_type": "code",
   "execution_count": 14,
   "id": "b63491a9-ad0d-4bc2-96d5-c23c094caeec",
   "metadata": {},
   "outputs": [
    {
     "data": {
      "text/plain": [
       "g_to_3_cliques"
      ]
     },
     "execution_count": 14,
     "metadata": {},
     "output_type": "execute_result"
    }
   ],
   "source": [
    "\"\"\"\n",
    "Takes as input a graph g and returns the list of I_k for k=0,1,2.\n",
    "\"\"\"\n",
    "function g_to_3_cliques(g)\n",
    "    # Generate I_0\n",
    "    I0 = Dict([i] => i for i in 1:nv(g))    \n",
    "    \n",
    "    # Generate I_1\n",
    "    I1 = Dict()    \n",
    "    for (l,e) in enumerate(edges(g))\n",
    "        i = src(e)\n",
    "        j = dst(e)\n",
    "        I1[[i,j]] = l\n",
    "    end\n",
    "    \n",
    "    # Generate I_2\n",
    "    I2 = Dict()\n",
    "    t = 0\n",
    "    for i in 1:nv(g)\n",
    "        for j in neighbors(g,i)\n",
    "            if i<j\n",
    "                for k in neighbors(g,j)\n",
    "                    if j<k && has_edge(g,k,i)\n",
    "                        t += 1\n",
    "                        I2[[i,j,k]] = t\n",
    "                    end\n",
    "                end\n",
    "            end\n",
    "        end\n",
    "    end\n",
    "    \n",
    "    I = OffsetArray([I0,I1,I2],0:2)\n",
    "    return I\n",
    "end"
   ]
  },
  {
   "cell_type": "markdown",
   "id": "bd2f3e46-172c-49a7-8bc9-992659675d22",
   "metadata": {
    "tags": []
   },
   "source": [
    "### Tests"
   ]
  },
  {
   "cell_type": "markdown",
   "id": "31db079b-1d81-4aec-a68b-278716e356f1",
   "metadata": {},
   "source": [
    "#### Testing `g_to_3_cliques` and `I_to_SC` "
   ]
  },
  {
   "cell_type": "raw",
   "id": "1ac612b0-3165-482a-9ed2-168ccb78ca4a",
   "metadata": {},
   "source": [
    "g = erdos_renyi(6, 0.4)\n",
    "g = main_component(g)"
   ]
  },
  {
   "cell_type": "raw",
   "id": "35e2fd58-6b52-46c8-9a79-55d31e2d68fb",
   "metadata": {},
   "source": [
    "I_3c = g_to_3_cliques(g) # We use I123 instead of I since in Julia I is a reserved name for the identity matrix."
   ]
  },
  {
   "cell_type": "raw",
   "id": "8c464186-24c0-4baa-9a9d-812255a7d13a",
   "metadata": {},
   "source": [
    "sc = I_to_SC(I_3c)"
   ]
  },
  {
   "cell_type": "raw",
   "id": "20284e5a-da48-415f-bcac-daf0c4111265",
   "metadata": {},
   "source": [
    "sc.K[1]"
   ]
  },
  {
   "cell_type": "raw",
   "id": "6d01f1f3-1a22-4f81-8f83-2f293134a175",
   "metadata": {},
   "source": [
    "sc.I[1]"
   ]
  },
  {
   "cell_type": "raw",
   "id": "4ddc0f49-a6b4-4626-a45c-044407fbca05",
   "metadata": {},
   "source": [
    "sc.K[2]"
   ]
  },
  {
   "cell_type": "raw",
   "id": "173a1d7c-686b-455e-981a-6270be01714e",
   "metadata": {},
   "source": [
    "sc.I[2]"
   ]
  },
  {
   "cell_type": "raw",
   "id": "d1f91d19-fb39-42fc-9b9b-4ecd82638f8c",
   "metadata": {},
   "source": [
    "sc.alpha[1]"
   ]
  },
  {
   "cell_type": "raw",
   "id": "24e7576b-1a96-4dd7-8d56-883dbdd21b27",
   "metadata": {},
   "source": [
    "sc.alpha[2]"
   ]
  },
  {
   "cell_type": "raw",
   "id": "6ed432eb-9902-487a-a7b9-7460ca59e66d",
   "metadata": {},
   "source": [
    "nnz_alpha(sc)"
   ]
  },
  {
   "cell_type": "markdown",
   "id": "44689a3e-9f2f-40f2-9fed-fb073fdbeba7",
   "metadata": {
    "tags": []
   },
   "source": [
    "# Hodge decomposition of $f$\n",
    "\n",
    "Tools to compute the Hodge decomposition of a 1-chain $f$.\n",
    "\n",
    "Recall that any $f\\in C_1^*$ admits an unique decomposition $f=s+h+g$, where there exists $w\\in C_0^*$ such that \n",
    "\n",
    "$$\n",
    "L_0(w)=L^{\\uparrow}_0(w)=d_0^*(d_0(w))=d_0^*(g)=d_0^*(f)\n",
    "$$\n",
    "\n",
    "and there exists $u\\in C_2^*$ such that\n",
    "\n",
    "$$\n",
    "L_2^{\\downarrow}(u)=d_1(d_1^*(u))=d_1(s)=d_1(f)\n",
    "$$\n",
    "\n",
    "In this way, we can find $w$ by solving $L^{\\uparrow}_0(w)=d_0^*(f)$ and $u$ by solving $L_2^{\\downarrow}(u)=d_1(f)$. Then, we can find $g=d_0(w)$, $s=d_1^*(u)$ and $h=f-g-s$."
   ]
  },
  {
   "cell_type": "markdown",
   "id": "c1facf4d-47f7-4300-a47c-dcb5f683d1ef",
   "metadata": {
    "tags": [],
    "toc-hr-collapsed": true
   },
   "source": [
    "## Matricial form\n",
    "\n",
    "The component-wise form of equation $d_0^*(d_0(w))=d_0^*(f)$ is\n",
    "\n",
    "$$\n",
    "(\\alpha_1^T)_r{}^s(\\alpha_1)_s{}^qw_q = (\\alpha_1^T)_r{}^sf_s\n",
    "$$\n",
    "\n",
    "or, matricially\n",
    "\n",
    "$$\n",
    "\\alpha_1^T \\alpha_1 w = \\alpha_1^T f \\;\\;\\;\\; (1)\n",
    "$$\n",
    "\n",
    "Similarly, the component-wise form of equation $g = d_0(w)$ is\n",
    "\n",
    "$$\n",
    "(\\alpha_1)_r{}^s w_s\n",
    "$$\n",
    "\n",
    "or, matricially\n",
    "\n",
    "$$\n",
    "g = \\alpha_1 w\n",
    "$$\n",
    "\n",
    "Similarly, the matricial form of equation $d_1(d_1^*(u))=d_1(f)$ is\n",
    "\n",
    "$$\n",
    "\\alpha_2 \\alpha_2^T u = \\alpha_2 f \\;\\;\\;\\; (2)\n",
    "$$\n",
    "\n",
    "and, the matricial form of equation $s=d_1^*(u)$ is\n",
    "\n",
    "$$\n",
    "s = \\alpha_2^T u\n",
    "$$"
   ]
  },
  {
   "cell_type": "markdown",
   "id": "4bf193c2-5042-4fe8-bc8f-2b4a68afc0b6",
   "metadata": {
    "jp-MarkdownHeadingCollapsed": true,
    "tags": [],
    "toc-hr-collapsed": true
   },
   "source": [
    "### Test example of Eqs. (18) and (20) in [2].\n",
    "\n",
    "Eq. (18) of [2] is the analogous of Eq. (1) where $w$ in Eq. (1) is $\\alpha$ in Eq. (18) of [2] and $f$ in Eq. (1) is the analogous of $w$ in Eq. (18) of [2].\n",
    "The matrix of Eq. (18) in [2] is analogous to our $L_0=\\alpha_1^T\\alpha_1$.\n",
    "Similarly, Eq. (20) of [2] is the analogous of Eq. (2) where $u$ in Eq. (2) is the analogous of $\\gamma$ in Eq. (20) of [2] and $f$ in Eq. (2) is the analogous of $w$ in Eq. (20) of [2].\n",
    "The matrix of Eq. (20) in [2] is analogous to our $L_2^{\\downarrow}=\\alpha_2\\alpha_2^T$."
   ]
  },
  {
   "cell_type": "markdown",
   "id": "3f950bcd-7973-4855-98fe-1588bd660c14",
   "metadata": {},
   "source": [
    "The $k$-clique complex of $g$ is the simplicial complex obtained by considering all the $q$-cliques of $g$ for $q\\leq k$.\n",
    "\n",
    "First, the 3-clique complex of the network of Fig. (1) in [2] is created."
   ]
  },
  {
   "cell_type": "raw",
   "id": "f9829314-0a71-4eae-854c-56a14a7fe0ab",
   "metadata": {},
   "source": [
    "I0 = Dict{Any,Int}()\n",
    "I1 = Dict{Any,Int}()\n",
    "I2 = Dict{Any,Int}()\n",
    "\n",
    "for i in 1:8\n",
    "    enum!(I0,[i])\n",
    "end\n",
    "I0\n",
    "\n",
    "enum!(I1,[1,2])\n",
    "enum!(I1,[1,8])\n",
    "enum!(I1,[2,3])\n",
    "enum!(I1,[2,6])\n",
    "enum!(I1,[3,4])\n",
    "enum!(I1,[3,5])\n",
    "enum!(I1,[3,6])\n",
    "enum!(I1,[3,8])\n",
    "enum!(I1,[4,5])\n",
    "enum!(I1,[4,6])\n",
    "enum!(I1,[5,6])\n",
    "enum!(I1,[6,7])\n",
    "enum!(I1,[7,8])\n",
    "I1\n",
    "\n",
    "enum!(I2,[2,3,6])\n",
    "enum!(I2,[3,4,5])\n",
    "enum!(I2,[3,4,6])\n",
    "enum!(I2,[3,5,6])\n",
    "enum!(I2,[4,5,6])\n",
    "I2"
   ]
  },
  {
   "cell_type": "raw",
   "id": "d14255c8-ebd9-4750-bb42-337fa85ab1be",
   "metadata": {},
   "source": [
    "I_vs_k = g_to_3_cliques(g)\n",
    "sc = I_to_SC(I_vs_k)\n",
    "sc.alpha[2]"
   ]
  },
  {
   "cell_type": "raw",
   "id": "e6c57827-51bc-4023-94b7-483ef7194f01",
   "metadata": {},
   "source": [
    "#w = zeros(dim_Ck(sc,0))\n",
    "f = zeros(m_k(sc,1))\n",
    "\n",
    "I1 = sc.I[1]\n",
    "\n",
    "f[I1[[1,2]]] = -1   # 1\n",
    "f[I1[[1,8]]] = 4.2  # 2\n",
    "f[I1[[2,3]]] = -2   # 3\n",
    "f[I1[[2,6]]] = 8.1  # 4\n",
    "f[I1[[3,4]]] = 3.1  # 5\n",
    "f[I1[[3,5]]] = 5.9  # 6\n",
    "f[I1[[3,6]]] = 9.8  # 7\n",
    "f[I1[[3,8]]] = 7.1  # 8\n",
    "f[I1[[4,5]]] = 3.1  # 9\n",
    "f[I1[[4,6]]] = 6.9  # 10\n",
    "f[I1[[5,6]]] = 4.1  # 11\n",
    "f[I1[[6,7]]] = -1   # 12\n",
    "f[I1[[7,8]]] = -2   # 13\n",
    "\n",
    "f"
   ]
  },
  {
   "cell_type": "raw",
   "id": "b201c5a7-2be0-4b52-9056-eb9bac308976",
   "metadata": {},
   "source": [
    "alpha_1 = sc.alpha[1]"
   ]
  },
  {
   "cell_type": "raw",
   "id": "f9240ab2-9022-45ca-ac53-e9cb57fcc90f",
   "metadata": {},
   "source": [
    "alpha_1'"
   ]
  },
  {
   "cell_type": "markdown",
   "id": "09a29168-4dfc-45c7-9ff1-8ced7c9c473c",
   "metadata": {},
   "source": [
    "Here, $z:=d_0^*(f)$ should equal the r.h.s. of Eq. (18) in [2]."
   ]
  },
  {
   "cell_type": "raw",
   "id": "16b8bd48-0c01-4ffa-8b91-91cc525809c8",
   "metadata": {},
   "source": [
    "z = alpha_1'*f"
   ]
  },
  {
   "cell_type": "markdown",
   "id": "5d76ba53-2c4d-4bb5-beaf-e1469afb693c",
   "metadata": {},
   "source": [
    "Here, $L_0$ should equal the matrix at the l.h.s. of Eq. (18) in [2]."
   ]
  },
  {
   "cell_type": "raw",
   "id": "29b0db51-15a2-47f1-a8d8-13bed5d8eb8e",
   "metadata": {},
   "source": [
    "L0 = alpha_1'*alpha_1"
   ]
  },
  {
   "cell_type": "raw",
   "id": "5732a9c6-299a-4dd1-9aaf-9e49931fcd35",
   "metadata": {},
   "source": [
    "w = L0 \\ z"
   ]
  },
  {
   "cell_type": "markdown",
   "id": "05d51fd6-682e-4f51-b320-41de9c069b4d",
   "metadata": {},
   "source": [
    "Next vector should be equal to the vector $\\alpha$ reported in Table 5 of [2]."
   ]
  },
  {
   "cell_type": "raw",
   "id": "6ecfd4ed-a3bb-4faf-bdaa-3b124dc0520e",
   "metadata": {},
   "source": [
    "w .- w[1]"
   ]
  },
  {
   "cell_type": "markdown",
   "id": "9e51b9d4-0e93-459b-8bd4-d39179f90a3b",
   "metadata": {},
   "source": [
    "Next vector should equal the r.h.s. of Eq. (18) in [2]."
   ]
  },
  {
   "cell_type": "raw",
   "id": "b553c435-78cd-480c-aa20-6cd5239ff9a5",
   "metadata": {},
   "source": [
    "L0*w"
   ]
  },
  {
   "cell_type": "markdown",
   "id": "eba5024f-37d8-4489-ace9-203188b9450c",
   "metadata": {},
   "source": [
    "Check that vector $g=d_0(w)=\\alpha_1 w$ equals the vector $w_g$ of Table 4 in [2]."
   ]
  },
  {
   "cell_type": "raw",
   "id": "d3f8ca27-38f3-44eb-b9d6-19c3ad91c3b7",
   "metadata": {},
   "source": [
    "g = alpha_1*w"
   ]
  },
  {
   "cell_type": "markdown",
   "id": "d26368aa-31ba-4651-a354-ec58e975e5fc",
   "metadata": {},
   "source": [
    "Check equality up to numerical tolerance that $d_1(f)=d_1(g)$."
   ]
  },
  {
   "cell_type": "raw",
   "id": "43fc4a78-d7f9-405c-b514-2da8c08f06b3",
   "metadata": {},
   "source": [
    "norm( alpha_1'*f - alpha_1'*g )"
   ]
  },
  {
   "cell_type": "raw",
   "id": "4243ffb3-b6b7-4c4f-92e5-73b3120963bd",
   "metadata": {},
   "source": [
    "alpha_2 = sc.alpha[2]"
   ]
  },
  {
   "cell_type": "markdown",
   "id": "65fbe56f-4e21-498f-980d-0d7428ef77be",
   "metadata": {},
   "source": [
    "Check the form of $L_2^{\\downarrow}=\\alpha_2\\alpha_2^T$. It should equal the matrix at the l.h.s. of Eq. (20) in [2]."
   ]
  },
  {
   "cell_type": "raw",
   "id": "491f8c92-92d8-4d0b-86e1-2906caf79e49",
   "metadata": {},
   "source": [
    "L2d = alpha_2 * alpha_2'"
   ]
  },
  {
   "cell_type": "markdown",
   "id": "cc57cc62-b3c4-4ae7-ae08-4e685f38f773",
   "metadata": {},
   "source": [
    "Here, $y:=d_1(f)$ should equal the r.h.s. of Eq. (20) in [2]."
   ]
  },
  {
   "cell_type": "raw",
   "id": "61e0606a-84e2-4d00-a88a-613f383ffcbe",
   "metadata": {},
   "source": [
    "y = alpha_2 * f"
   ]
  },
  {
   "cell_type": "raw",
   "id": "229bd88b-2547-41cf-85f8-5a9113a72261",
   "metadata": {},
   "source": [
    "# See \n",
    "#    https://stackoverflow.com/questions/38486697/solve-a-particular-linear-system-efficiently-in-julia\n",
    "#    https://iterativesolvers.julialinearalgebra.org/dev/\n",
    "#    https://jso.dev/Krylov.jl/dev/solvers/ls/\n",
    "# on different alternatives about how to solve the linear systems in consideration.\n",
    "\n",
    "#u = L2d \\ y\n",
    "#u = pinv(Symmetric(Matrix(L2d)))*y\n",
    "#u = IterativeSolvers.cg(L2d,y)     # this is faster than lsmr in the example, according to @btime\n",
    "#u = IterativeSolvers.minres(L2d,y)\n",
    "#u = IterativeSolvers.lsqr(L2d,y)\n",
    "#u = IterativeSolvers.lsmr(L2d,y)\n",
    "#u = Krylov.cg(L2d,y)[1]    \n",
    "#u = Krylov.lslq(L2d,y)[1]\n",
    "#u = Krylov.lsqr(L2d,y)[1]\n",
    "u = Krylov.minres_qlp(L2d,y)[1]"
   ]
  },
  {
   "cell_type": "markdown",
   "id": "db7971d0-8243-4489-b4d2-eb57785880d9",
   "metadata": {},
   "source": [
    "The vector $u$ obtained is different from the vector $\\gamma$ reported in Table (5) of [2], which is the following one:"
   ]
  },
  {
   "cell_type": "raw",
   "id": "b244dded-8cf9-4cd8-82aa-1811c1d1771b",
   "metadata": {},
   "source": [
    "u_johnson = [-0.08 -1.1309 1.2359 -1.1759 1.2809]'"
   ]
  },
  {
   "cell_type": "markdown",
   "id": "8e64a450-8aba-4ca5-8620-40850213caa4",
   "metadata": {},
   "source": [
    "Is the vector $u_{\\mathrm{johnson}}$ (i.e. $\\gamma$) reported in [2] also a solution of Eq. (20) of [2]? We check:"
   ]
  },
  {
   "cell_type": "raw",
   "id": "68dbbe46-d547-4971-baeb-60248020f0c9",
   "metadata": {},
   "source": [
    "norm(L2d*u_johnson - y)"
   ]
  },
  {
   "cell_type": "markdown",
   "id": "37c17e84-31f1-4064-aebb-b35aca246b3a",
   "metadata": {},
   "source": [
    "It actually is! What about our solution? Let us check:"
   ]
  },
  {
   "cell_type": "raw",
   "id": "3fbcae02-39a6-4198-af19-0cea921d9375",
   "metadata": {},
   "source": [
    "norm(L2d*u - y)"
   ]
  },
  {
   "cell_type": "markdown",
   "id": "d443cfae-24ce-4a78-a3bf-a954e64c85e8",
   "metadata": {},
   "source": [
    "It is as well! Hence, there are multiple solutions, so $L_2^{\\downarrow}(u)=y$ is a degenerate (i.e. underdetermined) linear system. \n",
    "\n",
    "Only one of the solutions of degenerate linear systems of a positive semidefinite linear operator has minimum norm $|x|$. Therefore, we ask ourselves which of the solutions to $L_2^{\\downarrow}u=y$ we have found, has the smallest norm? Let us see:"
   ]
  },
  {
   "cell_type": "raw",
   "id": "40c14d0a-cf1b-4ae7-ab35-81b0212ffa94",
   "metadata": {},
   "source": [
    "norm(u)"
   ]
  },
  {
   "cell_type": "raw",
   "id": "36b95401-c633-4f87-bf7f-8dedabd0caee",
   "metadata": {},
   "source": [
    "norm(u_johnson)"
   ]
  },
  {
   "cell_type": "markdown",
   "id": "e1528d75-c2ff-469d-989f-4c7ced31c9a8",
   "metadata": {},
   "source": [
    "So our solution has smaller norm than that of [2]. Hence, it is a better candidate for the unique solution of minimum norm."
   ]
  },
  {
   "cell_type": "markdown",
   "id": "89a5fd4a-10c8-4942-b5a7-8b9cd2b5d23a",
   "metadata": {},
   "source": [
    "Next, compute $s=d_1^*(u)=\\alpha_2^T u$."
   ]
  },
  {
   "cell_type": "raw",
   "id": "4eb6fd13-1ffc-4e32-b744-d4c4aa8f5f50",
   "metadata": {},
   "source": [
    "s = alpha_2'*u"
   ]
  },
  {
   "cell_type": "markdown",
   "id": "063cfdd5-3c93-4bf8-b51e-59521f6a8a68",
   "metadata": {},
   "source": [
    "Check the \"equality\" of $\\alpha_2 s = d_1(s) = d_1(f) = \\alpha_2 f$."
   ]
  },
  {
   "cell_type": "raw",
   "id": "759d38e9-42f5-4fb1-88e9-42b6b909b920",
   "metadata": {},
   "source": [
    "norm( alpha_2*s - alpha_2*f )"
   ]
  },
  {
   "cell_type": "markdown",
   "id": "1f772f57-3ccd-4674-b441-190ed8638865",
   "metadata": {},
   "source": [
    "Compute $h$."
   ]
  },
  {
   "cell_type": "raw",
   "id": "c6d9b387-a9dc-4a87-8c2b-7d135762c5a8",
   "metadata": {},
   "source": [
    "h = f-s-g"
   ]
  },
  {
   "cell_type": "raw",
   "id": "c711ae31-4c55-42db-a587-76b5f4fe1a26",
   "metadata": {},
   "source": [
    "L1u = alpha_2'*alpha_2\n",
    "L1d = alpha_1*alpha_1'\n",
    "L1 = L1u + L1d"
   ]
  },
  {
   "cell_type": "markdown",
   "id": "16d10d3d-9118-4fed-bb99-bbd67fc50c6b",
   "metadata": {},
   "source": [
    "Finally check that $L_1(h)=0$."
   ]
  },
  {
   "cell_type": "raw",
   "id": "97fdb134-2b58-4a87-a2a7-43f5fa6ea8b8",
   "metadata": {},
   "source": [
    "norm(L1*h)"
   ]
  },
  {
   "cell_type": "markdown",
   "id": "7fdb63ae-c7e2-4e15-a0c8-3896d1c1823f",
   "metadata": {
    "tags": []
   },
   "source": [
    "## Compute Hodge decomposition\n",
    "\n",
    "The linear equations that should be solved are numerically challenging. Hence, we use the **MINRES-QLP** algoritm, which is specifically devised to solve least square problems of singular or nearly singular linear equations  [9,10,11,12]."
   ]
  },
  {
   "cell_type": "code",
   "execution_count": 15,
   "id": "f395ffa3-bf6d-4610-9699-90cb44674889",
   "metadata": {},
   "outputs": [],
   "source": [
    "struct HodgeDecomposition\n",
    "    f::Array{Real}\n",
    "    s::Array{Real}\n",
    "    h::Array{Real}\n",
    "    g::Array{Real}\n",
    "    u::Array{Real}\n",
    "    w::Array{Real}    \n",
    "    k::Int    \n",
    "end"
   ]
  },
  {
   "cell_type": "code",
   "execution_count": 16,
   "id": "76153bea-e8a9-418f-a918-c5977bc9ee51",
   "metadata": {},
   "outputs": [
    {
     "data": {
      "text/plain": [
       "compute_k_th_solenoid_hodge_decomposition (generic function with 1 method)"
      ]
     },
     "execution_count": 16,
     "metadata": {},
     "output_type": "execute_result"
    }
   ],
   "source": [
    "function compute_k_th_solenoid_hodge_decomposition(sc,f,k)\n",
    "    if k<kappa(sc)\n",
    "        alpha = sc.alpha[k+1]\n",
    "        y = alpha*f\n",
    "        L = alpha*alpha'\n",
    "        u = Krylov.minres_qlp(L,y)[1]\n",
    "        #u = Krylov.lsqr(L,y)[1]\n",
    "        s = alpha'*u\n",
    "        return s,u\n",
    "    else\n",
    "        s = zeros(m_k(sc,k)) # s = 0 as a vector enables f=s+h+g to be computed without dimensional problems.\n",
    "        u = zeros(m_k(sc,k+1))        \n",
    "        return s,u\n",
    "    end\n",
    "end"
   ]
  },
  {
   "cell_type": "code",
   "execution_count": 17,
   "id": "047ba906-51c5-48b0-8688-62b27b577bb6",
   "metadata": {},
   "outputs": [
    {
     "data": {
      "text/plain": [
       "compute_k_th_gradient_hodge_decomposition (generic function with 1 method)"
      ]
     },
     "execution_count": 17,
     "metadata": {},
     "output_type": "execute_result"
    }
   ],
   "source": [
    "function compute_k_th_gradient_hodge_decomposition(sc,f,k)\n",
    "    if k>=1\n",
    "        alpha = sc.alpha[k]\n",
    "        z = alpha'*f\n",
    "        L = alpha'*alpha\n",
    "        w = Krylov.minres_qlp(L,z)[1]\n",
    "        #w = Krylov.lsqr(L,z)[1]\n",
    "        g = alpha*w\n",
    "        return g,w\n",
    "    else\n",
    "        g = zeros(m_k(sc,k)) # g = 0 as a vector enables f=s+h+g to be computed without dimensional problems.\n",
    "        w = zeros(m_k(sc,k-1))        \n",
    "        return g,w\n",
    "    end\n",
    "end"
   ]
  },
  {
   "cell_type": "code",
   "execution_count": 18,
   "id": "49541cc6-7255-4798-b652-d4aca720ee2b",
   "metadata": {},
   "outputs": [
    {
     "data": {
      "text/plain": [
       "compute_k_th_hodge_decomposition (generic function with 1 method)"
      ]
     },
     "execution_count": 18,
     "metadata": {},
     "output_type": "execute_result"
    }
   ],
   "source": [
    "function compute_k_th_hodge_decomposition(sc,f,k)\n",
    "    @assert length(f) == m_k(sc,k)\n",
    "    s,u = compute_k_th_solenoid_hodge_decomposition(sc,f,k)\n",
    "    g,w = compute_k_th_gradient_hodge_decomposition(sc,f,k)\n",
    "    h=f-s-g\n",
    "    return HodgeDecomposition(f,s,h,g,u,w,k)\n",
    "end"
   ]
  },
  {
   "cell_type": "markdown",
   "id": "776ed9dc-d9ed-4aca-a96c-b879f9f79dd1",
   "metadata": {
    "jp-MarkdownHeadingCollapsed": true,
    "tags": []
   },
   "source": [
    "### Test"
   ]
  },
  {
   "cell_type": "markdown",
   "id": "a7acf217-60bd-42ac-a719-029b974b1b18",
   "metadata": {},
   "source": [
    "#### Basic test"
   ]
  },
  {
   "cell_type": "raw",
   "id": "14b5ec29-f8a3-4bf8-836e-99e4101fdcb7",
   "metadata": {},
   "source": [
    "g = erdos_renyi(10, 0.4)"
   ]
  },
  {
   "cell_type": "raw",
   "id": "046809b8-1614-46a8-a56b-7c79cae26ef1",
   "metadata": {},
   "source": [
    "I_3c = g_to_3_cliques(g)"
   ]
  },
  {
   "cell_type": "raw",
   "id": "56456c56-2a11-48f8-87f9-56006f4a6038",
   "metadata": {},
   "source": [
    "sc = I_to_SC(I_3c)"
   ]
  },
  {
   "cell_type": "raw",
   "id": "dcfaa580-0dc9-49ac-a749-28f801b3054d",
   "metadata": {},
   "source": [
    "for k in 0:kappa(sc)\n",
    "   println(\"m_$k=$(m_k(sc,k))\")\n",
    "end"
   ]
  },
  {
   "cell_type": "markdown",
   "id": "35478f15-dfd3-42eb-a3d4-39fd5d8ccbbf",
   "metadata": {},
   "source": [
    "Next, we create a 1-chain $f$ of components $f_{ij}=w_i-w_j$ where $w$ is the 0-chain of components $w_i=i$."
   ]
  },
  {
   "cell_type": "raw",
   "id": "4655c083-33bf-4a1e-a34a-5f5db4994296",
   "metadata": {},
   "source": [
    "m0=m_k(sc,0)\n",
    "m1=m_k(sc,1)\n",
    "w = collect(1:m0)\n",
    "f = zeros(m1)\n",
    "K1 = sc.K[1]\n",
    "for l in 1:m1\n",
    "    i,j = K1[l,:]\n",
    "    f[l] = w[i]-w[j]\n",
    "end"
   ]
  },
  {
   "cell_type": "raw",
   "id": "c448a93d-90fb-4e0d-a2f0-21f90fca2e9d",
   "metadata": {},
   "source": [
    "hd = compute_k_th_hodge_decomposition(sc,w,0)"
   ]
  },
  {
   "cell_type": "raw",
   "id": "d2980304-6621-4841-8b74-cedc8985db27",
   "metadata": {},
   "source": [
    "hd.g"
   ]
  },
  {
   "cell_type": "raw",
   "id": "dd71c81c-70a2-4fec-9928-87c167daec72",
   "metadata": {},
   "source": [
    "hd.w"
   ]
  },
  {
   "cell_type": "raw",
   "id": "bdbf7b08-7e6e-4042-96a2-6a68bbab9198",
   "metadata": {},
   "source": [
    "hd = compute_k_th_hodge_decomposition(sc,f,1)"
   ]
  },
  {
   "cell_type": "raw",
   "id": "60d88d96-259c-4c4e-b387-bbd6e70b44e9",
   "metadata": {},
   "source": [
    "hd.w .- minimum(hd.w)"
   ]
  },
  {
   "cell_type": "raw",
   "id": "74d62d87-1f76-4d00-8c46-516748f1c5b7",
   "metadata": {},
   "source": [
    "u = collect(1:m_k(sc,2))"
   ]
  },
  {
   "cell_type": "raw",
   "id": "bb01eedd-35e7-48bb-be2e-bac886b7eb66",
   "metadata": {},
   "source": [
    "hd = compute_k_th_hodge_decomposition(sc,u,2)"
   ]
  },
  {
   "cell_type": "raw",
   "id": "49d9f324-3e9d-4cde-b6a9-fd163335bc2e",
   "metadata": {},
   "source": [
    "hd.s"
   ]
  },
  {
   "cell_type": "markdown",
   "id": "2c164c80-7020-4e73-b269-b56974c7e944",
   "metadata": {},
   "source": [
    "#### Test with futbol networks"
   ]
  },
  {
   "cell_type": "raw",
   "id": "a680c2a4-b610-48d0-8cd2-4a0ebdb6acf9",
   "metadata": {},
   "source": [
    "(g,phi_ij) = dict_g_phi_jld2[(\"Italy\", \"crossing\")]"
   ]
  },
  {
   "cell_type": "raw",
   "id": "480ac374-a7b4-41a5-a23f-4451d5f156a7",
   "metadata": {},
   "source": [
    "I_3c = g_to_3_cliques(g)"
   ]
  },
  {
   "cell_type": "raw",
   "id": "5a899a91-bee0-4d56-8789-3ff0111900ab",
   "metadata": {},
   "source": [
    "sc = I_to_SC(I_3c)"
   ]
  },
  {
   "cell_type": "raw",
   "id": "b258369e-f1ba-4cee-ad98-e9a495fd30c0",
   "metadata": {},
   "source": [
    "f = phi_ij_to_f(sc,phi_ij)"
   ]
  },
  {
   "cell_type": "raw",
   "id": "e17bfe78-15b4-4a5b-9e34-942c83fb0fab",
   "metadata": {},
   "source": [
    "hd = compute_k_th_hodge_decomposition(sc,f,1)"
   ]
  },
  {
   "cell_type": "raw",
   "id": "73b8f909-3cab-4264-abd9-1ff7f5997e41",
   "metadata": {},
   "source": [
    "hd.w"
   ]
  },
  {
   "cell_type": "raw",
   "id": "d9269184-020d-41e9-a1c5-73b89072906e",
   "metadata": {},
   "source": [
    "plot(\n",
    "    xlabel=L\"i\",\n",
    "    ylabel=L\"w_i\",\n",
    ")\n",
    "plot!(hd.w,label=\"Italy\"*\", \"*\"crossing\",c=1)\n",
    "scatter!(hd.w,label=\"\",c=1)"
   ]
  },
  {
   "cell_type": "markdown",
   "id": "56f1e133-8107-4d83-bc8c-8c10a369b6b6",
   "metadata": {
    "tags": []
   },
   "source": [
    "# Ranking tools\n",
    "\n",
    "Tools to generate **true** ratings and rankings for a given network."
   ]
  },
  {
   "cell_type": "raw",
   "id": "6adac70c-5af9-42a9-bedf-d0dae8802dcd",
   "metadata": {
    "tags": []
   },
   "source": [
    "\"\"\"\n",
    "Generator of artificial ratings.\n",
    "    agents : iterable over the agents.\n",
    "    noise : Gaussian additive noise\n",
    "    scale : sepparation scale between ratings\n",
    "\"\"\"\n",
    "function gen_artificial_ratings(agents,noise=0.0,scale=1.0)\n",
    "    #@show agents\n",
    "    N = length(agents)\n",
    "    w = collect(agents)+noise*randn(N)\n",
    "    w = ratings(N .- w)\n",
    "    return scale*w\n",
    "end"
   ]
  },
  {
   "cell_type": "raw",
   "id": "d2c22796-57d7-4372-8506-e1dc9d9d667a",
   "metadata": {},
   "source": [
    "\"\"\"\n",
    "Takes a simplicial complex and a vector of ratings and generates the 1-cochain\n",
    "\n",
    "    f_{ij} = w_i - w_j + noise*randn()\n",
    "\"\"\"\n",
    "function gen_artificial_f(sc,w,noise=0.0)\n",
    "    m_0 = m_k(sc,0)\n",
    "    m_1 = m_k(sc,1)\n",
    "    @assert length(w) == m_0\n",
    "    f = zeros(m_1)\n",
    "    K1 = sc.K[1]\n",
    "    for l in 1:m_1\n",
    "        i,j = K1[l,:]\n",
    "        f[l] = w[j]-w[i] + noise*randn()\n",
    "    end\n",
    "    return f\n",
    "end"
   ]
  },
  {
   "cell_type": "code",
   "execution_count": 19,
   "id": "2b477c9b-bd91-4b3f-8aad-7a94aeb66661",
   "metadata": {},
   "outputs": [
    {
     "data": {
      "text/plain": [
       "ratings"
      ]
     },
     "execution_count": 19,
     "metadata": {},
     "output_type": "execute_result"
    }
   ],
   "source": [
    "\"\"\"\n",
    "Takes a vector and shifts the values of its components by a constant to make all of them non-negative.\n",
    "\"\"\"\n",
    "function ratings(w)\n",
    "    return w .- minimum(w)\n",
    "end"
   ]
  },
  {
   "cell_type": "code",
   "execution_count": 20,
   "id": "f465bc16-059e-4641-9195-a31faccbede4",
   "metadata": {},
   "outputs": [
    {
     "data": {
      "text/plain": [
       "normalized_ratings"
      ]
     },
     "execution_count": 20,
     "metadata": {},
     "output_type": "execute_result"
    }
   ],
   "source": [
    "\"\"\"\n",
    "Normalizes a vector of ratings to have values between 0 and 1 inclusive.\n",
    "\"\"\"\n",
    "function normalized_ratings(w)\n",
    "    minw = minimum(w)\n",
    "    #maxw = maximum(w)\n",
    "    #return (w .- minw)/(maxw-minw)\n",
    "    return (w .- minw)/length(w)\n",
    "end"
   ]
  },
  {
   "cell_type": "code",
   "execution_count": 21,
   "id": "162eaeac-b326-4423-89ee-4ac3e0c23515",
   "metadata": {},
   "outputs": [
    {
     "data": {
      "text/plain": [
       "ranking"
      ]
     },
     "execution_count": 21,
     "metadata": {},
     "output_type": "execute_result"
    }
   ],
   "source": [
    "\"\"\"\n",
    "Takes a vector of ratings and computes the corresponding ranking\n",
    "\"\"\"\n",
    "function ranking(w)\n",
    "    return invperm(sortperm(w,rev=true))\n",
    "end"
   ]
  },
  {
   "cell_type": "code",
   "execution_count": 22,
   "id": "f124a91f-a0ff-4f13-909a-a7ce32bd9e98",
   "metadata": {},
   "outputs": [
    {
     "data": {
      "text/plain": [
       "compute_cumulative_abs_diff"
      ]
     },
     "execution_count": 22,
     "metadata": {},
     "output_type": "execute_result"
    }
   ],
   "source": [
    "\"\"\"\n",
    "Given two vectors v and u, this computes the absolute differences\n",
    "\n",
    "    x_i = |v_i-u_i|\n",
    "\n",
    "And returns the vector w of cumulative diferences\n",
    "\n",
    "    w_i = sum_{j <= i} x_j\n",
    "\n",
    "This can be used to compare two vectors of ratings or rankings\n",
    "\"\"\"\n",
    "function compute_cumulative_abs_diff(v,u)\n",
    "    n = length(v)\n",
    "    @assert length(u) == n\n",
    "    cumulative_abs_diff = zeros(n)\n",
    "    sum = 0\n",
    "    for i in 1:n\n",
    "         sum += abs.(v[i]-u[i])\n",
    "         cumulative_abs_diff[i] = sum\n",
    "    end\n",
    "    return cumulative_abs_diff\n",
    "end"
   ]
  },
  {
   "cell_type": "markdown",
   "id": "b564ac09-edfd-4950-86e3-88af38fe2987",
   "metadata": {
    "tags": []
   },
   "source": [
    "### Test"
   ]
  },
  {
   "cell_type": "raw",
   "id": "20dc954d-a26b-4bd7-9151-a87be521b432",
   "metadata": {},
   "source": [
    "g = erdos_renyi(6, 0.4)"
   ]
  },
  {
   "cell_type": "raw",
   "id": "36b662c8-b182-4e0e-89bc-be1109b2ca9d",
   "metadata": {},
   "source": [
    "w = gen_artificial_ratings(1:nv(g))"
   ]
  },
  {
   "cell_type": "raw",
   "id": "b9cff5ee-5d1d-4234-b40e-511039c43f2a",
   "metadata": {},
   "source": [
    "I_3c = g_to_3_cliques(g)"
   ]
  },
  {
   "cell_type": "raw",
   "id": "872eae6c-4cd6-4cb6-b7bd-66a2c9f78b33",
   "metadata": {},
   "source": [
    "sc = I_to_SC(I_3c)"
   ]
  },
  {
   "cell_type": "raw",
   "id": "cadd04df-2ab8-4ea4-a836-de3bd2d294a6",
   "metadata": {},
   "source": [
    "f = gen_artificial_f(sc,w)"
   ]
  },
  {
   "cell_type": "raw",
   "id": "ed62cefb-a2a5-443f-8422-f22676db1a7f",
   "metadata": {},
   "source": [
    "ratings(w .- 5)"
   ]
  },
  {
   "cell_type": "raw",
   "id": "443eac66-36f2-489a-8e86-a5da6f3fc53b",
   "metadata": {},
   "source": [
    "ranking(w)"
   ]
  },
  {
   "cell_type": "raw",
   "id": "566e1e1c-bdc0-4a43-bc55-7d184f7e5c47",
   "metadata": {},
   "source": [
    "normalized_ratings(w)"
   ]
  },
  {
   "cell_type": "markdown",
   "id": "2c9f5bc6-86e0-46c2-be32-4e1ae7b89b00",
   "metadata": {},
   "source": [
    "## Load dict of weighted g's"
   ]
  },
  {
   "cell_type": "code",
   "execution_count": 23,
   "id": "13d76399-48be-402c-8f10-a27235579e07",
   "metadata": {},
   "outputs": [
    {
     "data": {
      "text/plain": [
       "1-element Vector{Symbol}:\n",
       " :dict_weighted_g_jld2"
      ]
     },
     "execution_count": 23,
     "metadata": {},
     "output_type": "execute_result"
    }
   ],
   "source": [
    "jld2_files = \"25-10-21-dict-weighted-g.jld2\"\n",
    "#dict_weighted_g_jld2 = Dict()\n",
    "@load \"jld2/\"*jld2_files dict_weighted_g_jld2"
   ]
  },
  {
   "cell_type": "markdown",
   "id": "e656d555-59c8-4dbf-ab44-1aed91162345",
   "metadata": {},
   "source": [
    "### Test"
   ]
  },
  {
   "cell_type": "code",
   "execution_count": null,
   "id": "a6912640-3e89-4f36-8267-a9277d7937d3",
   "metadata": {},
   "outputs": [],
   "source": [
    "dict_weighted_g_jld2"
   ]
  },
  {
   "cell_type": "markdown",
   "id": "97ab1c39-6730-4c26-8fe8-19d905a3ccf2",
   "metadata": {},
   "source": [
    "## Weighted $g$ to ($K$,$f$)"
   ]
  },
  {
   "cell_type": "code",
   "execution_count": 24,
   "id": "81c2f9b2-13be-4ca8-bc8e-83aaa5791684",
   "metadata": {},
   "outputs": [
    {
     "data": {
      "text/plain": [
       "g_to_sc_f (generic function with 1 method)"
      ]
     },
     "execution_count": 24,
     "metadata": {},
     "output_type": "execute_result"
    }
   ],
   "source": [
    "function g_to_sc_f(g)\n",
    "    I_3c = g_to_3_cliques(g)\n",
    "    sc = I_to_SC(I_3c)\n",
    "    #m_0 = m_k(sc,0)\n",
    "    m_1 = m_k(sc,1)\n",
    "    f = zeros(m_1)\n",
    "    K1 = sc.K[1]\n",
    "    for l in 1:m_1\n",
    "        i,j = K1[l,:]\n",
    "        f[l] = get_weight(g,i,j)\n",
    "    end\n",
    "    return (sc,f)\n",
    "end"
   ]
  },
  {
   "cell_type": "markdown",
   "id": "8ec5ef89-8291-4804-ac52-c310736c5542",
   "metadata": {},
   "source": [
    "## Inferere of ratings and rankings"
   ]
  },
  {
   "cell_type": "markdown",
   "id": "fd887d4e-d64a-4603-88a9-d51bb1efe709",
   "metadata": {},
   "source": [
    "### Test with points"
   ]
  },
  {
   "cell_type": "code",
   "execution_count": 32,
   "id": "416a1745-0339-44f2-a408-7e716880da8a",
   "metadata": {},
   "outputs": [
    {
     "data": {
      "text/plain": [
       "{20, 183} undirected simple Int64 graph with Float64 weights"
      ]
     },
     "execution_count": 32,
     "metadata": {},
     "output_type": "execute_result"
    }
   ],
   "source": [
    "g = dict_weighted_g_jld2[(\"Italy\", \"shots\")]"
   ]
  },
  {
   "cell_type": "code",
   "execution_count": 33,
   "id": "17b4f547-d494-4e5b-88b8-47e108048229",
   "metadata": {},
   "outputs": [
    {
     "data": {
      "text/plain": [
       "(SimplicialComplex(Any[[1; 2; … ; 19; 20;;], [1 2; 1 3; … ; 18 20; 19 20], [1 2 3; 1 2 4; … ; 17 19 20; 18 19 20]], Dict[Dict([18] => 18, [14] => 14, [3] => 3, [5] => 5, [16] => 16, [7] => 7, [20] => 20, [12] => 12, [8] => 8, [17] => 17…), Dict{Any, Any}([6, 14] => 80, [12, 16] => 113, [15, 20] => 180, [3, 12] => 54, [12, 19] => 159, [14, 18] => 144, [10, 12] => 61, [2, 12] => 53, [16, 18] => 146, [14, 16] => 114…), Dict{Any, Any}([10, 18, 20] => 912, [2, 7, 11] => 210, [5, 6, 18] => 511, [6, 7, 17] => 610, [1, 12, 15] => 117, [7, 11, 14] => 713, [12, 19, 20] => 973, [6, 9, 16] => 632, [4, 15, 20] => 494, [3, 9, 18] => 352…)], Any[sparse([1, 2, 4, 6, 10, 15, 26, 34, 42, 52  …  174, 175, 176, 177, 178, 179, 180, 181, 182, 183], [1, 1, 1, 1, 1, 1, 1, 1, 1, 1  …  20, 20, 20, 20, 20, 20, 20, 20, 20, 20], [-1.0, -1.0, -1.0, -1.0, -1.0, -1.0, -1.0, -1.0, -1.0, -1.0  …  1.0, 1.0, 1.0, 1.0, 1.0, 1.0, 1.0, 1.0, 1.0, 1.0], 183, 20), sparse([1, 2, 3, 4, 5, 6, 7, 8, 9, 10  …  817, 870, 913, 947, 973, 988, 1002, 1011, 1017, 1018], [1, 1, 1, 1, 1, 1, 1, 1, 1, 1  …  183, 183, 183, 183, 183, 183, 183, 183, 183, 183], [1.0, 1.0, 1.0, 1.0, 1.0, 1.0, 1.0, 1.0, 1.0, 1.0  …  1.0, 1.0, 1.0, 1.0, 1.0, 1.0, 1.0, 1.0, 1.0, 1.0], 1018, 183)]), [5.4075, -2.2634, -2.4496, -3.3307e-16, -2.5217, 0.71646, -3.4384, 0.23595, 2.8439, 1.0167  …  3.3522, 1.2248, -1.9413, -0.98884, -0.71646, 0.90263, 2.0553, -0.32216, -0.64433, 0.71646])"
      ]
     },
     "execution_count": 33,
     "metadata": {},
     "output_type": "execute_result"
    }
   ],
   "source": [
    "sc,f = g_to_sc_f(g)"
   ]
  },
  {
   "cell_type": "code",
   "execution_count": 34,
   "id": "4b37a08d-6052-47f1-94d9-4ef7efcd8c4f",
   "metadata": {},
   "outputs": [
    {
     "data": {
      "text/plain": [
       "SimplicialComplex(Any[[1; 2; … ; 19; 20;;], [1 2; 1 3; … ; 18 20; 19 20], [1 2 3; 1 2 4; … ; 17 19 20; 18 19 20]], Dict[Dict([18] => 18, [14] => 14, [3] => 3, [5] => 5, [16] => 16, [7] => 7, [20] => 20, [12] => 12, [8] => 8, [17] => 17…), Dict{Any, Any}([6, 14] => 80, [12, 16] => 113, [15, 20] => 180, [3, 12] => 54, [12, 19] => 159, [14, 18] => 144, [10, 12] => 61, [2, 12] => 53, [16, 18] => 146, [14, 16] => 114…), Dict{Any, Any}([10, 18, 20] => 912, [2, 7, 11] => 210, [5, 6, 18] => 511, [6, 7, 17] => 610, [1, 12, 15] => 117, [7, 11, 14] => 713, [12, 19, 20] => 973, [6, 9, 16] => 632, [4, 15, 20] => 494, [3, 9, 18] => 352…)], Any[sparse([1, 2, 4, 6, 10, 15, 26, 34, 42, 52  …  174, 175, 176, 177, 178, 179, 180, 181, 182, 183], [1, 1, 1, 1, 1, 1, 1, 1, 1, 1  …  20, 20, 20, 20, 20, 20, 20, 20, 20, 20], [-1.0, -1.0, -1.0, -1.0, -1.0, -1.0, -1.0, -1.0, -1.0, -1.0  …  1.0, 1.0, 1.0, 1.0, 1.0, 1.0, 1.0, 1.0, 1.0, 1.0], 183, 20), sparse([1, 2, 3, 4, 5, 6, 7, 8, 9, 10  …  817, 870, 913, 947, 973, 988, 1002, 1011, 1017, 1018], [1, 1, 1, 1, 1, 1, 1, 1, 1, 1  …  183, 183, 183, 183, 183, 183, 183, 183, 183, 183], [1.0, 1.0, 1.0, 1.0, 1.0, 1.0, 1.0, 1.0, 1.0, 1.0  …  1.0, 1.0, 1.0, 1.0, 1.0, 1.0, 1.0, 1.0, 1.0, 1.0], 1018, 183)])"
      ]
     },
     "execution_count": 34,
     "metadata": {},
     "output_type": "execute_result"
    }
   ],
   "source": [
    "sc"
   ]
  },
  {
   "cell_type": "code",
   "execution_count": 35,
   "id": "12d8c553-a72f-4a25-81a5-8d89eadc13d6",
   "metadata": {},
   "outputs": [
    {
     "data": {
      "text/plain": [
       "183-element Vector{Float64}:\n",
       "  5.4075\n",
       " -2.2634\n",
       " -2.4496\n",
       " -3.3307e-16\n",
       " -2.5217\n",
       "  0.71646\n",
       " -3.4384\n",
       "  0.23595\n",
       "  2.8439\n",
       "  1.0167\n",
       " -1.4972\n",
       "  1.8053\n",
       " -0.3943\n",
       "  ⋮\n",
       " -0.50833\n",
       " -1.411\n",
       "  3.3522\n",
       "  1.2248\n",
       " -1.9413\n",
       " -0.98884\n",
       " -0.71646\n",
       "  0.90263\n",
       "  2.0553\n",
       " -0.32216\n",
       " -0.64433\n",
       "  0.71646"
      ]
     },
     "execution_count": 35,
     "metadata": {},
     "output_type": "execute_result"
    }
   ],
   "source": [
    "f"
   ]
  },
  {
   "cell_type": "code",
   "execution_count": 36,
   "id": "939acbf0-e4b1-4dea-99ce-e946d602ccab",
   "metadata": {},
   "outputs": [
    {
     "data": {
      "text/plain": [
       "HodgeDecomposition(Real[5.4075, -2.2634, -2.4496, -3.3307e-16, -2.5217, 0.71646, -3.4384, 0.23595, 2.8439, 1.0167  …  3.3522, 1.2248, -1.9413, -0.98884, -0.71646, 0.90263, 2.0553, -0.32216, -0.64433, 0.71646], Real[4.045521070670162, -2.0362727343478433, -0.8604938250266192, 0.44075547458494446, -0.7189655932199217, 0.37355357799500766, -2.4193274998706302, -0.33408368091521407, 2.060238096322048, 1.0248810794267993  …  2.4019757772440675, 0.9603398673702841, -1.833427714389344, -1.1604547190400132, -0.12152578923970506, 0.6499657800128422, 1.8398802804157852, -1.23363771469175, -1.173220219623151, -1.389835715301798], Real[9.825193769685825e-9, -8.396965567314396e-9, 1.7864538737200064e-9, 1.2483910682981048e-8, -2.0657897614739795e-10, 2.5003489279029623e-9, -1.2936940407826114e-10, 4.1553795959714535e-9, -2.8955469133506995e-9, 1.0685567986001843e-9  …  4.4896786288717294e-9, 2.6139796993618347e-9, -3.876909959732444e-9, 7.737591123380128e-10, -2.3397950243975174e-10, 1.720903641810878e-9, 1.3179605184987508e-9, -3.5745029158817943e-9, -3.560286732096074e-9, -2.964455791953924e-9], Real[1.361978919504644, -0.227127257255191, -1.589106176759835, -0.4407554870688555, -1.8027344065734994, 0.3429064195046434, -1.0190725000000005, 0.5700336767598344, 0.7836619065734989, -0.008181080495356152  …  0.9502242182662537, 0.2644601300157363, -0.10787228173374602, 0.17161471826625402, -0.5949342105263155, 0.2526642182662542, 0.21541971826625417, 0.911477718266253, 0.5288902231834377, 2.106295718266254], Real[0.30875163212288764, 0.14186287671867642, 0.07724691756404127, 0.16246998094656168, 0.4610368412176068, 0.22332812633380664, 0.20206123618668753, 0.2428958152517753, 0.2963157114607785, 0.41592461662857677  …  -0.23906546769313883, -0.24256392145144887, -0.15174790998744317, -0.32083354943630366, -0.29329823489801937, -0.009838399850803191, -0.03737371438908758, -0.026749614242315957, -0.1376253560823614, -0.1482494562291331], Real[1.0775975804953568, 2.4395765000000007, 0.8504703232401658, 0.6368420934265013, 1.4205040000000002, 1.0694165000000007, 0.840394948916409, 0.8879659705882357, -1.2085119999999991, -0.5227479117494818, -0.15041549999999942, -0.42990249999999947, 0.33664642879257, -0.5109519999999996, -0.4737074999999996, -1.6833621470588227, -1.1697654999999985, -0.7871780049171831, -2.3645834999999993, -0.25828778173374545], 1)"
      ]
     },
     "execution_count": 36,
     "metadata": {},
     "output_type": "execute_result"
    }
   ],
   "source": [
    "hd = compute_k_th_hodge_decomposition(sc,f,1)"
   ]
  },
  {
   "cell_type": "code",
   "execution_count": 37,
   "id": "3129f740-f57d-42a9-b0f1-f53fb8896589",
   "metadata": {},
   "outputs": [
    {
     "data": {
      "text/plain": [
       "20-element Vector{Float64}:\n",
       " 3.442181080495356\n",
       " 4.8041599999999995\n",
       " 3.215053823240165\n",
       " 3.0014255934265006\n",
       " 3.7850874999999995\n",
       " 3.434\n",
       " 3.204978448916408\n",
       " 3.252549470588235\n",
       " 1.1560715000000001\n",
       " 1.8418355882505175\n",
       " 2.214168\n",
       " 1.9346809999999999\n",
       " 2.701229928792569\n",
       " 1.8536314999999997\n",
       " 1.8908759999999996\n",
       " 0.6812213529411766\n",
       " 1.1948180000000008\n",
       " 1.5774054950828162\n",
       " 0.0\n",
       " 2.106295718266254"
      ]
     },
     "execution_count": 37,
     "metadata": {},
     "output_type": "execute_result"
    }
   ],
   "source": [
    "ratings(hd.w)"
   ]
  },
  {
   "cell_type": "code",
   "execution_count": 38,
   "id": "fda48ad3-906e-430e-b57d-380b25d41cfd",
   "metadata": {},
   "outputs": [
    {
     "data": {
      "text/plain": [
       "20-element Vector{Int64}:\n",
       "  3\n",
       "  1\n",
       "  6\n",
       "  8\n",
       "  2\n",
       "  4\n",
       "  7\n",
       "  5\n",
       " 18\n",
       " 15\n",
       " 10\n",
       " 12\n",
       "  9\n",
       " 14\n",
       " 13\n",
       " 19\n",
       " 17\n",
       " 16\n",
       " 20\n",
       " 11"
      ]
     },
     "execution_count": 38,
     "metadata": {},
     "output_type": "execute_result"
    }
   ],
   "source": [
    "ranking(hd.w)"
   ]
  },
  {
   "cell_type": "markdown",
   "id": "005e1da9-2c67-4c1a-a705-a7739be3458d",
   "metadata": {},
   "source": [
    "### Test with ranks"
   ]
  },
  {
   "cell_type": "code",
   "execution_count": 42,
   "id": "1ba9d955-5afa-427d-86bd-54e8fded9dec",
   "metadata": {},
   "outputs": [
    {
     "data": {
      "text/plain": [
       "{20, 190} undirected simple Int64 graph with Float64 weights"
      ]
     },
     "execution_count": 42,
     "metadata": {},
     "output_type": "execute_result"
    }
   ],
   "source": [
    "g = dict_weighted_g_jld2[(\"Spain\", \"counterattack\")]"
   ]
  },
  {
   "cell_type": "code",
   "execution_count": 43,
   "id": "a4b69420-6db8-41be-bece-5f2b137259a6",
   "metadata": {},
   "outputs": [
    {
     "data": {
      "text/plain": [
       "(SimplicialComplex(Any[[1; 2; … ; 19; 20;;], [1 2; 1 3; … ; 18 20; 19 20], [1 2 3; 1 2 4; … ; 17 19 20; 18 19 20]], Dict[Dict([18] => 18, [14] => 14, [3] => 3, [5] => 5, [16] => 16, [7] => 7, [20] => 20, [12] => 12, [8] => 8, [17] => 17…), Dict{Any, Any}([6, 14] => 84, [12, 16] => 117, [15, 20] => 186, [3, 12] => 58, [12, 19] => 165, [14, 18] => 150, [10, 12] => 65, [2, 12] => 57, [16, 18] => 152, [14, 16] => 119…), Dict{Any, Any}([10, 18, 20] => 1019, [2, 7, 11] => 237, [5, 6, 18] => 592, [6, 7, 17] => 695, [4, 12, 18] => 550, [1, 12, 15] => 138, [7, 11, 14] => 812, [12, 19, 20] => 1084, [6, 9, 16] => 717, [4, 15, 20] => 570…)], Any[sparse([1, 2, 4, 7, 11, 16, 22, 29, 37, 46  …  181, 182, 183, 184, 185, 186, 187, 188, 189, 190], [1, 1, 1, 1, 1, 1, 1, 1, 1, 1  …  20, 20, 20, 20, 20, 20, 20, 20, 20, 20], [-1.0, -1.0, -1.0, -1.0, -1.0, -1.0, -1.0, -1.0, -1.0, -1.0  …  1.0, 1.0, 1.0, 1.0, 1.0, 1.0, 1.0, 1.0, 1.0, 1.0], 190, 20), sparse([1, 2, 3, 4, 5, 6, 7, 8, 9, 10  …  975, 1020, 1056, 1084, 1105, 1120, 1130, 1136, 1139, 1140], [1, 1, 1, 1, 1, 1, 1, 1, 1, 1  …  190, 190, 190, 190, 190, 190, 190, 190, 190, 190], [1.0, 1.0, 1.0, 1.0, 1.0, 1.0, 1.0, 1.0, 1.0, 1.0  …  1.0, 1.0, 1.0, 1.0, 1.0, 1.0, 1.0, 1.0, 1.0, 1.0], 1140, 190)]), [-5.7772, 1.8477, 2.688, -2.3948, 1.2181, 1.366, 0.87077, 0.27957, -0.59704, 0.24582  …  -0.34802, -3.3109, -1.7467, -1.6338, 3.1623, -0.56157, -3.0844, -0.19559, -0.18098, 0.9055])"
      ]
     },
     "execution_count": 43,
     "metadata": {},
     "output_type": "execute_result"
    }
   ],
   "source": [
    "sc,f = g_to_sc_f(g)"
   ]
  },
  {
   "cell_type": "code",
   "execution_count": 44,
   "id": "99cf53eb-724e-46bd-84c6-9bc1a91d2d6e",
   "metadata": {},
   "outputs": [
    {
     "data": {
      "text/plain": [
       "HodgeDecomposition(Real[-5.7772, 1.8477, 2.688, -2.3948, 1.2181, 1.366, 0.87077, 0.27957, -0.59704, 0.24582  …  -0.34802, -3.3109, -1.7467, -1.6338, 3.1623, -0.56157, -3.0844, -0.19559, -0.18098, 0.9055], Real[-3.2629829999999993, 1.6236169999999996, -0.05029999999999981, -1.1480049999999997, -0.049321999999999803, 2.836878, 1.5755734500000003, -1.5298435499999998, 0.33184644999999996, -0.29617155000000006  …  0.3904734500000001, -1.5232674000000004, -0.6834182499999997, 0.48807799999999996, 2.9996510499999998, -0.18385769999999993, -2.0673565, 0.55620175, 0.6816084499999999, 2.1268252999999997], Real[-8.881784197001252e-16, -4.440892098500626e-16, -4.440892098500626e-16, -6.661338147750939e-16, 0.0, 4.440892098500626e-16, -2.220446049250313e-16, 2.220446049250313e-16, 6.661338147750939e-16, 3.3306690738754696e-16  …  0.0, 0.0, -2.220446049250313e-16, 0.0, 6.661338147750939e-16, -2.220446049250313e-16, -2.220446049250313e-16, -1.1102230246251565e-16, 1.1102230246251565e-16, 2.220446049250313e-16], Real[-2.5142169999999995, 0.2240830000000007, 2.7383000000000006, -1.2467949999999997, 1.2674219999999998, -1.4708780000000004, -0.70480345, 1.8094135499999997, -0.9288864500000007, 0.5419915499999998  …  -0.7384934500000001, -1.7876325999999998, -1.06328175, -2.1218779999999997, 0.16264894999999968, -0.3777122999999999, -1.0170435, -0.75179175, -0.8625884500000001, -1.2213253], Real[-0.24684499999999998, -0.10821499999999998, -0.31842, 0.024155000000000013, -0.24301949999999997, 0.17728, -0.028149999999999963, -0.315795, -0.4844744999999999, -0.128195  …  0.08583700000000001, 0.064087, 0.1726115, -0.040379, 0.128629, 0.231634, -0.018629, 0.0418545, 0.12310949999999998, 0.062626], Real[1.8125324999999997, -0.7016845, 2.0366155000000004, 0.5657374999999999, 1.1077290499999997, 0.7304399999999998, 0.5695530499999999, -1.4125777499999996, -0.06238999999999999, -0.5728750499999998, 0.47626409999999997, -0.24808674999999997, 0.8105094999999999, -1.4740174499999996, -0.9336562, -0.294325, -0.55957675, -0.44878004999999993, -0.09004319999999989, -1.3113685], 1)"
      ]
     },
     "execution_count": 44,
     "metadata": {},
     "output_type": "execute_result"
    }
   ],
   "source": [
    "hd = compute_k_th_hodge_decomposition(sc,f,1)"
   ]
  },
  {
   "cell_type": "code",
   "execution_count": 45,
   "id": "8d8ddfdd-c26d-4c43-862c-5207b1e2a857",
   "metadata": {},
   "outputs": [
    {
     "data": {
      "text/plain": [
       "20-element Vector{Float64}:\n",
       " 3.2865499499999995\n",
       " 0.7723329499999996\n",
       " 3.5106329499999998\n",
       " 2.0397549499999994\n",
       " 2.5817464999999995\n",
       " 2.2044574499999996\n",
       " 2.0435704999999995\n",
       " 0.061439699999999986\n",
       " 1.4116274499999997\n",
       " 0.9011423999999998\n",
       " 1.9502815499999997\n",
       " 1.2259306999999997\n",
       " 2.2845269499999996\n",
       " 0.0\n",
       " 0.5403612499999996\n",
       " 1.1796924499999997\n",
       " 0.9144406999999997\n",
       " 1.0252373999999997\n",
       " 1.3839742499999996\n",
       " 0.16264894999999968"
      ]
     },
     "execution_count": 45,
     "metadata": {},
     "output_type": "execute_result"
    }
   ],
   "source": [
    "ratings(hd.w)"
   ]
  },
  {
   "cell_type": "code",
   "execution_count": 46,
   "id": "05ffa5b7-2fed-4ee2-8a4b-b1a26ec92287",
   "metadata": {},
   "outputs": [
    {
     "data": {
      "text/plain": [
       "20-element Vector{Int64}:\n",
       "  2\n",
       " 16\n",
       "  1\n",
       "  7\n",
       "  3\n",
       "  5\n",
       "  6\n",
       " 19\n",
       "  9\n",
       " 15\n",
       "  8\n",
       " 11\n",
       "  4\n",
       " 20\n",
       " 17\n",
       " 12\n",
       " 14\n",
       " 13\n",
       " 10\n",
       " 18"
      ]
     },
     "execution_count": 46,
     "metadata": {},
     "output_type": "execute_result"
    }
   ],
   "source": [
    "ranking(hd.w)"
   ]
  },
  {
   "cell_type": "markdown",
   "id": "f1267c71-3f5c-4a53-af96-3b92453d033f",
   "metadata": {},
   "source": [
    "### Test with shots"
   ]
  },
  {
   "cell_type": "code",
   "execution_count": 47,
   "id": "732217aa-39d0-4bc4-bd47-66b10c573bd1",
   "metadata": {},
   "outputs": [
    {
     "data": {
      "text/plain": [
       "{20, 183} undirected simple Int64 graph with Float64 weights"
      ]
     },
     "execution_count": 47,
     "metadata": {},
     "output_type": "execute_result"
    }
   ],
   "source": [
    "league = \"Italy\"\n",
    "metric = \"shots\"\n",
    "g = dict_weighted_g_jld2[(league,metric)]"
   ]
  },
  {
   "cell_type": "code",
   "execution_count": 48,
   "id": "272521b1-ac81-45ed-bd4f-ccd27a4ba160",
   "metadata": {},
   "outputs": [
    {
     "data": {
      "text/plain": [
       "(SimplicialComplex(Any[[1; 2; … ; 19; 20;;], [1 2; 1 3; … ; 18 20; 19 20], [1 2 3; 1 2 4; … ; 17 19 20; 18 19 20]], Dict[Dict([18] => 18, [14] => 14, [3] => 3, [5] => 5, [16] => 16, [7] => 7, [20] => 20, [12] => 12, [8] => 8, [17] => 17…), Dict{Any, Any}([6, 14] => 80, [12, 16] => 113, [15, 20] => 180, [3, 12] => 54, [12, 19] => 159, [14, 18] => 144, [10, 12] => 61, [2, 12] => 53, [16, 18] => 146, [14, 16] => 114…), Dict{Any, Any}([10, 18, 20] => 912, [2, 7, 11] => 210, [5, 6, 18] => 511, [6, 7, 17] => 610, [1, 12, 15] => 117, [7, 11, 14] => 713, [12, 19, 20] => 973, [6, 9, 16] => 632, [4, 15, 20] => 494, [3, 9, 18] => 352…)], Any[sparse([1, 2, 4, 6, 10, 15, 26, 34, 42, 52  …  174, 175, 176, 177, 178, 179, 180, 181, 182, 183], [1, 1, 1, 1, 1, 1, 1, 1, 1, 1  …  20, 20, 20, 20, 20, 20, 20, 20, 20, 20], [-1.0, -1.0, -1.0, -1.0, -1.0, -1.0, -1.0, -1.0, -1.0, -1.0  …  1.0, 1.0, 1.0, 1.0, 1.0, 1.0, 1.0, 1.0, 1.0, 1.0], 183, 20), sparse([1, 2, 3, 4, 5, 6, 7, 8, 9, 10  …  817, 870, 913, 947, 973, 988, 1002, 1011, 1017, 1018], [1, 1, 1, 1, 1, 1, 1, 1, 1, 1  …  183, 183, 183, 183, 183, 183, 183, 183, 183, 183], [1.0, 1.0, 1.0, 1.0, 1.0, 1.0, 1.0, 1.0, 1.0, 1.0  …  1.0, 1.0, 1.0, 1.0, 1.0, 1.0, 1.0, 1.0, 1.0, 1.0], 1018, 183)]), [5.4075, -2.2634, -2.4496, -3.3307e-16, -2.5217, 0.71646, -3.4384, 0.23595, 2.8439, 1.0167  …  3.3522, 1.2248, -1.9413, -0.98884, -0.71646, 0.90263, 2.0553, -0.32216, -0.64433, 0.71646])"
      ]
     },
     "execution_count": 48,
     "metadata": {},
     "output_type": "execute_result"
    }
   ],
   "source": [
    "sc,f = g_to_sc_f(g)"
   ]
  },
  {
   "cell_type": "code",
   "execution_count": 49,
   "id": "3b06fa90-4bb5-4f43-bbc0-6d65fd808884",
   "metadata": {},
   "outputs": [
    {
     "data": {
      "text/plain": [
       "HodgeDecomposition(Real[5.4075, -2.2634, -2.4496, -3.3307e-16, -2.5217, 0.71646, -3.4384, 0.23595, 2.8439, 1.0167  …  3.3522, 1.2248, -1.9413, -0.98884, -0.71646, 0.90263, 2.0553, -0.32216, -0.64433, 0.71646], Real[4.045521070670162, -2.0362727343478433, -0.8604938250266192, 0.44075547458494446, -0.7189655932199217, 0.37355357799500766, -2.4193274998706302, -0.33408368091521407, 2.060238096322048, 1.0248810794267993  …  2.4019757772440675, 0.9603398673702841, -1.833427714389344, -1.1604547190400132, -0.12152578923970506, 0.6499657800128422, 1.8398802804157852, -1.23363771469175, -1.173220219623151, -1.389835715301798], Real[9.825193769685825e-9, -8.396965567314396e-9, 1.7864538737200064e-9, 1.2483910682981048e-8, -2.0657897614739795e-10, 2.5003489279029623e-9, -1.2936940407826114e-10, 4.1553795959714535e-9, -2.8955469133506995e-9, 1.0685567986001843e-9  …  4.4896786288717294e-9, 2.6139796993618347e-9, -3.876909959732444e-9, 7.737591123380128e-10, -2.3397950243975174e-10, 1.720903641810878e-9, 1.3179605184987508e-9, -3.5745029158817943e-9, -3.560286732096074e-9, -2.964455791953924e-9], Real[1.361978919504644, -0.227127257255191, -1.589106176759835, -0.4407554870688555, -1.8027344065734994, 0.3429064195046434, -1.0190725000000005, 0.5700336767598344, 0.7836619065734989, -0.008181080495356152  …  0.9502242182662537, 0.2644601300157363, -0.10787228173374602, 0.17161471826625402, -0.5949342105263155, 0.2526642182662542, 0.21541971826625417, 0.911477718266253, 0.5288902231834377, 2.106295718266254], Real[0.30875163212288764, 0.14186287671867642, 0.07724691756404127, 0.16246998094656168, 0.4610368412176068, 0.22332812633380664, 0.20206123618668753, 0.2428958152517753, 0.2963157114607785, 0.41592461662857677  …  -0.23906546769313883, -0.24256392145144887, -0.15174790998744317, -0.32083354943630366, -0.29329823489801937, -0.009838399850803191, -0.03737371438908758, -0.026749614242315957, -0.1376253560823614, -0.1482494562291331], Real[1.0775975804953568, 2.4395765000000007, 0.8504703232401658, 0.6368420934265013, 1.4205040000000002, 1.0694165000000007, 0.840394948916409, 0.8879659705882357, -1.2085119999999991, -0.5227479117494818, -0.15041549999999942, -0.42990249999999947, 0.33664642879257, -0.5109519999999996, -0.4737074999999996, -1.6833621470588227, -1.1697654999999985, -0.7871780049171831, -2.3645834999999993, -0.25828778173374545], 1)"
      ]
     },
     "execution_count": 49,
     "metadata": {},
     "output_type": "execute_result"
    }
   ],
   "source": [
    "hd = compute_k_th_hodge_decomposition(sc,f,1)"
   ]
  },
  {
   "cell_type": "code",
   "execution_count": 50,
   "id": "062ca3b2-150f-42f5-95cb-a9a7176c3a7a",
   "metadata": {},
   "outputs": [
    {
     "data": {
      "text/plain": [
       "20-element Vector{Float64}:\n",
       " 3.442181080495356\n",
       " 4.8041599999999995\n",
       " 3.215053823240165\n",
       " 3.0014255934265006\n",
       " 3.7850874999999995\n",
       " 3.434\n",
       " 3.204978448916408\n",
       " 3.252549470588235\n",
       " 1.1560715000000001\n",
       " 1.8418355882505175\n",
       " 2.214168\n",
       " 1.9346809999999999\n",
       " 2.701229928792569\n",
       " 1.8536314999999997\n",
       " 1.8908759999999996\n",
       " 0.6812213529411766\n",
       " 1.1948180000000008\n",
       " 1.5774054950828162\n",
       " 0.0\n",
       " 2.106295718266254"
      ]
     },
     "execution_count": 50,
     "metadata": {},
     "output_type": "execute_result"
    }
   ],
   "source": [
    "w = ratings(hd.w)"
   ]
  },
  {
   "cell_type": "code",
   "execution_count": 51,
   "id": "4817b70d-0384-4949-991a-bdb7f840fad6",
   "metadata": {},
   "outputs": [
    {
     "data": {
      "text/plain": [
       "20-element Vector{Int64}:\n",
       "  3\n",
       "  1\n",
       "  6\n",
       "  8\n",
       "  2\n",
       "  4\n",
       "  7\n",
       "  5\n",
       " 18\n",
       " 15\n",
       " 10\n",
       " 12\n",
       "  9\n",
       " 14\n",
       " 13\n",
       " 19\n",
       " 17\n",
       " 16\n",
       " 20\n",
       " 11"
      ]
     },
     "execution_count": 51,
     "metadata": {},
     "output_type": "execute_result"
    }
   ],
   "source": [
    "r = ranking(hd.w)"
   ]
  },
  {
   "cell_type": "code",
   "execution_count": 53,
   "id": "da0afe95-18a3-4126-b262-53ea46982fa2",
   "metadata": {},
   "outputs": [
    {
     "data": {
      "image/png": "[encoded data removed]",
      "image/svg+xml": [
       "<?xml version=\"1.0\" encoding=\"utf-8\"?>\n",
       "<svg xmlns=\"http://www.w3.org/2000/svg\" xmlns:xlink=\"http://www.w3.org/1999/xlink\" width=\"600\" height=\"400\" viewBox=\"0 0 2400 1600\">\n",
       "<defs>\n",
       "  <clipPath id=\"clip200\">\n",
       "    <rect x=\"0\" y=\"0\" width=\"2400\" height=\"1600\"/>\n",
       "  </clipPath>\n",
       "</defs>\n",
       "<path clip-path=\"url(#clip200)\" d=\"M0 1600 L2400 1600 L2400 0 L0 0  Z\" fill=\"#ffffff\" fill-rule=\"evenodd\" fill-opacity=\"1\"/>\n",
       "<defs>\n",
       "  <clipPath id=\"clip201\">\n",
       "    <rect x=\"480\" y=\"0\" width=\"1681\" height=\"1600\"/>\n",
       "  </clipPath>\n",
       "</defs>\n",
       "<path clip-path=\"url(#clip200)\" d=\"M175.445 1423.18 L2352.76 1423.18 L2352.76 47.2441 L175.445 47.2441  Z\" fill=\"#ffffff\" fill-rule=\"evenodd\" fill-opacity=\"1\"/>\n",
       "<defs>\n",
       "  <clipPath id=\"clip202\">\n",
       "    <rect x=\"175\" y=\"47\" width=\"2178\" height=\"1377\"/>\n",
       "  </clipPath>\n",
       "</defs>\n",
       "<polyline clip-path=\"url(#clip202)\" style=\"stroke:#000000; stroke-linecap:round; stroke-linejoin:round; stroke-width:2; stroke-opacity:0.1; fill:none\" points=\"669.502,1423.18 669.502,47.2441 \"/>\n",
       "<polyline clip-path=\"url(#clip202)\" style=\"stroke:#000000; stroke-linecap:round; stroke-linejoin:round; stroke-width:2; stroke-opacity:0.1; fill:none\" points=\"1210.05,1423.18 1210.05,47.2441 \"/>\n",
       "<polyline clip-path=\"url(#clip202)\" style=\"stroke:#000000; stroke-linecap:round; stroke-linejoin:round; stroke-width:2; stroke-opacity:0.1; fill:none\" points=\"1750.59,1423.18 1750.59,47.2441 \"/>\n",
       "<polyline clip-path=\"url(#clip202)\" style=\"stroke:#000000; stroke-linecap:round; stroke-linejoin:round; stroke-width:2; stroke-opacity:0.1; fill:none\" points=\"2291.13,1423.18 2291.13,47.2441 \"/>\n",
       "<polyline clip-path=\"url(#clip202)\" style=\"stroke:#000000; stroke-linecap:round; stroke-linejoin:round; stroke-width:2; stroke-opacity:0.1; fill:none\" points=\"175.445,1384.24 2352.76,1384.24 \"/>\n",
       "<polyline clip-path=\"url(#clip202)\" style=\"stroke:#000000; stroke-linecap:round; stroke-linejoin:round; stroke-width:2; stroke-opacity:0.1; fill:none\" points=\"175.445,1114.04 2352.76,1114.04 \"/>\n",
       "<polyline clip-path=\"url(#clip202)\" style=\"stroke:#000000; stroke-linecap:round; stroke-linejoin:round; stroke-width:2; stroke-opacity:0.1; fill:none\" points=\"175.445,843.851 2352.76,843.851 \"/>\n",
       "<polyline clip-path=\"url(#clip202)\" style=\"stroke:#000000; stroke-linecap:round; stroke-linejoin:round; stroke-width:2; stroke-opacity:0.1; fill:none\" points=\"175.445,573.658 2352.76,573.658 \"/>\n",
       "<polyline clip-path=\"url(#clip202)\" style=\"stroke:#000000; stroke-linecap:round; stroke-linejoin:round; stroke-width:2; stroke-opacity:0.1; fill:none\" points=\"175.445,303.464 2352.76,303.464 \"/>\n",
       "<polyline clip-path=\"url(#clip200)\" style=\"stroke:#000000; stroke-linecap:round; stroke-linejoin:round; stroke-width:4; stroke-opacity:1; fill:none\" points=\"175.445,1423.18 2352.76,1423.18 \"/>\n",
       "<polyline clip-path=\"url(#clip200)\" style=\"stroke:#000000; stroke-linecap:round; stroke-linejoin:round; stroke-width:4; stroke-opacity:1; fill:none\" points=\"669.502,1423.18 669.502,1404.28 \"/>\n",
       "<polyline clip-path=\"url(#clip200)\" style=\"stroke:#000000; stroke-linecap:round; stroke-linejoin:round; stroke-width:4; stroke-opacity:1; fill:none\" points=\"1210.05,1423.18 1210.05,1404.28 \"/>\n",
       "<polyline clip-path=\"url(#clip200)\" style=\"stroke:#000000; stroke-linecap:round; stroke-linejoin:round; stroke-width:4; stroke-opacity:1; fill:none\" points=\"1750.59,1423.18 1750.59,1404.28 \"/>\n",
       "<polyline clip-path=\"url(#clip200)\" style=\"stroke:#000000; stroke-linecap:round; stroke-linejoin:round; stroke-width:4; stroke-opacity:1; fill:none\" points=\"2291.13,1423.18 2291.13,1404.28 \"/>\n",
       "<path clip-path=\"url(#clip200)\" d=\"M659.78 1451.02 L678.137 1451.02 L678.137 1454.96 L664.063 1454.96 L664.063 1463.43 Q665.081 1463.08 666.1 1462.92 Q667.118 1462.73 668.137 1462.73 Q673.924 1462.73 677.303 1465.9 Q680.683 1469.08 680.683 1474.49 Q680.683 1480.07 677.211 1483.17 Q673.738 1486.25 667.419 1486.25 Q665.243 1486.25 662.975 1485.88 Q660.729 1485.51 658.322 1484.77 L658.322 1480.07 Q660.405 1481.2 662.627 1481.76 Q664.85 1482.32 667.326 1482.32 Q671.331 1482.32 673.669 1480.21 Q676.007 1478.1 676.007 1474.49 Q676.007 1470.88 673.669 1468.77 Q671.331 1466.67 667.326 1466.67 Q665.451 1466.67 663.576 1467.08 Q661.725 1467.5 659.78 1468.38 L659.78 1451.02 Z\" fill=\"#000000\" fill-rule=\"nonzero\" fill-opacity=\"1\" /><path clip-path=\"url(#clip200)\" d=\"M1184.73 1481.64 L1192.37 1481.64 L1192.37 1455.28 L1184.06 1456.95 L1184.06 1452.69 L1192.33 1451.02 L1197 1451.02 L1197 1481.64 L1204.64 1481.64 L1204.64 1485.58 L1184.73 1485.58 L1184.73 1481.64 Z\" fill=\"#000000\" fill-rule=\"nonzero\" fill-opacity=\"1\" /><path clip-path=\"url(#clip200)\" d=\"M1224.09 1454.1 Q1220.47 1454.1 1218.65 1457.66 Q1216.84 1461.2 1216.84 1468.33 Q1216.84 1475.44 1218.65 1479.01 Q1220.47 1482.55 1224.09 1482.55 Q1227.72 1482.55 1229.53 1479.01 Q1231.35 1475.44 1231.35 1468.33 Q1231.35 1461.2 1229.53 1457.66 Q1227.72 1454.1 1224.09 1454.1 M1224.09 1450.39 Q1229.9 1450.39 1232.95 1455 Q1236.03 1459.58 1236.03 1468.33 Q1236.03 1477.06 1232.95 1481.67 Q1229.9 1486.25 1224.09 1486.25 Q1218.28 1486.25 1215.2 1481.67 Q1212.14 1477.06 1212.14 1468.33 Q1212.14 1459.58 1215.2 1455 Q1218.28 1450.39 1224.09 1450.39 Z\" fill=\"#000000\" fill-rule=\"nonzero\" fill-opacity=\"1\" /><path clip-path=\"url(#clip200)\" d=\"M1725.78 1481.64 L1733.41 1481.64 L1733.41 1455.28 L1725.1 1456.95 L1725.1 1452.69 L1733.37 1451.02 L1738.04 1451.02 L1738.04 1481.64 L1745.68 1481.64 L1745.68 1485.58 L1725.78 1485.58 L1725.78 1481.64 Z\" fill=\"#000000\" fill-rule=\"nonzero\" fill-opacity=\"1\" /><path clip-path=\"url(#clip200)\" d=\"M1755.17 1451.02 L1773.53 1451.02 L1773.53 1454.96 L1759.46 1454.96 L1759.46 1463.43 Q1760.47 1463.08 1761.49 1462.92 Q1762.51 1462.73 1763.53 1462.73 Q1769.32 1462.73 1772.7 1465.9 Q1776.08 1469.08 1776.08 1474.49 Q1776.08 1480.07 1772.6 1483.17 Q1769.13 1486.25 1762.81 1486.25 Q1760.64 1486.25 1758.37 1485.88 Q1756.12 1485.51 1753.72 1484.77 L1753.72 1480.07 Q1755.8 1481.2 1758.02 1481.76 Q1760.24 1482.32 1762.72 1482.32 Q1766.72 1482.32 1769.06 1480.21 Q1771.4 1478.1 1771.4 1474.49 Q1771.4 1470.88 1769.06 1468.77 Q1766.72 1466.67 1762.72 1466.67 Q1760.84 1466.67 1758.97 1467.08 Q1757.12 1467.5 1755.17 1468.38 L1755.17 1451.02 Z\" fill=\"#000000\" fill-rule=\"nonzero\" fill-opacity=\"1\" /><path clip-path=\"url(#clip200)\" d=\"M2269.91 1481.64 L2286.23 1481.64 L2286.23 1485.58 L2264.28 1485.58 L2264.28 1481.64 Q2266.94 1478.89 2271.53 1474.26 Q2276.13 1469.61 2277.31 1468.27 Q2279.56 1465.74 2280.44 1464.01 Q2281.34 1462.25 2281.34 1460.56 Q2281.34 1457.8 2279.4 1456.07 Q2277.48 1454.33 2274.37 1454.33 Q2272.18 1454.33 2269.72 1455.09 Q2267.29 1455.86 2264.51 1457.41 L2264.51 1452.69 Q2267.34 1451.55 2269.79 1450.97 Q2272.25 1450.39 2274.28 1450.39 Q2279.65 1450.39 2282.85 1453.08 Q2286.04 1455.77 2286.04 1460.26 Q2286.04 1462.39 2285.23 1464.31 Q2284.44 1466.2 2282.34 1468.8 Q2281.76 1469.47 2278.66 1472.69 Q2275.56 1475.88 2269.91 1481.64 Z\" fill=\"#000000\" fill-rule=\"nonzero\" fill-opacity=\"1\" /><path clip-path=\"url(#clip200)\" d=\"M2306.04 1454.1 Q2302.43 1454.1 2300.6 1457.66 Q2298.8 1461.2 2298.8 1468.33 Q2298.8 1475.44 2300.6 1479.01 Q2302.43 1482.55 2306.04 1482.55 Q2309.68 1482.55 2311.48 1479.01 Q2313.31 1475.44 2313.31 1468.33 Q2313.31 1461.2 2311.48 1457.66 Q2309.68 1454.1 2306.04 1454.1 M2306.04 1450.39 Q2311.85 1450.39 2314.91 1455 Q2317.99 1459.58 2317.99 1468.33 Q2317.99 1477.06 2314.91 1481.67 Q2311.85 1486.25 2306.04 1486.25 Q2300.23 1486.25 2297.15 1481.67 Q2294.1 1477.06 2294.1 1468.33 Q2294.1 1459.58 2297.15 1455 Q2300.23 1450.39 2306.04 1450.39 Z\" fill=\"#000000\" fill-rule=\"nonzero\" fill-opacity=\"1\" /><path clip-path=\"url(#clip200)\" d=\"M1077.57 1522.27 L1077.57 1532.4 L1089.63 1532.4 L1089.63 1536.95 L1077.57 1536.95 L1077.57 1556.3 Q1077.57 1560.66 1078.75 1561.9 Q1079.96 1563.14 1083.62 1563.14 L1089.63 1563.14 L1089.63 1568.04 L1083.62 1568.04 Q1076.84 1568.04 1074.26 1565.53 Q1071.68 1562.98 1071.68 1556.3 L1071.68 1536.95 L1067.38 1536.95 L1067.38 1532.4 L1071.68 1532.4 L1071.68 1522.27 L1077.57 1522.27 Z\" fill=\"#000000\" fill-rule=\"nonzero\" fill-opacity=\"1\" /><path clip-path=\"url(#clip200)\" d=\"M1117.99 1537.87 Q1117 1537.3 1115.83 1537.04 Q1114.68 1536.76 1113.28 1536.76 Q1108.32 1536.76 1105.64 1540 Q1103 1543.22 1103 1549.27 L1103 1568.04 L1097.11 1568.04 L1097.11 1532.4 L1103 1532.4 L1103 1537.93 Q1104.85 1534.69 1107.81 1533.13 Q1110.77 1531.54 1115 1531.54 Q1115.6 1531.54 1116.34 1531.63 Q1117.07 1531.7 1117.96 1531.85 L1117.99 1537.87 Z\" fill=\"#000000\" fill-rule=\"nonzero\" fill-opacity=\"1\" /><path clip-path=\"url(#clip200)\" d=\"M1123.53 1553.98 L1123.53 1532.4 L1129.39 1532.4 L1129.39 1553.75 Q1129.39 1558.81 1131.36 1561.36 Q1133.33 1563.87 1137.28 1563.87 Q1142.02 1563.87 1144.76 1560.85 Q1147.53 1557.83 1147.53 1552.61 L1147.53 1532.4 L1153.39 1532.4 L1153.39 1568.04 L1147.53 1568.04 L1147.53 1562.57 Q1145.4 1565.82 1142.56 1567.41 Q1139.76 1568.97 1136.04 1568.97 Q1129.9 1568.97 1126.71 1565.15 Q1123.53 1561.33 1123.53 1553.98 M1138.27 1531.54 L1138.27 1531.54 Z\" fill=\"#000000\" fill-rule=\"nonzero\" fill-opacity=\"1\" /><path clip-path=\"url(#clip200)\" d=\"M1195.94 1548.76 L1195.94 1551.62 L1169.01 1551.62 Q1169.39 1557.67 1172.64 1560.85 Q1175.92 1564 1181.74 1564 Q1185.12 1564 1188.27 1563.17 Q1191.45 1562.35 1194.57 1560.69 L1194.57 1566.23 Q1191.42 1567.57 1188.11 1568.27 Q1184.8 1568.97 1181.39 1568.97 Q1172.86 1568.97 1167.87 1564 Q1162.9 1559.04 1162.9 1550.57 Q1162.9 1541.82 1167.61 1536.69 Q1172.35 1531.54 1180.38 1531.54 Q1187.57 1531.54 1191.74 1536.18 Q1195.94 1540.8 1195.94 1548.76 M1190.08 1547.04 Q1190.02 1542.23 1187.38 1539.37 Q1184.77 1536.5 1180.44 1536.5 Q1175.54 1536.5 1172.58 1539.27 Q1169.65 1542.04 1169.2 1547.07 L1190.08 1547.04 Z\" fill=\"#000000\" fill-rule=\"nonzero\" fill-opacity=\"1\" /><path clip-path=\"url(#clip200)\" d=\"M1246.93 1537.87 Q1245.94 1537.3 1244.76 1537.04 Q1243.62 1536.76 1242.22 1536.76 Q1237.25 1536.76 1234.58 1540 Q1231.94 1543.22 1231.94 1549.27 L1231.94 1568.04 L1226.05 1568.04 L1226.05 1532.4 L1231.94 1532.4 L1231.94 1537.93 Q1233.78 1534.69 1236.74 1533.13 Q1239.7 1531.54 1243.94 1531.54 Q1244.54 1531.54 1245.27 1531.63 Q1246.01 1531.7 1246.9 1531.85 L1246.93 1537.87 Z\" fill=\"#000000\" fill-rule=\"nonzero\" fill-opacity=\"1\" /><path clip-path=\"url(#clip200)\" d=\"M1269.27 1550.12 Q1262.17 1550.12 1259.44 1551.75 Q1256.7 1553.37 1256.7 1557.29 Q1256.7 1560.4 1258.74 1562.25 Q1260.81 1564.07 1264.34 1564.07 Q1269.21 1564.07 1272.14 1560.63 Q1275.1 1557.16 1275.1 1551.43 L1275.1 1550.12 L1269.27 1550.12 M1280.95 1547.71 L1280.95 1568.04 L1275.1 1568.04 L1275.1 1562.63 Q1273.09 1565.88 1270.1 1567.44 Q1267.11 1568.97 1262.78 1568.97 Q1257.31 1568.97 1254.06 1565.91 Q1250.84 1562.82 1250.84 1557.67 Q1250.84 1551.65 1254.85 1548.6 Q1258.9 1545.54 1266.89 1545.54 L1275.1 1545.54 L1275.1 1544.97 Q1275.1 1540.93 1272.42 1538.73 Q1269.78 1536.5 1264.98 1536.5 Q1261.92 1536.5 1259.02 1537.23 Q1256.13 1537.97 1253.45 1539.43 L1253.45 1534.02 Q1256.67 1532.78 1259.69 1532.17 Q1262.72 1531.54 1265.58 1531.54 Q1273.31 1531.54 1277.13 1535.55 Q1280.95 1539.56 1280.95 1547.71 Z\" fill=\"#000000\" fill-rule=\"nonzero\" fill-opacity=\"1\" /><path clip-path=\"url(#clip200)\" d=\"M1322.65 1546.53 L1322.65 1568.04 L1316.79 1568.04 L1316.79 1546.72 Q1316.79 1541.66 1314.82 1539.14 Q1312.85 1536.63 1308.9 1536.63 Q1304.16 1536.63 1301.42 1539.65 Q1298.68 1542.68 1298.68 1547.9 L1298.68 1568.04 L1292.79 1568.04 L1292.79 1532.4 L1298.68 1532.4 L1298.68 1537.93 Q1300.78 1534.72 1303.62 1533.13 Q1306.48 1531.54 1310.2 1531.54 Q1316.35 1531.54 1319.5 1535.36 Q1322.65 1539.14 1322.65 1546.53 Z\" fill=\"#000000\" fill-rule=\"nonzero\" fill-opacity=\"1\" /><path clip-path=\"url(#clip200)\" d=\"M1334.11 1518.52 L1340 1518.52 L1340 1547.77 L1357.47 1532.4 L1364.95 1532.4 L1346.04 1549.07 L1365.74 1568.04 L1358.11 1568.04 L1340 1550.63 L1340 1568.04 L1334.11 1568.04 L1334.11 1518.52 Z\" fill=\"#000000\" fill-rule=\"nonzero\" fill-opacity=\"1\" /><path clip-path=\"url(#clip200)\" d=\"M1372.08 1532.4 L1377.94 1532.4 L1377.94 1568.04 L1372.08 1568.04 L1372.08 1532.4 M1372.08 1518.52 L1377.94 1518.52 L1377.94 1525.93 L1372.08 1525.93 L1372.08 1518.52 Z\" fill=\"#000000\" fill-rule=\"nonzero\" fill-opacity=\"1\" /><path clip-path=\"url(#clip200)\" d=\"M1419.82 1546.53 L1419.82 1568.04 L1413.97 1568.04 L1413.97 1546.72 Q1413.97 1541.66 1411.99 1539.14 Q1410.02 1536.63 1406.07 1536.63 Q1401.33 1536.63 1398.59 1539.65 Q1395.85 1542.68 1395.85 1547.9 L1395.85 1568.04 L1389.97 1568.04 L1389.97 1532.4 L1395.85 1532.4 L1395.85 1537.93 Q1397.96 1534.72 1400.79 1533.13 Q1403.65 1531.54 1407.38 1531.54 Q1413.52 1531.54 1416.67 1535.36 Q1419.82 1539.14 1419.82 1546.53 Z\" fill=\"#000000\" fill-rule=\"nonzero\" fill-opacity=\"1\" /><path clip-path=\"url(#clip200)\" d=\"M1454.96 1549.81 Q1454.96 1543.44 1452.32 1539.94 Q1449.71 1536.44 1444.97 1536.44 Q1440.26 1536.44 1437.61 1539.94 Q1435 1543.44 1435 1549.81 Q1435 1556.14 1437.61 1559.64 Q1440.26 1563.14 1444.97 1563.14 Q1449.71 1563.14 1452.32 1559.64 Q1454.96 1556.14 1454.96 1549.81 M1460.82 1563.62 Q1460.82 1572.72 1456.77 1577.15 Q1452.73 1581.6 1444.39 1581.6 Q1441.31 1581.6 1438.57 1581.13 Q1435.83 1580.68 1433.25 1579.72 L1433.25 1574.03 Q1435.83 1575.43 1438.35 1576.1 Q1440.86 1576.76 1443.47 1576.76 Q1449.23 1576.76 1452.1 1573.74 Q1454.96 1570.75 1454.96 1564.67 L1454.96 1561.77 Q1453.15 1564.92 1450.31 1566.48 Q1447.48 1568.04 1443.53 1568.04 Q1436.98 1568.04 1432.97 1563.05 Q1428.96 1558.05 1428.96 1549.81 Q1428.96 1541.53 1432.97 1536.53 Q1436.98 1531.54 1443.53 1531.54 Q1447.48 1531.54 1450.31 1533.1 Q1453.15 1534.66 1454.96 1537.81 L1454.96 1532.4 L1460.82 1532.4 L1460.82 1563.62 Z\" fill=\"#000000\" fill-rule=\"nonzero\" fill-opacity=\"1\" /><polyline clip-path=\"url(#clip200)\" style=\"stroke:#000000; stroke-linecap:round; stroke-linejoin:round; stroke-width:4; stroke-opacity:1; fill:none\" points=\"175.445,1423.18 175.445,47.2441 \"/>\n",
       "<polyline clip-path=\"url(#clip200)\" style=\"stroke:#000000; stroke-linecap:round; stroke-linejoin:round; stroke-width:4; stroke-opacity:1; fill:none\" points=\"175.445,1384.24 194.343,1384.24 \"/>\n",
       "<polyline clip-path=\"url(#clip200)\" style=\"stroke:#000000; stroke-linecap:round; stroke-linejoin:round; stroke-width:4; stroke-opacity:1; fill:none\" points=\"175.445,1114.04 194.343,1114.04 \"/>\n",
       "<polyline clip-path=\"url(#clip200)\" style=\"stroke:#000000; stroke-linecap:round; stroke-linejoin:round; stroke-width:4; stroke-opacity:1; fill:none\" points=\"175.445,843.851 194.343,843.851 \"/>\n",
       "<polyline clip-path=\"url(#clip200)\" style=\"stroke:#000000; stroke-linecap:round; stroke-linejoin:round; stroke-width:4; stroke-opacity:1; fill:none\" points=\"175.445,573.658 194.343,573.658 \"/>\n",
       "<polyline clip-path=\"url(#clip200)\" style=\"stroke:#000000; stroke-linecap:round; stroke-linejoin:round; stroke-width:4; stroke-opacity:1; fill:none\" points=\"175.445,303.464 194.343,303.464 \"/>\n",
       "<path clip-path=\"url(#clip200)\" d=\"M127.501 1370.04 Q123.89 1370.04 122.061 1373.6 Q120.255 1377.14 120.255 1384.27 Q120.255 1391.38 122.061 1394.94 Q123.89 1398.49 127.501 1398.49 Q131.135 1398.49 132.941 1394.94 Q134.769 1391.38 134.769 1384.27 Q134.769 1377.14 132.941 1373.6 Q131.135 1370.04 127.501 1370.04 M127.501 1366.33 Q133.311 1366.33 136.367 1370.94 Q139.445 1375.52 139.445 1384.27 Q139.445 1393 136.367 1397.61 Q133.311 1402.19 127.501 1402.19 Q121.691 1402.19 118.612 1397.61 Q115.556 1393 115.556 1384.27 Q115.556 1375.52 118.612 1370.94 Q121.691 1366.33 127.501 1366.33 Z\" fill=\"#000000\" fill-rule=\"nonzero\" fill-opacity=\"1\" /><path clip-path=\"url(#clip200)\" d=\"M119.538 1127.39 L127.177 1127.39 L127.177 1101.02 L118.867 1102.69 L118.867 1098.43 L127.13 1096.76 L131.806 1096.76 L131.806 1127.39 L139.445 1127.39 L139.445 1131.32 L119.538 1131.32 L119.538 1127.39 Z\" fill=\"#000000\" fill-rule=\"nonzero\" fill-opacity=\"1\" /><path clip-path=\"url(#clip200)\" d=\"M123.126 857.196 L139.445 857.196 L139.445 861.131 L117.501 861.131 L117.501 857.196 Q120.163 854.442 124.746 849.812 Q129.353 845.159 130.533 843.817 Q132.779 841.293 133.658 839.557 Q134.561 837.798 134.561 836.108 Q134.561 833.354 132.617 831.618 Q130.695 829.882 127.593 829.882 Q125.394 829.882 122.941 830.645 Q120.51 831.409 117.732 832.96 L117.732 828.238 Q120.556 827.104 123.01 826.525 Q125.464 825.946 127.501 825.946 Q132.871 825.946 136.066 828.632 Q139.26 831.317 139.26 835.807 Q139.26 837.937 138.45 839.858 Q137.663 841.756 135.556 844.349 Q134.978 845.02 131.876 848.238 Q128.774 851.432 123.126 857.196 Z\" fill=\"#000000\" fill-rule=\"nonzero\" fill-opacity=\"1\" /><path clip-path=\"url(#clip200)\" d=\"M132.316 572.304 Q135.672 573.021 137.547 575.29 Q139.445 577.558 139.445 580.892 Q139.445 586.007 135.927 588.808 Q132.408 591.609 125.927 591.609 Q123.751 591.609 121.436 591.169 Q119.144 590.753 116.691 589.896 L116.691 585.382 Q118.635 586.517 120.95 587.095 Q123.265 587.674 125.788 587.674 Q130.186 587.674 132.478 585.938 Q134.792 584.202 134.792 580.892 Q134.792 577.836 132.64 576.123 Q130.51 574.387 126.691 574.387 L122.663 574.387 L122.663 570.544 L126.876 570.544 Q130.325 570.544 132.154 569.179 Q133.982 567.79 133.982 565.197 Q133.982 562.535 132.084 561.123 Q130.209 559.688 126.691 559.688 Q124.769 559.688 122.57 560.105 Q120.371 560.521 117.732 561.401 L117.732 557.234 Q120.394 556.494 122.709 556.123 Q125.047 555.753 127.107 555.753 Q132.431 555.753 135.533 558.183 Q138.635 560.591 138.635 564.711 Q138.635 567.582 136.992 569.572 Q135.348 571.54 132.316 572.304 Z\" fill=\"#000000\" fill-rule=\"nonzero\" fill-opacity=\"1\" /><path clip-path=\"url(#clip200)\" d=\"M129.862 290.258 L118.056 308.707 L129.862 308.707 L129.862 290.258 M128.635 286.184 L134.515 286.184 L134.515 308.707 L139.445 308.707 L139.445 312.596 L134.515 312.596 L134.515 320.744 L129.862 320.744 L129.862 312.596 L114.26 312.596 L114.26 308.082 L128.635 286.184 Z\" fill=\"#000000\" fill-rule=\"nonzero\" fill-opacity=\"1\" /><path clip-path=\"url(#clip200)\" d=\"M33.8307 928.252 Q33.2578 929.239 33.0032 930.416 Q32.7167 931.562 32.7167 932.963 Q32.7167 937.928 35.9632 940.601 Q39.1779 943.243 45.2253 943.243 L64.0042 943.243 L64.0042 949.132 L28.3562 949.132 L28.3562 943.243 L33.8944 943.243 Q30.6479 941.397 29.0883 938.437 Q27.4968 935.477 27.4968 931.244 Q27.4968 930.639 27.5923 929.907 Q27.656 929.175 27.8151 928.284 L33.8307 928.252 Z\" fill=\"#000000\" fill-rule=\"nonzero\" fill-opacity=\"1\" /><path clip-path=\"url(#clip200)\" d=\"M46.0847 905.908 Q46.0847 913.006 47.7079 915.743 Q49.3312 918.481 53.2461 918.481 Q56.3653 918.481 58.2114 916.444 Q60.0256 914.375 60.0256 910.842 Q60.0256 905.972 56.5881 903.044 Q53.1188 900.084 47.3897 900.084 L46.0847 900.084 L46.0847 905.908 M43.6657 894.227 L64.0042 894.227 L64.0042 900.084 L58.5933 900.084 Q61.8398 902.089 63.3994 905.081 Q64.9272 908.073 64.9272 912.401 Q64.9272 917.876 61.8716 921.122 Q58.7843 924.337 53.6281 924.337 Q47.6125 924.337 44.5569 920.327 Q41.5014 916.284 41.5014 908.296 L41.5014 900.084 L40.9285 900.084 Q36.8862 900.084 34.6901 902.757 Q32.4621 905.399 32.4621 910.205 Q32.4621 913.261 33.1941 916.157 Q33.9262 919.054 35.3903 921.727 L29.9795 921.727 Q28.7381 918.512 28.1334 915.489 Q27.4968 912.465 27.4968 909.601 Q27.4968 901.866 31.5072 898.047 Q35.5176 894.227 43.6657 894.227 Z\" fill=\"#000000\" fill-rule=\"nonzero\" fill-opacity=\"1\" /><path clip-path=\"url(#clip200)\" d=\"M18.2347 876.372 L28.3562 876.372 L28.3562 864.308 L32.9077 864.308 L32.9077 876.372 L52.2594 876.372 Q56.6199 876.372 57.8613 875.194 Q59.1026 873.984 59.1026 870.324 L59.1026 864.308 L64.0042 864.308 L64.0042 870.324 Q64.0042 877.104 61.4897 879.682 Q58.9434 882.26 52.2594 882.26 L32.9077 882.26 L32.9077 886.557 L28.3562 886.557 L28.3562 882.26 L18.2347 882.26 L18.2347 876.372 Z\" fill=\"#000000\" fill-rule=\"nonzero\" fill-opacity=\"1\" /><path clip-path=\"url(#clip200)\" d=\"M28.3562 856.606 L28.3562 850.75 L64.0042 850.75 L64.0042 856.606 L28.3562 856.606 M14.479 856.606 L14.479 850.75 L21.895 850.75 L21.895 856.606 L14.479 856.606 Z\" fill=\"#000000\" fill-rule=\"nonzero\" fill-opacity=\"1\" /><path clip-path=\"url(#clip200)\" d=\"M42.4881 808.863 L64.0042 808.863 L64.0042 814.72 L42.679 814.72 Q37.6183 814.72 35.1038 816.693 Q32.5894 818.666 32.5894 822.613 Q32.5894 827.356 35.6131 830.093 Q38.6368 832.83 43.8567 832.83 L64.0042 832.83 L64.0042 838.718 L28.3562 838.718 L28.3562 832.83 L33.8944 832.83 Q30.6797 830.729 29.0883 827.897 Q27.4968 825.032 27.4968 821.308 Q27.4968 815.165 31.3163 812.014 Q35.1038 808.863 42.4881 808.863 Z\" fill=\"#000000\" fill-rule=\"nonzero\" fill-opacity=\"1\" /><path clip-path=\"url(#clip200)\" d=\"M45.7664 773.724 Q39.4007 773.724 35.8996 776.366 Q32.3984 778.976 32.3984 783.719 Q32.3984 788.429 35.8996 791.071 Q39.4007 793.681 45.7664 793.681 Q52.1003 793.681 55.6014 791.071 Q59.1026 788.429 59.1026 783.719 Q59.1026 778.976 55.6014 776.366 Q52.1003 773.724 45.7664 773.724 M59.58 767.868 Q68.683 767.868 73.1071 771.91 Q77.5631 775.952 77.5631 784.292 Q77.5631 787.379 77.0857 790.116 Q76.6401 792.853 75.6852 795.432 L69.9879 795.432 Q71.3884 792.853 72.0568 790.339 Q72.7252 787.825 72.7252 785.215 Q72.7252 779.454 69.7015 776.589 Q66.7096 773.724 60.6303 773.724 L57.7339 773.724 Q60.885 775.539 62.4446 778.371 Q64.0042 781.204 64.0042 785.151 Q64.0042 791.708 59.0071 795.718 Q54.01 799.728 45.7664 799.728 Q37.491 799.728 32.4939 795.718 Q27.4968 791.708 27.4968 785.151 Q27.4968 781.204 29.0564 778.371 Q30.616 775.539 33.7671 773.724 L28.3562 773.724 L28.3562 767.868 L59.58 767.868 Z\" fill=\"#000000\" fill-rule=\"nonzero\" fill-opacity=\"1\" /><path clip-path=\"url(#clip200)\" d=\"M14.479 735.626 L14.479 722.13 L19.0304 722.13 L19.0304 729.769 L68.0464 729.769 L68.0464 722.13 L72.5979 722.13 L72.5979 735.626 L14.479 735.626 Z\" fill=\"#000000\" fill-rule=\"nonzero\" fill-opacity=\"1\" /><path clip-path=\"url(#clip200)\" d=\"M29.4065 686.928 L34.9447 686.928 Q33.6716 689.411 33.035 692.084 Q32.3984 694.758 32.3984 697.622 Q32.3984 701.983 33.7352 704.179 Q35.072 706.343 37.7456 706.343 Q39.7826 706.343 40.9603 704.784 Q42.1061 703.224 43.1565 698.514 L43.6021 696.508 Q44.9389 690.27 47.3897 687.66 Q49.8086 685.018 54.1691 685.018 Q59.1344 685.018 62.0308 688.965 Q64.9272 692.88 64.9272 699.755 Q64.9272 702.62 64.3543 705.739 Q63.8132 708.826 62.6992 712.264 L56.6518 712.264 Q58.3387 709.017 59.198 705.866 Q60.0256 702.715 60.0256 699.628 Q60.0256 695.49 58.6251 693.262 Q57.1929 691.034 54.6147 691.034 Q52.2276 691.034 50.9545 692.657 Q49.6813 694.249 48.5037 699.691 L48.0262 701.728 Q46.8804 707.171 44.5251 709.59 Q42.138 712.009 38.0002 712.009 Q32.9713 712.009 30.2341 708.444 Q27.4968 704.879 27.4968 698.323 Q27.4968 695.076 27.9743 692.212 Q28.4517 689.347 29.4065 686.928 Z\" fill=\"#000000\" fill-rule=\"nonzero\" fill-opacity=\"1\" /><path clip-path=\"url(#clip200)\" d=\"M42.4881 646.06 L64.0042 646.06 L64.0042 651.917 L42.679 651.917 Q37.6183 651.917 35.1038 653.89 Q32.5894 655.863 32.5894 659.81 Q32.5894 664.553 35.6131 667.29 Q38.6368 670.027 43.8567 670.027 L64.0042 670.027 L64.0042 675.915 L14.479 675.915 L14.479 670.027 L33.8944 670.027 Q30.6797 667.926 29.0883 665.094 Q27.4968 662.229 27.4968 658.505 Q27.4968 652.362 31.3163 649.211 Q35.1038 646.06 42.4881 646.06 Z\" fill=\"#000000\" fill-rule=\"nonzero\" fill-opacity=\"1\" /><path clip-path=\"url(#clip200)\" d=\"M32.4621 620.566 Q32.4621 625.276 36.1542 628.013 Q39.8145 630.751 46.212 630.751 Q52.6095 630.751 56.3017 628.045 Q59.9619 625.308 59.9619 620.566 Q59.9619 615.887 56.2698 613.15 Q52.5777 610.412 46.212 610.412 Q39.8781 610.412 36.186 613.15 Q32.4621 615.887 32.4621 620.566 M27.4968 620.566 Q27.4968 612.927 32.4621 608.566 Q37.4273 604.206 46.212 604.206 Q54.9649 604.206 59.9619 608.566 Q64.9272 612.927 64.9272 620.566 Q64.9272 628.236 59.9619 632.597 Q54.9649 636.925 46.212 636.925 Q37.4273 636.925 32.4621 632.597 Q27.4968 628.236 27.4968 620.566 Z\" fill=\"#000000\" fill-rule=\"nonzero\" fill-opacity=\"1\" /><path clip-path=\"url(#clip200)\" d=\"M18.2347 588.705 L28.3562 588.705 L28.3562 576.642 L32.9077 576.642 L32.9077 588.705 L52.2594 588.705 Q56.6199 588.705 57.8613 587.528 Q59.1026 586.318 59.1026 582.658 L59.1026 576.642 L64.0042 576.642 L64.0042 582.658 Q64.0042 589.437 61.4897 592.015 Q58.9434 594.594 52.2594 594.594 L32.9077 594.594 L32.9077 598.89 L28.3562 598.89 L28.3562 594.594 L18.2347 594.594 L18.2347 588.705 Z\" fill=\"#000000\" fill-rule=\"nonzero\" fill-opacity=\"1\" /><path clip-path=\"url(#clip200)\" d=\"M29.4065 546.214 L34.9447 546.214 Q33.6716 548.697 33.035 551.37 Q32.3984 554.044 32.3984 556.909 Q32.3984 561.269 33.7352 563.465 Q35.072 565.63 37.7456 565.63 Q39.7826 565.63 40.9603 564.07 Q42.1061 562.51 43.1565 557.8 L43.6021 555.795 Q44.9389 549.556 47.3897 546.946 Q49.8086 544.304 54.1691 544.304 Q59.1344 544.304 62.0308 548.251 Q64.9272 552.166 64.9272 559.041 Q64.9272 561.906 64.3543 565.025 Q63.8132 568.112 62.6992 571.55 L56.6518 571.55 Q58.3387 568.303 59.198 565.152 Q60.0256 562.001 60.0256 558.914 Q60.0256 554.776 58.6251 552.548 Q57.1929 550.32 54.6147 550.32 Q52.2276 550.32 50.9545 551.943 Q49.6813 553.535 48.5037 558.977 L48.0262 561.014 Q46.8804 566.457 44.5251 568.876 Q42.138 571.295 38.0002 571.295 Q32.9713 571.295 30.2341 567.73 Q27.4968 564.165 27.4968 557.609 Q27.4968 554.362 27.9743 551.498 Q28.4517 548.633 29.4065 546.214 Z\" fill=\"#000000\" fill-rule=\"nonzero\" fill-opacity=\"1\" /><path clip-path=\"url(#clip200)\" d=\"M14.479 521.292 L72.5979 521.292 L72.5979 534.788 L68.0464 534.788 L68.0464 527.181 L19.0304 527.181 L19.0304 534.788 L14.479 534.788 L14.479 521.292 Z\" fill=\"#000000\" fill-rule=\"nonzero\" fill-opacity=\"1\" /><polyline clip-path=\"url(#clip202)\" style=\"stroke:#009af9; stroke-linecap:round; stroke-linejoin:round; stroke-width:4; stroke-opacity:1; fill:none\" points=\"237.067,454.183 345.176,86.1857 453.285,515.552 561.394,573.273 669.502,361.532 777.611,456.394 885.72,518.274 993.829,505.421 1101.94,1071.88 1210.05,886.586 1318.15,785.985 1426.26,861.5 1534.37,654.384 1642.48,883.399 1750.59,873.336 1858.7,1200.18 1966.81,1061.41 2074.92,958.034 2183.03,1384.24 2291.13,815.131 \"/>\n",
       "<circle clip-path=\"url(#clip202)\" cx=\"237.067\" cy=\"454.183\" r=\"14.4\" fill=\"#009af9\" fill-rule=\"evenodd\" fill-opacity=\"1\" stroke=\"#000000\" stroke-opacity=\"1\" stroke-width=\"3.2\"/>\n",
       "<circle clip-path=\"url(#clip202)\" cx=\"345.176\" cy=\"86.1857\" r=\"14.4\" fill=\"#009af9\" fill-rule=\"evenodd\" fill-opacity=\"1\" stroke=\"#000000\" stroke-opacity=\"1\" stroke-width=\"3.2\"/>\n",
       "<circle clip-path=\"url(#clip202)\" cx=\"453.285\" cy=\"515.552\" r=\"14.4\" fill=\"#009af9\" fill-rule=\"evenodd\" fill-opacity=\"1\" stroke=\"#000000\" stroke-opacity=\"1\" stroke-width=\"3.2\"/>\n",
       "<circle clip-path=\"url(#clip202)\" cx=\"561.394\" cy=\"573.273\" r=\"14.4\" fill=\"#009af9\" fill-rule=\"evenodd\" fill-opacity=\"1\" stroke=\"#000000\" stroke-opacity=\"1\" stroke-width=\"3.2\"/>\n",
       "<circle clip-path=\"url(#clip202)\" cx=\"669.502\" cy=\"361.532\" r=\"14.4\" fill=\"#009af9\" fill-rule=\"evenodd\" fill-opacity=\"1\" stroke=\"#000000\" stroke-opacity=\"1\" stroke-width=\"3.2\"/>\n",
       "<circle clip-path=\"url(#clip202)\" cx=\"777.611\" cy=\"456.394\" r=\"14.4\" fill=\"#009af9\" fill-rule=\"evenodd\" fill-opacity=\"1\" stroke=\"#000000\" stroke-opacity=\"1\" stroke-width=\"3.2\"/>\n",
       "<circle clip-path=\"url(#clip202)\" cx=\"885.72\" cy=\"518.274\" r=\"14.4\" fill=\"#009af9\" fill-rule=\"evenodd\" fill-opacity=\"1\" stroke=\"#000000\" stroke-opacity=\"1\" stroke-width=\"3.2\"/>\n",
       "<circle clip-path=\"url(#clip202)\" cx=\"993.829\" cy=\"505.421\" r=\"14.4\" fill=\"#009af9\" fill-rule=\"evenodd\" fill-opacity=\"1\" stroke=\"#000000\" stroke-opacity=\"1\" stroke-width=\"3.2\"/>\n",
       "<circle clip-path=\"url(#clip202)\" cx=\"1101.94\" cy=\"1071.88\" r=\"14.4\" fill=\"#009af9\" fill-rule=\"evenodd\" fill-opacity=\"1\" stroke=\"#000000\" stroke-opacity=\"1\" stroke-width=\"3.2\"/>\n",
       "<circle clip-path=\"url(#clip202)\" cx=\"1210.05\" cy=\"886.586\" r=\"14.4\" fill=\"#009af9\" fill-rule=\"evenodd\" fill-opacity=\"1\" stroke=\"#000000\" stroke-opacity=\"1\" stroke-width=\"3.2\"/>\n",
       "<circle clip-path=\"url(#clip202)\" cx=\"1318.15\" cy=\"785.985\" r=\"14.4\" fill=\"#009af9\" fill-rule=\"evenodd\" fill-opacity=\"1\" stroke=\"#000000\" stroke-opacity=\"1\" stroke-width=\"3.2\"/>\n",
       "<circle clip-path=\"url(#clip202)\" cx=\"1426.26\" cy=\"861.5\" r=\"14.4\" fill=\"#009af9\" fill-rule=\"evenodd\" fill-opacity=\"1\" stroke=\"#000000\" stroke-opacity=\"1\" stroke-width=\"3.2\"/>\n",
       "<circle clip-path=\"url(#clip202)\" cx=\"1534.37\" cy=\"654.384\" r=\"14.4\" fill=\"#009af9\" fill-rule=\"evenodd\" fill-opacity=\"1\" stroke=\"#000000\" stroke-opacity=\"1\" stroke-width=\"3.2\"/>\n",
       "<circle clip-path=\"url(#clip202)\" cx=\"1642.48\" cy=\"883.399\" r=\"14.4\" fill=\"#009af9\" fill-rule=\"evenodd\" fill-opacity=\"1\" stroke=\"#000000\" stroke-opacity=\"1\" stroke-width=\"3.2\"/>\n",
       "<circle clip-path=\"url(#clip202)\" cx=\"1750.59\" cy=\"873.336\" r=\"14.4\" fill=\"#009af9\" fill-rule=\"evenodd\" fill-opacity=\"1\" stroke=\"#000000\" stroke-opacity=\"1\" stroke-width=\"3.2\"/>\n",
       "<circle clip-path=\"url(#clip202)\" cx=\"1858.7\" cy=\"1200.18\" r=\"14.4\" fill=\"#009af9\" fill-rule=\"evenodd\" fill-opacity=\"1\" stroke=\"#000000\" stroke-opacity=\"1\" stroke-width=\"3.2\"/>\n",
       "<circle clip-path=\"url(#clip202)\" cx=\"1966.81\" cy=\"1061.41\" r=\"14.4\" fill=\"#009af9\" fill-rule=\"evenodd\" fill-opacity=\"1\" stroke=\"#000000\" stroke-opacity=\"1\" stroke-width=\"3.2\"/>\n",
       "<circle clip-path=\"url(#clip202)\" cx=\"2074.92\" cy=\"958.034\" r=\"14.4\" fill=\"#009af9\" fill-rule=\"evenodd\" fill-opacity=\"1\" stroke=\"#000000\" stroke-opacity=\"1\" stroke-width=\"3.2\"/>\n",
       "<circle clip-path=\"url(#clip202)\" cx=\"2183.03\" cy=\"1384.24\" r=\"14.4\" fill=\"#009af9\" fill-rule=\"evenodd\" fill-opacity=\"1\" stroke=\"#000000\" stroke-opacity=\"1\" stroke-width=\"3.2\"/>\n",
       "<circle clip-path=\"url(#clip202)\" cx=\"2291.13\" cy=\"815.131\" r=\"14.4\" fill=\"#009af9\" fill-rule=\"evenodd\" fill-opacity=\"1\" stroke=\"#000000\" stroke-opacity=\"1\" stroke-width=\"3.2\"/>\n",
       "<path clip-path=\"url(#clip200)\" d=\"M1824.46 196.789 L2280.18 196.789 L2280.18 93.1086 L1824.46 93.1086  Z\" fill=\"#ffffff\" fill-rule=\"evenodd\" fill-opacity=\"1\"/>\n",
       "<polyline clip-path=\"url(#clip200)\" style=\"stroke:#000000; stroke-linecap:round; stroke-linejoin:round; stroke-width:4; stroke-opacity:1; fill:none\" points=\"1824.46,196.789 2280.18,196.789 2280.18,93.1086 1824.46,93.1086 1824.46,196.789 \"/>\n",
       "<circle clip-path=\"url(#clip200)\" cx=\"1921.23\" cy=\"144.949\" r=\"20.48\" fill=\"#009af9\" fill-rule=\"evenodd\" fill-opacity=\"1\" stroke=\"#000000\" stroke-opacity=\"1\" stroke-width=\"4.55111\"/>\n",
       "<path clip-path=\"url(#clip200)\" d=\"M2018 127.669 L2022.68 127.669 L2022.68 162.229 L2018 162.229 L2018 127.669 Z\" fill=\"#000000\" fill-rule=\"nonzero\" fill-opacity=\"1\" /><path clip-path=\"url(#clip200)\" d=\"M2036.01 128.942 L2036.01 136.303 L2044.78 136.303 L2044.78 139.613 L2036.01 139.613 L2036.01 153.687 Q2036.01 156.858 2036.87 157.761 Q2037.75 158.664 2040.41 158.664 L2044.78 158.664 L2044.78 162.229 L2040.41 162.229 Q2035.48 162.229 2033.6 160.4 Q2031.73 158.548 2031.73 153.687 L2031.73 139.613 L2028.6 139.613 L2028.6 136.303 L2031.73 136.303 L2031.73 128.942 L2036.01 128.942 Z\" fill=\"#000000\" fill-rule=\"nonzero\" fill-opacity=\"1\" /><path clip-path=\"url(#clip200)\" d=\"M2062.17 149.196 Q2057.01 149.196 2055.02 150.377 Q2053.02 151.557 2053.02 154.405 Q2053.02 156.673 2054.51 158.016 Q2056.01 159.335 2058.58 159.335 Q2062.12 159.335 2064.25 156.835 Q2066.4 154.312 2066.4 150.145 L2066.4 149.196 L2062.17 149.196 M2070.66 147.437 L2070.66 162.229 L2066.4 162.229 L2066.4 158.293 Q2064.95 160.655 2062.77 161.789 Q2060.59 162.9 2057.45 162.9 Q2053.46 162.9 2051.1 160.678 Q2048.77 158.432 2048.77 154.682 Q2048.77 150.307 2051.68 148.085 Q2054.62 145.863 2060.43 145.863 L2066.4 145.863 L2066.4 145.446 Q2066.4 142.507 2064.46 140.909 Q2062.54 139.289 2059.04 139.289 Q2056.82 139.289 2054.71 139.821 Q2052.61 140.354 2050.66 141.419 L2050.66 137.483 Q2053 136.581 2055.2 136.141 Q2057.4 135.678 2059.48 135.678 Q2065.11 135.678 2067.89 138.594 Q2070.66 141.511 2070.66 147.437 Z\" fill=\"#000000\" fill-rule=\"nonzero\" fill-opacity=\"1\" /><path clip-path=\"url(#clip200)\" d=\"M2079.44 126.21 L2083.7 126.21 L2083.7 162.229 L2079.44 162.229 L2079.44 126.21 Z\" fill=\"#000000\" fill-rule=\"nonzero\" fill-opacity=\"1\" /><path clip-path=\"url(#clip200)\" d=\"M2103.39 164.636 Q2101.59 169.266 2099.88 170.678 Q2098.16 172.09 2095.29 172.09 L2091.89 172.09 L2091.89 168.525 L2094.39 168.525 Q2096.15 168.525 2097.12 167.692 Q2098.09 166.858 2099.27 163.756 L2100.04 161.812 L2089.55 136.303 L2094.07 136.303 L2102.17 156.581 L2110.27 136.303 L2114.78 136.303 L2103.39 164.636 Z\" fill=\"#000000\" fill-rule=\"nonzero\" fill-opacity=\"1\" /><path clip-path=\"url(#clip200)\" d=\"M2152.26 137.067 L2152.26 141.094 Q2150.45 140.169 2148.51 139.706 Q2146.57 139.243 2144.48 139.243 Q2141.31 139.243 2139.71 140.215 Q2138.14 141.187 2138.14 143.131 Q2138.14 144.613 2139.27 145.469 Q2140.41 146.303 2143.83 147.067 L2145.29 147.391 Q2149.83 148.363 2151.73 150.145 Q2153.65 151.905 2153.65 155.076 Q2153.65 158.687 2150.78 160.793 Q2147.93 162.9 2142.93 162.9 Q2140.85 162.9 2138.58 162.483 Q2136.33 162.09 2133.83 161.28 L2133.83 156.881 Q2136.2 158.108 2138.49 158.733 Q2140.78 159.335 2143.02 159.335 Q2146.03 159.335 2147.65 158.317 Q2149.27 157.275 2149.27 155.4 Q2149.27 153.664 2148.09 152.738 Q2146.94 151.812 2142.98 150.956 L2141.5 150.608 Q2137.54 149.775 2135.78 148.062 Q2134.02 146.326 2134.02 143.317 Q2134.02 139.659 2136.61 137.669 Q2139.2 135.678 2143.97 135.678 Q2146.33 135.678 2148.42 136.025 Q2150.5 136.372 2152.26 137.067 Z\" fill=\"#000000\" fill-rule=\"nonzero\" fill-opacity=\"1\" /><path clip-path=\"url(#clip200)\" d=\"M2181.98 146.581 L2181.98 162.229 L2177.72 162.229 L2177.72 146.719 Q2177.72 143.039 2176.29 141.21 Q2174.85 139.382 2171.98 139.382 Q2168.53 139.382 2166.54 141.581 Q2164.55 143.78 2164.55 147.576 L2164.55 162.229 L2160.27 162.229 L2160.27 126.21 L2164.55 126.21 L2164.55 140.331 Q2166.08 137.993 2168.14 136.835 Q2170.22 135.678 2172.93 135.678 Q2177.4 135.678 2179.69 138.456 Q2181.98 141.21 2181.98 146.581 Z\" fill=\"#000000\" fill-rule=\"nonzero\" fill-opacity=\"1\" /><path clip-path=\"url(#clip200)\" d=\"M2200.52 139.289 Q2197.1 139.289 2195.11 141.974 Q2193.12 144.636 2193.12 149.289 Q2193.12 153.942 2195.08 156.627 Q2197.07 159.289 2200.52 159.289 Q2203.93 159.289 2205.92 156.604 Q2207.91 153.918 2207.91 149.289 Q2207.91 144.682 2205.92 141.997 Q2203.93 139.289 2200.52 139.289 M2200.52 135.678 Q2206.08 135.678 2209.25 139.289 Q2212.42 142.9 2212.42 149.289 Q2212.42 155.655 2209.25 159.289 Q2206.08 162.9 2200.52 162.9 Q2194.95 162.9 2191.77 159.289 Q2188.63 155.655 2188.63 149.289 Q2188.63 142.9 2191.77 139.289 Q2194.95 135.678 2200.52 135.678 Z\" fill=\"#000000\" fill-rule=\"nonzero\" fill-opacity=\"1\" /><path clip-path=\"url(#clip200)\" d=\"M2223.7 128.942 L2223.7 136.303 L2232.47 136.303 L2232.47 139.613 L2223.7 139.613 L2223.7 153.687 Q2223.7 156.858 2224.55 157.761 Q2225.43 158.664 2228.09 158.664 L2232.47 158.664 L2232.47 162.229 L2228.09 162.229 Q2223.16 162.229 2221.29 160.4 Q2219.41 158.548 2219.41 153.687 L2219.41 139.613 L2216.29 139.613 L2216.29 136.303 L2219.41 136.303 L2219.41 128.942 L2223.7 128.942 Z\" fill=\"#000000\" fill-rule=\"nonzero\" fill-opacity=\"1\" /><path clip-path=\"url(#clip200)\" d=\"M2254.6 137.067 L2254.6 141.094 Q2252.79 140.169 2250.85 139.706 Q2248.9 139.243 2246.82 139.243 Q2243.65 139.243 2242.05 140.215 Q2240.48 141.187 2240.48 143.131 Q2240.48 144.613 2241.61 145.469 Q2242.75 146.303 2246.17 147.067 L2247.63 147.391 Q2252.17 148.363 2254.07 150.145 Q2255.99 151.905 2255.99 155.076 Q2255.99 158.687 2253.12 160.793 Q2250.27 162.9 2245.27 162.9 Q2243.19 162.9 2240.92 162.483 Q2238.67 162.09 2236.17 161.28 L2236.17 156.881 Q2238.53 158.108 2240.82 158.733 Q2243.12 159.335 2245.36 159.335 Q2248.37 159.335 2249.99 158.317 Q2251.61 157.275 2251.61 155.4 Q2251.61 153.664 2250.43 152.738 Q2249.27 151.812 2245.32 150.956 L2243.83 150.608 Q2239.88 149.775 2238.12 148.062 Q2236.36 146.326 2236.36 143.317 Q2236.36 139.659 2238.95 137.669 Q2241.54 135.678 2246.31 135.678 Q2248.67 135.678 2250.76 136.025 Q2252.84 136.372 2254.6 137.067 Z\" fill=\"#000000\" fill-rule=\"nonzero\" fill-opacity=\"1\" /></svg>\n"
      ],
      "text/html": [
       "<?xml version=\"1.0\" encoding=\"utf-8\"?>\n",
       "<svg xmlns=\"http://www.w3.org/2000/svg\" xmlns:xlink=\"http://www.w3.org/1999/xlink\" width=\"600\" height=\"400\" viewBox=\"0 0 2400 1600\">\n",
       "<defs>\n",
       "  <clipPath id=\"clip250\">\n",
       "    <rect x=\"0\" y=\"0\" width=\"2400\" height=\"1600\"/>\n",
       "  </clipPath>\n",
       "</defs>\n",
       "<path clip-path=\"url(#clip250)\" d=\"M0 1600 L2400 1600 L2400 0 L0 0  Z\" fill=\"#ffffff\" fill-rule=\"evenodd\" fill-opacity=\"1\"/>\n",
       "<defs>\n",
       "  <clipPath id=\"clip251\">\n",
       "    <rect x=\"480\" y=\"0\" width=\"1681\" height=\"1600\"/>\n",
       "  </clipPath>\n",
       "</defs>\n",
       "<path clip-path=\"url(#clip250)\" d=\"M175.445 1423.18 L2352.76 1423.18 L2352.76 47.2441 L175.445 47.2441  Z\" fill=\"#ffffff\" fill-rule=\"evenodd\" fill-opacity=\"1\"/>\n",
       "<defs>\n",
       "  <clipPath id=\"clip252\">\n",
       "    <rect x=\"175\" y=\"47\" width=\"2178\" height=\"1377\"/>\n",
       "  </clipPath>\n",
       "</defs>\n",
       "<polyline clip-path=\"url(#clip252)\" style=\"stroke:#000000; stroke-linecap:round; stroke-linejoin:round; stroke-width:2; stroke-opacity:0.1; fill:none\" points=\"669.502,1423.18 669.502,47.2441 \"/>\n",
       "<polyline clip-path=\"url(#clip252)\" style=\"stroke:#000000; stroke-linecap:round; stroke-linejoin:round; stroke-width:2; stroke-opacity:0.1; fill:none\" points=\"1210.05,1423.18 1210.05,47.2441 \"/>\n",
       "<polyline clip-path=\"url(#clip252)\" style=\"stroke:#000000; stroke-linecap:round; stroke-linejoin:round; stroke-width:2; stroke-opacity:0.1; fill:none\" points=\"1750.59,1423.18 1750.59,47.2441 \"/>\n",
       "<polyline clip-path=\"url(#clip252)\" style=\"stroke:#000000; stroke-linecap:round; stroke-linejoin:round; stroke-width:2; stroke-opacity:0.1; fill:none\" points=\"2291.13,1423.18 2291.13,47.2441 \"/>\n",
       "<polyline clip-path=\"url(#clip252)\" style=\"stroke:#000000; stroke-linecap:round; stroke-linejoin:round; stroke-width:2; stroke-opacity:0.1; fill:none\" points=\"175.445,1384.24 2352.76,1384.24 \"/>\n",
       "<polyline clip-path=\"url(#clip252)\" style=\"stroke:#000000; stroke-linecap:round; stroke-linejoin:round; stroke-width:2; stroke-opacity:0.1; fill:none\" points=\"175.445,1114.04 2352.76,1114.04 \"/>\n",
       "<polyline clip-path=\"url(#clip252)\" style=\"stroke:#000000; stroke-linecap:round; stroke-linejoin:round; stroke-width:2; stroke-opacity:0.1; fill:none\" points=\"175.445,843.851 2352.76,843.851 \"/>\n",
       "<polyline clip-path=\"url(#clip252)\" style=\"stroke:#000000; stroke-linecap:round; stroke-linejoin:round; stroke-width:2; stroke-opacity:0.1; fill:none\" points=\"175.445,573.658 2352.76,573.658 \"/>\n",
       "<polyline clip-path=\"url(#clip252)\" style=\"stroke:#000000; stroke-linecap:round; stroke-linejoin:round; stroke-width:2; stroke-opacity:0.1; fill:none\" points=\"175.445,303.464 2352.76,303.464 \"/>\n",
       "<polyline clip-path=\"url(#clip250)\" style=\"stroke:#000000; stroke-linecap:round; stroke-linejoin:round; stroke-width:4; stroke-opacity:1; fill:none\" points=\"175.445,1423.18 2352.76,1423.18 \"/>\n",
       "<polyline clip-path=\"url(#clip250)\" style=\"stroke:#000000; stroke-linecap:round; stroke-linejoin:round; stroke-width:4; stroke-opacity:1; fill:none\" points=\"669.502,1423.18 669.502,1404.28 \"/>\n",
       "<polyline clip-path=\"url(#clip250)\" style=\"stroke:#000000; stroke-linecap:round; stroke-linejoin:round; stroke-width:4; stroke-opacity:1; fill:none\" points=\"1210.05,1423.18 1210.05,1404.28 \"/>\n",
       "<polyline clip-path=\"url(#clip250)\" style=\"stroke:#000000; stroke-linecap:round; stroke-linejoin:round; stroke-width:4; stroke-opacity:1; fill:none\" points=\"1750.59,1423.18 1750.59,1404.28 \"/>\n",
       "<polyline clip-path=\"url(#clip250)\" style=\"stroke:#000000; stroke-linecap:round; stroke-linejoin:round; stroke-width:4; stroke-opacity:1; fill:none\" points=\"2291.13,1423.18 2291.13,1404.28 \"/>\n",
       "<path clip-path=\"url(#clip250)\" d=\"M659.78 1451.02 L678.137 1451.02 L678.137 1454.96 L664.063 1454.96 L664.063 1463.43 Q665.081 1463.08 666.1 1462.92 Q667.118 1462.73 668.137 1462.73 Q673.924 1462.73 677.303 1465.9 Q680.683 1469.08 680.683 1474.49 Q680.683 1480.07 677.211 1483.17 Q673.738 1486.25 667.419 1486.25 Q665.243 1486.25 662.975 1485.88 Q660.729 1485.51 658.322 1484.77 L658.322 1480.07 Q660.405 1481.2 662.627 1481.76 Q664.85 1482.32 667.326 1482.32 Q671.331 1482.32 673.669 1480.21 Q676.007 1478.1 676.007 1474.49 Q676.007 1470.88 673.669 1468.77 Q671.331 1466.67 667.326 1466.67 Q665.451 1466.67 663.576 1467.08 Q661.725 1467.5 659.78 1468.38 L659.78 1451.02 Z\" fill=\"#000000\" fill-rule=\"nonzero\" fill-opacity=\"1\" /><path clip-path=\"url(#clip250)\" d=\"M1184.73 1481.64 L1192.37 1481.64 L1192.37 1455.28 L1184.06 1456.95 L1184.06 1452.69 L1192.33 1451.02 L1197 1451.02 L1197 1481.64 L1204.64 1481.64 L1204.64 1485.58 L1184.73 1485.58 L1184.73 1481.64 Z\" fill=\"#000000\" fill-rule=\"nonzero\" fill-opacity=\"1\" /><path clip-path=\"url(#clip250)\" d=\"M1224.09 1454.1 Q1220.47 1454.1 1218.65 1457.66 Q1216.84 1461.2 1216.84 1468.33 Q1216.84 1475.44 1218.65 1479.01 Q1220.47 1482.55 1224.09 1482.55 Q1227.72 1482.55 1229.53 1479.01 Q1231.35 1475.44 1231.35 1468.33 Q1231.35 1461.2 1229.53 1457.66 Q1227.72 1454.1 1224.09 1454.1 M1224.09 1450.39 Q1229.9 1450.39 1232.95 1455 Q1236.03 1459.58 1236.03 1468.33 Q1236.03 1477.06 1232.95 1481.67 Q1229.9 1486.25 1224.09 1486.25 Q1218.28 1486.25 1215.2 1481.67 Q1212.14 1477.06 1212.14 1468.33 Q1212.14 1459.58 1215.2 1455 Q1218.28 1450.39 1224.09 1450.39 Z\" fill=\"#000000\" fill-rule=\"nonzero\" fill-opacity=\"1\" /><path clip-path=\"url(#clip250)\" d=\"M1725.78 1481.64 L1733.41 1481.64 L1733.41 1455.28 L1725.1 1456.95 L1725.1 1452.69 L1733.37 1451.02 L1738.04 1451.02 L1738.04 1481.64 L1745.68 1481.64 L1745.68 1485.58 L1725.78 1485.58 L1725.78 1481.64 Z\" fill=\"#000000\" fill-rule=\"nonzero\" fill-opacity=\"1\" /><path clip-path=\"url(#clip250)\" d=\"M1755.17 1451.02 L1773.53 1451.02 L1773.53 1454.96 L1759.46 1454.96 L1759.46 1463.43 Q1760.47 1463.08 1761.49 1462.92 Q1762.51 1462.73 1763.53 1462.73 Q1769.32 1462.73 1772.7 1465.9 Q1776.08 1469.08 1776.08 1474.49 Q1776.08 1480.07 1772.6 1483.17 Q1769.13 1486.25 1762.81 1486.25 Q1760.64 1486.25 1758.37 1485.88 Q1756.12 1485.51 1753.72 1484.77 L1753.72 1480.07 Q1755.8 1481.2 1758.02 1481.76 Q1760.24 1482.32 1762.72 1482.32 Q1766.72 1482.32 1769.06 1480.21 Q1771.4 1478.1 1771.4 1474.49 Q1771.4 1470.88 1769.06 1468.77 Q1766.72 1466.67 1762.72 1466.67 Q1760.84 1466.67 1758.97 1467.08 Q1757.12 1467.5 1755.17 1468.38 L1755.17 1451.02 Z\" fill=\"#000000\" fill-rule=\"nonzero\" fill-opacity=\"1\" /><path clip-path=\"url(#clip250)\" d=\"M2269.91 1481.64 L2286.23 1481.64 L2286.23 1485.58 L2264.28 1485.58 L2264.28 1481.64 Q2266.94 1478.89 2271.53 1474.26 Q2276.13 1469.61 2277.31 1468.27 Q2279.56 1465.74 2280.44 1464.01 Q2281.34 1462.25 2281.34 1460.56 Q2281.34 1457.8 2279.4 1456.07 Q2277.48 1454.33 2274.37 1454.33 Q2272.18 1454.33 2269.72 1455.09 Q2267.29 1455.86 2264.51 1457.41 L2264.51 1452.69 Q2267.34 1451.55 2269.79 1450.97 Q2272.25 1450.39 2274.28 1450.39 Q2279.65 1450.39 2282.85 1453.08 Q2286.04 1455.77 2286.04 1460.26 Q2286.04 1462.39 2285.23 1464.31 Q2284.44 1466.2 2282.34 1468.8 Q2281.76 1469.47 2278.66 1472.69 Q2275.56 1475.88 2269.91 1481.64 Z\" fill=\"#000000\" fill-rule=\"nonzero\" fill-opacity=\"1\" /><path clip-path=\"url(#clip250)\" d=\"M2306.04 1454.1 Q2302.43 1454.1 2300.6 1457.66 Q2298.8 1461.2 2298.8 1468.33 Q2298.8 1475.44 2300.6 1479.01 Q2302.43 1482.55 2306.04 1482.55 Q2309.68 1482.55 2311.48 1479.01 Q2313.31 1475.44 2313.31 1468.33 Q2313.31 1461.2 2311.48 1457.66 Q2309.68 1454.1 2306.04 1454.1 M2306.04 1450.39 Q2311.85 1450.39 2314.91 1455 Q2317.99 1459.58 2317.99 1468.33 Q2317.99 1477.06 2314.91 1481.67 Q2311.85 1486.25 2306.04 1486.25 Q2300.23 1486.25 2297.15 1481.67 Q2294.1 1477.06 2294.1 1468.33 Q2294.1 1459.58 2297.15 1455 Q2300.23 1450.39 2306.04 1450.39 Z\" fill=\"#000000\" fill-rule=\"nonzero\" fill-opacity=\"1\" /><path clip-path=\"url(#clip250)\" d=\"M1077.57 1522.27 L1077.57 1532.4 L1089.63 1532.4 L1089.63 1536.95 L1077.57 1536.95 L1077.57 1556.3 Q1077.57 1560.66 1078.75 1561.9 Q1079.96 1563.14 1083.62 1563.14 L1089.63 1563.14 L1089.63 1568.04 L1083.62 1568.04 Q1076.84 1568.04 1074.26 1565.53 Q1071.68 1562.98 1071.68 1556.3 L1071.68 1536.95 L1067.38 1536.95 L1067.38 1532.4 L1071.68 1532.4 L1071.68 1522.27 L1077.57 1522.27 Z\" fill=\"#000000\" fill-rule=\"nonzero\" fill-opacity=\"1\" /><path clip-path=\"url(#clip250)\" d=\"M1117.99 1537.87 Q1117 1537.3 1115.83 1537.04 Q1114.68 1536.76 1113.28 1536.76 Q1108.32 1536.76 1105.64 1540 Q1103 1543.22 1103 1549.27 L1103 1568.04 L1097.11 1568.04 L1097.11 1532.4 L1103 1532.4 L1103 1537.93 Q1104.85 1534.69 1107.81 1533.13 Q1110.77 1531.54 1115 1531.54 Q1115.6 1531.54 1116.34 1531.63 Q1117.07 1531.7 1117.96 1531.85 L1117.99 1537.87 Z\" fill=\"#000000\" fill-rule=\"nonzero\" fill-opacity=\"1\" /><path clip-path=\"url(#clip250)\" d=\"M1123.53 1553.98 L1123.53 1532.4 L1129.39 1532.4 L1129.39 1553.75 Q1129.39 1558.81 1131.36 1561.36 Q1133.33 1563.87 1137.28 1563.87 Q1142.02 1563.87 1144.76 1560.85 Q1147.53 1557.83 1147.53 1552.61 L1147.53 1532.4 L1153.39 1532.4 L1153.39 1568.04 L1147.53 1568.04 L1147.53 1562.57 Q1145.4 1565.82 1142.56 1567.41 Q1139.76 1568.97 1136.04 1568.97 Q1129.9 1568.97 1126.71 1565.15 Q1123.53 1561.33 1123.53 1553.98 M1138.27 1531.54 L1138.27 1531.54 Z\" fill=\"#000000\" fill-rule=\"nonzero\" fill-opacity=\"1\" /><path clip-path=\"url(#clip250)\" d=\"M1195.94 1548.76 L1195.94 1551.62 L1169.01 1551.62 Q1169.39 1557.67 1172.64 1560.85 Q1175.92 1564 1181.74 1564 Q1185.12 1564 1188.27 1563.17 Q1191.45 1562.35 1194.57 1560.69 L1194.57 1566.23 Q1191.42 1567.57 1188.11 1568.27 Q1184.8 1568.97 1181.39 1568.97 Q1172.86 1568.97 1167.87 1564 Q1162.9 1559.04 1162.9 1550.57 Q1162.9 1541.82 1167.61 1536.69 Q1172.35 1531.54 1180.38 1531.54 Q1187.57 1531.54 1191.74 1536.18 Q1195.94 1540.8 1195.94 1548.76 M1190.08 1547.04 Q1190.02 1542.23 1187.38 1539.37 Q1184.77 1536.5 1180.44 1536.5 Q1175.54 1536.5 1172.58 1539.27 Q1169.65 1542.04 1169.2 1547.07 L1190.08 1547.04 Z\" fill=\"#000000\" fill-rule=\"nonzero\" fill-opacity=\"1\" /><path clip-path=\"url(#clip250)\" d=\"M1246.93 1537.87 Q1245.94 1537.3 1244.76 1537.04 Q1243.62 1536.76 1242.22 1536.76 Q1237.25 1536.76 1234.58 1540 Q1231.94 1543.22 1231.94 1549.27 L1231.94 1568.04 L1226.05 1568.04 L1226.05 1532.4 L1231.94 1532.4 L1231.94 1537.93 Q1233.78 1534.69 1236.74 1533.13 Q1239.7 1531.54 1243.94 1531.54 Q1244.54 1531.54 1245.27 1531.63 Q1246.01 1531.7 1246.9 1531.85 L1246.93 1537.87 Z\" fill=\"#000000\" fill-rule=\"nonzero\" fill-opacity=\"1\" /><path clip-path=\"url(#clip250)\" d=\"M1269.27 1550.12 Q1262.17 1550.12 1259.44 1551.75 Q1256.7 1553.37 1256.7 1557.29 Q1256.7 1560.4 1258.74 1562.25 Q1260.81 1564.07 1264.34 1564.07 Q1269.21 1564.07 1272.14 1560.63 Q1275.1 1557.16 1275.1 1551.43 L1275.1 1550.12 L1269.27 1550.12 M1280.95 1547.71 L1280.95 1568.04 L1275.1 1568.04 L1275.1 1562.63 Q1273.09 1565.88 1270.1 1567.44 Q1267.11 1568.97 1262.78 1568.97 Q1257.31 1568.97 1254.06 1565.91 Q1250.84 1562.82 1250.84 1557.67 Q1250.84 1551.65 1254.85 1548.6 Q1258.9 1545.54 1266.89 1545.54 L1275.1 1545.54 L1275.1 1544.97 Q1275.1 1540.93 1272.42 1538.73 Q1269.78 1536.5 1264.98 1536.5 Q1261.92 1536.5 1259.02 1537.23 Q1256.13 1537.97 1253.45 1539.43 L1253.45 1534.02 Q1256.67 1532.78 1259.69 1532.17 Q1262.72 1531.54 1265.58 1531.54 Q1273.31 1531.54 1277.13 1535.55 Q1280.95 1539.56 1280.95 1547.71 Z\" fill=\"#000000\" fill-rule=\"nonzero\" fill-opacity=\"1\" /><path clip-path=\"url(#clip250)\" d=\"M1322.65 1546.53 L1322.65 1568.04 L1316.79 1568.04 L1316.79 1546.72 Q1316.79 1541.66 1314.82 1539.14 Q1312.85 1536.63 1308.9 1536.63 Q1304.16 1536.63 1301.42 1539.65 Q1298.68 1542.68 1298.68 1547.9 L1298.68 1568.04 L1292.79 1568.04 L1292.79 1532.4 L1298.68 1532.4 L1298.68 1537.93 Q1300.78 1534.72 1303.62 1533.13 Q1306.48 1531.54 1310.2 1531.54 Q1316.35 1531.54 1319.5 1535.36 Q1322.65 1539.14 1322.65 1546.53 Z\" fill=\"#000000\" fill-rule=\"nonzero\" fill-opacity=\"1\" /><path clip-path=\"url(#clip250)\" d=\"M1334.11 1518.52 L1340 1518.52 L1340 1547.77 L1357.47 1532.4 L1364.95 1532.4 L1346.04 1549.07 L1365.74 1568.04 L1358.11 1568.04 L1340 1550.63 L1340 1568.04 L1334.11 1568.04 L1334.11 1518.52 Z\" fill=\"#000000\" fill-rule=\"nonzero\" fill-opacity=\"1\" /><path clip-path=\"url(#clip250)\" d=\"M1372.08 1532.4 L1377.94 1532.4 L1377.94 1568.04 L1372.08 1568.04 L1372.08 1532.4 M1372.08 1518.52 L1377.94 1518.52 L1377.94 1525.93 L1372.08 1525.93 L1372.08 1518.52 Z\" fill=\"#000000\" fill-rule=\"nonzero\" fill-opacity=\"1\" /><path clip-path=\"url(#clip250)\" d=\"M1419.82 1546.53 L1419.82 1568.04 L1413.97 1568.04 L1413.97 1546.72 Q1413.97 1541.66 1411.99 1539.14 Q1410.02 1536.63 1406.07 1536.63 Q1401.33 1536.63 1398.59 1539.65 Q1395.85 1542.68 1395.85 1547.9 L1395.85 1568.04 L1389.97 1568.04 L1389.97 1532.4 L1395.85 1532.4 L1395.85 1537.93 Q1397.96 1534.72 1400.79 1533.13 Q1403.65 1531.54 1407.38 1531.54 Q1413.52 1531.54 1416.67 1535.36 Q1419.82 1539.14 1419.82 1546.53 Z\" fill=\"#000000\" fill-rule=\"nonzero\" fill-opacity=\"1\" /><path clip-path=\"url(#clip250)\" d=\"M1454.96 1549.81 Q1454.96 1543.44 1452.32 1539.94 Q1449.71 1536.44 1444.97 1536.44 Q1440.26 1536.44 1437.61 1539.94 Q1435 1543.44 1435 1549.81 Q1435 1556.14 1437.61 1559.64 Q1440.26 1563.14 1444.97 1563.14 Q1449.71 1563.14 1452.32 1559.64 Q1454.96 1556.14 1454.96 1549.81 M1460.82 1563.62 Q1460.82 1572.72 1456.77 1577.15 Q1452.73 1581.6 1444.39 1581.6 Q1441.31 1581.6 1438.57 1581.13 Q1435.83 1580.68 1433.25 1579.72 L1433.25 1574.03 Q1435.83 1575.43 1438.35 1576.1 Q1440.86 1576.76 1443.47 1576.76 Q1449.23 1576.76 1452.1 1573.74 Q1454.96 1570.75 1454.96 1564.67 L1454.96 1561.77 Q1453.15 1564.92 1450.31 1566.48 Q1447.48 1568.04 1443.53 1568.04 Q1436.98 1568.04 1432.97 1563.05 Q1428.96 1558.05 1428.96 1549.81 Q1428.96 1541.53 1432.97 1536.53 Q1436.98 1531.54 1443.53 1531.54 Q1447.48 1531.54 1450.31 1533.1 Q1453.15 1534.66 1454.96 1537.81 L1454.96 1532.4 L1460.82 1532.4 L1460.82 1563.62 Z\" fill=\"#000000\" fill-rule=\"nonzero\" fill-opacity=\"1\" /><polyline clip-path=\"url(#clip250)\" style=\"stroke:#000000; stroke-linecap:round; stroke-linejoin:round; stroke-width:4; stroke-opacity:1; fill:none\" points=\"175.445,1423.18 175.445,47.2441 \"/>\n",
       "<polyline clip-path=\"url(#clip250)\" style=\"stroke:#000000; stroke-linecap:round; stroke-linejoin:round; stroke-width:4; stroke-opacity:1; fill:none\" points=\"175.445,1384.24 194.343,1384.24 \"/>\n",
       "<polyline clip-path=\"url(#clip250)\" style=\"stroke:#000000; stroke-linecap:round; stroke-linejoin:round; stroke-width:4; stroke-opacity:1; fill:none\" points=\"175.445,1114.04 194.343,1114.04 \"/>\n",
       "<polyline clip-path=\"url(#clip250)\" style=\"stroke:#000000; stroke-linecap:round; stroke-linejoin:round; stroke-width:4; stroke-opacity:1; fill:none\" points=\"175.445,843.851 194.343,843.851 \"/>\n",
       "<polyline clip-path=\"url(#clip250)\" style=\"stroke:#000000; stroke-linecap:round; stroke-linejoin:round; stroke-width:4; stroke-opacity:1; fill:none\" points=\"175.445,573.658 194.343,573.658 \"/>\n",
       "<polyline clip-path=\"url(#clip250)\" style=\"stroke:#000000; stroke-linecap:round; stroke-linejoin:round; stroke-width:4; stroke-opacity:1; fill:none\" points=\"175.445,303.464 194.343,303.464 \"/>\n",
       "<path clip-path=\"url(#clip250)\" d=\"M127.501 1370.04 Q123.89 1370.04 122.061 1373.6 Q120.255 1377.14 120.255 1384.27 Q120.255 1391.38 122.061 1394.94 Q123.89 1398.49 127.501 1398.49 Q131.135 1398.49 132.941 1394.94 Q134.769 1391.38 134.769 1384.27 Q134.769 1377.14 132.941 1373.6 Q131.135 1370.04 127.501 1370.04 M127.501 1366.33 Q133.311 1366.33 136.367 1370.94 Q139.445 1375.52 139.445 1384.27 Q139.445 1393 136.367 1397.61 Q133.311 1402.19 127.501 1402.19 Q121.691 1402.19 118.612 1397.61 Q115.556 1393 115.556 1384.27 Q115.556 1375.52 118.612 1370.94 Q121.691 1366.33 127.501 1366.33 Z\" fill=\"#000000\" fill-rule=\"nonzero\" fill-opacity=\"1\" /><path clip-path=\"url(#clip250)\" d=\"M119.538 1127.39 L127.177 1127.39 L127.177 1101.02 L118.867 1102.69 L118.867 1098.43 L127.13 1096.76 L131.806 1096.76 L131.806 1127.39 L139.445 1127.39 L139.445 1131.32 L119.538 1131.32 L119.538 1127.39 Z\" fill=\"#000000\" fill-rule=\"nonzero\" fill-opacity=\"1\" /><path clip-path=\"url(#clip250)\" d=\"M123.126 857.196 L139.445 857.196 L139.445 861.131 L117.501 861.131 L117.501 857.196 Q120.163 854.442 124.746 849.812 Q129.353 845.159 130.533 843.817 Q132.779 841.293 133.658 839.557 Q134.561 837.798 134.561 836.108 Q134.561 833.354 132.617 831.618 Q130.695 829.882 127.593 829.882 Q125.394 829.882 122.941 830.645 Q120.51 831.409 117.732 832.96 L117.732 828.238 Q120.556 827.104 123.01 826.525 Q125.464 825.946 127.501 825.946 Q132.871 825.946 136.066 828.632 Q139.26 831.317 139.26 835.807 Q139.26 837.937 138.45 839.858 Q137.663 841.756 135.556 844.349 Q134.978 845.02 131.876 848.238 Q128.774 851.432 123.126 857.196 Z\" fill=\"#000000\" fill-rule=\"nonzero\" fill-opacity=\"1\" /><path clip-path=\"url(#clip250)\" d=\"M132.316 572.304 Q135.672 573.021 137.547 575.29 Q139.445 577.558 139.445 580.892 Q139.445 586.007 135.927 588.808 Q132.408 591.609 125.927 591.609 Q123.751 591.609 121.436 591.169 Q119.144 590.753 116.691 589.896 L116.691 585.382 Q118.635 586.517 120.95 587.095 Q123.265 587.674 125.788 587.674 Q130.186 587.674 132.478 585.938 Q134.792 584.202 134.792 580.892 Q134.792 577.836 132.64 576.123 Q130.51 574.387 126.691 574.387 L122.663 574.387 L122.663 570.544 L126.876 570.544 Q130.325 570.544 132.154 569.179 Q133.982 567.79 133.982 565.197 Q133.982 562.535 132.084 561.123 Q130.209 559.688 126.691 559.688 Q124.769 559.688 122.57 560.105 Q120.371 560.521 117.732 561.401 L117.732 557.234 Q120.394 556.494 122.709 556.123 Q125.047 555.753 127.107 555.753 Q132.431 555.753 135.533 558.183 Q138.635 560.591 138.635 564.711 Q138.635 567.582 136.992 569.572 Q135.348 571.54 132.316 572.304 Z\" fill=\"#000000\" fill-rule=\"nonzero\" fill-opacity=\"1\" /><path clip-path=\"url(#clip250)\" d=\"M129.862 290.258 L118.056 308.707 L129.862 308.707 L129.862 290.258 M128.635 286.184 L134.515 286.184 L134.515 308.707 L139.445 308.707 L139.445 312.596 L134.515 312.596 L134.515 320.744 L129.862 320.744 L129.862 312.596 L114.26 312.596 L114.26 308.082 L128.635 286.184 Z\" fill=\"#000000\" fill-rule=\"nonzero\" fill-opacity=\"1\" /><path clip-path=\"url(#clip250)\" d=\"M33.8307 928.252 Q33.2578 929.239 33.0032 930.416 Q32.7167 931.562 32.7167 932.963 Q32.7167 937.928 35.9632 940.601 Q39.1779 943.243 45.2253 943.243 L64.0042 943.243 L64.0042 949.132 L28.3562 949.132 L28.3562 943.243 L33.8944 943.243 Q30.6479 941.397 29.0883 938.437 Q27.4968 935.477 27.4968 931.244 Q27.4968 930.639 27.5923 929.907 Q27.656 929.175 27.8151 928.284 L33.8307 928.252 Z\" fill=\"#000000\" fill-rule=\"nonzero\" fill-opacity=\"1\" /><path clip-path=\"url(#clip250)\" d=\"M46.0847 905.908 Q46.0847 913.006 47.7079 915.743 Q49.3312 918.481 53.2461 918.481 Q56.3653 918.481 58.2114 916.444 Q60.0256 914.375 60.0256 910.842 Q60.0256 905.972 56.5881 903.044 Q53.1188 900.084 47.3897 900.084 L46.0847 900.084 L46.0847 905.908 M43.6657 894.227 L64.0042 894.227 L64.0042 900.084 L58.5933 900.084 Q61.8398 902.089 63.3994 905.081 Q64.9272 908.073 64.9272 912.401 Q64.9272 917.876 61.8716 921.122 Q58.7843 924.337 53.6281 924.337 Q47.6125 924.337 44.5569 920.327 Q41.5014 916.284 41.5014 908.296 L41.5014 900.084 L40.9285 900.084 Q36.8862 900.084 34.6901 902.757 Q32.4621 905.399 32.4621 910.205 Q32.4621 913.261 33.1941 916.157 Q33.9262 919.054 35.3903 921.727 L29.9795 921.727 Q28.7381 918.512 28.1334 915.489 Q27.4968 912.465 27.4968 909.601 Q27.4968 901.866 31.5072 898.047 Q35.5176 894.227 43.6657 894.227 Z\" fill=\"#000000\" fill-rule=\"nonzero\" fill-opacity=\"1\" /><path clip-path=\"url(#clip250)\" d=\"M18.2347 876.372 L28.3562 876.372 L28.3562 864.308 L32.9077 864.308 L32.9077 876.372 L52.2594 876.372 Q56.6199 876.372 57.8613 875.194 Q59.1026 873.984 59.1026 870.324 L59.1026 864.308 L64.0042 864.308 L64.0042 870.324 Q64.0042 877.104 61.4897 879.682 Q58.9434 882.26 52.2594 882.26 L32.9077 882.26 L32.9077 886.557 L28.3562 886.557 L28.3562 882.26 L18.2347 882.26 L18.2347 876.372 Z\" fill=\"#000000\" fill-rule=\"nonzero\" fill-opacity=\"1\" /><path clip-path=\"url(#clip250)\" d=\"M28.3562 856.606 L28.3562 850.75 L64.0042 850.75 L64.0042 856.606 L28.3562 856.606 M14.479 856.606 L14.479 850.75 L21.895 850.75 L21.895 856.606 L14.479 856.606 Z\" fill=\"#000000\" fill-rule=\"nonzero\" fill-opacity=\"1\" /><path clip-path=\"url(#clip250)\" d=\"M42.4881 808.863 L64.0042 808.863 L64.0042 814.72 L42.679 814.72 Q37.6183 814.72 35.1038 816.693 Q32.5894 818.666 32.5894 822.613 Q32.5894 827.356 35.6131 830.093 Q38.6368 832.83 43.8567 832.83 L64.0042 832.83 L64.0042 838.718 L28.3562 838.718 L28.3562 832.83 L33.8944 832.83 Q30.6797 830.729 29.0883 827.897 Q27.4968 825.032 27.4968 821.308 Q27.4968 815.165 31.3163 812.014 Q35.1038 808.863 42.4881 808.863 Z\" fill=\"#000000\" fill-rule=\"nonzero\" fill-opacity=\"1\" /><path clip-path=\"url(#clip250)\" d=\"M45.7664 773.724 Q39.4007 773.724 35.8996 776.366 Q32.3984 778.976 32.3984 783.719 Q32.3984 788.429 35.8996 791.071 Q39.4007 793.681 45.7664 793.681 Q52.1003 793.681 55.6014 791.071 Q59.1026 788.429 59.1026 783.719 Q59.1026 778.976 55.6014 776.366 Q52.1003 773.724 45.7664 773.724 M59.58 767.868 Q68.683 767.868 73.1071 771.91 Q77.5631 775.952 77.5631 784.292 Q77.5631 787.379 77.0857 790.116 Q76.6401 792.853 75.6852 795.432 L69.9879 795.432 Q71.3884 792.853 72.0568 790.339 Q72.7252 787.825 72.7252 785.215 Q72.7252 779.454 69.7015 776.589 Q66.7096 773.724 60.6303 773.724 L57.7339 773.724 Q60.885 775.539 62.4446 778.371 Q64.0042 781.204 64.0042 785.151 Q64.0042 791.708 59.0071 795.718 Q54.01 799.728 45.7664 799.728 Q37.491 799.728 32.4939 795.718 Q27.4968 791.708 27.4968 785.151 Q27.4968 781.204 29.0564 778.371 Q30.616 775.539 33.7671 773.724 L28.3562 773.724 L28.3562 767.868 L59.58 767.868 Z\" fill=\"#000000\" fill-rule=\"nonzero\" fill-opacity=\"1\" /><path clip-path=\"url(#clip250)\" d=\"M14.479 735.626 L14.479 722.13 L19.0304 722.13 L19.0304 729.769 L68.0464 729.769 L68.0464 722.13 L72.5979 722.13 L72.5979 735.626 L14.479 735.626 Z\" fill=\"#000000\" fill-rule=\"nonzero\" fill-opacity=\"1\" /><path clip-path=\"url(#clip250)\" d=\"M29.4065 686.928 L34.9447 686.928 Q33.6716 689.411 33.035 692.084 Q32.3984 694.758 32.3984 697.622 Q32.3984 701.983 33.7352 704.179 Q35.072 706.343 37.7456 706.343 Q39.7826 706.343 40.9603 704.784 Q42.1061 703.224 43.1565 698.514 L43.6021 696.508 Q44.9389 690.27 47.3897 687.66 Q49.8086 685.018 54.1691 685.018 Q59.1344 685.018 62.0308 688.965 Q64.9272 692.88 64.9272 699.755 Q64.9272 702.62 64.3543 705.739 Q63.8132 708.826 62.6992 712.264 L56.6518 712.264 Q58.3387 709.017 59.198 705.866 Q60.0256 702.715 60.0256 699.628 Q60.0256 695.49 58.6251 693.262 Q57.1929 691.034 54.6147 691.034 Q52.2276 691.034 50.9545 692.657 Q49.6813 694.249 48.5037 699.691 L48.0262 701.728 Q46.8804 707.171 44.5251 709.59 Q42.138 712.009 38.0002 712.009 Q32.9713 712.009 30.2341 708.444 Q27.4968 704.879 27.4968 698.323 Q27.4968 695.076 27.9743 692.212 Q28.4517 689.347 29.4065 686.928 Z\" fill=\"#000000\" fill-rule=\"nonzero\" fill-opacity=\"1\" /><path clip-path=\"url(#clip250)\" d=\"M42.4881 646.06 L64.0042 646.06 L64.0042 651.917 L42.679 651.917 Q37.6183 651.917 35.1038 653.89 Q32.5894 655.863 32.5894 659.81 Q32.5894 664.553 35.6131 667.29 Q38.6368 670.027 43.8567 670.027 L64.0042 670.027 L64.0042 675.915 L14.479 675.915 L14.479 670.027 L33.8944 670.027 Q30.6797 667.926 29.0883 665.094 Q27.4968 662.229 27.4968 658.505 Q27.4968 652.362 31.3163 649.211 Q35.1038 646.06 42.4881 646.06 Z\" fill=\"#000000\" fill-rule=\"nonzero\" fill-opacity=\"1\" /><path clip-path=\"url(#clip250)\" d=\"M32.4621 620.566 Q32.4621 625.276 36.1542 628.013 Q39.8145 630.751 46.212 630.751 Q52.6095 630.751 56.3017 628.045 Q59.9619 625.308 59.9619 620.566 Q59.9619 615.887 56.2698 613.15 Q52.5777 610.412 46.212 610.412 Q39.8781 610.412 36.186 613.15 Q32.4621 615.887 32.4621 620.566 M27.4968 620.566 Q27.4968 612.927 32.4621 608.566 Q37.4273 604.206 46.212 604.206 Q54.9649 604.206 59.9619 608.566 Q64.9272 612.927 64.9272 620.566 Q64.9272 628.236 59.9619 632.597 Q54.9649 636.925 46.212 636.925 Q37.4273 636.925 32.4621 632.597 Q27.4968 628.236 27.4968 620.566 Z\" fill=\"#000000\" fill-rule=\"nonzero\" fill-opacity=\"1\" /><path clip-path=\"url(#clip250)\" d=\"M18.2347 588.705 L28.3562 588.705 L28.3562 576.642 L32.9077 576.642 L32.9077 588.705 L52.2594 588.705 Q56.6199 588.705 57.8613 587.528 Q59.1026 586.318 59.1026 582.658 L59.1026 576.642 L64.0042 576.642 L64.0042 582.658 Q64.0042 589.437 61.4897 592.015 Q58.9434 594.594 52.2594 594.594 L32.9077 594.594 L32.9077 598.89 L28.3562 598.89 L28.3562 594.594 L18.2347 594.594 L18.2347 588.705 Z\" fill=\"#000000\" fill-rule=\"nonzero\" fill-opacity=\"1\" /><path clip-path=\"url(#clip250)\" d=\"M29.4065 546.214 L34.9447 546.214 Q33.6716 548.697 33.035 551.37 Q32.3984 554.044 32.3984 556.909 Q32.3984 561.269 33.7352 563.465 Q35.072 565.63 37.7456 565.63 Q39.7826 565.63 40.9603 564.07 Q42.1061 562.51 43.1565 557.8 L43.6021 555.795 Q44.9389 549.556 47.3897 546.946 Q49.8086 544.304 54.1691 544.304 Q59.1344 544.304 62.0308 548.251 Q64.9272 552.166 64.9272 559.041 Q64.9272 561.906 64.3543 565.025 Q63.8132 568.112 62.6992 571.55 L56.6518 571.55 Q58.3387 568.303 59.198 565.152 Q60.0256 562.001 60.0256 558.914 Q60.0256 554.776 58.6251 552.548 Q57.1929 550.32 54.6147 550.32 Q52.2276 550.32 50.9545 551.943 Q49.6813 553.535 48.5037 558.977 L48.0262 561.014 Q46.8804 566.457 44.5251 568.876 Q42.138 571.295 38.0002 571.295 Q32.9713 571.295 30.2341 567.73 Q27.4968 564.165 27.4968 557.609 Q27.4968 554.362 27.9743 551.498 Q28.4517 548.633 29.4065 546.214 Z\" fill=\"#000000\" fill-rule=\"nonzero\" fill-opacity=\"1\" /><path clip-path=\"url(#clip250)\" d=\"M14.479 521.292 L72.5979 521.292 L72.5979 534.788 L68.0464 534.788 L68.0464 527.181 L19.0304 527.181 L19.0304 534.788 L14.479 534.788 L14.479 521.292 Z\" fill=\"#000000\" fill-rule=\"nonzero\" fill-opacity=\"1\" /><polyline clip-path=\"url(#clip252)\" style=\"stroke:#009af9; stroke-linecap:round; stroke-linejoin:round; stroke-width:4; stroke-opacity:1; fill:none\" points=\"237.067,454.183 345.176,86.1857 453.285,515.552 561.394,573.273 669.502,361.532 777.611,456.394 885.72,518.274 993.829,505.421 1101.94,1071.88 1210.05,886.586 1318.15,785.985 1426.26,861.5 1534.37,654.384 1642.48,883.399 1750.59,873.336 1858.7,1200.18 1966.81,1061.41 2074.92,958.034 2183.03,1384.24 2291.13,815.131 \"/>\n",
       "<circle clip-path=\"url(#clip252)\" cx=\"237.067\" cy=\"454.183\" r=\"14.4\" fill=\"#009af9\" fill-rule=\"evenodd\" fill-opacity=\"1\" stroke=\"#000000\" stroke-opacity=\"1\" stroke-width=\"3.2\"/>\n",
       "<circle clip-path=\"url(#clip252)\" cx=\"345.176\" cy=\"86.1857\" r=\"14.4\" fill=\"#009af9\" fill-rule=\"evenodd\" fill-opacity=\"1\" stroke=\"#000000\" stroke-opacity=\"1\" stroke-width=\"3.2\"/>\n",
       "<circle clip-path=\"url(#clip252)\" cx=\"453.285\" cy=\"515.552\" r=\"14.4\" fill=\"#009af9\" fill-rule=\"evenodd\" fill-opacity=\"1\" stroke=\"#000000\" stroke-opacity=\"1\" stroke-width=\"3.2\"/>\n",
       "<circle clip-path=\"url(#clip252)\" cx=\"561.394\" cy=\"573.273\" r=\"14.4\" fill=\"#009af9\" fill-rule=\"evenodd\" fill-opacity=\"1\" stroke=\"#000000\" stroke-opacity=\"1\" stroke-width=\"3.2\"/>\n",
       "<circle clip-path=\"url(#clip252)\" cx=\"669.502\" cy=\"361.532\" r=\"14.4\" fill=\"#009af9\" fill-rule=\"evenodd\" fill-opacity=\"1\" stroke=\"#000000\" stroke-opacity=\"1\" stroke-width=\"3.2\"/>\n",
       "<circle clip-path=\"url(#clip252)\" cx=\"777.611\" cy=\"456.394\" r=\"14.4\" fill=\"#009af9\" fill-rule=\"evenodd\" fill-opacity=\"1\" stroke=\"#000000\" stroke-opacity=\"1\" stroke-width=\"3.2\"/>\n",
       "<circle clip-path=\"url(#clip252)\" cx=\"885.72\" cy=\"518.274\" r=\"14.4\" fill=\"#009af9\" fill-rule=\"evenodd\" fill-opacity=\"1\" stroke=\"#000000\" stroke-opacity=\"1\" stroke-width=\"3.2\"/>\n",
       "<circle clip-path=\"url(#clip252)\" cx=\"993.829\" cy=\"505.421\" r=\"14.4\" fill=\"#009af9\" fill-rule=\"evenodd\" fill-opacity=\"1\" stroke=\"#000000\" stroke-opacity=\"1\" stroke-width=\"3.2\"/>\n",
       "<circle clip-path=\"url(#clip252)\" cx=\"1101.94\" cy=\"1071.88\" r=\"14.4\" fill=\"#009af9\" fill-rule=\"evenodd\" fill-opacity=\"1\" stroke=\"#000000\" stroke-opacity=\"1\" stroke-width=\"3.2\"/>\n",
       "<circle clip-path=\"url(#clip252)\" cx=\"1210.05\" cy=\"886.586\" r=\"14.4\" fill=\"#009af9\" fill-rule=\"evenodd\" fill-opacity=\"1\" stroke=\"#000000\" stroke-opacity=\"1\" stroke-width=\"3.2\"/>\n",
       "<circle clip-path=\"url(#clip252)\" cx=\"1318.15\" cy=\"785.985\" r=\"14.4\" fill=\"#009af9\" fill-rule=\"evenodd\" fill-opacity=\"1\" stroke=\"#000000\" stroke-opacity=\"1\" stroke-width=\"3.2\"/>\n",
       "<circle clip-path=\"url(#clip252)\" cx=\"1426.26\" cy=\"861.5\" r=\"14.4\" fill=\"#009af9\" fill-rule=\"evenodd\" fill-opacity=\"1\" stroke=\"#000000\" stroke-opacity=\"1\" stroke-width=\"3.2\"/>\n",
       "<circle clip-path=\"url(#clip252)\" cx=\"1534.37\" cy=\"654.384\" r=\"14.4\" fill=\"#009af9\" fill-rule=\"evenodd\" fill-opacity=\"1\" stroke=\"#000000\" stroke-opacity=\"1\" stroke-width=\"3.2\"/>\n",
       "<circle clip-path=\"url(#clip252)\" cx=\"1642.48\" cy=\"883.399\" r=\"14.4\" fill=\"#009af9\" fill-rule=\"evenodd\" fill-opacity=\"1\" stroke=\"#000000\" stroke-opacity=\"1\" stroke-width=\"3.2\"/>\n",
       "<circle clip-path=\"url(#clip252)\" cx=\"1750.59\" cy=\"873.336\" r=\"14.4\" fill=\"#009af9\" fill-rule=\"evenodd\" fill-opacity=\"1\" stroke=\"#000000\" stroke-opacity=\"1\" stroke-width=\"3.2\"/>\n",
       "<circle clip-path=\"url(#clip252)\" cx=\"1858.7\" cy=\"1200.18\" r=\"14.4\" fill=\"#009af9\" fill-rule=\"evenodd\" fill-opacity=\"1\" stroke=\"#000000\" stroke-opacity=\"1\" stroke-width=\"3.2\"/>\n",
       "<circle clip-path=\"url(#clip252)\" cx=\"1966.81\" cy=\"1061.41\" r=\"14.4\" fill=\"#009af9\" fill-rule=\"evenodd\" fill-opacity=\"1\" stroke=\"#000000\" stroke-opacity=\"1\" stroke-width=\"3.2\"/>\n",
       "<circle clip-path=\"url(#clip252)\" cx=\"2074.92\" cy=\"958.034\" r=\"14.4\" fill=\"#009af9\" fill-rule=\"evenodd\" fill-opacity=\"1\" stroke=\"#000000\" stroke-opacity=\"1\" stroke-width=\"3.2\"/>\n",
       "<circle clip-path=\"url(#clip252)\" cx=\"2183.03\" cy=\"1384.24\" r=\"14.4\" fill=\"#009af9\" fill-rule=\"evenodd\" fill-opacity=\"1\" stroke=\"#000000\" stroke-opacity=\"1\" stroke-width=\"3.2\"/>\n",
       "<circle clip-path=\"url(#clip252)\" cx=\"2291.13\" cy=\"815.131\" r=\"14.4\" fill=\"#009af9\" fill-rule=\"evenodd\" fill-opacity=\"1\" stroke=\"#000000\" stroke-opacity=\"1\" stroke-width=\"3.2\"/>\n",
       "<path clip-path=\"url(#clip250)\" d=\"M1824.46 196.789 L2280.18 196.789 L2280.18 93.1086 L1824.46 93.1086  Z\" fill=\"#ffffff\" fill-rule=\"evenodd\" fill-opacity=\"1\"/>\n",
       "<polyline clip-path=\"url(#clip250)\" style=\"stroke:#000000; stroke-linecap:round; stroke-linejoin:round; stroke-width:4; stroke-opacity:1; fill:none\" points=\"1824.46,196.789 2280.18,196.789 2280.18,93.1086 1824.46,93.1086 1824.46,196.789 \"/>\n",
       "<circle clip-path=\"url(#clip250)\" cx=\"1921.23\" cy=\"144.949\" r=\"20.48\" fill=\"#009af9\" fill-rule=\"evenodd\" fill-opacity=\"1\" stroke=\"#000000\" stroke-opacity=\"1\" stroke-width=\"4.55111\"/>\n",
       "<path clip-path=\"url(#clip250)\" d=\"M2018 127.669 L2022.68 127.669 L2022.68 162.229 L2018 162.229 L2018 127.669 Z\" fill=\"#000000\" fill-rule=\"nonzero\" fill-opacity=\"1\" /><path clip-path=\"url(#clip250)\" d=\"M2036.01 128.942 L2036.01 136.303 L2044.78 136.303 L2044.78 139.613 L2036.01 139.613 L2036.01 153.687 Q2036.01 156.858 2036.87 157.761 Q2037.75 158.664 2040.41 158.664 L2044.78 158.664 L2044.78 162.229 L2040.41 162.229 Q2035.48 162.229 2033.6 160.4 Q2031.73 158.548 2031.73 153.687 L2031.73 139.613 L2028.6 139.613 L2028.6 136.303 L2031.73 136.303 L2031.73 128.942 L2036.01 128.942 Z\" fill=\"#000000\" fill-rule=\"nonzero\" fill-opacity=\"1\" /><path clip-path=\"url(#clip250)\" d=\"M2062.17 149.196 Q2057.01 149.196 2055.02 150.377 Q2053.02 151.557 2053.02 154.405 Q2053.02 156.673 2054.51 158.016 Q2056.01 159.335 2058.58 159.335 Q2062.12 159.335 2064.25 156.835 Q2066.4 154.312 2066.4 150.145 L2066.4 149.196 L2062.17 149.196 M2070.66 147.437 L2070.66 162.229 L2066.4 162.229 L2066.4 158.293 Q2064.95 160.655 2062.77 161.789 Q2060.59 162.9 2057.45 162.9 Q2053.46 162.9 2051.1 160.678 Q2048.77 158.432 2048.77 154.682 Q2048.77 150.307 2051.68 148.085 Q2054.62 145.863 2060.43 145.863 L2066.4 145.863 L2066.4 145.446 Q2066.4 142.507 2064.46 140.909 Q2062.54 139.289 2059.04 139.289 Q2056.82 139.289 2054.71 139.821 Q2052.61 140.354 2050.66 141.419 L2050.66 137.483 Q2053 136.581 2055.2 136.141 Q2057.4 135.678 2059.48 135.678 Q2065.11 135.678 2067.89 138.594 Q2070.66 141.511 2070.66 147.437 Z\" fill=\"#000000\" fill-rule=\"nonzero\" fill-opacity=\"1\" /><path clip-path=\"url(#clip250)\" d=\"M2079.44 126.21 L2083.7 126.21 L2083.7 162.229 L2079.44 162.229 L2079.44 126.21 Z\" fill=\"#000000\" fill-rule=\"nonzero\" fill-opacity=\"1\" /><path clip-path=\"url(#clip250)\" d=\"M2103.39 164.636 Q2101.59 169.266 2099.88 170.678 Q2098.16 172.09 2095.29 172.09 L2091.89 172.09 L2091.89 168.525 L2094.39 168.525 Q2096.15 168.525 2097.12 167.692 Q2098.09 166.858 2099.27 163.756 L2100.04 161.812 L2089.55 136.303 L2094.07 136.303 L2102.17 156.581 L2110.27 136.303 L2114.78 136.303 L2103.39 164.636 Z\" fill=\"#000000\" fill-rule=\"nonzero\" fill-opacity=\"1\" /><path clip-path=\"url(#clip250)\" d=\"M2152.26 137.067 L2152.26 141.094 Q2150.45 140.169 2148.51 139.706 Q2146.57 139.243 2144.48 139.243 Q2141.31 139.243 2139.71 140.215 Q2138.14 141.187 2138.14 143.131 Q2138.14 144.613 2139.27 145.469 Q2140.41 146.303 2143.83 147.067 L2145.29 147.391 Q2149.83 148.363 2151.73 150.145 Q2153.65 151.905 2153.65 155.076 Q2153.65 158.687 2150.78 160.793 Q2147.93 162.9 2142.93 162.9 Q2140.85 162.9 2138.58 162.483 Q2136.33 162.09 2133.83 161.28 L2133.83 156.881 Q2136.2 158.108 2138.49 158.733 Q2140.78 159.335 2143.02 159.335 Q2146.03 159.335 2147.65 158.317 Q2149.27 157.275 2149.27 155.4 Q2149.27 153.664 2148.09 152.738 Q2146.94 151.812 2142.98 150.956 L2141.5 150.608 Q2137.54 149.775 2135.78 148.062 Q2134.02 146.326 2134.02 143.317 Q2134.02 139.659 2136.61 137.669 Q2139.2 135.678 2143.97 135.678 Q2146.33 135.678 2148.42 136.025 Q2150.5 136.372 2152.26 137.067 Z\" fill=\"#000000\" fill-rule=\"nonzero\" fill-opacity=\"1\" /><path clip-path=\"url(#clip250)\" d=\"M2181.98 146.581 L2181.98 162.229 L2177.72 162.229 L2177.72 146.719 Q2177.72 143.039 2176.29 141.21 Q2174.85 139.382 2171.98 139.382 Q2168.53 139.382 2166.54 141.581 Q2164.55 143.78 2164.55 147.576 L2164.55 162.229 L2160.27 162.229 L2160.27 126.21 L2164.55 126.21 L2164.55 140.331 Q2166.08 137.993 2168.14 136.835 Q2170.22 135.678 2172.93 135.678 Q2177.4 135.678 2179.69 138.456 Q2181.98 141.21 2181.98 146.581 Z\" fill=\"#000000\" fill-rule=\"nonzero\" fill-opacity=\"1\" /><path clip-path=\"url(#clip250)\" d=\"M2200.52 139.289 Q2197.1 139.289 2195.11 141.974 Q2193.12 144.636 2193.12 149.289 Q2193.12 153.942 2195.08 156.627 Q2197.07 159.289 2200.52 159.289 Q2203.93 159.289 2205.92 156.604 Q2207.91 153.918 2207.91 149.289 Q2207.91 144.682 2205.92 141.997 Q2203.93 139.289 2200.52 139.289 M2200.52 135.678 Q2206.08 135.678 2209.25 139.289 Q2212.42 142.9 2212.42 149.289 Q2212.42 155.655 2209.25 159.289 Q2206.08 162.9 2200.52 162.9 Q2194.95 162.9 2191.77 159.289 Q2188.63 155.655 2188.63 149.289 Q2188.63 142.9 2191.77 139.289 Q2194.95 135.678 2200.52 135.678 Z\" fill=\"#000000\" fill-rule=\"nonzero\" fill-opacity=\"1\" /><path clip-path=\"url(#clip250)\" d=\"M2223.7 128.942 L2223.7 136.303 L2232.47 136.303 L2232.47 139.613 L2223.7 139.613 L2223.7 153.687 Q2223.7 156.858 2224.55 157.761 Q2225.43 158.664 2228.09 158.664 L2232.47 158.664 L2232.47 162.229 L2228.09 162.229 Q2223.16 162.229 2221.29 160.4 Q2219.41 158.548 2219.41 153.687 L2219.41 139.613 L2216.29 139.613 L2216.29 136.303 L2219.41 136.303 L2219.41 128.942 L2223.7 128.942 Z\" fill=\"#000000\" fill-rule=\"nonzero\" fill-opacity=\"1\" /><path clip-path=\"url(#clip250)\" d=\"M2254.6 137.067 L2254.6 141.094 Q2252.79 140.169 2250.85 139.706 Q2248.9 139.243 2246.82 139.243 Q2243.65 139.243 2242.05 140.215 Q2240.48 141.187 2240.48 143.131 Q2240.48 144.613 2241.61 145.469 Q2242.75 146.303 2246.17 147.067 L2247.63 147.391 Q2252.17 148.363 2254.07 150.145 Q2255.99 151.905 2255.99 155.076 Q2255.99 158.687 2253.12 160.793 Q2250.27 162.9 2245.27 162.9 Q2243.19 162.9 2240.92 162.483 Q2238.67 162.09 2236.17 161.28 L2236.17 156.881 Q2238.53 158.108 2240.82 158.733 Q2243.12 159.335 2245.36 159.335 Q2248.37 159.335 2249.99 158.317 Q2251.61 157.275 2251.61 155.4 Q2251.61 153.664 2250.43 152.738 Q2249.27 151.812 2245.32 150.956 L2243.83 150.608 Q2239.88 149.775 2238.12 148.062 Q2236.36 146.326 2236.36 143.317 Q2236.36 139.659 2238.95 137.669 Q2241.54 135.678 2246.31 135.678 Q2248.67 135.678 2250.76 136.025 Q2252.84 136.372 2254.6 137.067 Z\" fill=\"#000000\" fill-rule=\"nonzero\" fill-opacity=\"1\" /></svg>\n"
      ]
     },
     "metadata": {},
     "output_type": "display_data"
    }
   ],
   "source": [
    "p = plot(\n",
    "    xlabel=\"true ranking\",\n",
    "    ylabel=\"rating [\"*metric*\"]\",\n",
    ")\n",
    "plot!(w,c=1,label=\"\")\n",
    "scatter!(w,c=1,label=league*\" \"*metric)\n",
    "fname = \"plots/tmp/\"*league*\"-\"*metric*\"-rating.pdf\"\n",
    "#@show fname\n",
    "savefig(p,fname)\n",
    "display(p)"
   ]
  },
  {
   "cell_type": "code",
   "execution_count": 54,
   "id": "ecc77c7a-7a78-48de-9392-bd97bc60cf25",
   "metadata": {},
   "outputs": [
    {
     "data": {
      "image/png": "[encoded data removed]",
      "image/svg+xml": [
       "<?xml version=\"1.0\" encoding=\"utf-8\"?>\n",
       "<svg xmlns=\"http://www.w3.org/2000/svg\" xmlns:xlink=\"http://www.w3.org/1999/xlink\" width=\"600\" height=\"400\" viewBox=\"0 0 2400 1600\">\n",
       "<defs>\n",
       "  <clipPath id=\"clip300\">\n",
       "    <rect x=\"0\" y=\"0\" width=\"2400\" height=\"1600\"/>\n",
       "  </clipPath>\n",
       "</defs>\n",
       "<path clip-path=\"url(#clip300)\" d=\"M0 1600 L2400 1600 L2400 0 L0 0  Z\" fill=\"#ffffff\" fill-rule=\"evenodd\" fill-opacity=\"1\"/>\n",
       "<defs>\n",
       "  <clipPath id=\"clip301\">\n",
       "    <rect x=\"480\" y=\"0\" width=\"1681\" height=\"1600\"/>\n",
       "  </clipPath>\n",
       "</defs>\n",
       "<path clip-path=\"url(#clip300)\" d=\"M203.964 1423.18 L2352.76 1423.18 L2352.76 47.2441 L203.964 47.2441  Z\" fill=\"#ffffff\" fill-rule=\"evenodd\" fill-opacity=\"1\"/>\n",
       "<defs>\n",
       "  <clipPath id=\"clip302\">\n",
       "    <rect x=\"203\" y=\"47\" width=\"2150\" height=\"1377\"/>\n",
       "  </clipPath>\n",
       "</defs>\n",
       "<polyline clip-path=\"url(#clip302)\" style=\"stroke:#000000; stroke-linecap:round; stroke-linejoin:round; stroke-width:2; stroke-opacity:0.1; fill:none\" points=\"691.55,1423.18 691.55,47.2441 \"/>\n",
       "<polyline clip-path=\"url(#clip302)\" style=\"stroke:#000000; stroke-linecap:round; stroke-linejoin:round; stroke-width:2; stroke-opacity:0.1; fill:none\" points=\"1225.01,1423.18 1225.01,47.2441 \"/>\n",
       "<polyline clip-path=\"url(#clip302)\" style=\"stroke:#000000; stroke-linecap:round; stroke-linejoin:round; stroke-width:2; stroke-opacity:0.1; fill:none\" points=\"1758.48,1423.18 1758.48,47.2441 \"/>\n",
       "<polyline clip-path=\"url(#clip302)\" style=\"stroke:#000000; stroke-linecap:round; stroke-linejoin:round; stroke-width:2; stroke-opacity:0.1; fill:none\" points=\"2291.94,1423.18 2291.94,47.2441 \"/>\n",
       "<polyline clip-path=\"url(#clip302)\" style=\"stroke:#000000; stroke-linecap:round; stroke-linejoin:round; stroke-width:2; stroke-opacity:0.1; fill:none\" points=\"203.964,1110.96 2352.76,1110.96 \"/>\n",
       "<polyline clip-path=\"url(#clip302)\" style=\"stroke:#000000; stroke-linecap:round; stroke-linejoin:round; stroke-width:2; stroke-opacity:0.1; fill:none\" points=\"203.964,769.371 2352.76,769.371 \"/>\n",
       "<polyline clip-path=\"url(#clip302)\" style=\"stroke:#000000; stroke-linecap:round; stroke-linejoin:round; stroke-width:2; stroke-opacity:0.1; fill:none\" points=\"203.964,427.778 2352.76,427.778 \"/>\n",
       "<polyline clip-path=\"url(#clip302)\" style=\"stroke:#000000; stroke-linecap:round; stroke-linejoin:round; stroke-width:2; stroke-opacity:0.1; fill:none\" points=\"203.964,86.1857 2352.76,86.1857 \"/>\n",
       "<polyline clip-path=\"url(#clip300)\" style=\"stroke:#000000; stroke-linecap:round; stroke-linejoin:round; stroke-width:4; stroke-opacity:1; fill:none\" points=\"203.964,1423.18 2352.76,1423.18 \"/>\n",
       "<polyline clip-path=\"url(#clip300)\" style=\"stroke:#000000; stroke-linecap:round; stroke-linejoin:round; stroke-width:4; stroke-opacity:1; fill:none\" points=\"691.55,1423.18 691.55,1404.28 \"/>\n",
       "<polyline clip-path=\"url(#clip300)\" style=\"stroke:#000000; stroke-linecap:round; stroke-linejoin:round; stroke-width:4; stroke-opacity:1; fill:none\" points=\"1225.01,1423.18 1225.01,1404.28 \"/>\n",
       "<polyline clip-path=\"url(#clip300)\" style=\"stroke:#000000; stroke-linecap:round; stroke-linejoin:round; stroke-width:4; stroke-opacity:1; fill:none\" points=\"1758.48,1423.18 1758.48,1404.28 \"/>\n",
       "<polyline clip-path=\"url(#clip300)\" style=\"stroke:#000000; stroke-linecap:round; stroke-linejoin:round; stroke-width:4; stroke-opacity:1; fill:none\" points=\"2291.94,1423.18 2291.94,1404.28 \"/>\n",
       "<path clip-path=\"url(#clip300)\" d=\"M681.827 1451.02 L700.184 1451.02 L700.184 1454.96 L686.11 1454.96 L686.11 1463.43 Q687.128 1463.08 688.147 1462.92 Q689.165 1462.73 690.184 1462.73 Q695.971 1462.73 699.35 1465.9 Q702.73 1469.08 702.73 1474.49 Q702.73 1480.07 699.258 1483.17 Q695.786 1486.25 689.466 1486.25 Q687.29 1486.25 685.022 1485.88 Q682.776 1485.51 680.369 1484.77 L680.369 1480.07 Q682.452 1481.2 684.675 1481.76 Q686.897 1482.32 689.374 1482.32 Q693.378 1482.32 695.716 1480.21 Q698.054 1478.1 698.054 1474.49 Q698.054 1470.88 695.716 1468.77 Q693.378 1466.67 689.374 1466.67 Q687.499 1466.67 685.624 1467.08 Q683.772 1467.5 681.827 1468.38 L681.827 1451.02 Z\" fill=\"#000000\" fill-rule=\"nonzero\" fill-opacity=\"1\" /><path clip-path=\"url(#clip300)\" d=\"M1199.7 1481.64 L1207.34 1481.64 L1207.34 1455.28 L1199.03 1456.95 L1199.03 1452.69 L1207.29 1451.02 L1211.97 1451.02 L1211.97 1481.64 L1219.61 1481.64 L1219.61 1485.58 L1199.7 1485.58 L1199.7 1481.64 Z\" fill=\"#000000\" fill-rule=\"nonzero\" fill-opacity=\"1\" /><path clip-path=\"url(#clip300)\" d=\"M1239.05 1454.1 Q1235.44 1454.1 1233.61 1457.66 Q1231.81 1461.2 1231.81 1468.33 Q1231.81 1475.44 1233.61 1479.01 Q1235.44 1482.55 1239.05 1482.55 Q1242.69 1482.55 1244.49 1479.01 Q1246.32 1475.44 1246.32 1468.33 Q1246.32 1461.2 1244.49 1457.66 Q1242.69 1454.1 1239.05 1454.1 M1239.05 1450.39 Q1244.86 1450.39 1247.92 1455 Q1251 1459.58 1251 1468.33 Q1251 1477.06 1247.92 1481.67 Q1244.86 1486.25 1239.05 1486.25 Q1233.24 1486.25 1230.16 1481.67 Q1227.11 1477.06 1227.11 1468.33 Q1227.11 1459.58 1230.16 1455 Q1233.24 1450.39 1239.05 1450.39 Z\" fill=\"#000000\" fill-rule=\"nonzero\" fill-opacity=\"1\" /><path clip-path=\"url(#clip300)\" d=\"M1733.66 1481.64 L1741.3 1481.64 L1741.3 1455.28 L1732.99 1456.95 L1732.99 1452.69 L1741.26 1451.02 L1745.93 1451.02 L1745.93 1481.64 L1753.57 1481.64 L1753.57 1485.58 L1733.66 1485.58 L1733.66 1481.64 Z\" fill=\"#000000\" fill-rule=\"nonzero\" fill-opacity=\"1\" /><path clip-path=\"url(#clip300)\" d=\"M1763.06 1451.02 L1781.42 1451.02 L1781.42 1454.96 L1767.34 1454.96 L1767.34 1463.43 Q1768.36 1463.08 1769.38 1462.92 Q1770.4 1462.73 1771.42 1462.73 Q1777.2 1462.73 1780.58 1465.9 Q1783.96 1469.08 1783.96 1474.49 Q1783.96 1480.07 1780.49 1483.17 Q1777.02 1486.25 1770.7 1486.25 Q1768.52 1486.25 1766.25 1485.88 Q1764.01 1485.51 1761.6 1484.77 L1761.6 1480.07 Q1763.69 1481.2 1765.91 1481.76 Q1768.13 1482.32 1770.61 1482.32 Q1774.61 1482.32 1776.95 1480.21 Q1779.29 1478.1 1779.29 1474.49 Q1779.29 1470.88 1776.95 1468.77 Q1774.61 1466.67 1770.61 1466.67 Q1768.73 1466.67 1766.86 1467.08 Q1765 1467.5 1763.06 1468.38 L1763.06 1451.02 Z\" fill=\"#000000\" fill-rule=\"nonzero\" fill-opacity=\"1\" /><path clip-path=\"url(#clip300)\" d=\"M2270.71 1481.64 L2287.03 1481.64 L2287.03 1485.58 L2265.09 1485.58 L2265.09 1481.64 Q2267.75 1478.89 2272.33 1474.26 Q2276.94 1469.61 2278.12 1468.27 Q2280.37 1465.74 2281.25 1464.01 Q2282.15 1462.25 2282.15 1460.56 Q2282.15 1457.8 2280.2 1456.07 Q2278.28 1454.33 2275.18 1454.33 Q2272.98 1454.33 2270.53 1455.09 Q2268.1 1455.86 2265.32 1457.41 L2265.32 1452.69 Q2268.14 1451.55 2270.6 1450.97 Q2273.05 1450.39 2275.09 1450.39 Q2280.46 1450.39 2283.65 1453.08 Q2286.85 1455.77 2286.85 1460.26 Q2286.85 1462.39 2286.04 1464.31 Q2285.25 1466.2 2283.14 1468.8 Q2282.57 1469.47 2279.46 1472.69 Q2276.36 1475.88 2270.71 1481.64 Z\" fill=\"#000000\" fill-rule=\"nonzero\" fill-opacity=\"1\" /><path clip-path=\"url(#clip300)\" d=\"M2306.85 1454.1 Q2303.24 1454.1 2301.41 1457.66 Q2299.6 1461.2 2299.6 1468.33 Q2299.6 1475.44 2301.41 1479.01 Q2303.24 1482.55 2306.85 1482.55 Q2310.48 1482.55 2312.29 1479.01 Q2314.12 1475.44 2314.12 1468.33 Q2314.12 1461.2 2312.29 1457.66 Q2310.48 1454.1 2306.85 1454.1 M2306.85 1450.39 Q2312.66 1450.39 2315.71 1455 Q2318.79 1459.58 2318.79 1468.33 Q2318.79 1477.06 2315.71 1481.67 Q2312.66 1486.25 2306.85 1486.25 Q2301.04 1486.25 2297.96 1481.67 Q2294.9 1477.06 2294.9 1468.33 Q2294.9 1459.58 2297.96 1455 Q2301.04 1450.39 2306.85 1450.39 Z\" fill=\"#000000\" fill-rule=\"nonzero\" fill-opacity=\"1\" /><path clip-path=\"url(#clip300)\" d=\"M1091.83 1522.27 L1091.83 1532.4 L1103.89 1532.4 L1103.89 1536.95 L1091.83 1536.95 L1091.83 1556.3 Q1091.83 1560.66 1093.01 1561.9 Q1094.22 1563.14 1097.88 1563.14 L1103.89 1563.14 L1103.89 1568.04 L1097.88 1568.04 Q1091.1 1568.04 1088.52 1565.53 Q1085.94 1562.98 1085.94 1556.3 L1085.94 1536.95 L1081.64 1536.95 L1081.64 1532.4 L1085.94 1532.4 L1085.94 1522.27 L1091.83 1522.27 Z\" fill=\"#000000\" fill-rule=\"nonzero\" fill-opacity=\"1\" /><path clip-path=\"url(#clip300)\" d=\"M1132.25 1537.87 Q1131.26 1537.3 1130.09 1537.04 Q1128.94 1536.76 1127.54 1536.76 Q1122.57 1536.76 1119.9 1540 Q1117.26 1543.22 1117.26 1549.27 L1117.26 1568.04 L1111.37 1568.04 L1111.37 1532.4 L1117.26 1532.4 L1117.26 1537.93 Q1119.11 1534.69 1122.07 1533.13 Q1125.03 1531.54 1129.26 1531.54 Q1129.86 1531.54 1130.6 1531.63 Q1131.33 1531.7 1132.22 1531.85 L1132.25 1537.87 Z\" fill=\"#000000\" fill-rule=\"nonzero\" fill-opacity=\"1\" /><path clip-path=\"url(#clip300)\" d=\"M1137.79 1553.98 L1137.79 1532.4 L1143.65 1532.4 L1143.65 1553.75 Q1143.65 1558.81 1145.62 1561.36 Q1147.59 1563.87 1151.54 1563.87 Q1156.28 1563.87 1159.02 1560.85 Q1161.79 1557.83 1161.79 1552.61 L1161.79 1532.4 L1167.64 1532.4 L1167.64 1568.04 L1161.79 1568.04 L1161.79 1562.57 Q1159.66 1565.82 1156.82 1567.41 Q1154.02 1568.97 1150.3 1568.97 Q1144.15 1568.97 1140.97 1565.15 Q1137.79 1561.33 1137.79 1553.98 M1152.53 1531.54 L1152.53 1531.54 Z\" fill=\"#000000\" fill-rule=\"nonzero\" fill-opacity=\"1\" /><path clip-path=\"url(#clip300)\" d=\"M1210.2 1548.76 L1210.2 1551.62 L1183.27 1551.62 Q1183.65 1557.67 1186.9 1560.85 Q1190.18 1564 1196 1564 Q1199.38 1564 1202.53 1563.17 Q1205.71 1562.35 1208.83 1560.69 L1208.83 1566.23 Q1205.68 1567.57 1202.37 1568.27 Q1199.06 1568.97 1195.65 1568.97 Q1187.12 1568.97 1182.13 1564 Q1177.16 1559.04 1177.16 1550.57 Q1177.16 1541.82 1181.87 1536.69 Q1186.61 1531.54 1194.63 1531.54 Q1201.83 1531.54 1206 1536.18 Q1210.2 1540.8 1210.2 1548.76 M1204.34 1547.04 Q1204.28 1542.23 1201.64 1539.37 Q1199.03 1536.5 1194.7 1536.5 Q1189.8 1536.5 1186.84 1539.27 Q1183.91 1542.04 1183.46 1547.07 L1204.34 1547.04 Z\" fill=\"#000000\" fill-rule=\"nonzero\" fill-opacity=\"1\" /><path clip-path=\"url(#clip300)\" d=\"M1261.19 1537.87 Q1260.2 1537.3 1259.02 1537.04 Q1257.88 1536.76 1256.48 1536.76 Q1251.51 1536.76 1248.84 1540 Q1246.2 1543.22 1246.2 1549.27 L1246.2 1568.04 L1240.31 1568.04 L1240.31 1532.4 L1246.2 1532.4 L1246.2 1537.93 Q1248.04 1534.69 1251 1533.13 Q1253.96 1531.54 1258.2 1531.54 Q1258.8 1531.54 1259.53 1531.63 Q1260.27 1531.7 1261.16 1531.85 L1261.19 1537.87 Z\" fill=\"#000000\" fill-rule=\"nonzero\" fill-opacity=\"1\" /><path clip-path=\"url(#clip300)\" d=\"M1283.53 1550.12 Q1276.43 1550.12 1273.7 1551.75 Q1270.96 1553.37 1270.96 1557.29 Q1270.96 1560.4 1273 1562.25 Q1275.07 1564.07 1278.6 1564.07 Q1283.47 1564.07 1286.4 1560.63 Q1289.36 1557.16 1289.36 1551.43 L1289.36 1550.12 L1283.53 1550.12 M1295.21 1547.71 L1295.21 1568.04 L1289.36 1568.04 L1289.36 1562.63 Q1287.35 1565.88 1284.36 1567.44 Q1281.37 1568.97 1277.04 1568.97 Q1271.56 1568.97 1268.32 1565.91 Q1265.1 1562.82 1265.1 1557.67 Q1265.1 1551.65 1269.11 1548.6 Q1273.16 1545.54 1281.14 1545.54 L1289.36 1545.54 L1289.36 1544.97 Q1289.36 1540.93 1286.68 1538.73 Q1284.04 1536.5 1279.24 1536.5 Q1276.18 1536.5 1273.28 1537.23 Q1270.39 1537.97 1267.71 1539.43 L1267.71 1534.02 Q1270.93 1532.78 1273.95 1532.17 Q1276.98 1531.54 1279.84 1531.54 Q1287.57 1531.54 1291.39 1535.55 Q1295.21 1539.56 1295.21 1547.71 Z\" fill=\"#000000\" fill-rule=\"nonzero\" fill-opacity=\"1\" /><path clip-path=\"url(#clip300)\" d=\"M1336.91 1546.53 L1336.91 1568.04 L1331.05 1568.04 L1331.05 1546.72 Q1331.05 1541.66 1329.08 1539.14 Q1327.11 1536.63 1323.16 1536.63 Q1318.42 1536.63 1315.68 1539.65 Q1312.94 1542.68 1312.94 1547.9 L1312.94 1568.04 L1307.05 1568.04 L1307.05 1532.4 L1312.94 1532.4 L1312.94 1537.93 Q1315.04 1534.72 1317.87 1533.13 Q1320.74 1531.54 1324.46 1531.54 Q1330.61 1531.54 1333.76 1535.36 Q1336.91 1539.14 1336.91 1546.53 Z\" fill=\"#000000\" fill-rule=\"nonzero\" fill-opacity=\"1\" /><path clip-path=\"url(#clip300)\" d=\"M1348.37 1518.52 L1354.25 1518.52 L1354.25 1547.77 L1371.73 1532.4 L1379.21 1532.4 L1360.3 1549.07 L1380 1568.04 L1372.37 1568.04 L1354.25 1550.63 L1354.25 1568.04 L1348.37 1568.04 L1348.37 1518.52 Z\" fill=\"#000000\" fill-rule=\"nonzero\" fill-opacity=\"1\" /><path clip-path=\"url(#clip300)\" d=\"M1386.34 1532.4 L1392.19 1532.4 L1392.19 1568.04 L1386.34 1568.04 L1386.34 1532.4 M1386.34 1518.52 L1392.19 1518.52 L1392.19 1525.93 L1386.34 1525.93 L1386.34 1518.52 Z\" fill=\"#000000\" fill-rule=\"nonzero\" fill-opacity=\"1\" /><path clip-path=\"url(#clip300)\" d=\"M1434.08 1546.53 L1434.08 1568.04 L1428.22 1568.04 L1428.22 1546.72 Q1428.22 1541.66 1426.25 1539.14 Q1424.28 1536.63 1420.33 1536.63 Q1415.59 1536.63 1412.85 1539.65 Q1410.11 1542.68 1410.11 1547.9 L1410.11 1568.04 L1404.23 1568.04 L1404.23 1532.4 L1410.11 1532.4 L1410.11 1537.93 Q1412.21 1534.72 1415.05 1533.13 Q1417.91 1531.54 1421.64 1531.54 Q1427.78 1531.54 1430.93 1535.36 Q1434.08 1539.14 1434.08 1546.53 Z\" fill=\"#000000\" fill-rule=\"nonzero\" fill-opacity=\"1\" /><path clip-path=\"url(#clip300)\" d=\"M1469.22 1549.81 Q1469.22 1543.44 1466.58 1539.94 Q1463.97 1536.44 1459.23 1536.44 Q1454.51 1536.44 1451.87 1539.94 Q1449.26 1543.44 1449.26 1549.81 Q1449.26 1556.14 1451.87 1559.64 Q1454.51 1563.14 1459.23 1563.14 Q1463.97 1563.14 1466.58 1559.64 Q1469.22 1556.14 1469.22 1549.81 M1475.08 1563.62 Q1475.08 1572.72 1471.03 1577.15 Q1466.99 1581.6 1458.65 1581.6 Q1455.57 1581.6 1452.83 1581.13 Q1450.09 1580.68 1447.51 1579.72 L1447.51 1574.03 Q1450.09 1575.43 1452.61 1576.1 Q1455.12 1576.76 1457.73 1576.76 Q1463.49 1576.76 1466.35 1573.74 Q1469.22 1570.75 1469.22 1564.67 L1469.22 1561.77 Q1467.41 1564.92 1464.57 1566.48 Q1461.74 1568.04 1457.79 1568.04 Q1451.24 1568.04 1447.23 1563.05 Q1443.22 1558.05 1443.22 1549.81 Q1443.22 1541.53 1447.23 1536.53 Q1451.24 1531.54 1457.79 1531.54 Q1461.74 1531.54 1464.57 1533.1 Q1467.41 1534.66 1469.22 1537.81 L1469.22 1532.4 L1475.08 1532.4 L1475.08 1563.62 Z\" fill=\"#000000\" fill-rule=\"nonzero\" fill-opacity=\"1\" /><polyline clip-path=\"url(#clip300)\" style=\"stroke:#000000; stroke-linecap:round; stroke-linejoin:round; stroke-width:4; stroke-opacity:1; fill:none\" points=\"203.964,1423.18 203.964,47.2441 \"/>\n",
       "<polyline clip-path=\"url(#clip300)\" style=\"stroke:#000000; stroke-linecap:round; stroke-linejoin:round; stroke-width:4; stroke-opacity:1; fill:none\" points=\"203.964,1110.96 222.861,1110.96 \"/>\n",
       "<polyline clip-path=\"url(#clip300)\" style=\"stroke:#000000; stroke-linecap:round; stroke-linejoin:round; stroke-width:4; stroke-opacity:1; fill:none\" points=\"203.964,769.371 222.861,769.371 \"/>\n",
       "<polyline clip-path=\"url(#clip300)\" style=\"stroke:#000000; stroke-linecap:round; stroke-linejoin:round; stroke-width:4; stroke-opacity:1; fill:none\" points=\"203.964,427.778 222.861,427.778 \"/>\n",
       "<polyline clip-path=\"url(#clip300)\" style=\"stroke:#000000; stroke-linecap:round; stroke-linejoin:round; stroke-width:4; stroke-opacity:1; fill:none\" points=\"203.964,86.1857 222.861,86.1857 \"/>\n",
       "<path clip-path=\"url(#clip300)\" d=\"M147.061 1093.68 L165.417 1093.68 L165.417 1097.62 L151.343 1097.62 L151.343 1106.09 Q152.362 1105.74 153.38 1105.58 Q154.399 1105.4 155.417 1105.4 Q161.204 1105.4 164.584 1108.57 Q167.964 1111.74 167.964 1117.16 Q167.964 1122.73 164.491 1125.84 Q161.019 1128.92 154.7 1128.92 Q152.524 1128.92 150.255 1128.54 Q148.01 1128.17 145.603 1127.43 L145.603 1122.73 Q147.686 1123.87 149.908 1124.42 Q152.13 1124.98 154.607 1124.98 Q158.612 1124.98 160.95 1122.87 Q163.288 1120.77 163.288 1117.16 Q163.288 1113.55 160.95 1111.44 Q158.612 1109.33 154.607 1109.33 Q152.732 1109.33 150.857 1109.75 Q149.005 1110.17 147.061 1111.05 L147.061 1093.68 Z\" fill=\"#000000\" fill-rule=\"nonzero\" fill-opacity=\"1\" /><path clip-path=\"url(#clip300)\" d=\"M116.668 782.716 L124.306 782.716 L124.306 756.35 L115.996 758.017 L115.996 753.758 L124.26 752.091 L128.936 752.091 L128.936 782.716 L136.575 782.716 L136.575 786.651 L116.668 786.651 L116.668 782.716 Z\" fill=\"#000000\" fill-rule=\"nonzero\" fill-opacity=\"1\" /><path clip-path=\"url(#clip300)\" d=\"M156.019 755.17 Q152.408 755.17 150.579 758.735 Q148.774 762.276 148.774 769.406 Q148.774 776.512 150.579 780.077 Q152.408 783.619 156.019 783.619 Q159.653 783.619 161.459 780.077 Q163.288 776.512 163.288 769.406 Q163.288 762.276 161.459 758.735 Q159.653 755.17 156.019 755.17 M156.019 751.466 Q161.829 751.466 164.885 756.073 Q167.964 760.656 167.964 769.406 Q167.964 778.133 164.885 782.739 Q161.829 787.323 156.019 787.323 Q150.209 787.323 147.13 782.739 Q144.075 778.133 144.075 769.406 Q144.075 760.656 147.13 756.073 Q150.209 751.466 156.019 751.466 Z\" fill=\"#000000\" fill-rule=\"nonzero\" fill-opacity=\"1\" /><path clip-path=\"url(#clip300)\" d=\"M117.663 441.123 L125.302 441.123 L125.302 414.758 L116.992 416.424 L116.992 412.165 L125.255 410.498 L129.931 410.498 L129.931 441.123 L137.57 441.123 L137.57 445.058 L117.663 445.058 L117.663 441.123 Z\" fill=\"#000000\" fill-rule=\"nonzero\" fill-opacity=\"1\" /><path clip-path=\"url(#clip300)\" d=\"M147.061 410.498 L165.417 410.498 L165.417 414.434 L151.343 414.434 L151.343 422.906 Q152.362 422.559 153.38 422.397 Q154.399 422.211 155.417 422.211 Q161.204 422.211 164.584 425.383 Q167.964 428.554 167.964 433.971 Q167.964 439.549 164.491 442.651 Q161.019 445.73 154.7 445.73 Q152.524 445.73 150.255 445.359 Q148.01 444.989 145.603 444.248 L145.603 439.549 Q147.686 440.683 149.908 441.239 Q152.13 441.795 154.607 441.795 Q158.612 441.795 160.95 439.688 Q163.288 437.582 163.288 433.971 Q163.288 430.359 160.95 428.253 Q158.612 426.147 154.607 426.147 Q152.732 426.147 150.857 426.563 Q149.005 426.98 147.061 427.859 L147.061 410.498 Z\" fill=\"#000000\" fill-rule=\"nonzero\" fill-opacity=\"1\" /><path clip-path=\"url(#clip300)\" d=\"M119.885 99.5305 L136.204 99.5305 L136.204 103.466 L114.26 103.466 L114.26 99.5305 Q116.922 96.7759 121.505 92.1463 Q126.112 87.4935 127.292 86.151 Q129.538 83.6278 130.417 81.8917 Q131.32 80.1325 131.32 78.4427 Q131.32 75.688 129.376 73.9519 Q127.455 72.2158 124.353 72.2158 Q122.154 72.2158 119.7 72.9797 Q117.269 73.7436 114.492 75.2945 L114.492 70.5723 Q117.316 69.4381 119.769 68.8594 Q122.223 68.2807 124.26 68.2807 Q129.63 68.2807 132.825 70.9658 Q136.019 73.651 136.019 78.1417 Q136.019 80.2714 135.209 82.1926 Q134.422 84.0908 132.316 86.6834 Q131.737 87.3546 128.635 90.5722 Q125.533 93.7667 119.885 99.5305 Z\" fill=\"#000000\" fill-rule=\"nonzero\" fill-opacity=\"1\" /><path clip-path=\"url(#clip300)\" d=\"M156.019 71.9844 Q152.408 71.9844 150.579 75.5492 Q148.774 79.0908 148.774 86.2204 Q148.774 93.3268 150.579 96.8916 Q152.408 100.433 156.019 100.433 Q159.653 100.433 161.459 96.8916 Q163.288 93.3268 163.288 86.2204 Q163.288 79.0908 161.459 75.5492 Q159.653 71.9844 156.019 71.9844 M156.019 68.2807 Q161.829 68.2807 164.885 72.8871 Q167.964 77.4704 167.964 86.2204 Q167.964 94.9472 164.885 99.5537 Q161.829 104.137 156.019 104.137 Q150.209 104.137 147.13 99.5537 Q144.075 94.9472 144.075 86.2204 Q144.075 77.4704 147.13 72.8871 Q150.209 68.2807 156.019 68.2807 Z\" fill=\"#000000\" fill-rule=\"nonzero\" fill-opacity=\"1\" /><path clip-path=\"url(#clip300)\" d=\"M28.3562 1113.62 L28.3562 1107.76 L64.0042 1107.76 L64.0042 1113.62 L28.3562 1113.62 M14.479 1113.62 L14.479 1107.76 L21.895 1107.76 L21.895 1113.62 L14.479 1113.62 Z\" fill=\"#000000\" fill-rule=\"nonzero\" fill-opacity=\"1\" /><path clip-path=\"url(#clip300)\" d=\"M42.4881 1065.88 L64.0042 1065.88 L64.0042 1071.74 L42.679 1071.74 Q37.6183 1071.74 35.1038 1073.71 Q32.5894 1075.68 32.5894 1079.63 Q32.5894 1084.37 35.6131 1087.11 Q38.6368 1089.85 43.8567 1089.85 L64.0042 1089.85 L64.0042 1095.73 L28.3562 1095.73 L28.3562 1089.85 L33.8944 1089.85 Q30.6797 1087.74 29.0883 1084.91 Q27.4968 1082.05 27.4968 1078.32 Q27.4968 1072.18 31.3163 1069.03 Q35.1038 1065.88 42.4881 1065.88 Z\" fill=\"#000000\" fill-rule=\"nonzero\" fill-opacity=\"1\" /><path clip-path=\"url(#clip300)\" d=\"M14.479 1036.15 L19.3487 1036.15 L19.3487 1041.75 Q19.3487 1044.9 20.6219 1046.14 Q21.895 1047.35 25.2052 1047.35 L28.3562 1047.35 L28.3562 1037.71 L32.9077 1037.71 L32.9077 1047.35 L64.0042 1047.35 L64.0042 1053.24 L32.9077 1053.24 L32.9077 1058.84 L28.3562 1058.84 L28.3562 1053.24 L25.8736 1053.24 Q19.9216 1053.24 17.2162 1050.47 Q14.479 1047.7 14.479 1041.69 L14.479 1036.15 Z\" fill=\"#000000\" fill-rule=\"nonzero\" fill-opacity=\"1\" /><path clip-path=\"url(#clip300)\" d=\"M44.7161 1000.76 L47.5806 1000.76 L47.5806 1027.68 Q53.6281 1027.3 56.8109 1024.06 Q59.9619 1020.78 59.9619 1014.95 Q59.9619 1011.58 59.1344 1008.43 Q58.3069 1005.25 56.6518 1002.13 L62.1899 1002.13 Q63.5267 1005.28 64.227 1008.59 Q64.9272 1011.9 64.9272 1015.3 Q64.9272 1023.83 59.9619 1028.83 Q54.9967 1033.8 46.5303 1033.8 Q37.7774 1033.8 32.6531 1029.08 Q27.4968 1024.34 27.4968 1016.32 Q27.4968 1009.13 32.1438 1004.96 Q36.7589 1000.76 44.7161 1000.76 M42.9973 1006.61 Q38.1912 1006.68 35.3266 1009.32 Q32.4621 1011.93 32.4621 1016.26 Q32.4621 1021.16 35.2312 1024.12 Q38.0002 1027.05 43.0292 1027.49 L42.9973 1006.61 Z\" fill=\"#000000\" fill-rule=\"nonzero\" fill-opacity=\"1\" /><path clip-path=\"url(#clip300)\" d=\"M33.8307 970.488 Q33.2578 971.475 33.0032 972.653 Q32.7167 973.799 32.7167 975.199 Q32.7167 980.164 35.9632 982.838 Q39.1779 985.48 45.2253 985.48 L64.0042 985.48 L64.0042 991.368 L28.3562 991.368 L28.3562 985.48 L33.8944 985.48 Q30.6479 983.634 29.0883 980.674 Q27.4968 977.714 27.4968 973.48 Q27.4968 972.876 27.5923 972.144 Q27.656 971.412 27.8151 970.52 L33.8307 970.488 Z\" fill=\"#000000\" fill-rule=\"nonzero\" fill-opacity=\"1\" /><path clip-path=\"url(#clip300)\" d=\"M33.8307 944.835 Q33.2578 945.821 33.0032 946.999 Q32.7167 948.145 32.7167 949.545 Q32.7167 954.511 35.9632 957.184 Q39.1779 959.826 45.2253 959.826 L64.0042 959.826 L64.0042 965.714 L28.3562 965.714 L28.3562 959.826 L33.8944 959.826 Q30.6479 957.98 29.0883 955.02 Q27.4968 952.06 27.4968 947.827 Q27.4968 947.222 27.5923 946.49 Q27.656 945.758 27.8151 944.867 L33.8307 944.835 Z\" fill=\"#000000\" fill-rule=\"nonzero\" fill-opacity=\"1\" /><path clip-path=\"url(#clip300)\" d=\"M44.7161 909.632 L47.5806 909.632 L47.5806 936.559 Q53.6281 936.177 56.8109 932.931 Q59.9619 929.652 59.9619 923.828 Q59.9619 920.454 59.1344 917.303 Q58.3069 914.12 56.6518 911.001 L62.1899 911.001 Q63.5267 914.152 64.227 917.462 Q64.9272 920.772 64.9272 924.178 Q64.9272 932.708 59.9619 937.705 Q54.9967 942.67 46.5303 942.67 Q37.7774 942.67 32.6531 937.96 Q27.4968 933.217 27.4968 925.196 Q27.4968 918.003 32.1438 913.834 Q36.7589 909.632 44.7161 909.632 M42.9973 915.489 Q38.1912 915.552 35.3266 918.194 Q32.4621 920.804 32.4621 925.133 Q32.4621 930.034 35.2312 932.994 Q38.0002 935.923 43.0292 936.368 L42.9973 915.489 Z\" fill=\"#000000\" fill-rule=\"nonzero\" fill-opacity=\"1\" /><path clip-path=\"url(#clip300)\" d=\"M33.7671 876.562 L14.479 876.562 L14.479 870.706 L64.0042 870.706 L64.0042 876.562 L58.657 876.562 Q61.8398 878.409 63.3994 881.241 Q64.9272 884.042 64.9272 887.989 Q64.9272 894.45 59.771 898.524 Q54.6147 902.566 46.212 902.566 Q37.8093 902.566 32.6531 898.524 Q27.4968 894.45 27.4968 887.989 Q27.4968 884.042 29.0564 881.241 Q30.5842 878.409 33.7671 876.562 M46.212 896.519 Q52.6732 896.519 56.3653 893.877 Q60.0256 891.204 60.0256 886.557 Q60.0256 881.91 56.3653 879.236 Q52.6732 876.562 46.212 876.562 Q39.7508 876.562 36.0905 879.236 Q32.3984 881.91 32.3984 886.557 Q32.3984 891.204 36.0905 893.877 Q39.7508 896.519 46.212 896.519 Z\" fill=\"#000000\" fill-rule=\"nonzero\" fill-opacity=\"1\" /><path clip-path=\"url(#clip300)\" d=\"M33.8307 817.266 Q33.2578 818.253 33.0032 819.43 Q32.7167 820.576 32.7167 821.977 Q32.7167 826.942 35.9632 829.615 Q39.1779 832.257 45.2253 832.257 L64.0042 832.257 L64.0042 838.145 L28.3562 838.145 L28.3562 832.257 L33.8944 832.257 Q30.6479 830.411 29.0883 827.451 Q27.4968 824.491 27.4968 820.258 Q27.4968 819.653 27.5923 818.921 Q27.656 818.189 27.8151 817.298 L33.8307 817.266 Z\" fill=\"#000000\" fill-rule=\"nonzero\" fill-opacity=\"1\" /><path clip-path=\"url(#clip300)\" d=\"M46.0847 794.922 Q46.0847 802.02 47.7079 804.757 Q49.3312 807.495 53.2461 807.495 Q56.3653 807.495 58.2114 805.458 Q60.0256 803.389 60.0256 799.856 Q60.0256 794.986 56.5881 792.058 Q53.1188 789.098 47.3897 789.098 L46.0847 789.098 L46.0847 794.922 M43.6657 783.241 L64.0042 783.241 L64.0042 789.098 L58.5933 789.098 Q61.8398 791.103 63.3994 794.095 Q64.9272 797.087 64.9272 801.415 Q64.9272 806.89 61.8716 810.136 Q58.7843 813.351 53.6281 813.351 Q47.6125 813.351 44.5569 809.341 Q41.5014 805.298 41.5014 797.309 L41.5014 789.098 L40.9285 789.098 Q36.8862 789.098 34.6901 791.771 Q32.4621 794.413 32.4621 799.219 Q32.4621 802.275 33.1941 805.171 Q33.9262 808.067 35.3903 810.741 L29.9795 810.741 Q28.7381 807.526 28.1334 804.503 Q27.4968 801.479 27.4968 798.614 Q27.4968 790.88 31.5072 787.061 Q35.5176 783.241 43.6657 783.241 Z\" fill=\"#000000\" fill-rule=\"nonzero\" fill-opacity=\"1\" /><path clip-path=\"url(#clip300)\" d=\"M42.4881 741.546 L64.0042 741.546 L64.0042 747.402 L42.679 747.402 Q37.6183 747.402 35.1038 749.376 Q32.5894 751.349 32.5894 755.296 Q32.5894 760.038 35.6131 762.775 Q38.6368 765.513 43.8567 765.513 L64.0042 765.513 L64.0042 771.401 L28.3562 771.401 L28.3562 765.513 L33.8944 765.513 Q30.6797 763.412 29.0883 760.579 Q27.4968 757.715 27.4968 753.991 Q27.4968 747.848 31.3163 744.697 Q35.1038 741.546 42.4881 741.546 Z\" fill=\"#000000\" fill-rule=\"nonzero\" fill-opacity=\"1\" /><path clip-path=\"url(#clip300)\" d=\"M14.479 730.088 L14.479 724.199 L43.7294 724.199 L28.3562 706.725 L28.3562 699.246 L45.0344 718.152 L64.0042 698.45 L64.0042 706.089 L46.5939 724.199 L64.0042 724.199 L64.0042 730.088 L14.479 730.088 Z\" fill=\"#000000\" fill-rule=\"nonzero\" fill-opacity=\"1\" /><path clip-path=\"url(#clip300)\" d=\"M28.3562 692.116 L28.3562 686.26 L64.0042 686.26 L64.0042 692.116 L28.3562 692.116 M14.479 692.116 L14.479 686.26 L21.895 686.26 L21.895 692.116 L14.479 692.116 Z\" fill=\"#000000\" fill-rule=\"nonzero\" fill-opacity=\"1\" /><path clip-path=\"url(#clip300)\" d=\"M42.4881 644.373 L64.0042 644.373 L64.0042 650.23 L42.679 650.23 Q37.6183 650.23 35.1038 652.203 Q32.5894 654.177 32.5894 658.123 Q32.5894 662.866 35.6131 665.603 Q38.6368 668.34 43.8567 668.34 L64.0042 668.34 L64.0042 674.228 L28.3562 674.228 L28.3562 668.34 L33.8944 668.34 Q30.6797 666.24 29.0883 663.407 Q27.4968 660.542 27.4968 656.818 Q27.4968 650.675 31.3163 647.524 Q35.1038 644.373 42.4881 644.373 Z\" fill=\"#000000\" fill-rule=\"nonzero\" fill-opacity=\"1\" /><path clip-path=\"url(#clip300)\" d=\"M45.7664 609.235 Q39.4007 609.235 35.8996 611.876 Q32.3984 614.486 32.3984 619.229 Q32.3984 623.939 35.8996 626.581 Q39.4007 629.191 45.7664 629.191 Q52.1003 629.191 55.6014 626.581 Q59.1026 623.939 59.1026 619.229 Q59.1026 614.486 55.6014 611.876 Q52.1003 609.235 45.7664 609.235 M59.58 603.378 Q68.683 603.378 73.1071 607.42 Q77.5631 611.463 77.5631 619.802 Q77.5631 622.889 77.0857 625.626 Q76.6401 628.364 75.6852 630.942 L69.9879 630.942 Q71.3884 628.364 72.0568 625.849 Q72.7252 623.335 72.7252 620.725 Q72.7252 614.964 69.7015 612.099 Q66.7096 609.235 60.6303 609.235 L57.7339 609.235 Q60.885 611.049 62.4446 613.882 Q64.0042 616.714 64.0042 620.661 Q64.0042 627.218 59.0071 631.228 Q54.01 635.239 45.7664 635.239 Q37.491 635.239 32.4939 631.228 Q27.4968 627.218 27.4968 620.661 Q27.4968 616.714 29.0564 613.882 Q30.616 611.049 33.7671 609.235 L28.3562 609.235 L28.3562 603.378 L59.58 603.378 Z\" fill=\"#000000\" fill-rule=\"nonzero\" fill-opacity=\"1\" /><path clip-path=\"url(#clip300)\" d=\"M14.479 571.136 L14.479 557.641 L19.0304 557.641 L19.0304 565.279 L68.0464 565.279 L68.0464 557.641 L72.5979 557.641 L72.5979 571.136 L14.479 571.136 Z\" fill=\"#000000\" fill-rule=\"nonzero\" fill-opacity=\"1\" /><path clip-path=\"url(#clip300)\" d=\"M29.4065 522.438 L34.9447 522.438 Q33.6716 524.921 33.035 527.594 Q32.3984 530.268 32.3984 533.133 Q32.3984 537.493 33.7352 539.689 Q35.072 541.854 37.7456 541.854 Q39.7826 541.854 40.9603 540.294 Q42.1061 538.734 43.1565 534.024 L43.6021 532.019 Q44.9389 525.78 47.3897 523.17 Q49.8086 520.529 54.1691 520.529 Q59.1344 520.529 62.0308 524.475 Q64.9272 528.39 64.9272 535.265 Q64.9272 538.13 64.3543 541.249 Q63.8132 544.336 62.6992 547.774 L56.6518 547.774 Q58.3387 544.527 59.198 541.376 Q60.0256 538.225 60.0256 535.138 Q60.0256 531 58.6251 528.772 Q57.1929 526.544 54.6147 526.544 Q52.2276 526.544 50.9545 528.167 Q49.6813 529.759 48.5037 535.201 L48.0262 537.238 Q46.8804 542.681 44.5251 545.1 Q42.138 547.519 38.0002 547.519 Q32.9713 547.519 30.2341 543.954 Q27.4968 540.39 27.4968 533.833 Q27.4968 530.586 27.9743 527.722 Q28.4517 524.857 29.4065 522.438 Z\" fill=\"#000000\" fill-rule=\"nonzero\" fill-opacity=\"1\" /><path clip-path=\"url(#clip300)\" d=\"M42.4881 481.57 L64.0042 481.57 L64.0042 487.427 L42.679 487.427 Q37.6183 487.427 35.1038 489.4 Q32.5894 491.374 32.5894 495.32 Q32.5894 500.063 35.6131 502.8 Q38.6368 505.537 43.8567 505.537 L64.0042 505.537 L64.0042 511.426 L14.479 511.426 L14.479 505.537 L33.8944 505.537 Q30.6797 503.437 29.0883 500.604 Q27.4968 497.739 27.4968 494.015 Q27.4968 487.872 31.3163 484.721 Q35.1038 481.57 42.4881 481.57 Z\" fill=\"#000000\" fill-rule=\"nonzero\" fill-opacity=\"1\" /><path clip-path=\"url(#clip300)\" d=\"M32.4621 456.076 Q32.4621 460.786 36.1542 463.524 Q39.8145 466.261 46.212 466.261 Q52.6095 466.261 56.3017 463.555 Q59.9619 460.818 59.9619 456.076 Q59.9619 451.397 56.2698 448.66 Q52.5777 445.922 46.212 445.922 Q39.8781 445.922 36.186 448.66 Q32.4621 451.397 32.4621 456.076 M27.4968 456.076 Q27.4968 448.437 32.4621 444.076 Q37.4273 439.716 46.212 439.716 Q54.9649 439.716 59.9619 444.076 Q64.9272 448.437 64.9272 456.076 Q64.9272 463.746 59.9619 468.107 Q54.9649 472.436 46.212 472.436 Q37.4273 472.436 32.4621 468.107 Q27.4968 463.746 27.4968 456.076 Z\" fill=\"#000000\" fill-rule=\"nonzero\" fill-opacity=\"1\" /><path clip-path=\"url(#clip300)\" d=\"M18.2347 424.215 L28.3562 424.215 L28.3562 412.152 L32.9077 412.152 L32.9077 424.215 L52.2594 424.215 Q56.6199 424.215 57.8613 423.038 Q59.1026 421.828 59.1026 418.168 L59.1026 412.152 L64.0042 412.152 L64.0042 418.168 Q64.0042 424.947 61.4897 427.526 Q58.9434 430.104 52.2594 430.104 L32.9077 430.104 L32.9077 434.401 L28.3562 434.401 L28.3562 430.104 L18.2347 430.104 L18.2347 424.215 Z\" fill=\"#000000\" fill-rule=\"nonzero\" fill-opacity=\"1\" /><path clip-path=\"url(#clip300)\" d=\"M29.4065 381.724 L34.9447 381.724 Q33.6716 384.207 33.035 386.881 Q32.3984 389.554 32.3984 392.419 Q32.3984 396.779 33.7352 398.975 Q35.072 401.14 37.7456 401.14 Q39.7826 401.14 40.9603 399.58 Q42.1061 398.02 43.1565 393.31 L43.6021 391.305 Q44.9389 385.066 47.3897 382.456 Q49.8086 379.815 54.1691 379.815 Q59.1344 379.815 62.0308 383.761 Q64.9272 387.676 64.9272 394.551 Q64.9272 397.416 64.3543 400.535 Q63.8132 403.622 62.6992 407.06 L56.6518 407.06 Q58.3387 403.813 59.198 400.662 Q60.0256 397.511 60.0256 394.424 Q60.0256 390.286 58.6251 388.058 Q57.1929 385.83 54.6147 385.83 Q52.2276 385.83 50.9545 387.453 Q49.6813 389.045 48.5037 394.488 L48.0262 396.525 Q46.8804 401.967 44.5251 404.386 Q42.138 406.805 38.0002 406.805 Q32.9713 406.805 30.2341 403.24 Q27.4968 399.676 27.4968 393.119 Q27.4968 389.872 27.9743 387.008 Q28.4517 384.143 29.4065 381.724 Z\" fill=\"#000000\" fill-rule=\"nonzero\" fill-opacity=\"1\" /><path clip-path=\"url(#clip300)\" d=\"M14.479 356.803 L72.5979 356.803 L72.5979 370.298 L68.0464 370.298 L68.0464 362.691 L19.0304 362.691 L19.0304 370.298 L14.479 370.298 L14.479 356.803 Z\" fill=\"#000000\" fill-rule=\"nonzero\" fill-opacity=\"1\" /><polyline clip-path=\"url(#clip302)\" style=\"stroke:#e26f46; stroke-linecap:round; stroke-linejoin:round; stroke-width:4; stroke-opacity:1; fill:none\" points=\"264.778,1247.6 371.471,1384.24 478.164,1042.65 584.857,906.008 691.55,1315.92 798.242,1179.28 904.935,974.327 1011.63,1110.96 1118.32,222.823 1225.01,427.778 1331.71,769.371 1438.4,632.734 1545.09,837.69 1651.78,496.097 1758.48,564.416 1865.17,154.504 1971.86,291.141 2078.56,359.46 2185.25,86.1857 2291.94,701.053 \"/>\n",
       "<circle clip-path=\"url(#clip302)\" cx=\"264.778\" cy=\"1247.6\" r=\"14.4\" fill=\"#e26f46\" fill-rule=\"evenodd\" fill-opacity=\"1\" stroke=\"#000000\" stroke-opacity=\"1\" stroke-width=\"3.2\"/>\n",
       "<circle clip-path=\"url(#clip302)\" cx=\"371.471\" cy=\"1384.24\" r=\"14.4\" fill=\"#e26f46\" fill-rule=\"evenodd\" fill-opacity=\"1\" stroke=\"#000000\" stroke-opacity=\"1\" stroke-width=\"3.2\"/>\n",
       "<circle clip-path=\"url(#clip302)\" cx=\"478.164\" cy=\"1042.65\" r=\"14.4\" fill=\"#e26f46\" fill-rule=\"evenodd\" fill-opacity=\"1\" stroke=\"#000000\" stroke-opacity=\"1\" stroke-width=\"3.2\"/>\n",
       "<circle clip-path=\"url(#clip302)\" cx=\"584.857\" cy=\"906.008\" r=\"14.4\" fill=\"#e26f46\" fill-rule=\"evenodd\" fill-opacity=\"1\" stroke=\"#000000\" stroke-opacity=\"1\" stroke-width=\"3.2\"/>\n",
       "<circle clip-path=\"url(#clip302)\" cx=\"691.55\" cy=\"1315.92\" r=\"14.4\" fill=\"#e26f46\" fill-rule=\"evenodd\" fill-opacity=\"1\" stroke=\"#000000\" stroke-opacity=\"1\" stroke-width=\"3.2\"/>\n",
       "<circle clip-path=\"url(#clip302)\" cx=\"798.242\" cy=\"1179.28\" r=\"14.4\" fill=\"#e26f46\" fill-rule=\"evenodd\" fill-opacity=\"1\" stroke=\"#000000\" stroke-opacity=\"1\" stroke-width=\"3.2\"/>\n",
       "<circle clip-path=\"url(#clip302)\" cx=\"904.935\" cy=\"974.327\" r=\"14.4\" fill=\"#e26f46\" fill-rule=\"evenodd\" fill-opacity=\"1\" stroke=\"#000000\" stroke-opacity=\"1\" stroke-width=\"3.2\"/>\n",
       "<circle clip-path=\"url(#clip302)\" cx=\"1011.63\" cy=\"1110.96\" r=\"14.4\" fill=\"#e26f46\" fill-rule=\"evenodd\" fill-opacity=\"1\" stroke=\"#000000\" stroke-opacity=\"1\" stroke-width=\"3.2\"/>\n",
       "<circle clip-path=\"url(#clip302)\" cx=\"1118.32\" cy=\"222.823\" r=\"14.4\" fill=\"#e26f46\" fill-rule=\"evenodd\" fill-opacity=\"1\" stroke=\"#000000\" stroke-opacity=\"1\" stroke-width=\"3.2\"/>\n",
       "<circle clip-path=\"url(#clip302)\" cx=\"1225.01\" cy=\"427.778\" r=\"14.4\" fill=\"#e26f46\" fill-rule=\"evenodd\" fill-opacity=\"1\" stroke=\"#000000\" stroke-opacity=\"1\" stroke-width=\"3.2\"/>\n",
       "<circle clip-path=\"url(#clip302)\" cx=\"1331.71\" cy=\"769.371\" r=\"14.4\" fill=\"#e26f46\" fill-rule=\"evenodd\" fill-opacity=\"1\" stroke=\"#000000\" stroke-opacity=\"1\" stroke-width=\"3.2\"/>\n",
       "<circle clip-path=\"url(#clip302)\" cx=\"1438.4\" cy=\"632.734\" r=\"14.4\" fill=\"#e26f46\" fill-rule=\"evenodd\" fill-opacity=\"1\" stroke=\"#000000\" stroke-opacity=\"1\" stroke-width=\"3.2\"/>\n",
       "<circle clip-path=\"url(#clip302)\" cx=\"1545.09\" cy=\"837.69\" r=\"14.4\" fill=\"#e26f46\" fill-rule=\"evenodd\" fill-opacity=\"1\" stroke=\"#000000\" stroke-opacity=\"1\" stroke-width=\"3.2\"/>\n",
       "<circle clip-path=\"url(#clip302)\" cx=\"1651.78\" cy=\"496.097\" r=\"14.4\" fill=\"#e26f46\" fill-rule=\"evenodd\" fill-opacity=\"1\" stroke=\"#000000\" stroke-opacity=\"1\" stroke-width=\"3.2\"/>\n",
       "<circle clip-path=\"url(#clip302)\" cx=\"1758.48\" cy=\"564.416\" r=\"14.4\" fill=\"#e26f46\" fill-rule=\"evenodd\" fill-opacity=\"1\" stroke=\"#000000\" stroke-opacity=\"1\" stroke-width=\"3.2\"/>\n",
       "<circle clip-path=\"url(#clip302)\" cx=\"1865.17\" cy=\"154.504\" r=\"14.4\" fill=\"#e26f46\" fill-rule=\"evenodd\" fill-opacity=\"1\" stroke=\"#000000\" stroke-opacity=\"1\" stroke-width=\"3.2\"/>\n",
       "<circle clip-path=\"url(#clip302)\" cx=\"1971.86\" cy=\"291.141\" r=\"14.4\" fill=\"#e26f46\" fill-rule=\"evenodd\" fill-opacity=\"1\" stroke=\"#000000\" stroke-opacity=\"1\" stroke-width=\"3.2\"/>\n",
       "<circle clip-path=\"url(#clip302)\" cx=\"2078.56\" cy=\"359.46\" r=\"14.4\" fill=\"#e26f46\" fill-rule=\"evenodd\" fill-opacity=\"1\" stroke=\"#000000\" stroke-opacity=\"1\" stroke-width=\"3.2\"/>\n",
       "<circle clip-path=\"url(#clip302)\" cx=\"2185.25\" cy=\"86.1857\" r=\"14.4\" fill=\"#e26f46\" fill-rule=\"evenodd\" fill-opacity=\"1\" stroke=\"#000000\" stroke-opacity=\"1\" stroke-width=\"3.2\"/>\n",
       "<circle clip-path=\"url(#clip302)\" cx=\"2291.94\" cy=\"701.053\" r=\"14.4\" fill=\"#e26f46\" fill-rule=\"evenodd\" fill-opacity=\"1\" stroke=\"#000000\" stroke-opacity=\"1\" stroke-width=\"3.2\"/>\n",
       "<polyline clip-path=\"url(#clip302)\" style=\"stroke:#000000; stroke-linecap:round; stroke-linejoin:round; stroke-width:4; stroke-opacity:1; fill:none\" stroke-dasharray=\"16, 10\" points=\"264.778,1384.24 285.706,1370.84 408.279,1292.35 465.299,1255.84 541.728,1206.9 604.882,1166.46 663.609,1128.86 737.331,1081.65 803.461,1039.3 879.155,990.835 935.736,954.604 1008.1,908.264 1074.16,865.97 1149.33,817.834 1208.92,779.675 1282.96,732.268 1339.66,695.961 1419.6,644.775 1479.33,606.524 1547.27,563.024 1614.54,519.944 1688.56,472.548 1745.1,436.346 1816.44,390.662 1882.43,348.409 1950.48,304.833 2019.46,260.663 2091.49,214.541 2148.23,178.209 2277.44,95.4688 2291.94,86.1857 \"/>\n",
       "<path clip-path=\"url(#clip300)\" d=\"M275.59 248.629 L728.454 248.629 L728.454 93.1086 L275.59 93.1086  Z\" fill=\"#ffffff\" fill-rule=\"evenodd\" fill-opacity=\"1\"/>\n",
       "<polyline clip-path=\"url(#clip300)\" style=\"stroke:#000000; stroke-linecap:round; stroke-linejoin:round; stroke-width:4; stroke-opacity:1; fill:none\" points=\"275.59,248.629 728.454,248.629 728.454,93.1086 275.59,93.1086 275.59,248.629 \"/>\n",
       "<circle clip-path=\"url(#clip300)\" cx=\"371.092\" cy=\"144.949\" r=\"20.48\" fill=\"#e26f46\" fill-rule=\"evenodd\" fill-opacity=\"1\" stroke=\"#000000\" stroke-opacity=\"1\" stroke-width=\"4.55111\"/>\n",
       "<path clip-path=\"url(#clip300)\" d=\"M466.594 127.669 L471.27 127.669 L471.27 162.229 L466.594 162.229 L466.594 127.669 Z\" fill=\"#000000\" fill-rule=\"nonzero\" fill-opacity=\"1\" /><path clip-path=\"url(#clip300)\" d=\"M484.603 128.942 L484.603 136.303 L493.376 136.303 L493.376 139.613 L484.603 139.613 L484.603 153.687 Q484.603 156.858 485.459 157.761 Q486.339 158.664 489.001 158.664 L493.376 158.664 L493.376 162.229 L489.001 162.229 Q484.071 162.229 482.196 160.4 Q480.321 158.548 480.321 153.687 L480.321 139.613 L477.196 139.613 L477.196 136.303 L480.321 136.303 L480.321 128.942 L484.603 128.942 Z\" fill=\"#000000\" fill-rule=\"nonzero\" fill-opacity=\"1\" /><path clip-path=\"url(#clip300)\" d=\"M510.76 149.196 Q505.598 149.196 503.607 150.377 Q501.617 151.557 501.617 154.405 Q501.617 156.673 503.098 158.016 Q504.603 159.335 507.172 159.335 Q510.714 159.335 512.843 156.835 Q514.996 154.312 514.996 150.145 L514.996 149.196 L510.76 149.196 M519.256 147.437 L519.256 162.229 L514.996 162.229 L514.996 158.293 Q513.538 160.655 511.362 161.789 Q509.186 162.9 506.038 162.9 Q502.057 162.9 499.695 160.678 Q497.357 158.432 497.357 154.682 Q497.357 150.307 500.274 148.085 Q503.214 145.863 509.024 145.863 L514.996 145.863 L514.996 145.446 Q514.996 142.507 513.052 140.909 Q511.131 139.289 507.635 139.289 Q505.413 139.289 503.307 139.821 Q501.2 140.354 499.256 141.419 L499.256 137.483 Q501.594 136.581 503.793 136.141 Q505.992 135.678 508.075 135.678 Q513.7 135.678 516.478 138.594 Q519.256 141.511 519.256 147.437 Z\" fill=\"#000000\" fill-rule=\"nonzero\" fill-opacity=\"1\" /><path clip-path=\"url(#clip300)\" d=\"M528.029 126.21 L532.288 126.21 L532.288 162.229 L528.029 162.229 L528.029 126.21 Z\" fill=\"#000000\" fill-rule=\"nonzero\" fill-opacity=\"1\" /><path clip-path=\"url(#clip300)\" d=\"M551.987 164.636 Q550.181 169.266 548.468 170.678 Q546.755 172.09 543.885 172.09 L540.482 172.09 L540.482 168.525 L542.982 168.525 Q544.741 168.525 545.714 167.692 Q546.686 166.858 547.866 163.756 L548.63 161.812 L538.144 136.303 L542.658 136.303 L550.76 156.581 L558.862 136.303 L563.376 136.303 L551.987 164.636 Z\" fill=\"#000000\" fill-rule=\"nonzero\" fill-opacity=\"1\" /><path clip-path=\"url(#clip300)\" d=\"M600.852 137.067 L600.852 141.094 Q599.047 140.169 597.102 139.706 Q595.158 139.243 593.075 139.243 Q589.903 139.243 588.306 140.215 Q586.732 141.187 586.732 143.131 Q586.732 144.613 587.866 145.469 Q589 146.303 592.426 147.067 L593.885 147.391 Q598.422 148.363 600.32 150.145 Q602.241 151.905 602.241 155.076 Q602.241 158.687 599.371 160.793 Q596.524 162.9 591.524 162.9 Q589.44 162.9 587.172 162.483 Q584.926 162.09 582.426 161.28 L582.426 156.881 Q584.788 158.108 587.079 158.733 Q589.371 159.335 591.616 159.335 Q594.625 159.335 596.246 158.317 Q597.866 157.275 597.866 155.4 Q597.866 153.664 596.686 152.738 Q595.528 151.812 591.57 150.956 L590.088 150.608 Q586.13 149.775 584.371 148.062 Q582.612 146.326 582.612 143.317 Q582.612 139.659 585.204 137.669 Q587.797 135.678 592.565 135.678 Q594.926 135.678 597.01 136.025 Q599.093 136.372 600.852 137.067 Z\" fill=\"#000000\" fill-rule=\"nonzero\" fill-opacity=\"1\" /><path clip-path=\"url(#clip300)\" d=\"M630.574 146.581 L630.574 162.229 L626.315 162.229 L626.315 146.719 Q626.315 143.039 624.88 141.21 Q623.445 139.382 620.574 139.382 Q617.125 139.382 615.135 141.581 Q613.144 143.78 613.144 147.576 L613.144 162.229 L608.862 162.229 L608.862 126.21 L613.144 126.21 L613.144 140.331 Q614.672 137.993 616.732 136.835 Q618.815 135.678 621.523 135.678 Q625.991 135.678 628.283 138.456 Q630.574 141.21 630.574 146.581 Z\" fill=\"#000000\" fill-rule=\"nonzero\" fill-opacity=\"1\" /><path clip-path=\"url(#clip300)\" d=\"M649.116 139.289 Q645.69 139.289 643.699 141.974 Q641.709 144.636 641.709 149.289 Q641.709 153.942 643.676 156.627 Q645.667 159.289 649.116 159.289 Q652.519 159.289 654.509 156.604 Q656.5 153.918 656.5 149.289 Q656.5 144.682 654.509 141.997 Q652.519 139.289 649.116 139.289 M649.116 135.678 Q654.671 135.678 657.843 139.289 Q661.014 142.9 661.014 149.289 Q661.014 155.655 657.843 159.289 Q654.671 162.9 649.116 162.9 Q643.537 162.9 640.366 159.289 Q637.218 155.655 637.218 149.289 Q637.218 142.9 640.366 139.289 Q643.537 135.678 649.116 135.678 Z\" fill=\"#000000\" fill-rule=\"nonzero\" fill-opacity=\"1\" /><path clip-path=\"url(#clip300)\" d=\"M672.287 128.942 L672.287 136.303 L681.06 136.303 L681.06 139.613 L672.287 139.613 L672.287 153.687 Q672.287 156.858 673.144 157.761 Q674.023 158.664 676.685 158.664 L681.06 158.664 L681.06 162.229 L676.685 162.229 Q671.755 162.229 669.88 160.4 Q668.005 158.548 668.005 153.687 L668.005 139.613 L664.88 139.613 L664.88 136.303 L668.005 136.303 L668.005 128.942 L672.287 128.942 Z\" fill=\"#000000\" fill-rule=\"nonzero\" fill-opacity=\"1\" /><path clip-path=\"url(#clip300)\" d=\"M703.19 137.067 L703.19 141.094 Q701.384 140.169 699.44 139.706 Q697.495 139.243 695.412 139.243 Q692.241 139.243 690.643 140.215 Q689.069 141.187 689.069 143.131 Q689.069 144.613 690.204 145.469 Q691.338 146.303 694.764 147.067 L696.222 147.391 Q700.759 148.363 702.657 150.145 Q704.579 151.905 704.579 155.076 Q704.579 158.687 701.708 160.793 Q698.861 162.9 693.861 162.9 Q691.778 162.9 689.509 162.483 Q687.264 162.09 684.764 161.28 L684.764 156.881 Q687.125 158.108 689.417 158.733 Q691.708 159.335 693.954 159.335 Q696.963 159.335 698.583 158.317 Q700.204 157.275 700.204 155.4 Q700.204 153.664 699.023 152.738 Q697.866 151.812 693.907 150.956 L692.426 150.608 Q688.468 149.775 686.708 148.062 Q684.949 146.326 684.949 143.317 Q684.949 139.659 687.542 137.669 Q690.134 135.678 694.903 135.678 Q697.264 135.678 699.347 136.025 Q701.43 136.372 703.19 137.067 Z\" fill=\"#000000\" fill-rule=\"nonzero\" fill-opacity=\"1\" /><polyline clip-path=\"url(#clip300)\" style=\"stroke:#000000; stroke-linecap:round; stroke-linejoin:round; stroke-width:4; stroke-opacity:1; fill:none\" stroke-dasharray=\"16, 10\" points=\"299.465,196.789 442.718,196.789 \"/>\n",
       "<path clip-path=\"url(#clip300)\" d=\"M466.594 188.143 L470.853 188.143 L470.853 214.069 L466.594 214.069 L466.594 188.143 M466.594 178.05 L470.853 178.05 L470.853 183.444 L466.594 183.444 L466.594 178.05 Z\" fill=\"#000000\" fill-rule=\"nonzero\" fill-opacity=\"1\" /><path clip-path=\"url(#clip300)\" d=\"M496.825 192.078 L496.825 178.05 L501.084 178.05 L501.084 214.069 L496.825 214.069 L496.825 210.18 Q495.482 212.495 493.422 213.629 Q491.385 214.74 488.515 214.74 Q483.816 214.74 480.853 210.99 Q477.913 207.24 477.913 201.129 Q477.913 195.018 480.853 191.268 Q483.816 187.518 488.515 187.518 Q491.385 187.518 493.422 188.652 Q495.482 189.763 496.825 192.078 M482.311 201.129 Q482.311 205.828 484.233 208.513 Q486.177 211.175 489.557 211.175 Q492.936 211.175 494.881 208.513 Q496.825 205.828 496.825 201.129 Q496.825 196.43 494.881 193.768 Q492.936 191.083 489.557 191.083 Q486.177 191.083 484.233 193.768 Q482.311 196.43 482.311 201.129 Z\" fill=\"#000000\" fill-rule=\"nonzero\" fill-opacity=\"1\" /><path clip-path=\"url(#clip300)\" d=\"M532.033 200.041 L532.033 202.124 L512.45 202.124 Q512.728 206.522 515.089 208.837 Q517.473 211.129 521.709 211.129 Q524.163 211.129 526.455 210.527 Q528.769 209.925 531.038 208.721 L531.038 212.749 Q528.746 213.721 526.339 214.231 Q523.931 214.74 521.455 214.74 Q515.251 214.74 511.617 211.129 Q508.006 207.518 508.006 201.36 Q508.006 194.995 511.431 191.268 Q514.881 187.518 520.714 187.518 Q525.945 187.518 528.978 190.897 Q532.033 194.254 532.033 200.041 M527.774 198.791 Q527.728 195.296 525.806 193.212 Q523.908 191.129 520.76 191.129 Q517.195 191.129 515.043 193.143 Q512.913 195.157 512.589 198.814 L527.774 198.791 Z\" fill=\"#000000\" fill-rule=\"nonzero\" fill-opacity=\"1\" /><path clip-path=\"url(#clip300)\" d=\"M550.806 201.036 Q545.644 201.036 543.654 202.217 Q541.663 203.397 541.663 206.245 Q541.663 208.513 543.144 209.856 Q544.649 211.175 547.218 211.175 Q550.76 211.175 552.89 208.675 Q555.042 206.152 555.042 201.985 L555.042 201.036 L550.806 201.036 M559.302 199.277 L559.302 214.069 L555.042 214.069 L555.042 210.133 Q553.584 212.495 551.408 213.629 Q549.232 214.74 546.084 214.74 Q542.103 214.74 539.742 212.518 Q537.404 210.272 537.404 206.522 Q537.404 202.147 540.32 199.925 Q543.26 197.703 549.07 197.703 L555.042 197.703 L555.042 197.286 Q555.042 194.347 553.098 192.749 Q551.177 191.129 547.681 191.129 Q545.459 191.129 543.353 191.661 Q541.246 192.194 539.302 193.259 L539.302 189.323 Q541.64 188.421 543.839 187.981 Q546.038 187.518 548.121 187.518 Q553.746 187.518 556.524 190.434 Q559.302 193.351 559.302 199.277 Z\" fill=\"#000000\" fill-rule=\"nonzero\" fill-opacity=\"1\" /><path clip-path=\"url(#clip300)\" d=\"M568.075 178.05 L572.334 178.05 L572.334 214.069 L568.075 214.069 L568.075 178.05 Z\" fill=\"#000000\" fill-rule=\"nonzero\" fill-opacity=\"1\" /></svg>\n"
      ],
      "text/html": [
       "<?xml version=\"1.0\" encoding=\"utf-8\"?>\n",
       "<svg xmlns=\"http://www.w3.org/2000/svg\" xmlns:xlink=\"http://www.w3.org/1999/xlink\" width=\"600\" height=\"400\" viewBox=\"0 0 2400 1600\">\n",
       "<defs>\n",
       "  <clipPath id=\"clip350\">\n",
       "    <rect x=\"0\" y=\"0\" width=\"2400\" height=\"1600\"/>\n",
       "  </clipPath>\n",
       "</defs>\n",
       "<path clip-path=\"url(#clip350)\" d=\"M0 1600 L2400 1600 L2400 0 L0 0  Z\" fill=\"#ffffff\" fill-rule=\"evenodd\" fill-opacity=\"1\"/>\n",
       "<defs>\n",
       "  <clipPath id=\"clip351\">\n",
       "    <rect x=\"480\" y=\"0\" width=\"1681\" height=\"1600\"/>\n",
       "  </clipPath>\n",
       "</defs>\n",
       "<path clip-path=\"url(#clip350)\" d=\"M203.964 1423.18 L2352.76 1423.18 L2352.76 47.2441 L203.964 47.2441  Z\" fill=\"#ffffff\" fill-rule=\"evenodd\" fill-opacity=\"1\"/>\n",
       "<defs>\n",
       "  <clipPath id=\"clip352\">\n",
       "    <rect x=\"203\" y=\"47\" width=\"2150\" height=\"1377\"/>\n",
       "  </clipPath>\n",
       "</defs>\n",
       "<polyline clip-path=\"url(#clip352)\" style=\"stroke:#000000; stroke-linecap:round; stroke-linejoin:round; stroke-width:2; stroke-opacity:0.1; fill:none\" points=\"691.55,1423.18 691.55,47.2441 \"/>\n",
       "<polyline clip-path=\"url(#clip352)\" style=\"stroke:#000000; stroke-linecap:round; stroke-linejoin:round; stroke-width:2; stroke-opacity:0.1; fill:none\" points=\"1225.01,1423.18 1225.01,47.2441 \"/>\n",
       "<polyline clip-path=\"url(#clip352)\" style=\"stroke:#000000; stroke-linecap:round; stroke-linejoin:round; stroke-width:2; stroke-opacity:0.1; fill:none\" points=\"1758.48,1423.18 1758.48,47.2441 \"/>\n",
       "<polyline clip-path=\"url(#clip352)\" style=\"stroke:#000000; stroke-linecap:round; stroke-linejoin:round; stroke-width:2; stroke-opacity:0.1; fill:none\" points=\"2291.94,1423.18 2291.94,47.2441 \"/>\n",
       "<polyline clip-path=\"url(#clip352)\" style=\"stroke:#000000; stroke-linecap:round; stroke-linejoin:round; stroke-width:2; stroke-opacity:0.1; fill:none\" points=\"203.964,1110.96 2352.76,1110.96 \"/>\n",
       "<polyline clip-path=\"url(#clip352)\" style=\"stroke:#000000; stroke-linecap:round; stroke-linejoin:round; stroke-width:2; stroke-opacity:0.1; fill:none\" points=\"203.964,769.371 2352.76,769.371 \"/>\n",
       "<polyline clip-path=\"url(#clip352)\" style=\"stroke:#000000; stroke-linecap:round; stroke-linejoin:round; stroke-width:2; stroke-opacity:0.1; fill:none\" points=\"203.964,427.778 2352.76,427.778 \"/>\n",
       "<polyline clip-path=\"url(#clip352)\" style=\"stroke:#000000; stroke-linecap:round; stroke-linejoin:round; stroke-width:2; stroke-opacity:0.1; fill:none\" points=\"203.964,86.1857 2352.76,86.1857 \"/>\n",
       "<polyline clip-path=\"url(#clip350)\" style=\"stroke:#000000; stroke-linecap:round; stroke-linejoin:round; stroke-width:4; stroke-opacity:1; fill:none\" points=\"203.964,1423.18 2352.76,1423.18 \"/>\n",
       "<polyline clip-path=\"url(#clip350)\" style=\"stroke:#000000; stroke-linecap:round; stroke-linejoin:round; stroke-width:4; stroke-opacity:1; fill:none\" points=\"691.55,1423.18 691.55,1404.28 \"/>\n",
       "<polyline clip-path=\"url(#clip350)\" style=\"stroke:#000000; stroke-linecap:round; stroke-linejoin:round; stroke-width:4; stroke-opacity:1; fill:none\" points=\"1225.01,1423.18 1225.01,1404.28 \"/>\n",
       "<polyline clip-path=\"url(#clip350)\" style=\"stroke:#000000; stroke-linecap:round; stroke-linejoin:round; stroke-width:4; stroke-opacity:1; fill:none\" points=\"1758.48,1423.18 1758.48,1404.28 \"/>\n",
       "<polyline clip-path=\"url(#clip350)\" style=\"stroke:#000000; stroke-linecap:round; stroke-linejoin:round; stroke-width:4; stroke-opacity:1; fill:none\" points=\"2291.94,1423.18 2291.94,1404.28 \"/>\n",
       "<path clip-path=\"url(#clip350)\" d=\"M681.827 1451.02 L700.184 1451.02 L700.184 1454.96 L686.11 1454.96 L686.11 1463.43 Q687.128 1463.08 688.147 1462.92 Q689.165 1462.73 690.184 1462.73 Q695.971 1462.73 699.35 1465.9 Q702.73 1469.08 702.73 1474.49 Q702.73 1480.07 699.258 1483.17 Q695.786 1486.25 689.466 1486.25 Q687.29 1486.25 685.022 1485.88 Q682.776 1485.51 680.369 1484.77 L680.369 1480.07 Q682.452 1481.2 684.675 1481.76 Q686.897 1482.32 689.374 1482.32 Q693.378 1482.32 695.716 1480.21 Q698.054 1478.1 698.054 1474.49 Q698.054 1470.88 695.716 1468.77 Q693.378 1466.67 689.374 1466.67 Q687.499 1466.67 685.624 1467.08 Q683.772 1467.5 681.827 1468.38 L681.827 1451.02 Z\" fill=\"#000000\" fill-rule=\"nonzero\" fill-opacity=\"1\" /><path clip-path=\"url(#clip350)\" d=\"M1199.7 1481.64 L1207.34 1481.64 L1207.34 1455.28 L1199.03 1456.95 L1199.03 1452.69 L1207.29 1451.02 L1211.97 1451.02 L1211.97 1481.64 L1219.61 1481.64 L1219.61 1485.58 L1199.7 1485.58 L1199.7 1481.64 Z\" fill=\"#000000\" fill-rule=\"nonzero\" fill-opacity=\"1\" /><path clip-path=\"url(#clip350)\" d=\"M1239.05 1454.1 Q1235.44 1454.1 1233.61 1457.66 Q1231.81 1461.2 1231.81 1468.33 Q1231.81 1475.44 1233.61 1479.01 Q1235.44 1482.55 1239.05 1482.55 Q1242.69 1482.55 1244.49 1479.01 Q1246.32 1475.44 1246.32 1468.33 Q1246.32 1461.2 1244.49 1457.66 Q1242.69 1454.1 1239.05 1454.1 M1239.05 1450.39 Q1244.86 1450.39 1247.92 1455 Q1251 1459.58 1251 1468.33 Q1251 1477.06 1247.92 1481.67 Q1244.86 1486.25 1239.05 1486.25 Q1233.24 1486.25 1230.16 1481.67 Q1227.11 1477.06 1227.11 1468.33 Q1227.11 1459.58 1230.16 1455 Q1233.24 1450.39 1239.05 1450.39 Z\" fill=\"#000000\" fill-rule=\"nonzero\" fill-opacity=\"1\" /><path clip-path=\"url(#clip350)\" d=\"M1733.66 1481.64 L1741.3 1481.64 L1741.3 1455.28 L1732.99 1456.95 L1732.99 1452.69 L1741.26 1451.02 L1745.93 1451.02 L1745.93 1481.64 L1753.57 1481.64 L1753.57 1485.58 L1733.66 1485.58 L1733.66 1481.64 Z\" fill=\"#000000\" fill-rule=\"nonzero\" fill-opacity=\"1\" /><path clip-path=\"url(#clip350)\" d=\"M1763.06 1451.02 L1781.42 1451.02 L1781.42 1454.96 L1767.34 1454.96 L1767.34 1463.43 Q1768.36 1463.08 1769.38 1462.92 Q1770.4 1462.73 1771.42 1462.73 Q1777.2 1462.73 1780.58 1465.9 Q1783.96 1469.08 1783.96 1474.49 Q1783.96 1480.07 1780.49 1483.17 Q1777.02 1486.25 1770.7 1486.25 Q1768.52 1486.25 1766.25 1485.88 Q1764.01 1485.51 1761.6 1484.77 L1761.6 1480.07 Q1763.69 1481.2 1765.91 1481.76 Q1768.13 1482.32 1770.61 1482.32 Q1774.61 1482.32 1776.95 1480.21 Q1779.29 1478.1 1779.29 1474.49 Q1779.29 1470.88 1776.95 1468.77 Q1774.61 1466.67 1770.61 1466.67 Q1768.73 1466.67 1766.86 1467.08 Q1765 1467.5 1763.06 1468.38 L1763.06 1451.02 Z\" fill=\"#000000\" fill-rule=\"nonzero\" fill-opacity=\"1\" /><path clip-path=\"url(#clip350)\" d=\"M2270.71 1481.64 L2287.03 1481.64 L2287.03 1485.58 L2265.09 1485.58 L2265.09 1481.64 Q2267.75 1478.89 2272.33 1474.26 Q2276.94 1469.61 2278.12 1468.27 Q2280.37 1465.74 2281.25 1464.01 Q2282.15 1462.25 2282.15 1460.56 Q2282.15 1457.8 2280.2 1456.07 Q2278.28 1454.33 2275.18 1454.33 Q2272.98 1454.33 2270.53 1455.09 Q2268.1 1455.86 2265.32 1457.41 L2265.32 1452.69 Q2268.14 1451.55 2270.6 1450.97 Q2273.05 1450.39 2275.09 1450.39 Q2280.46 1450.39 2283.65 1453.08 Q2286.85 1455.77 2286.85 1460.26 Q2286.85 1462.39 2286.04 1464.31 Q2285.25 1466.2 2283.14 1468.8 Q2282.57 1469.47 2279.46 1472.69 Q2276.36 1475.88 2270.71 1481.64 Z\" fill=\"#000000\" fill-rule=\"nonzero\" fill-opacity=\"1\" /><path clip-path=\"url(#clip350)\" d=\"M2306.85 1454.1 Q2303.24 1454.1 2301.41 1457.66 Q2299.6 1461.2 2299.6 1468.33 Q2299.6 1475.44 2301.41 1479.01 Q2303.24 1482.55 2306.85 1482.55 Q2310.48 1482.55 2312.29 1479.01 Q2314.12 1475.44 2314.12 1468.33 Q2314.12 1461.2 2312.29 1457.66 Q2310.48 1454.1 2306.85 1454.1 M2306.85 1450.39 Q2312.66 1450.39 2315.71 1455 Q2318.79 1459.58 2318.79 1468.33 Q2318.79 1477.06 2315.71 1481.67 Q2312.66 1486.25 2306.85 1486.25 Q2301.04 1486.25 2297.96 1481.67 Q2294.9 1477.06 2294.9 1468.33 Q2294.9 1459.58 2297.96 1455 Q2301.04 1450.39 2306.85 1450.39 Z\" fill=\"#000000\" fill-rule=\"nonzero\" fill-opacity=\"1\" /><path clip-path=\"url(#clip350)\" d=\"M1091.83 1522.27 L1091.83 1532.4 L1103.89 1532.4 L1103.89 1536.95 L1091.83 1536.95 L1091.83 1556.3 Q1091.83 1560.66 1093.01 1561.9 Q1094.22 1563.14 1097.88 1563.14 L1103.89 1563.14 L1103.89 1568.04 L1097.88 1568.04 Q1091.1 1568.04 1088.52 1565.53 Q1085.94 1562.98 1085.94 1556.3 L1085.94 1536.95 L1081.64 1536.95 L1081.64 1532.4 L1085.94 1532.4 L1085.94 1522.27 L1091.83 1522.27 Z\" fill=\"#000000\" fill-rule=\"nonzero\" fill-opacity=\"1\" /><path clip-path=\"url(#clip350)\" d=\"M1132.25 1537.87 Q1131.26 1537.3 1130.09 1537.04 Q1128.94 1536.76 1127.54 1536.76 Q1122.57 1536.76 1119.9 1540 Q1117.26 1543.22 1117.26 1549.27 L1117.26 1568.04 L1111.37 1568.04 L1111.37 1532.4 L1117.26 1532.4 L1117.26 1537.93 Q1119.11 1534.69 1122.07 1533.13 Q1125.03 1531.54 1129.26 1531.54 Q1129.86 1531.54 1130.6 1531.63 Q1131.33 1531.7 1132.22 1531.85 L1132.25 1537.87 Z\" fill=\"#000000\" fill-rule=\"nonzero\" fill-opacity=\"1\" /><path clip-path=\"url(#clip350)\" d=\"M1137.79 1553.98 L1137.79 1532.4 L1143.65 1532.4 L1143.65 1553.75 Q1143.65 1558.81 1145.62 1561.36 Q1147.59 1563.87 1151.54 1563.87 Q1156.28 1563.87 1159.02 1560.85 Q1161.79 1557.83 1161.79 1552.61 L1161.79 1532.4 L1167.64 1532.4 L1167.64 1568.04 L1161.79 1568.04 L1161.79 1562.57 Q1159.66 1565.82 1156.82 1567.41 Q1154.02 1568.97 1150.3 1568.97 Q1144.15 1568.97 1140.97 1565.15 Q1137.79 1561.33 1137.79 1553.98 M1152.53 1531.54 L1152.53 1531.54 Z\" fill=\"#000000\" fill-rule=\"nonzero\" fill-opacity=\"1\" /><path clip-path=\"url(#clip350)\" d=\"M1210.2 1548.76 L1210.2 1551.62 L1183.27 1551.62 Q1183.65 1557.67 1186.9 1560.85 Q1190.18 1564 1196 1564 Q1199.38 1564 1202.53 1563.17 Q1205.71 1562.35 1208.83 1560.69 L1208.83 1566.23 Q1205.68 1567.57 1202.37 1568.27 Q1199.06 1568.97 1195.65 1568.97 Q1187.12 1568.97 1182.13 1564 Q1177.16 1559.04 1177.16 1550.57 Q1177.16 1541.82 1181.87 1536.69 Q1186.61 1531.54 1194.63 1531.54 Q1201.83 1531.54 1206 1536.18 Q1210.2 1540.8 1210.2 1548.76 M1204.34 1547.04 Q1204.28 1542.23 1201.64 1539.37 Q1199.03 1536.5 1194.7 1536.5 Q1189.8 1536.5 1186.84 1539.27 Q1183.91 1542.04 1183.46 1547.07 L1204.34 1547.04 Z\" fill=\"#000000\" fill-rule=\"nonzero\" fill-opacity=\"1\" /><path clip-path=\"url(#clip350)\" d=\"M1261.19 1537.87 Q1260.2 1537.3 1259.02 1537.04 Q1257.88 1536.76 1256.48 1536.76 Q1251.51 1536.76 1248.84 1540 Q1246.2 1543.22 1246.2 1549.27 L1246.2 1568.04 L1240.31 1568.04 L1240.31 1532.4 L1246.2 1532.4 L1246.2 1537.93 Q1248.04 1534.69 1251 1533.13 Q1253.96 1531.54 1258.2 1531.54 Q1258.8 1531.54 1259.53 1531.63 Q1260.27 1531.7 1261.16 1531.85 L1261.19 1537.87 Z\" fill=\"#000000\" fill-rule=\"nonzero\" fill-opacity=\"1\" /><path clip-path=\"url(#clip350)\" d=\"M1283.53 1550.12 Q1276.43 1550.12 1273.7 1551.75 Q1270.96 1553.37 1270.96 1557.29 Q1270.96 1560.4 1273 1562.25 Q1275.07 1564.07 1278.6 1564.07 Q1283.47 1564.07 1286.4 1560.63 Q1289.36 1557.16 1289.36 1551.43 L1289.36 1550.12 L1283.53 1550.12 M1295.21 1547.71 L1295.21 1568.04 L1289.36 1568.04 L1289.36 1562.63 Q1287.35 1565.88 1284.36 1567.44 Q1281.37 1568.97 1277.04 1568.97 Q1271.56 1568.97 1268.32 1565.91 Q1265.1 1562.82 1265.1 1557.67 Q1265.1 1551.65 1269.11 1548.6 Q1273.16 1545.54 1281.14 1545.54 L1289.36 1545.54 L1289.36 1544.97 Q1289.36 1540.93 1286.68 1538.73 Q1284.04 1536.5 1279.24 1536.5 Q1276.18 1536.5 1273.28 1537.23 Q1270.39 1537.97 1267.71 1539.43 L1267.71 1534.02 Q1270.93 1532.78 1273.95 1532.17 Q1276.98 1531.54 1279.84 1531.54 Q1287.57 1531.54 1291.39 1535.55 Q1295.21 1539.56 1295.21 1547.71 Z\" fill=\"#000000\" fill-rule=\"nonzero\" fill-opacity=\"1\" /><path clip-path=\"url(#clip350)\" d=\"M1336.91 1546.53 L1336.91 1568.04 L1331.05 1568.04 L1331.05 1546.72 Q1331.05 1541.66 1329.08 1539.14 Q1327.11 1536.63 1323.16 1536.63 Q1318.42 1536.63 1315.68 1539.65 Q1312.94 1542.68 1312.94 1547.9 L1312.94 1568.04 L1307.05 1568.04 L1307.05 1532.4 L1312.94 1532.4 L1312.94 1537.93 Q1315.04 1534.72 1317.87 1533.13 Q1320.74 1531.54 1324.46 1531.54 Q1330.61 1531.54 1333.76 1535.36 Q1336.91 1539.14 1336.91 1546.53 Z\" fill=\"#000000\" fill-rule=\"nonzero\" fill-opacity=\"1\" /><path clip-path=\"url(#clip350)\" d=\"M1348.37 1518.52 L1354.25 1518.52 L1354.25 1547.77 L1371.73 1532.4 L1379.21 1532.4 L1360.3 1549.07 L1380 1568.04 L1372.37 1568.04 L1354.25 1550.63 L1354.25 1568.04 L1348.37 1568.04 L1348.37 1518.52 Z\" fill=\"#000000\" fill-rule=\"nonzero\" fill-opacity=\"1\" /><path clip-path=\"url(#clip350)\" d=\"M1386.34 1532.4 L1392.19 1532.4 L1392.19 1568.04 L1386.34 1568.04 L1386.34 1532.4 M1386.34 1518.52 L1392.19 1518.52 L1392.19 1525.93 L1386.34 1525.93 L1386.34 1518.52 Z\" fill=\"#000000\" fill-rule=\"nonzero\" fill-opacity=\"1\" /><path clip-path=\"url(#clip350)\" d=\"M1434.08 1546.53 L1434.08 1568.04 L1428.22 1568.04 L1428.22 1546.72 Q1428.22 1541.66 1426.25 1539.14 Q1424.28 1536.63 1420.33 1536.63 Q1415.59 1536.63 1412.85 1539.65 Q1410.11 1542.68 1410.11 1547.9 L1410.11 1568.04 L1404.23 1568.04 L1404.23 1532.4 L1410.11 1532.4 L1410.11 1537.93 Q1412.21 1534.72 1415.05 1533.13 Q1417.91 1531.54 1421.64 1531.54 Q1427.78 1531.54 1430.93 1535.36 Q1434.08 1539.14 1434.08 1546.53 Z\" fill=\"#000000\" fill-rule=\"nonzero\" fill-opacity=\"1\" /><path clip-path=\"url(#clip350)\" d=\"M1469.22 1549.81 Q1469.22 1543.44 1466.58 1539.94 Q1463.97 1536.44 1459.23 1536.44 Q1454.51 1536.44 1451.87 1539.94 Q1449.26 1543.44 1449.26 1549.81 Q1449.26 1556.14 1451.87 1559.64 Q1454.51 1563.14 1459.23 1563.14 Q1463.97 1563.14 1466.58 1559.64 Q1469.22 1556.14 1469.22 1549.81 M1475.08 1563.62 Q1475.08 1572.72 1471.03 1577.15 Q1466.99 1581.6 1458.65 1581.6 Q1455.57 1581.6 1452.83 1581.13 Q1450.09 1580.68 1447.51 1579.72 L1447.51 1574.03 Q1450.09 1575.43 1452.61 1576.1 Q1455.12 1576.76 1457.73 1576.76 Q1463.49 1576.76 1466.35 1573.74 Q1469.22 1570.75 1469.22 1564.67 L1469.22 1561.77 Q1467.41 1564.92 1464.57 1566.48 Q1461.74 1568.04 1457.79 1568.04 Q1451.24 1568.04 1447.23 1563.05 Q1443.22 1558.05 1443.22 1549.81 Q1443.22 1541.53 1447.23 1536.53 Q1451.24 1531.54 1457.79 1531.54 Q1461.74 1531.54 1464.57 1533.1 Q1467.41 1534.66 1469.22 1537.81 L1469.22 1532.4 L1475.08 1532.4 L1475.08 1563.62 Z\" fill=\"#000000\" fill-rule=\"nonzero\" fill-opacity=\"1\" /><polyline clip-path=\"url(#clip350)\" style=\"stroke:#000000; stroke-linecap:round; stroke-linejoin:round; stroke-width:4; stroke-opacity:1; fill:none\" points=\"203.964,1423.18 203.964,47.2441 \"/>\n",
       "<polyline clip-path=\"url(#clip350)\" style=\"stroke:#000000; stroke-linecap:round; stroke-linejoin:round; stroke-width:4; stroke-opacity:1; fill:none\" points=\"203.964,1110.96 222.861,1110.96 \"/>\n",
       "<polyline clip-path=\"url(#clip350)\" style=\"stroke:#000000; stroke-linecap:round; stroke-linejoin:round; stroke-width:4; stroke-opacity:1; fill:none\" points=\"203.964,769.371 222.861,769.371 \"/>\n",
       "<polyline clip-path=\"url(#clip350)\" style=\"stroke:#000000; stroke-linecap:round; stroke-linejoin:round; stroke-width:4; stroke-opacity:1; fill:none\" points=\"203.964,427.778 222.861,427.778 \"/>\n",
       "<polyline clip-path=\"url(#clip350)\" style=\"stroke:#000000; stroke-linecap:round; stroke-linejoin:round; stroke-width:4; stroke-opacity:1; fill:none\" points=\"203.964,86.1857 222.861,86.1857 \"/>\n",
       "<path clip-path=\"url(#clip350)\" d=\"M147.061 1093.68 L165.417 1093.68 L165.417 1097.62 L151.343 1097.62 L151.343 1106.09 Q152.362 1105.74 153.38 1105.58 Q154.399 1105.4 155.417 1105.4 Q161.204 1105.4 164.584 1108.57 Q167.964 1111.74 167.964 1117.16 Q167.964 1122.73 164.491 1125.84 Q161.019 1128.92 154.7 1128.92 Q152.524 1128.92 150.255 1128.54 Q148.01 1128.17 145.603 1127.43 L145.603 1122.73 Q147.686 1123.87 149.908 1124.42 Q152.13 1124.98 154.607 1124.98 Q158.612 1124.98 160.95 1122.87 Q163.288 1120.77 163.288 1117.16 Q163.288 1113.55 160.95 1111.44 Q158.612 1109.33 154.607 1109.33 Q152.732 1109.33 150.857 1109.75 Q149.005 1110.17 147.061 1111.05 L147.061 1093.68 Z\" fill=\"#000000\" fill-rule=\"nonzero\" fill-opacity=\"1\" /><path clip-path=\"url(#clip350)\" d=\"M116.668 782.716 L124.306 782.716 L124.306 756.35 L115.996 758.017 L115.996 753.758 L124.26 752.091 L128.936 752.091 L128.936 782.716 L136.575 782.716 L136.575 786.651 L116.668 786.651 L116.668 782.716 Z\" fill=\"#000000\" fill-rule=\"nonzero\" fill-opacity=\"1\" /><path clip-path=\"url(#clip350)\" d=\"M156.019 755.17 Q152.408 755.17 150.579 758.735 Q148.774 762.276 148.774 769.406 Q148.774 776.512 150.579 780.077 Q152.408 783.619 156.019 783.619 Q159.653 783.619 161.459 780.077 Q163.288 776.512 163.288 769.406 Q163.288 762.276 161.459 758.735 Q159.653 755.17 156.019 755.17 M156.019 751.466 Q161.829 751.466 164.885 756.073 Q167.964 760.656 167.964 769.406 Q167.964 778.133 164.885 782.739 Q161.829 787.323 156.019 787.323 Q150.209 787.323 147.13 782.739 Q144.075 778.133 144.075 769.406 Q144.075 760.656 147.13 756.073 Q150.209 751.466 156.019 751.466 Z\" fill=\"#000000\" fill-rule=\"nonzero\" fill-opacity=\"1\" /><path clip-path=\"url(#clip350)\" d=\"M117.663 441.123 L125.302 441.123 L125.302 414.758 L116.992 416.424 L116.992 412.165 L125.255 410.498 L129.931 410.498 L129.931 441.123 L137.57 441.123 L137.57 445.058 L117.663 445.058 L117.663 441.123 Z\" fill=\"#000000\" fill-rule=\"nonzero\" fill-opacity=\"1\" /><path clip-path=\"url(#clip350)\" d=\"M147.061 410.498 L165.417 410.498 L165.417 414.434 L151.343 414.434 L151.343 422.906 Q152.362 422.559 153.38 422.397 Q154.399 422.211 155.417 422.211 Q161.204 422.211 164.584 425.383 Q167.964 428.554 167.964 433.971 Q167.964 439.549 164.491 442.651 Q161.019 445.73 154.7 445.73 Q152.524 445.73 150.255 445.359 Q148.01 444.989 145.603 444.248 L145.603 439.549 Q147.686 440.683 149.908 441.239 Q152.13 441.795 154.607 441.795 Q158.612 441.795 160.95 439.688 Q163.288 437.582 163.288 433.971 Q163.288 430.359 160.95 428.253 Q158.612 426.147 154.607 426.147 Q152.732 426.147 150.857 426.563 Q149.005 426.98 147.061 427.859 L147.061 410.498 Z\" fill=\"#000000\" fill-rule=\"nonzero\" fill-opacity=\"1\" /><path clip-path=\"url(#clip350)\" d=\"M119.885 99.5305 L136.204 99.5305 L136.204 103.466 L114.26 103.466 L114.26 99.5305 Q116.922 96.7759 121.505 92.1463 Q126.112 87.4935 127.292 86.151 Q129.538 83.6278 130.417 81.8917 Q131.32 80.1325 131.32 78.4427 Q131.32 75.688 129.376 73.9519 Q127.455 72.2158 124.353 72.2158 Q122.154 72.2158 119.7 72.9797 Q117.269 73.7436 114.492 75.2945 L114.492 70.5723 Q117.316 69.4381 119.769 68.8594 Q122.223 68.2807 124.26 68.2807 Q129.63 68.2807 132.825 70.9658 Q136.019 73.651 136.019 78.1417 Q136.019 80.2714 135.209 82.1926 Q134.422 84.0908 132.316 86.6834 Q131.737 87.3546 128.635 90.5722 Q125.533 93.7667 119.885 99.5305 Z\" fill=\"#000000\" fill-rule=\"nonzero\" fill-opacity=\"1\" /><path clip-path=\"url(#clip350)\" d=\"M156.019 71.9844 Q152.408 71.9844 150.579 75.5492 Q148.774 79.0908 148.774 86.2204 Q148.774 93.3268 150.579 96.8916 Q152.408 100.433 156.019 100.433 Q159.653 100.433 161.459 96.8916 Q163.288 93.3268 163.288 86.2204 Q163.288 79.0908 161.459 75.5492 Q159.653 71.9844 156.019 71.9844 M156.019 68.2807 Q161.829 68.2807 164.885 72.8871 Q167.964 77.4704 167.964 86.2204 Q167.964 94.9472 164.885 99.5537 Q161.829 104.137 156.019 104.137 Q150.209 104.137 147.13 99.5537 Q144.075 94.9472 144.075 86.2204 Q144.075 77.4704 147.13 72.8871 Q150.209 68.2807 156.019 68.2807 Z\" fill=\"#000000\" fill-rule=\"nonzero\" fill-opacity=\"1\" /><path clip-path=\"url(#clip350)\" d=\"M28.3562 1113.62 L28.3562 1107.76 L64.0042 1107.76 L64.0042 1113.62 L28.3562 1113.62 M14.479 1113.62 L14.479 1107.76 L21.895 1107.76 L21.895 1113.62 L14.479 1113.62 Z\" fill=\"#000000\" fill-rule=\"nonzero\" fill-opacity=\"1\" /><path clip-path=\"url(#clip350)\" d=\"M42.4881 1065.88 L64.0042 1065.88 L64.0042 1071.74 L42.679 1071.74 Q37.6183 1071.74 35.1038 1073.71 Q32.5894 1075.68 32.5894 1079.63 Q32.5894 1084.37 35.6131 1087.11 Q38.6368 1089.85 43.8567 1089.85 L64.0042 1089.85 L64.0042 1095.73 L28.3562 1095.73 L28.3562 1089.85 L33.8944 1089.85 Q30.6797 1087.74 29.0883 1084.91 Q27.4968 1082.05 27.4968 1078.32 Q27.4968 1072.18 31.3163 1069.03 Q35.1038 1065.88 42.4881 1065.88 Z\" fill=\"#000000\" fill-rule=\"nonzero\" fill-opacity=\"1\" /><path clip-path=\"url(#clip350)\" d=\"M14.479 1036.15 L19.3487 1036.15 L19.3487 1041.75 Q19.3487 1044.9 20.6219 1046.14 Q21.895 1047.35 25.2052 1047.35 L28.3562 1047.35 L28.3562 1037.71 L32.9077 1037.71 L32.9077 1047.35 L64.0042 1047.35 L64.0042 1053.24 L32.9077 1053.24 L32.9077 1058.84 L28.3562 1058.84 L28.3562 1053.24 L25.8736 1053.24 Q19.9216 1053.24 17.2162 1050.47 Q14.479 1047.7 14.479 1041.69 L14.479 1036.15 Z\" fill=\"#000000\" fill-rule=\"nonzero\" fill-opacity=\"1\" /><path clip-path=\"url(#clip350)\" d=\"M44.7161 1000.76 L47.5806 1000.76 L47.5806 1027.68 Q53.6281 1027.3 56.8109 1024.06 Q59.9619 1020.78 59.9619 1014.95 Q59.9619 1011.58 59.1344 1008.43 Q58.3069 1005.25 56.6518 1002.13 L62.1899 1002.13 Q63.5267 1005.28 64.227 1008.59 Q64.9272 1011.9 64.9272 1015.3 Q64.9272 1023.83 59.9619 1028.83 Q54.9967 1033.8 46.5303 1033.8 Q37.7774 1033.8 32.6531 1029.08 Q27.4968 1024.34 27.4968 1016.32 Q27.4968 1009.13 32.1438 1004.96 Q36.7589 1000.76 44.7161 1000.76 M42.9973 1006.61 Q38.1912 1006.68 35.3266 1009.32 Q32.4621 1011.93 32.4621 1016.26 Q32.4621 1021.16 35.2312 1024.12 Q38.0002 1027.05 43.0292 1027.49 L42.9973 1006.61 Z\" fill=\"#000000\" fill-rule=\"nonzero\" fill-opacity=\"1\" /><path clip-path=\"url(#clip350)\" d=\"M33.8307 970.488 Q33.2578 971.475 33.0032 972.653 Q32.7167 973.799 32.7167 975.199 Q32.7167 980.164 35.9632 982.838 Q39.1779 985.48 45.2253 985.48 L64.0042 985.48 L64.0042 991.368 L28.3562 991.368 L28.3562 985.48 L33.8944 985.48 Q30.6479 983.634 29.0883 980.674 Q27.4968 977.714 27.4968 973.48 Q27.4968 972.876 27.5923 972.144 Q27.656 971.412 27.8151 970.52 L33.8307 970.488 Z\" fill=\"#000000\" fill-rule=\"nonzero\" fill-opacity=\"1\" /><path clip-path=\"url(#clip350)\" d=\"M33.8307 944.835 Q33.2578 945.821 33.0032 946.999 Q32.7167 948.145 32.7167 949.545 Q32.7167 954.511 35.9632 957.184 Q39.1779 959.826 45.2253 959.826 L64.0042 959.826 L64.0042 965.714 L28.3562 965.714 L28.3562 959.826 L33.8944 959.826 Q30.6479 957.98 29.0883 955.02 Q27.4968 952.06 27.4968 947.827 Q27.4968 947.222 27.5923 946.49 Q27.656 945.758 27.8151 944.867 L33.8307 944.835 Z\" fill=\"#000000\" fill-rule=\"nonzero\" fill-opacity=\"1\" /><path clip-path=\"url(#clip350)\" d=\"M44.7161 909.632 L47.5806 909.632 L47.5806 936.559 Q53.6281 936.177 56.8109 932.931 Q59.9619 929.652 59.9619 923.828 Q59.9619 920.454 59.1344 917.303 Q58.3069 914.12 56.6518 911.001 L62.1899 911.001 Q63.5267 914.152 64.227 917.462 Q64.9272 920.772 64.9272 924.178 Q64.9272 932.708 59.9619 937.705 Q54.9967 942.67 46.5303 942.67 Q37.7774 942.67 32.6531 937.96 Q27.4968 933.217 27.4968 925.196 Q27.4968 918.003 32.1438 913.834 Q36.7589 909.632 44.7161 909.632 M42.9973 915.489 Q38.1912 915.552 35.3266 918.194 Q32.4621 920.804 32.4621 925.133 Q32.4621 930.034 35.2312 932.994 Q38.0002 935.923 43.0292 936.368 L42.9973 915.489 Z\" fill=\"#000000\" fill-rule=\"nonzero\" fill-opacity=\"1\" /><path clip-path=\"url(#clip350)\" d=\"M33.7671 876.562 L14.479 876.562 L14.479 870.706 L64.0042 870.706 L64.0042 876.562 L58.657 876.562 Q61.8398 878.409 63.3994 881.241 Q64.9272 884.042 64.9272 887.989 Q64.9272 894.45 59.771 898.524 Q54.6147 902.566 46.212 902.566 Q37.8093 902.566 32.6531 898.524 Q27.4968 894.45 27.4968 887.989 Q27.4968 884.042 29.0564 881.241 Q30.5842 878.409 33.7671 876.562 M46.212 896.519 Q52.6732 896.519 56.3653 893.877 Q60.0256 891.204 60.0256 886.557 Q60.0256 881.91 56.3653 879.236 Q52.6732 876.562 46.212 876.562 Q39.7508 876.562 36.0905 879.236 Q32.3984 881.91 32.3984 886.557 Q32.3984 891.204 36.0905 893.877 Q39.7508 896.519 46.212 896.519 Z\" fill=\"#000000\" fill-rule=\"nonzero\" fill-opacity=\"1\" /><path clip-path=\"url(#clip350)\" d=\"M33.8307 817.266 Q33.2578 818.253 33.0032 819.43 Q32.7167 820.576 32.7167 821.977 Q32.7167 826.942 35.9632 829.615 Q39.1779 832.257 45.2253 832.257 L64.0042 832.257 L64.0042 838.145 L28.3562 838.145 L28.3562 832.257 L33.8944 832.257 Q30.6479 830.411 29.0883 827.451 Q27.4968 824.491 27.4968 820.258 Q27.4968 819.653 27.5923 818.921 Q27.656 818.189 27.8151 817.298 L33.8307 817.266 Z\" fill=\"#000000\" fill-rule=\"nonzero\" fill-opacity=\"1\" /><path clip-path=\"url(#clip350)\" d=\"M46.0847 794.922 Q46.0847 802.02 47.7079 804.757 Q49.3312 807.495 53.2461 807.495 Q56.3653 807.495 58.2114 805.458 Q60.0256 803.389 60.0256 799.856 Q60.0256 794.986 56.5881 792.058 Q53.1188 789.098 47.3897 789.098 L46.0847 789.098 L46.0847 794.922 M43.6657 783.241 L64.0042 783.241 L64.0042 789.098 L58.5933 789.098 Q61.8398 791.103 63.3994 794.095 Q64.9272 797.087 64.9272 801.415 Q64.9272 806.89 61.8716 810.136 Q58.7843 813.351 53.6281 813.351 Q47.6125 813.351 44.5569 809.341 Q41.5014 805.298 41.5014 797.309 L41.5014 789.098 L40.9285 789.098 Q36.8862 789.098 34.6901 791.771 Q32.4621 794.413 32.4621 799.219 Q32.4621 802.275 33.1941 805.171 Q33.9262 808.067 35.3903 810.741 L29.9795 810.741 Q28.7381 807.526 28.1334 804.503 Q27.4968 801.479 27.4968 798.614 Q27.4968 790.88 31.5072 787.061 Q35.5176 783.241 43.6657 783.241 Z\" fill=\"#000000\" fill-rule=\"nonzero\" fill-opacity=\"1\" /><path clip-path=\"url(#clip350)\" d=\"M42.4881 741.546 L64.0042 741.546 L64.0042 747.402 L42.679 747.402 Q37.6183 747.402 35.1038 749.376 Q32.5894 751.349 32.5894 755.296 Q32.5894 760.038 35.6131 762.775 Q38.6368 765.513 43.8567 765.513 L64.0042 765.513 L64.0042 771.401 L28.3562 771.401 L28.3562 765.513 L33.8944 765.513 Q30.6797 763.412 29.0883 760.579 Q27.4968 757.715 27.4968 753.991 Q27.4968 747.848 31.3163 744.697 Q35.1038 741.546 42.4881 741.546 Z\" fill=\"#000000\" fill-rule=\"nonzero\" fill-opacity=\"1\" /><path clip-path=\"url(#clip350)\" d=\"M14.479 730.088 L14.479 724.199 L43.7294 724.199 L28.3562 706.725 L28.3562 699.246 L45.0344 718.152 L64.0042 698.45 L64.0042 706.089 L46.5939 724.199 L64.0042 724.199 L64.0042 730.088 L14.479 730.088 Z\" fill=\"#000000\" fill-rule=\"nonzero\" fill-opacity=\"1\" /><path clip-path=\"url(#clip350)\" d=\"M28.3562 692.116 L28.3562 686.26 L64.0042 686.26 L64.0042 692.116 L28.3562 692.116 M14.479 692.116 L14.479 686.26 L21.895 686.26 L21.895 692.116 L14.479 692.116 Z\" fill=\"#000000\" fill-rule=\"nonzero\" fill-opacity=\"1\" /><path clip-path=\"url(#clip350)\" d=\"M42.4881 644.373 L64.0042 644.373 L64.0042 650.23 L42.679 650.23 Q37.6183 650.23 35.1038 652.203 Q32.5894 654.177 32.5894 658.123 Q32.5894 662.866 35.6131 665.603 Q38.6368 668.34 43.8567 668.34 L64.0042 668.34 L64.0042 674.228 L28.3562 674.228 L28.3562 668.34 L33.8944 668.34 Q30.6797 666.24 29.0883 663.407 Q27.4968 660.542 27.4968 656.818 Q27.4968 650.675 31.3163 647.524 Q35.1038 644.373 42.4881 644.373 Z\" fill=\"#000000\" fill-rule=\"nonzero\" fill-opacity=\"1\" /><path clip-path=\"url(#clip350)\" d=\"M45.7664 609.235 Q39.4007 609.235 35.8996 611.876 Q32.3984 614.486 32.3984 619.229 Q32.3984 623.939 35.8996 626.581 Q39.4007 629.191 45.7664 629.191 Q52.1003 629.191 55.6014 626.581 Q59.1026 623.939 59.1026 619.229 Q59.1026 614.486 55.6014 611.876 Q52.1003 609.235 45.7664 609.235 M59.58 603.378 Q68.683 603.378 73.1071 607.42 Q77.5631 611.463 77.5631 619.802 Q77.5631 622.889 77.0857 625.626 Q76.6401 628.364 75.6852 630.942 L69.9879 630.942 Q71.3884 628.364 72.0568 625.849 Q72.7252 623.335 72.7252 620.725 Q72.7252 614.964 69.7015 612.099 Q66.7096 609.235 60.6303 609.235 L57.7339 609.235 Q60.885 611.049 62.4446 613.882 Q64.0042 616.714 64.0042 620.661 Q64.0042 627.218 59.0071 631.228 Q54.01 635.239 45.7664 635.239 Q37.491 635.239 32.4939 631.228 Q27.4968 627.218 27.4968 620.661 Q27.4968 616.714 29.0564 613.882 Q30.616 611.049 33.7671 609.235 L28.3562 609.235 L28.3562 603.378 L59.58 603.378 Z\" fill=\"#000000\" fill-rule=\"nonzero\" fill-opacity=\"1\" /><path clip-path=\"url(#clip350)\" d=\"M14.479 571.136 L14.479 557.641 L19.0304 557.641 L19.0304 565.279 L68.0464 565.279 L68.0464 557.641 L72.5979 557.641 L72.5979 571.136 L14.479 571.136 Z\" fill=\"#000000\" fill-rule=\"nonzero\" fill-opacity=\"1\" /><path clip-path=\"url(#clip350)\" d=\"M29.4065 522.438 L34.9447 522.438 Q33.6716 524.921 33.035 527.594 Q32.3984 530.268 32.3984 533.133 Q32.3984 537.493 33.7352 539.689 Q35.072 541.854 37.7456 541.854 Q39.7826 541.854 40.9603 540.294 Q42.1061 538.734 43.1565 534.024 L43.6021 532.019 Q44.9389 525.78 47.3897 523.17 Q49.8086 520.529 54.1691 520.529 Q59.1344 520.529 62.0308 524.475 Q64.9272 528.39 64.9272 535.265 Q64.9272 538.13 64.3543 541.249 Q63.8132 544.336 62.6992 547.774 L56.6518 547.774 Q58.3387 544.527 59.198 541.376 Q60.0256 538.225 60.0256 535.138 Q60.0256 531 58.6251 528.772 Q57.1929 526.544 54.6147 526.544 Q52.2276 526.544 50.9545 528.167 Q49.6813 529.759 48.5037 535.201 L48.0262 537.238 Q46.8804 542.681 44.5251 545.1 Q42.138 547.519 38.0002 547.519 Q32.9713 547.519 30.2341 543.954 Q27.4968 540.39 27.4968 533.833 Q27.4968 530.586 27.9743 527.722 Q28.4517 524.857 29.4065 522.438 Z\" fill=\"#000000\" fill-rule=\"nonzero\" fill-opacity=\"1\" /><path clip-path=\"url(#clip350)\" d=\"M42.4881 481.57 L64.0042 481.57 L64.0042 487.427 L42.679 487.427 Q37.6183 487.427 35.1038 489.4 Q32.5894 491.374 32.5894 495.32 Q32.5894 500.063 35.6131 502.8 Q38.6368 505.537 43.8567 505.537 L64.0042 505.537 L64.0042 511.426 L14.479 511.426 L14.479 505.537 L33.8944 505.537 Q30.6797 503.437 29.0883 500.604 Q27.4968 497.739 27.4968 494.015 Q27.4968 487.872 31.3163 484.721 Q35.1038 481.57 42.4881 481.57 Z\" fill=\"#000000\" fill-rule=\"nonzero\" fill-opacity=\"1\" /><path clip-path=\"url(#clip350)\" d=\"M32.4621 456.076 Q32.4621 460.786 36.1542 463.524 Q39.8145 466.261 46.212 466.261 Q52.6095 466.261 56.3017 463.555 Q59.9619 460.818 59.9619 456.076 Q59.9619 451.397 56.2698 448.66 Q52.5777 445.922 46.212 445.922 Q39.8781 445.922 36.186 448.66 Q32.4621 451.397 32.4621 456.076 M27.4968 456.076 Q27.4968 448.437 32.4621 444.076 Q37.4273 439.716 46.212 439.716 Q54.9649 439.716 59.9619 444.076 Q64.9272 448.437 64.9272 456.076 Q64.9272 463.746 59.9619 468.107 Q54.9649 472.436 46.212 472.436 Q37.4273 472.436 32.4621 468.107 Q27.4968 463.746 27.4968 456.076 Z\" fill=\"#000000\" fill-rule=\"nonzero\" fill-opacity=\"1\" /><path clip-path=\"url(#clip350)\" d=\"M18.2347 424.215 L28.3562 424.215 L28.3562 412.152 L32.9077 412.152 L32.9077 424.215 L52.2594 424.215 Q56.6199 424.215 57.8613 423.038 Q59.1026 421.828 59.1026 418.168 L59.1026 412.152 L64.0042 412.152 L64.0042 418.168 Q64.0042 424.947 61.4897 427.526 Q58.9434 430.104 52.2594 430.104 L32.9077 430.104 L32.9077 434.401 L28.3562 434.401 L28.3562 430.104 L18.2347 430.104 L18.2347 424.215 Z\" fill=\"#000000\" fill-rule=\"nonzero\" fill-opacity=\"1\" /><path clip-path=\"url(#clip350)\" d=\"M29.4065 381.724 L34.9447 381.724 Q33.6716 384.207 33.035 386.881 Q32.3984 389.554 32.3984 392.419 Q32.3984 396.779 33.7352 398.975 Q35.072 401.14 37.7456 401.14 Q39.7826 401.14 40.9603 399.58 Q42.1061 398.02 43.1565 393.31 L43.6021 391.305 Q44.9389 385.066 47.3897 382.456 Q49.8086 379.815 54.1691 379.815 Q59.1344 379.815 62.0308 383.761 Q64.9272 387.676 64.9272 394.551 Q64.9272 397.416 64.3543 400.535 Q63.8132 403.622 62.6992 407.06 L56.6518 407.06 Q58.3387 403.813 59.198 400.662 Q60.0256 397.511 60.0256 394.424 Q60.0256 390.286 58.6251 388.058 Q57.1929 385.83 54.6147 385.83 Q52.2276 385.83 50.9545 387.453 Q49.6813 389.045 48.5037 394.488 L48.0262 396.525 Q46.8804 401.967 44.5251 404.386 Q42.138 406.805 38.0002 406.805 Q32.9713 406.805 30.2341 403.24 Q27.4968 399.676 27.4968 393.119 Q27.4968 389.872 27.9743 387.008 Q28.4517 384.143 29.4065 381.724 Z\" fill=\"#000000\" fill-rule=\"nonzero\" fill-opacity=\"1\" /><path clip-path=\"url(#clip350)\" d=\"M14.479 356.803 L72.5979 356.803 L72.5979 370.298 L68.0464 370.298 L68.0464 362.691 L19.0304 362.691 L19.0304 370.298 L14.479 370.298 L14.479 356.803 Z\" fill=\"#000000\" fill-rule=\"nonzero\" fill-opacity=\"1\" /><polyline clip-path=\"url(#clip352)\" style=\"stroke:#e26f46; stroke-linecap:round; stroke-linejoin:round; stroke-width:4; stroke-opacity:1; fill:none\" points=\"264.778,1247.6 371.471,1384.24 478.164,1042.65 584.857,906.008 691.55,1315.92 798.242,1179.28 904.935,974.327 1011.63,1110.96 1118.32,222.823 1225.01,427.778 1331.71,769.371 1438.4,632.734 1545.09,837.69 1651.78,496.097 1758.48,564.416 1865.17,154.504 1971.86,291.141 2078.56,359.46 2185.25,86.1857 2291.94,701.053 \"/>\n",
       "<circle clip-path=\"url(#clip352)\" cx=\"264.778\" cy=\"1247.6\" r=\"14.4\" fill=\"#e26f46\" fill-rule=\"evenodd\" fill-opacity=\"1\" stroke=\"#000000\" stroke-opacity=\"1\" stroke-width=\"3.2\"/>\n",
       "<circle clip-path=\"url(#clip352)\" cx=\"371.471\" cy=\"1384.24\" r=\"14.4\" fill=\"#e26f46\" fill-rule=\"evenodd\" fill-opacity=\"1\" stroke=\"#000000\" stroke-opacity=\"1\" stroke-width=\"3.2\"/>\n",
       "<circle clip-path=\"url(#clip352)\" cx=\"478.164\" cy=\"1042.65\" r=\"14.4\" fill=\"#e26f46\" fill-rule=\"evenodd\" fill-opacity=\"1\" stroke=\"#000000\" stroke-opacity=\"1\" stroke-width=\"3.2\"/>\n",
       "<circle clip-path=\"url(#clip352)\" cx=\"584.857\" cy=\"906.008\" r=\"14.4\" fill=\"#e26f46\" fill-rule=\"evenodd\" fill-opacity=\"1\" stroke=\"#000000\" stroke-opacity=\"1\" stroke-width=\"3.2\"/>\n",
       "<circle clip-path=\"url(#clip352)\" cx=\"691.55\" cy=\"1315.92\" r=\"14.4\" fill=\"#e26f46\" fill-rule=\"evenodd\" fill-opacity=\"1\" stroke=\"#000000\" stroke-opacity=\"1\" stroke-width=\"3.2\"/>\n",
       "<circle clip-path=\"url(#clip352)\" cx=\"798.242\" cy=\"1179.28\" r=\"14.4\" fill=\"#e26f46\" fill-rule=\"evenodd\" fill-opacity=\"1\" stroke=\"#000000\" stroke-opacity=\"1\" stroke-width=\"3.2\"/>\n",
       "<circle clip-path=\"url(#clip352)\" cx=\"904.935\" cy=\"974.327\" r=\"14.4\" fill=\"#e26f46\" fill-rule=\"evenodd\" fill-opacity=\"1\" stroke=\"#000000\" stroke-opacity=\"1\" stroke-width=\"3.2\"/>\n",
       "<circle clip-path=\"url(#clip352)\" cx=\"1011.63\" cy=\"1110.96\" r=\"14.4\" fill=\"#e26f46\" fill-rule=\"evenodd\" fill-opacity=\"1\" stroke=\"#000000\" stroke-opacity=\"1\" stroke-width=\"3.2\"/>\n",
       "<circle clip-path=\"url(#clip352)\" cx=\"1118.32\" cy=\"222.823\" r=\"14.4\" fill=\"#e26f46\" fill-rule=\"evenodd\" fill-opacity=\"1\" stroke=\"#000000\" stroke-opacity=\"1\" stroke-width=\"3.2\"/>\n",
       "<circle clip-path=\"url(#clip352)\" cx=\"1225.01\" cy=\"427.778\" r=\"14.4\" fill=\"#e26f46\" fill-rule=\"evenodd\" fill-opacity=\"1\" stroke=\"#000000\" stroke-opacity=\"1\" stroke-width=\"3.2\"/>\n",
       "<circle clip-path=\"url(#clip352)\" cx=\"1331.71\" cy=\"769.371\" r=\"14.4\" fill=\"#e26f46\" fill-rule=\"evenodd\" fill-opacity=\"1\" stroke=\"#000000\" stroke-opacity=\"1\" stroke-width=\"3.2\"/>\n",
       "<circle clip-path=\"url(#clip352)\" cx=\"1438.4\" cy=\"632.734\" r=\"14.4\" fill=\"#e26f46\" fill-rule=\"evenodd\" fill-opacity=\"1\" stroke=\"#000000\" stroke-opacity=\"1\" stroke-width=\"3.2\"/>\n",
       "<circle clip-path=\"url(#clip352)\" cx=\"1545.09\" cy=\"837.69\" r=\"14.4\" fill=\"#e26f46\" fill-rule=\"evenodd\" fill-opacity=\"1\" stroke=\"#000000\" stroke-opacity=\"1\" stroke-width=\"3.2\"/>\n",
       "<circle clip-path=\"url(#clip352)\" cx=\"1651.78\" cy=\"496.097\" r=\"14.4\" fill=\"#e26f46\" fill-rule=\"evenodd\" fill-opacity=\"1\" stroke=\"#000000\" stroke-opacity=\"1\" stroke-width=\"3.2\"/>\n",
       "<circle clip-path=\"url(#clip352)\" cx=\"1758.48\" cy=\"564.416\" r=\"14.4\" fill=\"#e26f46\" fill-rule=\"evenodd\" fill-opacity=\"1\" stroke=\"#000000\" stroke-opacity=\"1\" stroke-width=\"3.2\"/>\n",
       "<circle clip-path=\"url(#clip352)\" cx=\"1865.17\" cy=\"154.504\" r=\"14.4\" fill=\"#e26f46\" fill-rule=\"evenodd\" fill-opacity=\"1\" stroke=\"#000000\" stroke-opacity=\"1\" stroke-width=\"3.2\"/>\n",
       "<circle clip-path=\"url(#clip352)\" cx=\"1971.86\" cy=\"291.141\" r=\"14.4\" fill=\"#e26f46\" fill-rule=\"evenodd\" fill-opacity=\"1\" stroke=\"#000000\" stroke-opacity=\"1\" stroke-width=\"3.2\"/>\n",
       "<circle clip-path=\"url(#clip352)\" cx=\"2078.56\" cy=\"359.46\" r=\"14.4\" fill=\"#e26f46\" fill-rule=\"evenodd\" fill-opacity=\"1\" stroke=\"#000000\" stroke-opacity=\"1\" stroke-width=\"3.2\"/>\n",
       "<circle clip-path=\"url(#clip352)\" cx=\"2185.25\" cy=\"86.1857\" r=\"14.4\" fill=\"#e26f46\" fill-rule=\"evenodd\" fill-opacity=\"1\" stroke=\"#000000\" stroke-opacity=\"1\" stroke-width=\"3.2\"/>\n",
       "<circle clip-path=\"url(#clip352)\" cx=\"2291.94\" cy=\"701.053\" r=\"14.4\" fill=\"#e26f46\" fill-rule=\"evenodd\" fill-opacity=\"1\" stroke=\"#000000\" stroke-opacity=\"1\" stroke-width=\"3.2\"/>\n",
       "<polyline clip-path=\"url(#clip352)\" style=\"stroke:#000000; stroke-linecap:round; stroke-linejoin:round; stroke-width:4; stroke-opacity:1; fill:none\" stroke-dasharray=\"16, 10\" points=\"264.778,1384.24 285.706,1370.84 408.279,1292.35 465.299,1255.84 541.728,1206.9 604.882,1166.46 663.609,1128.86 737.331,1081.65 803.461,1039.3 879.155,990.835 935.736,954.604 1008.1,908.264 1074.16,865.97 1149.33,817.834 1208.92,779.675 1282.96,732.268 1339.66,695.961 1419.6,644.775 1479.33,606.524 1547.27,563.024 1614.54,519.944 1688.56,472.548 1745.1,436.346 1816.44,390.662 1882.43,348.409 1950.48,304.833 2019.46,260.663 2091.49,214.541 2148.23,178.209 2277.44,95.4688 2291.94,86.1857 \"/>\n",
       "<path clip-path=\"url(#clip350)\" d=\"M275.59 248.629 L728.454 248.629 L728.454 93.1086 L275.59 93.1086  Z\" fill=\"#ffffff\" fill-rule=\"evenodd\" fill-opacity=\"1\"/>\n",
       "<polyline clip-path=\"url(#clip350)\" style=\"stroke:#000000; stroke-linecap:round; stroke-linejoin:round; stroke-width:4; stroke-opacity:1; fill:none\" points=\"275.59,248.629 728.454,248.629 728.454,93.1086 275.59,93.1086 275.59,248.629 \"/>\n",
       "<circle clip-path=\"url(#clip350)\" cx=\"371.092\" cy=\"144.949\" r=\"20.48\" fill=\"#e26f46\" fill-rule=\"evenodd\" fill-opacity=\"1\" stroke=\"#000000\" stroke-opacity=\"1\" stroke-width=\"4.55111\"/>\n",
       "<path clip-path=\"url(#clip350)\" d=\"M466.594 127.669 L471.27 127.669 L471.27 162.229 L466.594 162.229 L466.594 127.669 Z\" fill=\"#000000\" fill-rule=\"nonzero\" fill-opacity=\"1\" /><path clip-path=\"url(#clip350)\" d=\"M484.603 128.942 L484.603 136.303 L493.376 136.303 L493.376 139.613 L484.603 139.613 L484.603 153.687 Q484.603 156.858 485.459 157.761 Q486.339 158.664 489.001 158.664 L493.376 158.664 L493.376 162.229 L489.001 162.229 Q484.071 162.229 482.196 160.4 Q480.321 158.548 480.321 153.687 L480.321 139.613 L477.196 139.613 L477.196 136.303 L480.321 136.303 L480.321 128.942 L484.603 128.942 Z\" fill=\"#000000\" fill-rule=\"nonzero\" fill-opacity=\"1\" /><path clip-path=\"url(#clip350)\" d=\"M510.76 149.196 Q505.598 149.196 503.607 150.377 Q501.617 151.557 501.617 154.405 Q501.617 156.673 503.098 158.016 Q504.603 159.335 507.172 159.335 Q510.714 159.335 512.843 156.835 Q514.996 154.312 514.996 150.145 L514.996 149.196 L510.76 149.196 M519.256 147.437 L519.256 162.229 L514.996 162.229 L514.996 158.293 Q513.538 160.655 511.362 161.789 Q509.186 162.9 506.038 162.9 Q502.057 162.9 499.695 160.678 Q497.357 158.432 497.357 154.682 Q497.357 150.307 500.274 148.085 Q503.214 145.863 509.024 145.863 L514.996 145.863 L514.996 145.446 Q514.996 142.507 513.052 140.909 Q511.131 139.289 507.635 139.289 Q505.413 139.289 503.307 139.821 Q501.2 140.354 499.256 141.419 L499.256 137.483 Q501.594 136.581 503.793 136.141 Q505.992 135.678 508.075 135.678 Q513.7 135.678 516.478 138.594 Q519.256 141.511 519.256 147.437 Z\" fill=\"#000000\" fill-rule=\"nonzero\" fill-opacity=\"1\" /><path clip-path=\"url(#clip350)\" d=\"M528.029 126.21 L532.288 126.21 L532.288 162.229 L528.029 162.229 L528.029 126.21 Z\" fill=\"#000000\" fill-rule=\"nonzero\" fill-opacity=\"1\" /><path clip-path=\"url(#clip350)\" d=\"M551.987 164.636 Q550.181 169.266 548.468 170.678 Q546.755 172.09 543.885 172.09 L540.482 172.09 L540.482 168.525 L542.982 168.525 Q544.741 168.525 545.714 167.692 Q546.686 166.858 547.866 163.756 L548.63 161.812 L538.144 136.303 L542.658 136.303 L550.76 156.581 L558.862 136.303 L563.376 136.303 L551.987 164.636 Z\" fill=\"#000000\" fill-rule=\"nonzero\" fill-opacity=\"1\" /><path clip-path=\"url(#clip350)\" d=\"M600.852 137.067 L600.852 141.094 Q599.047 140.169 597.102 139.706 Q595.158 139.243 593.075 139.243 Q589.903 139.243 588.306 140.215 Q586.732 141.187 586.732 143.131 Q586.732 144.613 587.866 145.469 Q589 146.303 592.426 147.067 L593.885 147.391 Q598.422 148.363 600.32 150.145 Q602.241 151.905 602.241 155.076 Q602.241 158.687 599.371 160.793 Q596.524 162.9 591.524 162.9 Q589.44 162.9 587.172 162.483 Q584.926 162.09 582.426 161.28 L582.426 156.881 Q584.788 158.108 587.079 158.733 Q589.371 159.335 591.616 159.335 Q594.625 159.335 596.246 158.317 Q597.866 157.275 597.866 155.4 Q597.866 153.664 596.686 152.738 Q595.528 151.812 591.57 150.956 L590.088 150.608 Q586.13 149.775 584.371 148.062 Q582.612 146.326 582.612 143.317 Q582.612 139.659 585.204 137.669 Q587.797 135.678 592.565 135.678 Q594.926 135.678 597.01 136.025 Q599.093 136.372 600.852 137.067 Z\" fill=\"#000000\" fill-rule=\"nonzero\" fill-opacity=\"1\" /><path clip-path=\"url(#clip350)\" d=\"M630.574 146.581 L630.574 162.229 L626.315 162.229 L626.315 146.719 Q626.315 143.039 624.88 141.21 Q623.445 139.382 620.574 139.382 Q617.125 139.382 615.135 141.581 Q613.144 143.78 613.144 147.576 L613.144 162.229 L608.862 162.229 L608.862 126.21 L613.144 126.21 L613.144 140.331 Q614.672 137.993 616.732 136.835 Q618.815 135.678 621.523 135.678 Q625.991 135.678 628.283 138.456 Q630.574 141.21 630.574 146.581 Z\" fill=\"#000000\" fill-rule=\"nonzero\" fill-opacity=\"1\" /><path clip-path=\"url(#clip350)\" d=\"M649.116 139.289 Q645.69 139.289 643.699 141.974 Q641.709 144.636 641.709 149.289 Q641.709 153.942 643.676 156.627 Q645.667 159.289 649.116 159.289 Q652.519 159.289 654.509 156.604 Q656.5 153.918 656.5 149.289 Q656.5 144.682 654.509 141.997 Q652.519 139.289 649.116 139.289 M649.116 135.678 Q654.671 135.678 657.843 139.289 Q661.014 142.9 661.014 149.289 Q661.014 155.655 657.843 159.289 Q654.671 162.9 649.116 162.9 Q643.537 162.9 640.366 159.289 Q637.218 155.655 637.218 149.289 Q637.218 142.9 640.366 139.289 Q643.537 135.678 649.116 135.678 Z\" fill=\"#000000\" fill-rule=\"nonzero\" fill-opacity=\"1\" /><path clip-path=\"url(#clip350)\" d=\"M672.287 128.942 L672.287 136.303 L681.06 136.303 L681.06 139.613 L672.287 139.613 L672.287 153.687 Q672.287 156.858 673.144 157.761 Q674.023 158.664 676.685 158.664 L681.06 158.664 L681.06 162.229 L676.685 162.229 Q671.755 162.229 669.88 160.4 Q668.005 158.548 668.005 153.687 L668.005 139.613 L664.88 139.613 L664.88 136.303 L668.005 136.303 L668.005 128.942 L672.287 128.942 Z\" fill=\"#000000\" fill-rule=\"nonzero\" fill-opacity=\"1\" /><path clip-path=\"url(#clip350)\" d=\"M703.19 137.067 L703.19 141.094 Q701.384 140.169 699.44 139.706 Q697.495 139.243 695.412 139.243 Q692.241 139.243 690.643 140.215 Q689.069 141.187 689.069 143.131 Q689.069 144.613 690.204 145.469 Q691.338 146.303 694.764 147.067 L696.222 147.391 Q700.759 148.363 702.657 150.145 Q704.579 151.905 704.579 155.076 Q704.579 158.687 701.708 160.793 Q698.861 162.9 693.861 162.9 Q691.778 162.9 689.509 162.483 Q687.264 162.09 684.764 161.28 L684.764 156.881 Q687.125 158.108 689.417 158.733 Q691.708 159.335 693.954 159.335 Q696.963 159.335 698.583 158.317 Q700.204 157.275 700.204 155.4 Q700.204 153.664 699.023 152.738 Q697.866 151.812 693.907 150.956 L692.426 150.608 Q688.468 149.775 686.708 148.062 Q684.949 146.326 684.949 143.317 Q684.949 139.659 687.542 137.669 Q690.134 135.678 694.903 135.678 Q697.264 135.678 699.347 136.025 Q701.43 136.372 703.19 137.067 Z\" fill=\"#000000\" fill-rule=\"nonzero\" fill-opacity=\"1\" /><polyline clip-path=\"url(#clip350)\" style=\"stroke:#000000; stroke-linecap:round; stroke-linejoin:round; stroke-width:4; stroke-opacity:1; fill:none\" stroke-dasharray=\"16, 10\" points=\"299.465,196.789 442.718,196.789 \"/>\n",
       "<path clip-path=\"url(#clip350)\" d=\"M466.594 188.143 L470.853 188.143 L470.853 214.069 L466.594 214.069 L466.594 188.143 M466.594 178.05 L470.853 178.05 L470.853 183.444 L466.594 183.444 L466.594 178.05 Z\" fill=\"#000000\" fill-rule=\"nonzero\" fill-opacity=\"1\" /><path clip-path=\"url(#clip350)\" d=\"M496.825 192.078 L496.825 178.05 L501.084 178.05 L501.084 214.069 L496.825 214.069 L496.825 210.18 Q495.482 212.495 493.422 213.629 Q491.385 214.74 488.515 214.74 Q483.816 214.74 480.853 210.99 Q477.913 207.24 477.913 201.129 Q477.913 195.018 480.853 191.268 Q483.816 187.518 488.515 187.518 Q491.385 187.518 493.422 188.652 Q495.482 189.763 496.825 192.078 M482.311 201.129 Q482.311 205.828 484.233 208.513 Q486.177 211.175 489.557 211.175 Q492.936 211.175 494.881 208.513 Q496.825 205.828 496.825 201.129 Q496.825 196.43 494.881 193.768 Q492.936 191.083 489.557 191.083 Q486.177 191.083 484.233 193.768 Q482.311 196.43 482.311 201.129 Z\" fill=\"#000000\" fill-rule=\"nonzero\" fill-opacity=\"1\" /><path clip-path=\"url(#clip350)\" d=\"M532.033 200.041 L532.033 202.124 L512.45 202.124 Q512.728 206.522 515.089 208.837 Q517.473 211.129 521.709 211.129 Q524.163 211.129 526.455 210.527 Q528.769 209.925 531.038 208.721 L531.038 212.749 Q528.746 213.721 526.339 214.231 Q523.931 214.74 521.455 214.74 Q515.251 214.74 511.617 211.129 Q508.006 207.518 508.006 201.36 Q508.006 194.995 511.431 191.268 Q514.881 187.518 520.714 187.518 Q525.945 187.518 528.978 190.897 Q532.033 194.254 532.033 200.041 M527.774 198.791 Q527.728 195.296 525.806 193.212 Q523.908 191.129 520.76 191.129 Q517.195 191.129 515.043 193.143 Q512.913 195.157 512.589 198.814 L527.774 198.791 Z\" fill=\"#000000\" fill-rule=\"nonzero\" fill-opacity=\"1\" /><path clip-path=\"url(#clip350)\" d=\"M550.806 201.036 Q545.644 201.036 543.654 202.217 Q541.663 203.397 541.663 206.245 Q541.663 208.513 543.144 209.856 Q544.649 211.175 547.218 211.175 Q550.76 211.175 552.89 208.675 Q555.042 206.152 555.042 201.985 L555.042 201.036 L550.806 201.036 M559.302 199.277 L559.302 214.069 L555.042 214.069 L555.042 210.133 Q553.584 212.495 551.408 213.629 Q549.232 214.74 546.084 214.74 Q542.103 214.74 539.742 212.518 Q537.404 210.272 537.404 206.522 Q537.404 202.147 540.32 199.925 Q543.26 197.703 549.07 197.703 L555.042 197.703 L555.042 197.286 Q555.042 194.347 553.098 192.749 Q551.177 191.129 547.681 191.129 Q545.459 191.129 543.353 191.661 Q541.246 192.194 539.302 193.259 L539.302 189.323 Q541.64 188.421 543.839 187.981 Q546.038 187.518 548.121 187.518 Q553.746 187.518 556.524 190.434 Q559.302 193.351 559.302 199.277 Z\" fill=\"#000000\" fill-rule=\"nonzero\" fill-opacity=\"1\" /><path clip-path=\"url(#clip350)\" d=\"M568.075 178.05 L572.334 178.05 L572.334 214.069 L568.075 214.069 L568.075 178.05 Z\" fill=\"#000000\" fill-rule=\"nonzero\" fill-opacity=\"1\" /></svg>\n"
      ]
     },
     "metadata": {},
     "output_type": "display_data"
    }
   ],
   "source": [
    "p = plot(\n",
    "    xlabel=\"true ranking\",\n",
    "    ylabel=\"inferred ranking [\"*metric*\"]\",\n",
    ")\n",
    "plot!(r,c=2,label=\"\")\n",
    "scatter!(r,c=2,label=league*\" \"*metric)\n",
    "plot!(x->x,c=:black,style=:dash,label=\"ideal\")\n",
    "fname = \"plots/tmp/\"*league*\"-\"*metric*\"-ranking.pdf\"\n",
    "#@show fname\n",
    "savefig(p,fname)\n",
    "display(p)"
   ]
  },
  {
   "cell_type": "markdown",
   "id": "0b30fa5f-5cd4-4eb2-b646-e4655d09d7db",
   "metadata": {},
   "source": [
    "### Systematic computation of ratings and rankings"
   ]
  },
  {
   "cell_type": "code",
   "execution_count": 55,
   "id": "4a6b8066-7ea0-41e1-907e-1028f986500d",
   "metadata": {},
   "outputs": [
    {
     "data": {
      "text/plain": [
       "save_ratings_and_rankings_as_txt (generic function with 1 method)"
      ]
     },
     "execution_count": 55,
     "metadata": {},
     "output_type": "execute_result"
    }
   ],
   "source": [
    "function save_ratings_and_rankings_as_txt(fname,w,r)\n",
    "    fhw = open(fname,\"w\")\n",
    "    println(fhw,\"i w_i r_i\")\n",
    "    for i in 1:length(w)\n",
    "        println(fhw,i,\" \",w[i],\" \",r[i])\n",
    "    end\n",
    "    close(fhw)\n",
    "end"
   ]
  },
  {
   "cell_type": "code",
   "execution_count": 57,
   "id": "98593d8e-7248-411a-80fa-3ce6b0daa9f4",
   "metadata": {},
   "outputs": [
    {
     "name": "stdout",
     "output_type": "stream",
     "text": [
      "(league, metric) = (\"Italy\", \"crossing\")\n",
      "(league, metric) = (\"Spain\", \"pressure_loss\")\n",
      "(league, metric) = (\"Spain\", \"direct_play\")\n",
      "(league, metric) = (\"England\", \"T_zona_media\")\n",
      "(league, metric) = (\"England\", \"T_build_up\")\n",
      "(league, metric) = (\"Italy\", \"pressure_loss\")\n",
      "(league, metric) = (\"Spain\", \"T_build_up\")\n",
      "(league, metric) = (\"Italy\", \"shots\")\n",
      "(league, metric) = (\"Germany\", \"counterattack\")\n",
      "(league, metric) = (\"England\", \"flow_rate\")\n",
      "(league, metric) = (\"Germany\", \"T_maintenance\")\n",
      "(league, metric) = (\"Italy\", \"direct_play\")\n",
      "(league, metric) = (\"England\", \"shots\")\n",
      "(league, metric) = (\"Spain\", \"flow_rate\")\n",
      "(league, metric) = (\"Spain\", \"counterattack\")\n",
      "(league, metric) = (\"Germany\", \"direct_play\")\n",
      "(league, metric) = (\"England\", \"pressure_loss\")\n",
      "(league, metric) = (\"France\", \"T_zona_media\")\n",
      "(league, metric) = (\"France\", \"T_build_up\")\n",
      "(league, metric) = (\"England\", \"counterattack\")\n",
      "(league, metric) = (\"Germany\", \"flow_rate\")\n",
      "(league, metric) = (\"Germany\", \"T_build_up\")\n",
      "(league, metric) = (\"Germany\", \"crossing\")\n",
      "(league, metric) = (\"Italy\", \"flow_rate\")\n",
      "(league, metric) = (\"England\", \"direct_play\")\n",
      "(league, metric) = (\"France\", \"counterattack\")\n",
      "(league, metric) = (\"England\", \"pressure_point\")\n",
      "(league, metric) = (\"Italy\", \"pressure_point\")\n",
      "(league, metric) = (\"Spain\", \"T_zona_media\")\n",
      "(league, metric) = (\"Italy\", \"T_maintenance\")\n",
      "(league, metric) = (\"Spain\", \"T_maintenance\")\n",
      "(league, metric) = (\"Germany\", \"pressure_point\")\n",
      "(league, metric) = (\"Spain\", \"pressure_point\")\n",
      "(league, metric) = (\"France\", \"crossing\")\n",
      "(league, metric) = (\"Italy\", \"T_build_up\")\n",
      "(league, metric) = (\"Germany\", \"T_zona_media\")\n",
      "(league, metric) = (\"Germany\", \"shots\")\n",
      "(league, metric) = (\"France\", \"pressure_point\")\n",
      "(league, metric) = (\"France\", \"shots\")\n",
      "(league, metric) = (\"Germany\", \"pressure_loss\")\n",
      "(league, metric) = (\"France\", \"flow_rate\")\n",
      "(league, metric) = (\"England\", \"T_maintenance\")\n",
      "(league, metric) = (\"Spain\", \"shots\")\n",
      "(league, metric) = (\"Spain\", \"crossing\")\n",
      "(league, metric) = (\"France\", \"direct_play\")\n",
      "(league, metric) = (\"Italy\", \"counterattack\")\n",
      "(league, metric) = (\"England\", \"crossing\")\n",
      "(league, metric) = (\"France\", \"pressure_loss\")\n",
      "(league, metric) = (\"France\", \"T_maintenance\")\n",
      "(league, metric) = (\"Italy\", \"T_zona_media\")\n"
     ]
    }
   ],
   "source": [
    "for (k,g) in dict_weighted_g_jld2\n",
    "    #@show k,g\n",
    "    (league,metric) = k\n",
    "    @show league,metric\n",
    "    sc,f = g_to_sc_f(g)\n",
    "    hd = compute_k_th_hodge_decomposition(sc,f,1)\n",
    "    w = ratings(hd.w)\n",
    "    r = ranking(hd.w)\n",
    "    #@show k,w,r\n",
    "    # Plot inferred rating\n",
    "    p = plot(\n",
    "        xlabel=\"true ranking\",\n",
    "        ylabel=\"rating [\"*metric*\"]\",\n",
    "    )\n",
    "    plot!(w,c=1,label=\"\")\n",
    "    scatter!(w,c=1,label=league*\" \"*metric)\n",
    "    fname = \"plots/\"*league*\"-\"*metric*\"-rating.pdf\"\n",
    "    #@show fname\n",
    "    savefig(p,fname)\n",
    "    fname = \"txt/\"*league*\"-\"*metric*\"-rating.txt\"    \n",
    "    #display(p)\n",
    "    # Plot inferred ranking\n",
    "    p = plot(\n",
    "        xlabel=\"true ranking\",\n",
    "        ylabel=\"inferred ranking [\"*metric*\"]\",\n",
    "    )\n",
    "    plot!(r,c=2,label=\"\")\n",
    "    scatter!(r,c=2,label=league*\" \"*metric)\n",
    "    plot!(x->x,c=:black,style=:dash,label=\"ideal\")\n",
    "    fname = \"plots/\"*league*\"-\"*metric*\"-ranking.pdf\"\n",
    "    #@show fname\n",
    "    savefig(p,fname)\n",
    "    #display(p)\n",
    "    # Save ratings and rankings as txt\n",
    "    fname = \"txt/\"*league*\"-\"*metric*\".txt\"    \n",
    "    save_ratings_and_rankings_as_txt(fname,w,r)        \n",
    "end"
   ]
  }
 ],
 "metadata": {
  "kernelspec": {
   "display_name": "Julia 1.11.5",
   "language": "julia",
   "name": "julia-1.11"
  },
  "language_info": {
   "file_extension": ".jl",
   "mimetype": "application/julia",
   "name": "julia",
   "version": "1.11.5"
  },
  "toc-autonumbering": false,
  "toc-showcode": false,
  "toc-showmarkdowntxt": false,
  "toc-showtags": false
 },
 "nbformat": 4,
 "nbformat_minor": 5
}
