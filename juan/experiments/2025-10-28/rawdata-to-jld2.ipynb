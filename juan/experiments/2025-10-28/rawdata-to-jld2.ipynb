{
 "cells": [
  {
   "cell_type": "markdown",
   "id": "87ccb878-4d64-453e-872d-1a8d358b6157",
   "metadata": {},
   "source": [
    "# Convert raw data into JLD2 format\n",
    "\n",
    "## Input data (i.e. the data uploaded by Chacoma)\n",
    "\n",
    "The data provided by Chacoma consists in one file per metric per league.\n",
    "The format of these files is\n",
    "\n",
    "    n1,n2,fij\n",
    "    1,2,-2.1274e+00\n",
    "    1,3,-2.9301e+00\n",
    "    1,4,-1.7331e+00\n",
    "    1,5,-1.7331e+00\n",
    "    1,6,-3.9430e-01\n",
    "    ...\n",
    "\n",
    "where `n1`$=i$, `n2`$=j$ and `fij`$=f_{ij}=f_{ji}$ is the antisymmetric components of the 1-cochain $f$.\n",
    "\n",
    "### Tournament points\n",
    "\n",
    "Here $f_{ij}=\\pi_j-\\pi_i$ if team $i$ did $\\pi_i$ points in the tournament and the analogous for team $j$.\n",
    "Hence, $f_{ij}<0$ if team $i$ did more points than team $j$.\n",
    "\n",
    "        ~/redes/all_1/[league]/red_puntos.dat  \n",
    "\n",
    "### Ranks\n",
    "\n",
    "Here $f_{ij}=r_i-r_j<0$ if the final position in the table of points $r_i$ of team $i$ is higher than that $r_j$ of team $j$.\n",
    "This can be obtaned from the file since $r_i=i$ by convention.\n",
    "\n",
    "    ~/redes/all_1/[league]/red_puntos.dat      \n",
    "\n",
    "### Metrics\n",
    "\n",
    "Here $f$ is determined from the empirical metrics.\n",
    "For example, if $m_{ij}$ represents the *build up time* team $i$ did in his matchs against team $j$, and $m_{ji}$ is the *build up time* $j$ did in his matchs against team $i$, then $f_{ij} = m_{ji}-m_{ij}<0$ if team $i$ makes more *build up time* than team $j$.\n",
    "    \n",
    "    ~/redes/all_1/[league]/\n",
    "        red_T_build_up.dat\n",
    "        red_T_maintenance.dat\n",
    "        red_T_zona_media.dat\n",
    "        red_counterattack.dat\n",
    "        red_crossing.dat\n",
    "        red_direct_play.dat\n",
    "        red_flow_rate.dat\n",
    "        red_pressure_loss.dat\n",
    "        red_pressure_point.dat\n",
    "        red_shots.dat  \n",
    "\n",
    "### Styles\n",
    "\n",
    "Here $f_{ij}=...$.\n",
    "\n",
    "    ~/redes/all_1/[league]/\n",
    "        red_S1.dat\n",
    "        red_S2.dat\n",
    "        red_S3.dat\n",
    "        red_S4.dat\n",
    "               \n",
    "## Output format\n",
    "\n",
    "A `JLD2` file containing a `SimpleWeightedGraph` from the `SimpleWeightedGraphs.jl` library, whose weights are the 1-cochain components $f_{ij}$ for $i<j$.\n",
    "\n",
    "### Sparsification\n",
    "\n",
    "In some cases, we may consider the generation of sparsified versions of $f_{ij}$ where not all $N(N-1)/2$ pairs $ij$ for $i<j$ are provided."
   ]
  },
  {
   "cell_type": "code",
   "execution_count": null,
   "id": "92fc835e-f44d-4bdd-a06a-46c4a2ef1222",
   "metadata": {},
   "outputs": [],
   "source": [
    "# Run this cell in a folder contained by the current project\n",
    "using Pkg\n",
    "#Pkg.activate()                 # Walks up the path tree until finds Project.toml\n",
    "#Pkg.activate(\".\")              # \n",
    "#Pkg.activate(\"@__DIR__\")       # \n",
    "Pkg.activate(\"../../../\")       #\n",
    "Pkg.instantiate()"
   ]
  },
  {
   "cell_type": "code",
   "execution_count": null,
   "id": "d205741e-f2c8-420d-b1cc-28572c594d73",
   "metadata": {},
   "outputs": [],
   "source": [
    "using Plots\n",
    "using LaTeXStrings\n",
    "using Graphs\n",
    "#using MetaGraphs\n",
    "#using MetaGraphsNext\n",
    "using GraphPlot\n",
    "using SimpleWeightedGraphs\n",
    "using Karnak\n",
    "using NetworkLayout\n",
    "using Colors\n",
    "using Random\n",
    "using LinearAlgebra\n",
    "using OffsetArrays\n",
    "using SparseArrays\n",
    "using Serialization\n",
    "using IterativeSolvers\n",
    "using Krylov\n",
    "using BenchmarkTools\n",
    "using Profile\n",
    "using ProfileView\n",
    "using Statistics\n",
    "using DifferentialEquations\n",
    "using LoopVectorization\n",
    "using Folds\n",
    "using Transducers\n",
    "using Distributed\n",
    "using JLD2\n",
    "using OnlineStats\n",
    "using ImageFiltering\n",
    "using SavitzkyGolay\n",
    "using Interpolations\n",
    "using DataInterpolations\n",
    "using Polynomials\n",
    "using CurveFit\n",
    "using DataFrames\n",
    "using LsqFit\n",
    "using ForwardDiff\n",
    "using JSON\n",
    "using Dates"
   ]
  },
  {
   "cell_type": "raw",
   "id": "7fc8b4b1-524e-4090-85b2-8f46b897f5ee",
   "metadata": {},
   "source": [
    "# See what packages should be installed according to Project.toml and Manifest.toml\n",
    "Pkg.resolve()"
   ]
  },
  {
   "cell_type": "raw",
   "id": "db6a2e43-7eb9-4cc3-9665-5fe54f780c9d",
   "metadata": {},
   "source": [
    "# Run this if you want to install a package\n",
    "pkgs = [\"Plots\",\"LaTeXStrings\",\"Graphs\",\"SimpleWeightedGraphs\",\"GraphPlot\",\"Karnak\",\"NetworkLayout\",\"Colors\",\"Random\",\"LinearAlgebra\",\"OffsetArrays\",\"SparseArrays\",\"Serialization\",\"IterativeSolvers\",\"Krylov\",\"BenchmarkTools\",\"Profile\",\"ProfileView\",\"Statistics\",\"DifferentialEquations\",\"LoopVectorization\",\"Folds\",\"Transducers\",\"Distributed\",\"JLD2\",\"OnlineStats\",\"ImageFiltering\",\"SavitzkyGolay\",\"Interpolations\",\"DataInterpolations\",\"Polynomials\",\"CurveFit\",\"DataFrames\",\"LsqFit\",\"ForwardDiff\",\"JSON\",\"Dates\"]\n",
    "for p in pkgs\n",
    "    Pkg.add(p)\n",
    "end\n",
    "#Pkg.add(pkgs[end])"
   ]
  },
  {
   "cell_type": "markdown",
   "id": "be9ea41c-19ff-4484-a8b6-aba094b79c8c",
   "metadata": {},
   "source": [
    "## Utils"
   ]
  },
  {
   "cell_type": "markdown",
   "id": "8f7830d7-c66e-401c-a67f-536dcd90d866",
   "metadata": {},
   "source": [
    "### Enumerator"
   ]
  },
  {
   "cell_type": "code",
   "execution_count": null,
   "id": "4cfb9895-978a-4d31-9723-2ed351c7c925",
   "metadata": {},
   "outputs": [],
   "source": [
    "function enum!(d,k)\n",
    "    return get!(d,k,length(d)+1)\n",
    "end"
   ]
  },
  {
   "cell_type": "markdown",
   "id": "63a50e70-b79c-4f22-a9e9-9bb27a5cfd18",
   "metadata": {
    "jp-MarkdownHeadingCollapsed": true,
    "tags": []
   },
   "source": [
    "### Test"
   ]
  },
  {
   "cell_type": "raw",
   "id": "c7c1b585-b007-4f54-ae5b-24b263e1bb81",
   "metadata": {},
   "source": [
    "d = Dict{Any,Int}()\n",
    "@show enum!(d,\"a\")\n",
    "@show enum!(d,\"b\")\n",
    "@show enum!(d,\"c\")\n",
    "@show enum!(d,\"b\")\n",
    "d"
   ]
  },
  {
   "cell_type": "code",
   "execution_count": null,
   "id": "1f265db1-ff47-4cf8-af0a-09e3b131d5b0",
   "metadata": {},
   "outputs": [],
   "source": [
    "mutable struct RunningStat\n",
    "    n::Int\n",
    "    m::Real # mean\n",
    "    s::Real # std\n",
    "end\n",
    "\n",
    "function RunningStat()\n",
    "    return RunningStat(0,0.0,0.0)\n",
    "end\n",
    "\n",
    "function Base.push!(rs::RunningStat,v::Real)\n",
    "    if rs.n>0\n",
    "        rs.n += 1\n",
    "        new_m = rs.m + (v-rs.m)/rs.n\n",
    "        rs.s += (v-rs.m)*(v-new_m)\n",
    "        rs.m = new_m\n",
    "    else\n",
    "        rs.n = 1\n",
    "        rs.m = v\n",
    "        rs.s = 0\n",
    "    end\n",
    "    return rs.m\n",
    "end\n",
    "\n",
    "function Statistics.mean(rs::RunningStat)\n",
    "    return rs.m \n",
    "end\n",
    "\n",
    "function Statistics.var(rs::RunningStat)\n",
    "    return rs.s/(rs.n-1)\n",
    "end\n",
    "\n",
    "function Statistics.std(rs::RunningStat)\n",
    "    return sqrt(var(rs))\n",
    "end"
   ]
  },
  {
   "cell_type": "markdown",
   "id": "eeeaace5-918f-4cc3-83db-e9d1a7d9d752",
   "metadata": {
    "jp-MarkdownHeadingCollapsed": true,
    "tags": []
   },
   "source": [
    "### Tests"
   ]
  },
  {
   "cell_type": "code",
   "execution_count": null,
   "id": "961b3039-31a5-4a2d-b260-d0f646717b29",
   "metadata": {},
   "outputs": [],
   "source": [
    "list_v = 10 .+ 5.0*randn(1000)\n",
    ";"
   ]
  },
  {
   "cell_type": "code",
   "execution_count": null,
   "id": "46d7bcfd-b404-47c1-9729-04abad062038",
   "metadata": {},
   "outputs": [],
   "source": [
    "rs = RunningStat()"
   ]
  },
  {
   "cell_type": "code",
   "execution_count": null,
   "id": "4cba0393-2420-4d00-aea5-ebbe975fd7ff",
   "metadata": {},
   "outputs": [],
   "source": [
    "for v in list_v\n",
    "    push!(rs,v)\n",
    "end"
   ]
  },
  {
   "cell_type": "code",
   "execution_count": null,
   "id": "6f44f309-7efc-45d5-8112-f06e72a7eb65",
   "metadata": {},
   "outputs": [],
   "source": [
    "mean(rs),std(rs)"
   ]
  },
  {
   "cell_type": "code",
   "execution_count": null,
   "id": "187c2c78-a5c6-4f1b-bafe-cdcdabed3b1e",
   "metadata": {},
   "outputs": [],
   "source": [
    "mean(list_v),std(list_v)"
   ]
  },
  {
   "cell_type": "code",
   "execution_count": null,
   "id": "680644ba-9b35-470e-b2e6-9dbf9db20d1e",
   "metadata": {},
   "outputs": [],
   "source": [
    "function R_squared(y_data,y_fit)\n",
    "    y_mean = mean(y_data)\n",
    "    SS_res = sum((y_data .- y_fit) .^ 2)\n",
    "    SS_tot = sum((y_data .- y_mean) .^ 2)\n",
    "    R_sqr = 1 - SS_res / SS_tot\n",
    "    return R_sqr\n",
    "end"
   ]
  },
  {
   "cell_type": "markdown",
   "id": "779d37a3-4254-434e-8233-6de9110349f4",
   "metadata": {
    "jp-MarkdownHeadingCollapsed": true
   },
   "source": [
    "### Tests"
   ]
  },
  {
   "cell_type": "code",
   "execution_count": null,
   "id": "c1bd1ff9-b81c-4355-988e-0a788f9ce7d0",
   "metadata": {},
   "outputs": [],
   "source": [
    "# Define the model function\n",
    "@. model(x, p) = p[1] * x + p[2]\n",
    "\n",
    "# Sample data (example)\n",
    "x_data = [1.0, 2.0, 3.0, 4.0, 5.0]\n",
    "y_data = [2.2, 2.8, 3.6, 4.5, 5.1]\n",
    "\n",
    "# Initial guess for parameters\n",
    "p0 = [1.0, 1.0]\n",
    "\n",
    "# Perform curve fitting\n",
    "fit = LsqFit.curve_fit(model, x_data, y_data, p0)\n",
    "\n",
    "# Compute fitted values\n",
    "y_fit = model(x_data, coef(fit))\n",
    "\n",
    "# Compute R_sqr\n",
    "R_sqr = R_squared(y_data,y_fit)"
   ]
  },
  {
   "cell_type": "code",
   "execution_count": null,
   "id": "e7be9149-c2b7-410e-8b76-6cbd85598f94",
   "metadata": {},
   "outputs": [],
   "source": [
    "plot()\n",
    "#plot!(yscale=:log10)\n",
    "#plot!(ylim=(0.0,1.0))\n",
    "plot!(xlabel=L\"x\")\n",
    "plot!(ylabel=L\"y\")\n",
    "scatter!(x_data,y_data,label=\"data\")\n",
    "plot!(x_data,y_fit,label=\"fit, \\$R^2=0.995\\$\")\n",
    "#plot!(0.0:0.0,x->0.0,label=\"\\$z=1\\$\",width=0.0,c=:white)\n",
    "#plot!(legendtitle=L\"\\mathrm{1D},\\;z=1\",legendtitlefontsize=8)\n",
    "#plot!(list_sigma,x->0.6827/2,label=\"\",style=:dash,color=:grey)\n",
    "#plot!(\n",
    "#    xticks=([0,1,2,3,4,5],[L\"0\",L\"1\",L\"2\",L\"3\",L\"4\",L\"5\"]),\n",
    "#    yticks=([0,1,2,3],[L\"0\",L\"1\",L\"2\",L\"3\"]),\n",
    "#    tickfont=font(11),\n",
    "#)"
   ]
  },
  {
   "cell_type": "code",
   "execution_count": null,
   "id": "ce500cbd-057c-4482-a2bf-d9b97d4ca3a5",
   "metadata": {},
   "outputs": [],
   "source": [
    "x0 = 1.0\n",
    "A = 1.0\n",
    "B = 3.0\n",
    "C = 0.0\n",
    "p0 = [x0,A,B,C] # p1=x0, p2=A, p3=B, p4=C\n",
    "@. sigmoid(x,p)  = p[2]/(1+exp(-p[3]*(x-p[1]))) # sigmoid\n",
    "@. dsigmoid(x,p) = p[2]*p[3]*exp(-p[3]*(x-p[1]))/(1+exp(-p[3]*(x-p[1])))^2 # derivative of sigmoid\n",
    "@. psigmoid(x,p) = p[2]/p[3]*log(1+exp(p[3]*(x-p[1])))+p[4] # primitive of sigmoid"
   ]
  },
  {
   "cell_type": "markdown",
   "id": "d55ce944-ace8-4602-88dc-8ea0b05b4bb6",
   "metadata": {
    "tags": []
   },
   "source": [
    "### Test"
   ]
  },
  {
   "cell_type": "code",
   "execution_count": null,
   "id": "0a558e34-e1a9-40e4-8118-3dcb4ff5ab7a",
   "metadata": {
    "jupyter": {
     "source_hidden": true
    }
   },
   "outputs": [],
   "source": [
    "plot(\n",
    "    ylims=(-0.1,1.1),\n",
    "    xlabel=L\"x\",\n",
    "    ylabel=L\"f(x)\",\n",
    ")\n",
    "plot!(-2:0.01:4.0,x->sigmoid(x,p0),label=\"\")"
   ]
  },
  {
   "cell_type": "code",
   "execution_count": null,
   "id": "900710fc-66df-4c4d-a954-9168557ffbe0",
   "metadata": {
    "jupyter": {
     "source_hidden": true
    }
   },
   "outputs": [],
   "source": [
    "plot(\n",
    "    ylims=(-0.1,1.1),\n",
    "    xlabel=L\"x\",\n",
    "    ylabel=L\"df/dx\",    \n",
    ")\n",
    "plot!(-2:0.01:4.0,x->dsigmoid(x,p0),label=\"\")\n",
    "scatter!([x0],[A*B/4],label=\"\")"
   ]
  },
  {
   "cell_type": "code",
   "execution_count": null,
   "id": "88a7ade3-5039-44bd-b885-a002bacd29a7",
   "metadata": {
    "jupyter": {
     "source_hidden": true
    }
   },
   "outputs": [],
   "source": [
    "plot(\n",
    "    ylims=(-0.1,1.1),\n",
    "    xlabel=L\"x\",\n",
    "    ylabel=L\"F(x)\",\n",
    ")\n",
    "plot!(-2:0.01:4.0,x->psigmoid(x,p0),label=\"\")"
   ]
  },
  {
   "cell_type": "markdown",
   "id": "916097d8-e61e-4319-acc3-ca8c2da6a870",
   "metadata": {},
   "source": [
    "### Date tag"
   ]
  },
  {
   "cell_type": "code",
   "execution_count": null,
   "id": "b7cf9ba8-f520-4668-8844-52ec451ddf95",
   "metadata": {},
   "outputs": [],
   "source": [
    "function get_date_tag()\n",
    "    today_date = today()\n",
    "    # format as YY-MM-DD\n",
    "    tag = Dates.format(today_date, dateformat\"yy-mm-dd\")\n",
    "    return tag\n",
    "end"
   ]
  },
  {
   "cell_type": "markdown",
   "id": "357710bb-719b-41a5-99c1-70faa6030449",
   "metadata": {},
   "source": [
    "#### Test"
   ]
  },
  {
   "cell_type": "code",
   "execution_count": null,
   "id": "e238b8ed-e191-4b68-86e2-6eb4a6750ddf",
   "metadata": {},
   "outputs": [],
   "source": [
    "get_date_tag()"
   ]
  },
  {
   "cell_type": "markdown",
   "id": "97284e76-ef93-4c47-90d4-885991fc6c21",
   "metadata": {},
   "source": [
    "## Create `~/redes/all_1/[league]/red_ranks.dat`"
   ]
  },
  {
   "cell_type": "code",
   "execution_count": null,
   "id": "36bca417-bed4-4bc4-8fbd-09cb90b9c251",
   "metadata": {},
   "outputs": [],
   "source": [
    "prefix = \"\"\"../../../redes/all_1/\"\"\""
   ]
  },
  {
   "cell_type": "markdown",
   "id": "97e693aa-dac8-4af5-8f6f-279dbbb55640",
   "metadata": {
    "tags": [],
    "toc-hr-collapsed": true
   },
   "source": [
    "## Convert `..redes/all_1/[league]/red_[metric].dat` to JLD2 format"
   ]
  },
  {
   "cell_type": "code",
   "execution_count": null,
   "id": "3f8e6131-88ae-4629-9d1f-0074a496b583",
   "metadata": {},
   "outputs": [],
   "source": [
    "metrics = \"crossing counterattack pressure_loss T_build_up direct_play pressure_point shots flow_rate T_maintenance T_zona_media\"\n",
    "metrics_extra = \"S1 S2 S3 S4\"\n",
    "metrics_truth = \"puntos ranks\""
   ]
  },
  {
   "cell_type": "code",
   "execution_count": null,
   "id": "51d10740-a8e3-480d-b8f8-f792d6176661",
   "metadata": {},
   "outputs": [],
   "source": [
    "metrics_all = metrics*\" \"*metrics_extra*\" \"*metrics_truth"
   ]
  },
  {
   "cell_type": "code",
   "execution_count": null,
   "id": "f41f311c-e2f1-40f0-b259-41687ccf6b64",
   "metadata": {},
   "outputs": [],
   "source": [
    "leagues = \"England France Germany Italy Spain\""
   ]
  },
  {
   "cell_type": "code",
   "execution_count": null,
   "id": "94d0a2ed-5d73-4bf1-932e-3278e8dfdf3e",
   "metadata": {},
   "outputs": [],
   "source": [
    "archivos = []\n",
    "for league in split(leagues)\n",
    "    for metric in split(metrics_all)\n",
    "        archivo = prefix*league*\"/red_\"*metric*\".dat\"\n",
    "        #println(archivo)\n",
    "        push!(archivos,archivo)\n",
    "    end\n",
    "end"
   ]
  },
  {
   "cell_type": "code",
   "execution_count": null,
   "id": "4d915690-1659-4472-8d48-43cb60aaa098",
   "metadata": {},
   "outputs": [],
   "source": [
    "archivos"
   ]
  },
  {
   "cell_type": "code",
   "execution_count": null,
   "id": "7e920d98-8d4a-4cee-979d-862a87573fca",
   "metadata": {
    "scrolled": true
   },
   "outputs": [],
   "source": [
    "dict_weighted_g_jld2 = Dict()\n",
    "for archivo in archivos\n",
    "    println(archivo)\n",
    "    vec_i = Vector{Int64}()\n",
    "    vec_j = Vector{Int64}()\n",
    "    vec_f_ij = Vector{Float64}()    \n",
    "    open(archivo) do fh\n",
    "        for line in readlines(fh)[2:end]\n",
    "            cols=split(replace(line,\",\" => \" \"))\n",
    "            #println(cols)\n",
    "            i=parse(Int64,cols[1])\n",
    "            j=parse(Int64,cols[2])\n",
    "            @assert i<j\n",
    "            f_ij=parse(Float64,cols[3])\n",
    "            #@show i,j,f_ij            \n",
    "            push!(vec_i,i)\n",
    "            push!(vec_j,j)\n",
    "            push!(vec_f_ij,f_ij)\n",
    "        end\n",
    "    end\n",
    "    n = max(maximum(vec_i),maximum(vec_j))\n",
    "    g = SimpleWeightedGraph(n)\n",
    "    for (i,j,f_ij) in zip(vec_i,vec_j,vec_f_ij)\n",
    "        #println(i,\" \",j,\" \",f_ij)\n",
    "        add_edge!(g,i,j,f_ij)\n",
    "    end\n",
    "    tag = replace(archivo, prefix => \"\")\n",
    "    tag = replace(tag, \".dat\" => \"\")\n",
    "    tag = replace(tag, \"red_\" => \"\")\n",
    "    tag = replace(tag, \"/\" => \" \")\n",
    "    tag = split(tag)\n",
    "    tag = (tag[1],tag[2])\n",
    "    println(\"tag =\",tag)\n",
    "    dict_weighted_g_jld2[tag] = g\n",
    "end"
   ]
  },
  {
   "cell_type": "markdown",
   "id": "cfaae43d-75b9-4c58-9702-4fa12d884e6b",
   "metadata": {},
   "source": [
    "### Tests"
   ]
  },
  {
   "cell_type": "code",
   "execution_count": null,
   "id": "20ee7115-bd94-4495-8b34-0c0e840939ce",
   "metadata": {},
   "outputs": [],
   "source": [
    "g = dict_weighted_g_jld2[(\"Italy\",\"shots\")]"
   ]
  },
  {
   "cell_type": "code",
   "execution_count": null,
   "id": "33c17ced-a2ae-4390-8702-59f90d691c3e",
   "metadata": {},
   "outputs": [],
   "source": [
    "for e in edges(g)\n",
    "    @show e,get_weight(g,e)\n",
    "end"
   ]
  },
  {
   "cell_type": "code",
   "execution_count": null,
   "id": "dae04fb2-804d-4773-bb66-9a8bc82adffd",
   "metadata": {},
   "outputs": [],
   "source": [
    "date_tag = get_date_tag()\n",
    "jld2_file = \"jld2/\"*date_tag*\"-dict-weighted-g.jld2\"\n",
    "@show jld2_file\n",
    "@save jld2_file dict_weighted_g_jld2"
   ]
  },
  {
   "cell_type": "markdown",
   "id": "3715fc27-a4ac-4e5c-959c-27e810e75c1d",
   "metadata": {},
   "source": [
    "### Tests"
   ]
  },
  {
   "cell_type": "code",
   "execution_count": null,
   "id": "fdd30bb5-5046-4f25-9764-fa2e10688f0a",
   "metadata": {},
   "outputs": [],
   "source": [
    "@load jld2_file dict_weighted_g_jld2"
   ]
  },
  {
   "cell_type": "code",
   "execution_count": null,
   "id": "0ef29f27-dbd3-4b7d-83e6-893c9950059b",
   "metadata": {},
   "outputs": [],
   "source": [
    "dict_weighted_g_jld2"
   ]
  },
  {
   "cell_type": "markdown",
   "id": "b987df96-e1df-4c37-a2d3-2c185d05db32",
   "metadata": {},
   "source": [
    "# References\n",
    "\n",
    "1. [A. Chacoma and O. V. Billoni, Data-driven approach to defining football styles in major leagues, Chaos, Solitons & Fractals 200, 116926 (2025)](https://doi.org/10.1016/j.chaos.2025.116926)\n",
    "2. [J. I. Perotti, Analysis of the inference of ratings and rankings in complex networks using discrete exterior calculus on higher-order networks, Phys. Rev. E 111, 034306 (2025)](https://journals.aps.org/pre/abstract/10.1103/PhysRevE.111.034306)"
   ]
  },
  {
   "cell_type": "code",
   "execution_count": null,
   "id": "0d02d96d-27b4-4cd7-84d7-f3646deebc34",
   "metadata": {},
   "outputs": [],
   "source": []
  }
 ],
 "metadata": {
  "kernelspec": {
   "display_name": "Julia 1.11.5",
   "language": "julia",
   "name": "julia-1.11"
  },
  "language_info": {
   "file_extension": ".jl",
   "mimetype": "application/julia",
   "name": "julia",
   "version": "1.11.5"
  },
  "toc-autonumbering": false,
  "toc-showcode": false,
  "toc-showmarkdowntxt": false,
  "toc-showtags": false
 },
 "nbformat": 4,
 "nbformat_minor": 5
}
